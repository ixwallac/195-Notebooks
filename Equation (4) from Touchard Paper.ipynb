{
 "cells": [
  {
   "cell_type": "markdown",
   "metadata": {},
   "source": [
    "Equation (4) from the Touchard paper:\n",
    "\n",
    "$$\\frac{n^2(n-1)}{6}\\sigma_n = \\sum_{k=1}^{n-1}(3n^2 - 10k^2)\\sigma_k\\sigma_{n-k}$$\n",
    "\n",
    "So if we rearrange that equation, we can compute $\\sigma_n$ for $n > 1$. The equation to compute $\\sigma_n$ is:\n",
    "\n",
    "$$\\sigma_n = \\frac{6}{n^2(n-1)} \\sum_{k=1}^{n-1}(3n^2 - 10k^2)\\sigma_k\\sigma_{n-k}$$."
   ]
  },
  {
   "cell_type": "code",
   "execution_count": 73,
   "metadata": {},
   "outputs": [
    {
     "name": "stdout",
     "output_type": "stream",
     "text": [
      "[0, 1, 3, 4, 7, 6, 12, 8, 15, 13, 18, 12, 28, 14, 24, 24, 31, 18, 39, 20, 42]\n"
     ]
    }
   ],
   "source": [
    "#From the email I sent you before fall last year\n",
    "\n",
    "\n",
    "sigma_list = [0,1]\n",
    "for n in range(2,21):\n",
    "    sigma_n = 0\n",
    "    for k in range(1,n):\n",
    "        sigma_n += (3*(n*n) - 10*(k*k))*sigma_list[k]*sigma_list[n-k]\n",
    "    sigma_list.append((6*sigma_n)//((n*n)*(n-1)))\n",
    "print(sigma_list)"
   ]
  },
  {
   "cell_type": "code",
   "execution_count": 176,
   "metadata": {},
   "outputs": [],
   "source": [
    "import numpy as np"
   ]
  },
  {
   "cell_type": "code",
   "execution_count": 155,
   "metadata": {},
   "outputs": [],
   "source": [
    "def sigma_list(n): # To compare to the next function which uses a numpy trick\n",
    "    sigma_list = [0,1] # Same thing as the last algorithm, just wrapped in a function\n",
    "    for j in range(2,n+1):\n",
    "        sigma_n = 0\n",
    "        for k in range(1,j):\n",
    "            sigma_k = sigma_list[k]\n",
    "            sigma_nk = sigma_list[j-k]\n",
    "            sigma_n += (3*(j*j) - 10*(k*k))*sigma_k*sigma_nk\n",
    "        sigma_list.append((6*sigma_n)//((j*j)*(j-1)))\n",
    "    return sigma_list"
   ]
  },
  {
   "cell_type": "code",
   "execution_count": 185,
   "metadata": {},
   "outputs": [],
   "source": [
    "def sigma_vectorized(n):\n",
    "    value = n\n",
    "    sigmalist = np.zeros(value+1)\n",
    "    sigmalist[1] = 1\n",
    "    for k in range(2,value+1): #I'm sure I can use vectorization here too, just gotta figure out how\n",
    "        nklist = 3*np.array([k]*(k-1))**2 - 10*np.arange(1,k)**2\n",
    "        sigmalist[k] = (6/((k*k)*(k-1)))*np.dot(nklist,sigmalist[1:k]*sigmalist[k-1:0:-1])\n",
    "    return sigmalist"
   ]
  },
  {
   "cell_type": "code",
   "execution_count": 179,
   "metadata": {
    "scrolled": false
   },
   "outputs": [
    {
     "data": {
      "text/plain": [
       "2340"
      ]
     },
     "execution_count": 179,
     "metadata": {},
     "output_type": "execute_result"
    }
   ],
   "source": [
    "sigma_list(1000)[1000]"
   ]
  },
  {
   "cell_type": "code",
   "execution_count": 190,
   "metadata": {},
   "outputs": [
    {
     "data": {
      "text/plain": [
       "2339.999999999726"
      ]
     },
     "execution_count": 190,
     "metadata": {},
     "output_type": "execute_result"
    }
   ],
   "source": [
    "sigma_vectorized(1000)[1000]"
   ]
  },
  {
   "cell_type": "code",
   "execution_count": 166,
   "metadata": {},
   "outputs": [
    {
     "name": "stdout",
     "output_type": "stream",
     "text": [
      "157 ms ± 799 µs per loop (mean ± std. dev. of 7 runs, 10 loops each)\n"
     ]
    }
   ],
   "source": [
    "%timeit sigma_list(1000)"
   ]
  },
  {
   "cell_type": "code",
   "execution_count": 187,
   "metadata": {},
   "outputs": [
    {
     "name": "stdout",
     "output_type": "stream",
     "text": [
      "41.2 ms ± 290 µs per loop (mean ± std. dev. of 7 runs, 10 loops each)\n"
     ]
    }
   ],
   "source": [
    "%timeit sigma_vectorized(1000)"
   ]
  },
  {
   "cell_type": "markdown",
   "metadata": {},
   "source": [
    "I'm thinking that maybe if I make a 2d version of `nklist` in `sigma_vectorized` with prescribed values, and just loop through slices of that instead of making a new 1d array each loop, then maybe it'd speed things up. I'll need to experiment more."
   ]
  },
  {
   "cell_type": "code",
   "execution_count": null,
   "metadata": {},
   "outputs": [],
   "source": []
  }
 ],
 "metadata": {
  "kernelspec": {
   "display_name": "Python 3",
   "language": "python",
   "name": "python3"
  },
  "language_info": {
   "codemirror_mode": {
    "name": "ipython",
    "version": 3
   },
   "file_extension": ".py",
   "mimetype": "text/x-python",
   "name": "python",
   "nbconvert_exporter": "python",
   "pygments_lexer": "ipython3",
   "version": "3.7.6"
  }
 },
 "nbformat": 4,
 "nbformat_minor": 4
}
