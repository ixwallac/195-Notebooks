{
 "cells": [
  {
   "cell_type": "markdown",
   "metadata": {},
   "source": [
    "Equation (4) from the Touchard paper:\n",
    "\n",
    "$$\\frac{n^2(n-1)}{6}\\sigma_n = \\sum_{k=1}^{n-1}(3n^2 - 10k^2)\\sigma_k\\sigma_{n-k}$$\n",
    "\n",
    "So if we rearrange that equation, we can compute $\\sigma_n$ for $n > 1$. The equation to compute $\\sigma_n$ is:\n",
    "\n",
    "$$\\sigma_n = \\frac{6}{n^2(n-1)} \\sum_{k=1}^{n-1}(3n^2 - 10k^2)\\sigma_k\\sigma_{n-k}$$."
   ]
  },
  {
   "cell_type": "markdown",
   "metadata": {},
   "source": [
    "#### First Goal:\n",
    "Make an optimized function that spits out a sequence of $\\sigma_n$."
   ]
  },
  {
   "cell_type": "code",
   "execution_count": 1,
   "metadata": {},
   "outputs": [
    {
     "name": "stdout",
     "output_type": "stream",
     "text": [
      "[0, 1, 3, 4, 7, 6, 12, 8, 15, 13, 18, 12, 28, 14, 24, 24, 31, 18, 39, 20, 42]\n"
     ]
    }
   ],
   "source": [
    "#From the email I sent you before fall last year\n",
    "\n",
    "\n",
    "sigma_list = [0,1]\n",
    "for n in range(2,21):\n",
    "    sigma_n = 0\n",
    "    for k in range(1,n):\n",
    "        sigma_n += (3*(n*n) - 10*(k*k))*sigma_list[k]*sigma_list[n-k]\n",
    "    sigma_list.append((6*sigma_n)//((n*n)*(n-1)))\n",
    "print(sigma_list)"
   ]
  },
  {
   "cell_type": "code",
   "execution_count": 1,
   "metadata": {},
   "outputs": [],
   "source": [
    "import numpy as np"
   ]
  },
  {
   "cell_type": "code",
   "execution_count": 2,
   "metadata": {},
   "outputs": [],
   "source": [
    "def sigma_list(n): # To compare to the next function which uses a numpy trick\n",
    "    sigma_list = [0,1] # Same thing as the last algorithm, just wrapped in a function\n",
    "    for j in range(2,n+1):\n",
    "        sigma_n = 0\n",
    "        for k in range(1,j):\n",
    "            sigma_k = sigma_list[k]\n",
    "            sigma_nk = sigma_list[j-k]\n",
    "            sigma_n += (3*(j*j) - 10*(k*k))*sigma_k*sigma_nk\n",
    "        sigma_list.append((6*sigma_n)//((j*j)*(j-1)))\n",
    "    return sigma_list"
   ]
  },
  {
   "cell_type": "code",
   "execution_count": 3,
   "metadata": {},
   "outputs": [],
   "source": [
    "def sigma_vectorized_2(N):\n",
    "    sigmalist = np.zeros(N+1)\n",
    "    sigmalist[1] = 1\n",
    "    for n in range(2,N+1): #I'm sure I can use vectorization here too, just gotta figure out how\n",
    "        nklist = 3*np.array([n]*(n-1))**2 - 10*np.arange(1,n)**2\n",
    "        sigmalist[n] = (6/((n*n)*(n-1)))*np.dot(nklist,sigmalist[1:n]*sigmalist[n-1:0:-1])\n",
    "    return sigmalist"
   ]
  },
  {
   "cell_type": "code",
   "execution_count": 4,
   "metadata": {
    "scrolled": true
   },
   "outputs": [
    {
     "data": {
      "text/plain": [
       "2340"
      ]
     },
     "execution_count": 4,
     "metadata": {},
     "output_type": "execute_result"
    }
   ],
   "source": [
    "sigma_list(1000)[1000]"
   ]
  },
  {
   "cell_type": "code",
   "execution_count": 5,
   "metadata": {
    "scrolled": false
   },
   "outputs": [
    {
     "data": {
      "text/plain": [
       "2339.999999999726"
      ]
     },
     "execution_count": 5,
     "metadata": {},
     "output_type": "execute_result"
    }
   ],
   "source": [
    "sigma_vectorized_2(1000)[1000]"
   ]
  },
  {
   "cell_type": "markdown",
   "metadata": {},
   "source": [
    "I'm thinking that maybe if I make a 2d version of `nklist` in `sigma_vectorized_2` with prescribed values, and just loop through slices of that instead of making a new 1d array each loop, then maybe it'd speed things up. I'll need to experiment more."
   ]
  },
  {
   "cell_type": "code",
   "execution_count": 6,
   "metadata": {},
   "outputs": [],
   "source": [
    "def sigma_vectorized(N):\n",
    "    sigmalist = np.zeros(N+1)\n",
    "    sigmalist[1] = 1\n",
    "    \n",
    "    nsq_list = np.arange(N+1)**2\n",
    "    ksq_list = nsq_list\n",
    "    \n",
    "    a=3\n",
    "    c=-10\n",
    "    \n",
    "    NK_array = np.add.outer(a*nsq_list,c*ksq_list)\n",
    "    \n",
    "    for n in range(2,N+1):\n",
    "        vec_A = NK_array[n,1:n] * sigmalist[1:n]\n",
    "        vec_B = sigmalist[n-1:0:-1]\n",
    "        sigmalist[n] = (6/((n*n)*(n-1)))*np.dot(vec_A, vec_B)\n",
    "    return sigmalist"
   ]
  },
  {
   "cell_type": "code",
   "execution_count": 7,
   "metadata": {},
   "outputs": [
    {
     "data": {
      "text/plain": [
       "array([ 0.,  1.,  3.,  4.,  7.,  6., 12.,  8., 15., 13., 18., 12., 28.,\n",
       "       14., 24., 24., 31., 18., 39., 20., 42.])"
      ]
     },
     "execution_count": 7,
     "metadata": {},
     "output_type": "execute_result"
    }
   ],
   "source": [
    "sigma_vectorized(20)"
   ]
  },
  {
   "cell_type": "code",
   "execution_count": 10,
   "metadata": {
    "scrolled": true
   },
   "outputs": [
    {
     "name": "stdout",
     "output_type": "stream",
     "text": [
      "74.3 µs ± 509 ns per loop (mean ± std. dev. of 7 runs, 10000 loops each)\n"
     ]
    }
   ],
   "source": [
    "%timeit sigma_vectorized(20)"
   ]
  },
  {
   "cell_type": "code",
   "execution_count": 11,
   "metadata": {},
   "outputs": [
    {
     "name": "stdout",
     "output_type": "stream",
     "text": [
      "187 µs ± 432 ns per loop (mean ± std. dev. of 7 runs, 10000 loops each)\n"
     ]
    }
   ],
   "source": [
    "%timeit sigma_vectorized_2(20)"
   ]
  },
  {
   "cell_type": "code",
   "execution_count": 13,
   "metadata": {},
   "outputs": [
    {
     "name": "stdout",
     "output_type": "stream",
     "text": [
      "64.1 µs ± 351 ns per loop (mean ± std. dev. of 7 runs, 10000 loops each)\n"
     ]
    }
   ],
   "source": [
    "%timeit sigma_list(20)"
   ]
  },
  {
   "cell_type": "code",
   "execution_count": 44,
   "metadata": {},
   "outputs": [],
   "source": [
    "def sigma_augment(N):\n",
    "    sigmalist = np.zeros(N+1)\n",
    "    sigmalist[1] = 1\n",
    "    \n",
    "    nsq_list = np.arange(N+1)**2\n",
    "    ksq_list = nsq_list\n",
    "    \n",
    "    a=20\n",
    "    c=-20\n",
    "    \n",
    "    NK_array = np.add.outer(a*nsq_list,c*ksq_list)\n",
    "    \n",
    "    for n in range(2,N+1):\n",
    "        vec_A = NK_array[n,1:n] * sigmalist[1:n] # Entrywise multiplication\n",
    "        vec_B = sigmalist[n-1:0:-1]\n",
    "        sigmalist[n] = (6/((n*n)*(n-1)))*np.dot(vec_A, vec_B)\n",
    "    return sigmalist"
   ]
  },
  {
   "cell_type": "code",
   "execution_count": 45,
   "metadata": {},
   "outputs": [
    {
     "data": {
      "text/plain": [
       "7800.0"
      ]
     },
     "execution_count": 45,
     "metadata": {},
     "output_type": "execute_result"
    }
   ],
   "source": [
    "sigma_augment(20)[3]"
   ]
  },
  {
   "cell_type": "markdown",
   "metadata": {},
   "source": [
    "We want to play with the weights of the binomial in the sum, so we would have something like\n",
    "$$\n",
    "S_n = \\frac{6}{n^2(n-1)}\\sum_{k=1}^{n-1}(an^2 + ck^2)S_{k}S_{n-k}\n",
    "$$\n",
    "with $-10 \\leq a,c \\leq 10$ for now."
   ]
  },
  {
   "cell_type": "code",
   "execution_count": 58,
   "metadata": {},
   "outputs": [],
   "source": [
    "def sequence_check():\n",
    "    S_array = np.zeros((20,20,20))\n",
    "    for r in range(20):\n",
    "        for c in range(20):\n",
    "            S_array[r,c,1] = 1\n",
    "\n",
    "    a_array = np.arange(-10,10) # This goes from -10 to 9, but the 20x20x20 array sounded nice\n",
    "    c_array = a_array\n",
    "\n",
    "    nsq_list = np.arange(20)**2\n",
    "    ksq_list = nsq_list\n",
    "\n",
    "    ac_array = np.zeros((20,20,20,20))\n",
    "\n",
    "    for a in a_array:\n",
    "        for c in c_array:\n",
    "            ac_array[a+10,c+10] = np.add.outer(a*nsq_list,c*ksq_list)\n",
    "\n",
    "    for a in range(20):\n",
    "        for c in range(20):\n",
    "            for n in range(2,20):\n",
    "                vec_A = ac_array[a,c,n,1:n]*S_array[a,c,1:n]\n",
    "                vec_B = S_array[a,c,n-1:0:-1]\n",
    "                S_array[a,c,n] = (6/((n*n)*(n-1)))*np.dot(vec_A, vec_B)\n",
    "\n",
    "\n",
    "    return S_array[13,0]"
   ]
  },
  {
   "cell_type": "code",
   "execution_count": 59,
   "metadata": {},
   "outputs": [
    {
     "data": {
      "text/plain": [
       "array([ 0.,  1.,  3.,  4.,  7.,  6., 12.,  8., 15., 13., 18., 12., 28.,\n",
       "       14., 24., 24., 31., 18., 39., 20.])"
      ]
     },
     "execution_count": 59,
     "metadata": {},
     "output_type": "execute_result"
    }
   ],
   "source": [
    "sequence_check()"
   ]
  },
  {
   "cell_type": "code",
   "execution_count": 57,
   "metadata": {},
   "outputs": [
    {
     "name": "stdout",
     "output_type": "stream",
     "text": [
      "24.9 ms ± 357 µs per loop (mean ± std. dev. of 7 runs, 10 loops each)\n"
     ]
    }
   ],
   "source": [
    "%timeit sequence_check()"
   ]
  }
 ],
 "metadata": {
  "kernelspec": {
   "display_name": "Python 3",
   "language": "python",
   "name": "python3"
  },
  "language_info": {
   "codemirror_mode": {
    "name": "ipython",
    "version": 3
   },
   "file_extension": ".py",
   "mimetype": "text/x-python",
   "name": "python",
   "nbconvert_exporter": "python",
   "pygments_lexer": "ipython3",
   "version": "3.7.6"
  }
 },
 "nbformat": 4,
 "nbformat_minor": 4
}
