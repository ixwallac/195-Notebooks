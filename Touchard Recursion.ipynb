{
 "cells": [
  {
   "cell_type": "code",
   "execution_count": 1,
   "metadata": {},
   "outputs": [],
   "source": [
    "import numpy as np"
   ]
  },
  {
   "cell_type": "code",
   "execution_count": 59,
   "metadata": {},
   "outputs": [],
   "source": [
    "def polynom_matrix(a_min,a_max,b_min,b_max,seq_length): # USE THIS FOR COMPARISON TO FASTER FUNCTION\n",
    "    a_range = a_max+1 - a_min\n",
    "    b_range = b_max+1 - b_min\n",
    "    \n",
    "    Poly_matrix = np.fromfunction(lambda a,b,u,v: (a+a_min)*u*u + (b+b_min)*u*v, (a_range,b_range,seq_length,seq_length))\n",
    "    \n",
    "    return Poly_matrix"
   ]
  },
  {
   "cell_type": "code",
   "execution_count": 60,
   "metadata": {},
   "outputs": [
    {
     "data": {
      "text/plain": [
       "10.0"
      ]
     },
     "execution_count": 60,
     "metadata": {},
     "output_type": "execute_result"
    }
   ],
   "source": [
    "polynom_matrix(0,20,0,20,21)[1,1,2,3] # Should be 1*2*2 + 1*2*3 = 10"
   ]
  },
  {
   "cell_type": "code",
   "execution_count": 4,
   "metadata": {},
   "outputs": [
    {
     "name": "stdout",
     "output_type": "stream",
     "text": [
      "4.65 ms ± 183 µs per loop (mean ± std. dev. of 7 runs, 100 loops each)\n"
     ]
    }
   ],
   "source": [
    "%timeit polynom_matrix(-10,10,-10,10,21)"
   ]
  },
  {
   "cell_type": "code",
   "execution_count": 7,
   "metadata": {},
   "outputs": [
    {
     "name": "stdout",
     "output_type": "stream",
     "text": [
      "251 µs ± 2.45 µs per loop (mean ± std. dev. of 7 runs, 1000 loops each)\n"
     ]
    }
   ],
   "source": [
    "%timeit make_P_array(-10,10,-10,10,21)"
   ]
  },
  {
   "cell_type": "code",
   "execution_count": 48,
   "metadata": {
    "scrolled": false
   },
   "outputs": [
    {
     "data": {
      "text/plain": [
       "10.0"
      ]
     },
     "execution_count": 48,
     "metadata": {},
     "output_type": "execute_result"
    }
   ],
   "source": [
    "polynom_matrix(0,20,0,20,21)[1,1,2,3]"
   ]
  },
  {
   "cell_type": "code",
   "execution_count": 61,
   "metadata": {},
   "outputs": [
    {
     "data": {
      "text/plain": [
       "10"
      ]
     },
     "execution_count": 61,
     "metadata": {},
     "output_type": "execute_result"
    }
   ],
   "source": [
    "make_P_array(0,20,0,20,21)[1,1,2,3]"
   ]
  },
  {
   "cell_type": "markdown",
   "metadata": {},
   "source": [
    "Efficiently making a big matrix with entries $au^2 + buv$:"
   ]
  },
  {
   "cell_type": "code",
   "execution_count": 2,
   "metadata": {},
   "outputs": [],
   "source": [
    "def make_P_array(a_min,a_max,b_min,b_max,seq_length):\n",
    "    a_len = a_max+1 - a_min\n",
    "    b_len = b_max+1 - b_min\n",
    "    \n",
    "    a_range = np.arange(a_min, a_max+1)\n",
    "    b_range = np.arange(b_min, b_max+1)\n",
    "    u_range = np.arange(seq_length)\n",
    "    v_range = u_range\n",
    "    \n",
    "    au_squared_matrix = np.multiply.outer(a_range, u_range*u_range) # a x u\n",
    "    au_tensor = np.broadcast_to(au_squared_matrix,(seq_length,b_len,a_len,seq_length)) # k x b x a x k\n",
    "    #k,b,a,k --> a,b,k,k\n",
    "    \n",
    "    bu_matrix = np.multiply.outer(b_range,u_range) # b_len x seq_length\n",
    "    buv_matrix = np.multiply.outer(bu_matrix,v_range) # b_len x seq_len x seq_len\n",
    "    buv_tensor = np.broadcast_to(buv_matrix,(a_len,b_len,seq_length,seq_length))\n",
    "    \n",
    "    corrected_au_tensor = np.swapaxes(au_tensor, 0,2)\n",
    "    #corrected_buv_tensor = np.swapaxes(buv_tensor, 2,3)\n",
    "    \n",
    "    tensor = corrected_au_tensor + buv_tensor\n",
    "    \n",
    "    P_array = np.swapaxes(tensor, 2,3)\n",
    "    \n",
    "    return P_array"
   ]
  },
  {
   "cell_type": "code",
   "execution_count": 16,
   "metadata": {
    "scrolled": true
   },
   "outputs": [
    {
     "name": "stdout",
     "output_type": "stream",
     "text": [
      "253 µs ± 2 µs per loop (mean ± std. dev. of 7 runs, 1000 loops each)\n"
     ]
    }
   ],
   "source": [
    "%timeit make_P_array(-10,10,-10,10,21) # *racecar noises*"
   ]
  },
  {
   "cell_type": "code",
   "execution_count": 17,
   "metadata": {},
   "outputs": [
    {
     "name": "stdout",
     "output_type": "stream",
     "text": [
      "4.82 ms ± 184 µs per loop (mean ± std. dev. of 7 runs, 100 loops each)\n"
     ]
    }
   ],
   "source": [
    "%timeit polynom_matrix(-10,10,-10,10,21) # *regular car noises*"
   ]
  },
  {
   "cell_type": "code",
   "execution_count": 196,
   "metadata": {
    "scrolled": false
   },
   "outputs": [
    {
     "data": {
      "text/plain": [
       "array([  0,   2,   6,  12,  20,  30,  42,  56,  72,  90, 110, 132, 156,\n",
       "       182, 210, 240, 272, 306, 342, 380, 420])"
      ]
     },
     "execution_count": 196,
     "metadata": {},
     "output_type": "execute_result"
    }
   ],
   "source": [
    "make_P_array(0,10,0,10,21)[1,1,1]"
   ]
  },
  {
   "cell_type": "code",
   "execution_count": 217,
   "metadata": {
    "scrolled": true
   },
   "outputs": [
    {
     "data": {
      "text/plain": [
       "array([ 1.,  2.,  3.,  4.,  5.,  6.,  7.,  8.,  9., 10., 11., 12., 13.,\n",
       "       14., 15., 16., 17., 18., 19., 20., 21.])"
      ]
     },
     "execution_count": 217,
     "metadata": {},
     "output_type": "execute_result"
    }
   ],
   "source": [
    "polynom_matrix(0,10,0,10,21)[1,1,1]"
   ]
  },
  {
   "cell_type": "code",
   "execution_count": 177,
   "metadata": {
    "scrolled": true
   },
   "outputs": [
    {
     "data": {
      "text/plain": [
       "array([[   0,    0,    0,    0,    0,    0,    0,    0,    0,    0,    0,\n",
       "           0,    0,    0,    0,    0,    0,    0,    0,    0,    0],\n",
       "       [  -2,    1,    4,    7,   10,   13,   16,   19,   22,   25,   28,\n",
       "          31,   34,   37,   40,   43,   46,   49,   52,   55,   58],\n",
       "       [  -8,   -2,    4,   10,   16,   22,   28,   34,   40,   46,   52,\n",
       "          58,   64,   70,   76,   82,   88,   94,  100,  106,  112],\n",
       "       [ -18,   -9,    0,    9,   18,   27,   36,   45,   54,   63,   72,\n",
       "          81,   90,   99,  108,  117,  126,  135,  144,  153,  162],\n",
       "       [ -32,  -20,   -8,    4,   16,   28,   40,   52,   64,   76,   88,\n",
       "         100,  112,  124,  136,  148,  160,  172,  184,  196,  208],\n",
       "       [ -50,  -35,  -20,   -5,   10,   25,   40,   55,   70,   85,  100,\n",
       "         115,  130,  145,  160,  175,  190,  205,  220,  235,  250],\n",
       "       [ -72,  -54,  -36,  -18,    0,   18,   36,   54,   72,   90,  108,\n",
       "         126,  144,  162,  180,  198,  216,  234,  252,  270,  288],\n",
       "       [ -98,  -77,  -56,  -35,  -14,    7,   28,   49,   70,   91,  112,\n",
       "         133,  154,  175,  196,  217,  238,  259,  280,  301,  322],\n",
       "       [-128, -104,  -80,  -56,  -32,   -8,   16,   40,   64,   88,  112,\n",
       "         136,  160,  184,  208,  232,  256,  280,  304,  328,  352],\n",
       "       [-162, -135, -108,  -81,  -54,  -27,    0,   27,   54,   81,  108,\n",
       "         135,  162,  189,  216,  243,  270,  297,  324,  351,  378],\n",
       "       [-200, -170, -140, -110,  -80,  -50,  -20,   10,   40,   70,  100,\n",
       "         130,  160,  190,  220,  250,  280,  310,  340,  370,  400],\n",
       "       [-242, -209, -176, -143, -110,  -77,  -44,  -11,   22,   55,   88,\n",
       "         121,  154,  187,  220,  253,  286,  319,  352,  385,  418],\n",
       "       [-288, -252, -216, -180, -144, -108,  -72,  -36,    0,   36,   72,\n",
       "         108,  144,  180,  216,  252,  288,  324,  360,  396,  432],\n",
       "       [-338, -299, -260, -221, -182, -143, -104,  -65,  -26,   13,   52,\n",
       "          91,  130,  169,  208,  247,  286,  325,  364,  403,  442],\n",
       "       [-392, -350, -308, -266, -224, -182, -140,  -98,  -56,  -14,   28,\n",
       "          70,  112,  154,  196,  238,  280,  322,  364,  406,  448],\n",
       "       [-450, -405, -360, -315, -270, -225, -180, -135,  -90,  -45,    0,\n",
       "          45,   90,  135,  180,  225,  270,  315,  360,  405,  450],\n",
       "       [-512, -464, -416, -368, -320, -272, -224, -176, -128,  -80,  -32,\n",
       "          16,   64,  112,  160,  208,  256,  304,  352,  400,  448],\n",
       "       [-578, -527, -476, -425, -374, -323, -272, -221, -170, -119,  -68,\n",
       "         -17,   34,   85,  136,  187,  238,  289,  340,  391,  442],\n",
       "       [-648, -594, -540, -486, -432, -378, -324, -270, -216, -162, -108,\n",
       "         -54,    0,   54,  108,  162,  216,  270,  324,  378,  432],\n",
       "       [-722, -665, -608, -551, -494, -437, -380, -323, -266, -209, -152,\n",
       "         -95,  -38,   19,   76,  133,  190,  247,  304,  361,  418],\n",
       "       [-800, -740, -680, -620, -560, -500, -440, -380, -320, -260, -200,\n",
       "        -140,  -80,  -20,   40,  100,  160,  220,  280,  340,  400]])"
      ]
     },
     "execution_count": 177,
     "metadata": {},
     "output_type": "execute_result"
    }
   ],
   "source": [
    "make_P_array(-5,5,-5,5,21)[3,8]"
   ]
  },
  {
   "cell_type": "markdown",
   "metadata": {},
   "source": [
    "We want to work on getting a matrix of sequences of $\\tau(n)$ where\n",
    "$$\n",
    "\\tau(n) = \\frac{1}{n^2(n-1)}\\sum_{u+v=n}(au^2 + buv)\\tau(u)\\tau(v).\n",
    "$$\n",
    "For the original sequence of $\\sigma_n$, we'd use $a = -24$ and $b = 36$."
   ]
  },
  {
   "cell_type": "code",
   "execution_count": 11,
   "metadata": {},
   "outputs": [],
   "source": [
    "def make_sequences(a_min,a_max,b_min,b_max,seq_length):\n",
    "    a_len = a_max+1 - a_min\n",
    "    b_len = b_max+1 - b_min\n",
    "    \n",
    "    coeff_array = make_P_array(a_min,a_max,b_min,b_max,seq_length) # Big array for the polynomial values\n",
    "    seq = np.zeros(seq_length)\n",
    "    seq[1] = 1\n",
    "    seq_array = np.broadcast_to(seq, (a_len, b_len, seq_length)).copy() # Big array for the sequences\n",
    "    \n",
    "    for a in range(a_len):\n",
    "        for b in range(b_len):\n",
    "            flipped_array = np.flipud(coeff_array[a,b])\n",
    "            for n in range(2,seq_length):\n",
    "                diag = np.diagonal(flipped_array, -seq_length+n+1)[1:n]\n",
    "                vec_A = diag*seq_array[a,b,1:n]\n",
    "                vec_B = seq_array[a,b,n-1:0:-1]\n",
    "                seq_array[a,b,n] = (1/((n*n)*(n-1)))*np.dot(vec_A,vec_B)\n",
    "                \n",
    "    return seq_array"
   ]
  },
  {
   "cell_type": "code",
   "execution_count": 8,
   "metadata": {},
   "outputs": [
    {
     "name": "stdout",
     "output_type": "stream",
     "text": [
      "42.9 ms ± 502 µs per loop (mean ± std. dev. of 7 runs, 10 loops each)\n"
     ]
    }
   ],
   "source": [
    "%timeit make_sequences(-10,10,-10,10,20) # Not great, but I got it"
   ]
  },
  {
   "cell_type": "code",
   "execution_count": 21,
   "metadata": {},
   "outputs": [
    {
     "data": {
      "text/plain": [
       "array([[[ 0.,  1.,  3.,  4.,  7.,  6., 12.,  8., 15., 13., 18., 12.,\n",
       "         28., 14., 24., 24., 31., 18., 39., 20.]]])"
      ]
     },
     "execution_count": 21,
     "metadata": {},
     "output_type": "execute_result"
    }
   ],
   "source": [
    "make_sequences(-24,-24,36,36,20) # Nice"
   ]
  },
  {
   "cell_type": "markdown",
   "metadata": {},
   "source": [
    "## From Here:\n",
    "\n",
    "Finally get to start playing with some higher order polynomials. Thankfully, their respective matrices are still 4d and can be constructed in a similar manner, and the process for getting the sequences won't be much slower than it already is. So that's not nothing."
   ]
  },
  {
   "cell_type": "markdown",
   "metadata": {},
   "source": [
    "#### Linear\n",
    "\n",
    "$$\n",
    "\\tau(n) = \\frac{1}{n(n-1)}\\sum_{u+v=n}(au+bv)\\tau(u)\\tau(v)\n",
    "$$"
   ]
  },
  {
   "cell_type": "code",
   "execution_count": 3,
   "metadata": {},
   "outputs": [],
   "source": [
    "def deg_1_array(a_min,a_max,b_min,b_max,seq_length):\n",
    "    a_len = a_max+1 - a_min\n",
    "    b_len = b_max+1 - b_min\n",
    "    \n",
    "    a_range = np.arange(a_min, a_max+1)\n",
    "    b_range = np.arange(b_min, b_max+1)\n",
    "    u_range = np.arange(seq_length)\n",
    "    v_range = u_range\n",
    "    \n",
    "    au_array = np.multiply.outer(a_range,u_range) # a x u\n",
    "    bv_array = np.multiply.outer(b_range,v_range) # b x v\n",
    "    \n",
    "    temp_array = np.add.outer(au_array, bv_array) # a x u x b x v\n",
    "    \n",
    "    final_array = np.swapaxes(temp_array, 1,2)\n",
    "    \n",
    "    return final_array\n",
    "\n",
    "\n",
    "\n",
    "def deg_1_sqnc(a_min,a_max,b_min,b_max,seq_length):\n",
    "    a_len = a_max+1 - a_min\n",
    "    b_len = b_max+1 - b_min\n",
    "    \n",
    "    coeff_array = deg_1_array(a_min,a_max,b_min,b_max,seq_length)\n",
    "    seq = np.zeros(seq_length)\n",
    "    seq[1] = 1\n",
    "    seq_array = np.broadcast_to(seq, (a_len,b_len,seq_length)).copy()\n",
    "    \n",
    "    for a in range(a_len):\n",
    "        for b in range(b_len):\n",
    "            flipped_array = np.flipud(coeff_array[a,b])\n",
    "            for n in range(2,seq_length):\n",
    "                diag = np.diagonal(flipped_array, -seq_length+n+1)[1:n]\n",
    "                vec_A = diag*seq_array[a,b,1:n]\n",
    "                vec_B = seq_array[a,b,n-1:0:-1]\n",
    "                seq_array[a,b,n] = (1/(n*(n-1)))*np.dot(vec_A,vec_B)\n",
    "                \n",
    "    return seq_array"
   ]
  },
  {
   "cell_type": "code",
   "execution_count": 4,
   "metadata": {},
   "outputs": [],
   "source": [
    "X = deg_1_sqnc(0,40,0,40,21)"
   ]
  },
  {
   "cell_type": "code",
   "execution_count": 86,
   "metadata": {},
   "outputs": [
    {
     "data": {
      "text/plain": [
       "array([0.00000000e+00, 1.00000000e+00, 1.10000000e+01, 1.21000000e+02,\n",
       "       1.33100000e+03, 1.46410000e+04, 1.61051000e+05, 1.77156100e+06,\n",
       "       1.94871710e+07, 2.14358881e+08, 2.35794769e+09, 2.59374246e+10,\n",
       "       2.85311671e+11, 3.13842838e+12, 3.45227121e+13, 3.79749834e+14,\n",
       "       4.17724817e+15, 4.59497299e+16, 5.05447028e+17, 5.55991731e+18,\n",
       "       6.11590904e+19])"
      ]
     },
     "execution_count": 86,
     "metadata": {},
     "output_type": "execute_result"
    }
   ],
   "source": [
    "X[19,3]"
   ]
  },
  {
   "cell_type": "code",
   "execution_count": 89,
   "metadata": {},
   "outputs": [
    {
     "data": {
      "text/plain": [
       "array([0., 1., 1., 1., 1., 1., 1., 1., 1., 1., 1., 1., 1., 1., 1., 1., 1.,\n",
       "       1., 1., 1., 1.])"
      ]
     },
     "execution_count": 89,
     "metadata": {},
     "output_type": "execute_result"
    }
   ],
   "source": [
    "X[0,2] # a = 0, b = 2"
   ]
  },
  {
   "cell_type": "code",
   "execution_count": 91,
   "metadata": {
    "scrolled": true
   },
   "outputs": [
    {
     "data": {
      "text/plain": [
       "array([0.00000e+00, 1.00000e+00, 2.00000e+00, 4.00000e+00, 8.00000e+00,\n",
       "       1.60000e+01, 3.20000e+01, 6.40000e+01, 1.28000e+02, 2.56000e+02,\n",
       "       5.12000e+02, 1.02400e+03, 2.04800e+03, 4.09600e+03, 8.19200e+03,\n",
       "       1.63840e+04, 3.27680e+04, 6.55360e+04, 1.31072e+05, 2.62144e+05,\n",
       "       5.24288e+05])"
      ]
     },
     "execution_count": 91,
     "metadata": {},
     "output_type": "execute_result"
    }
   ],
   "source": [
    "X[0,4] #a = 0, b = 4"
   ]
  },
  {
   "cell_type": "code",
   "execution_count": 93,
   "metadata": {
    "scrolled": true
   },
   "outputs": [
    {
     "data": {
      "text/plain": [
       "array([0.00000000e+00, 1.00000000e+00, 3.00000000e+00, 9.00000000e+00,\n",
       "       2.70000000e+01, 8.10000000e+01, 2.43000000e+02, 7.29000000e+02,\n",
       "       2.18700000e+03, 6.56100000e+03, 1.96830000e+04, 5.90490000e+04,\n",
       "       1.77147000e+05, 5.31441000e+05, 1.59432300e+06, 4.78296900e+06,\n",
       "       1.43489070e+07, 4.30467210e+07, 1.29140163e+08, 3.87420489e+08,\n",
       "       1.16226147e+09])"
      ]
     },
     "execution_count": 93,
     "metadata": {},
     "output_type": "execute_result"
    }
   ],
   "source": [
    "X[0,6]"
   ]
  },
  {
   "cell_type": "markdown",
   "metadata": {},
   "source": [
    "Looks likeif $a = 0$ and $b = 2k$ for $k \\in \\mathbb{Z}$, we get a geometric sequence."
   ]
  },
  {
   "cell_type": "code",
   "execution_count": 95,
   "metadata": {},
   "outputs": [
    {
     "data": {
      "text/plain": [
       "array([0.00000e+00, 1.00000e+00, 2.00000e+00, 4.00000e+00, 8.00000e+00,\n",
       "       1.60000e+01, 3.20000e+01, 6.40000e+01, 1.28000e+02, 2.56000e+02,\n",
       "       5.12000e+02, 1.02400e+03, 2.04800e+03, 4.09600e+03, 8.19200e+03,\n",
       "       1.63840e+04, 3.27680e+04, 6.55360e+04, 1.31072e+05, 2.62144e+05,\n",
       "       5.24288e+05])"
      ]
     },
     "execution_count": 95,
     "metadata": {},
     "output_type": "execute_result"
    }
   ],
   "source": [
    "X[1,3] # a = 1, b = 3, a+b = 4 ---> 2^n"
   ]
  },
  {
   "cell_type": "code",
   "execution_count": 96,
   "metadata": {},
   "outputs": [
    {
     "data": {
      "text/plain": [
       "array([0.00000000e+00, 1.00000000e+00, 3.00000000e+00, 9.00000000e+00,\n",
       "       2.70000000e+01, 8.10000000e+01, 2.43000000e+02, 7.29000000e+02,\n",
       "       2.18700000e+03, 6.56100000e+03, 1.96830000e+04, 5.90490000e+04,\n",
       "       1.77147000e+05, 5.31441000e+05, 1.59432300e+06, 4.78296900e+06,\n",
       "       1.43489070e+07, 4.30467210e+07, 1.29140163e+08, 3.87420489e+08,\n",
       "       1.16226147e+09])"
      ]
     },
     "execution_count": 96,
     "metadata": {},
     "output_type": "execute_result"
    }
   ],
   "source": [
    "X[1,5] # a = 1, b = 5, a+b = 6 ---> 3^n"
   ]
  },
  {
   "cell_type": "code",
   "execution_count": 97,
   "metadata": {},
   "outputs": [
    {
     "data": {
      "text/plain": [
       "array([0.00000000e+00, 1.00000000e+00, 4.00000000e+00, 1.60000000e+01,\n",
       "       6.40000000e+01, 2.56000000e+02, 1.02400000e+03, 4.09600000e+03,\n",
       "       1.63840000e+04, 6.55360000e+04, 2.62144000e+05, 1.04857600e+06,\n",
       "       4.19430400e+06, 1.67772160e+07, 6.71088640e+07, 2.68435456e+08,\n",
       "       1.07374182e+09, 4.29496730e+09, 1.71798692e+10, 6.87194767e+10,\n",
       "       2.74877907e+11])"
      ]
     },
     "execution_count": 97,
     "metadata": {},
     "output_type": "execute_result"
    }
   ],
   "source": [
    "X[1,7] # a = 1, b = 7, a+b = 8 ---> 4^n"
   ]
  },
  {
   "cell_type": "code",
   "execution_count": 106,
   "metadata": {
    "scrolled": false
   },
   "outputs": [
    {
     "data": {
      "text/plain": [
       "array([0.00000e+00, 1.00000e+00, 2.00000e+00, 4.00000e+00, 8.00000e+00,\n",
       "       1.60000e+01, 3.20000e+01, 6.40000e+01, 1.28000e+02, 2.56000e+02,\n",
       "       5.12000e+02, 1.02400e+03, 2.04800e+03, 4.09600e+03, 8.19200e+03,\n",
       "       1.63840e+04, 3.27680e+04, 6.55360e+04, 1.31072e+05, 2.62144e+05,\n",
       "       5.24288e+05])"
      ]
     },
     "execution_count": 106,
     "metadata": {},
     "output_type": "execute_result"
    }
   ],
   "source": [
    "X[2,2] # a = 2, b = 2, a+b = 4 ---> 2^n"
   ]
  },
  {
   "cell_type": "code",
   "execution_count": 6,
   "metadata": {},
   "outputs": [
    {
     "data": {
      "text/plain": [
       "array([0.00000000e+00, 1.00000000e+00, 5.00000000e+00, 2.50000000e+01,\n",
       "       1.25000000e+02, 6.25000000e+02, 3.12500000e+03, 1.56250000e+04,\n",
       "       7.81250000e+04, 3.90625000e+05, 1.95312500e+06, 9.76562500e+06,\n",
       "       4.88281250e+07, 2.44140625e+08, 1.22070312e+09, 6.10351563e+09,\n",
       "       3.05175781e+10, 1.52587891e+11, 7.62939453e+11, 3.81469727e+12,\n",
       "       1.90734863e+13])"
      ]
     },
     "execution_count": 6,
     "metadata": {},
     "output_type": "execute_result"
    }
   ],
   "source": [
    "X[3,7] # a = 3, b = 7, a+b = 10 ---> 5^n"
   ]
  },
  {
   "cell_type": "code",
   "execution_count": 7,
   "metadata": {},
   "outputs": [
    {
     "data": {
      "text/plain": [
       "array([0.00000000e+00, 1.00000000e+00, 1.80000000e+01, 3.24000000e+02,\n",
       "       5.83200000e+03, 1.04976000e+05, 1.88956800e+06, 3.40122240e+07,\n",
       "       6.12220032e+08, 1.10199606e+10, 1.98359290e+11, 3.57046723e+12,\n",
       "       6.42684101e+13, 1.15683138e+15, 2.08229649e+16, 3.74813368e+17,\n",
       "       6.74664062e+18, 1.21439531e+20, 2.18591156e+21, 3.93464081e+22,\n",
       "       7.08235345e+23])"
      ]
     },
     "execution_count": 7,
     "metadata": {},
     "output_type": "execute_result"
    }
   ],
   "source": [
    "X[19,17] # a = 19, b = 17, a+b = 36 ---> 18^n"
   ]
  },
  {
   "cell_type": "markdown",
   "metadata": {},
   "source": [
    "It sort of looks like if $a+b=k$ is even, then $\\tau(n)$ is a geometric sequence of the form $\\left(\\frac{k}{2}\\right)^n$..."
   ]
  },
  {
   "cell_type": "markdown",
   "metadata": {},
   "source": [
    "#### Quadratic\n",
    "\n",
    "$$\n",
    "\\tau(n) = \\frac{1}{n^2(n-1)}\\sum_{u+v=n}(au^2 + buv)\\tau(u)\\tau(v)\n",
    "$$"
   ]
  },
  {
   "cell_type": "code",
   "execution_count": 108,
   "metadata": {},
   "outputs": [],
   "source": [
    "def deg_2_array(a_min,a_max,b_min,b_max,seq_length):\n",
    "    a_len = a_max+1 - a_min\n",
    "    b_len = b_max+1 - b_min\n",
    "    \n",
    "    a_range = np.arange(a_min, a_max+1)\n",
    "    b_range = np.arange(b_min, b_max+1)\n",
    "    u_range = np.arange(seq_length)\n",
    "    v_range = u_range\n",
    "    \n",
    "    au_squared_matrix = np.multiply.outer(a_range, u_range*u_range) # a x u\n",
    "    au_tensor = np.broadcast_to(au_squared_matrix,(seq_length,b_len,a_len,seq_length)) # k x b x a x k\n",
    "    #k,b,a,k --> a,b,k,k\n",
    "    \n",
    "    bu_matrix = np.multiply.outer(b_range,u_range) # b_len x seq_length\n",
    "    buv_matrix = np.multiply.outer(bu_matrix,v_range) # b_len x seq_len x seq_len\n",
    "    buv_tensor = np.broadcast_to(buv_matrix,(a_len,b_len,seq_length,seq_length))\n",
    "    \n",
    "    corrected_au_tensor = np.swapaxes(au_tensor, 0,2)\n",
    "    #corrected_buv_tensor = np.swapaxes(buv_tensor, 2,3)\n",
    "    \n",
    "    tensor = corrected_au_tensor + buv_tensor\n",
    "    \n",
    "    P_array = np.swapaxes(tensor, 2,3)\n",
    "    \n",
    "    return P_array\n",
    "\n",
    "def deg_2_sqnc(a_min,a_max,b_min,b_max,seq_length):\n",
    "    a_len = a_max+1 - a_min\n",
    "    b_len = b_max+1 - b_min\n",
    "    \n",
    "    coeff_array = deg_2_array(a_min,a_max,b_min,b_max,seq_length) # Big array for the polynomial values\n",
    "    seq = np.zeros(seq_length)\n",
    "    seq[1] = 1\n",
    "    seq_array = np.broadcast_to(seq, (a_len, b_len, seq_length)).copy() # Big array for the sequences\n",
    "    \n",
    "    for a in range(a_len):\n",
    "        for b in range(b_len):\n",
    "            flipped_array = np.flipud(coeff_array[a,b])\n",
    "            for n in range(2,seq_length):\n",
    "                diag = np.diagonal(flipped_array, -seq_length+n+1)[1:n]\n",
    "                vec_A = diag*seq_array[a,b,1:n]\n",
    "                vec_B = seq_array[a,b,n-1:0:-1]\n",
    "                seq_array[a,b,n] = (1/((n*n)*(n-1)))*np.dot(vec_A,vec_B)\n",
    "                \n",
    "    return seq_array"
   ]
  },
  {
   "cell_type": "code",
   "execution_count": 112,
   "metadata": {
    "scrolled": true
   },
   "outputs": [],
   "source": [
    "Z = deg_2_sqnc(0,40,0,40,21)"
   ]
  },
  {
   "cell_type": "code",
   "execution_count": 117,
   "metadata": {},
   "outputs": [
    {
     "data": {
      "text/plain": [
       "array([0., 1., 1., 1., 1., 1., 1., 1., 1., 1., 1., 1., 1., 1., 1., 1., 1.,\n",
       "       1., 1., 1., 1.])"
      ]
     },
     "execution_count": 117,
     "metadata": {},
     "output_type": "execute_result"
    }
   ],
   "source": [
    "Z[2,2] # a = 2, b = 2 ---> 1^n :P"
   ]
  },
  {
   "cell_type": "code",
   "execution_count": 121,
   "metadata": {
    "scrolled": true
   },
   "outputs": [
    {
     "data": {
      "text/plain": [
       "array([0.00000e+00, 1.00000e+00, 2.00000e+00, 4.00000e+00, 8.00000e+00,\n",
       "       1.60000e+01, 3.20000e+01, 6.40000e+01, 1.28000e+02, 2.56000e+02,\n",
       "       5.12000e+02, 1.02400e+03, 2.04800e+03, 4.09600e+03, 8.19200e+03,\n",
       "       1.63840e+04, 3.27680e+04, 6.55360e+04, 1.31072e+05, 2.62144e+05,\n",
       "       5.24288e+05])"
      ]
     },
     "execution_count": 121,
     "metadata": {},
     "output_type": "execute_result"
    }
   ],
   "source": [
    "Z[4,4] # a = 4, b = 4 ---> 2^n"
   ]
  },
  {
   "cell_type": "code",
   "execution_count": 144,
   "metadata": {
    "scrolled": true
   },
   "outputs": [
    {
     "data": {
      "text/plain": [
       "array([0.00000000e+00, 1.00000000e+00, 6.00000000e+00, 3.40000000e+01,\n",
       "       1.91000000e+02, 1.06962000e+03, 5.98142400e+03, 3.34232456e+04,\n",
       "       1.86679787e+05, 1.04237015e+06, 5.81920239e+06, 3.24822963e+07,\n",
       "       1.81295813e+08, 1.01180623e+09, 5.64654620e+09, 3.15100935e+10,\n",
       "       1.75833510e+11, 9.81164092e+11, 5.47484582e+12, 3.05487955e+13,\n",
       "       1.70454934e+14])"
      ]
     },
     "execution_count": 144,
     "metadata": {},
     "output_type": "execute_result"
    }
   ],
   "source": [
    "Z[6,18] # Almost..."
   ]
  },
  {
   "cell_type": "code",
   "execution_count": 150,
   "metadata": {},
   "outputs": [
    {
     "data": {
      "text/plain": [
       "array([0.00000000e+00, 1.00000000e+00, 7.00000000e+00, 4.90000000e+01,\n",
       "       3.43000000e+02, 2.40100000e+03, 1.68070000e+04, 1.17649000e+05,\n",
       "       8.23543000e+05, 5.76480100e+06, 4.03536070e+07, 2.82475249e+08,\n",
       "       1.97732674e+09, 1.38412872e+10, 9.68890104e+10, 6.78223073e+11,\n",
       "       4.74756151e+12, 3.32329306e+13, 2.32630514e+14, 1.62841360e+15,\n",
       "       1.13988952e+16])"
      ]
     },
     "execution_count": 150,
     "metadata": {},
     "output_type": "execute_result"
    }
   ],
   "source": [
    "Z[14,14] ---> 7^n"
   ]
  },
  {
   "cell_type": "markdown",
   "metadata": {},
   "source": [
    "So far, all I'm seeing is that if $a=b$ and $a$ and $b$ are even, then we get a geometric sequence, this time of the form $\\left(\\frac{a}{2}\\right)^n$."
   ]
  },
  {
   "cell_type": "markdown",
   "metadata": {},
   "source": [
    "#### Cubic\n",
    "\n",
    "$$\n",
    "\\tau(n) = \\frac{1}{n^3(n-1)}\\sum_{u+v=n}(au^3 + bu^2v)\\tau(u)\\tau(v)\n",
    "$$"
   ]
  },
  {
   "cell_type": "code",
   "execution_count": 9,
   "metadata": {},
   "outputs": [],
   "source": [
    "def deg_3_array(a_min,a_max,b_min,b_max,seq_length):\n",
    "    a_len = a_max+1 - a_min\n",
    "    b_len = b_max+1 - b_min\n",
    "    \n",
    "    a_range = np.arange(a_min, a_max+1)\n",
    "    b_range = np.arange(b_min, b_max+1)\n",
    "    u_range = np.arange(seq_length)\n",
    "    v_range = u_range\n",
    "    \n",
    "    au_squared_matrix = np.multiply.outer(a_range, u_range*u_range*u_range) # a x u^3\n",
    "    au_tensor = np.broadcast_to(au_squared_matrix,(seq_length,b_len,a_len,seq_length)) # k x b x a x k\n",
    "    #k,b,a,k --> a,b,k,k\n",
    "    \n",
    "    bu_matrix = np.multiply.outer(b_range,u_range*u_range) # b x u^2\n",
    "    buv_matrix = np.multiply.outer(bu_matrix,v_range) # b x u^2 x v\n",
    "    buv_tensor = np.broadcast_to(buv_matrix,(a_len,b_len,seq_length,seq_length)) # a x b x k x k\n",
    "    \n",
    "    corrected_au_tensor = np.swapaxes(au_tensor, 0,2)\n",
    "    #corrected_buv_tensor = np.swapaxes(buv_tensor, 2,3)\n",
    "    \n",
    "    tensor = corrected_au_tensor + buv_tensor\n",
    "    \n",
    "    P_array = np.swapaxes(tensor, 2,3)\n",
    "    \n",
    "    return P_array\n",
    "\n",
    "def deg_3_sqnc(a_min,a_max,b_min,b_max,seq_length):\n",
    "    a_len = a_max+1 - a_min\n",
    "    b_len = b_max+1 - b_min\n",
    "    \n",
    "    coeff_array = deg_3_array(a_min,a_max,b_min,b_max,seq_length) # Big array for the polynomial values\n",
    "    seq = np.zeros(seq_length)\n",
    "    seq[1] = 1\n",
    "    seq_array = np.broadcast_to(seq, (a_len, b_len, seq_length)).copy() # Big array for the sequences\n",
    "    \n",
    "    for a in range(a_len):\n",
    "        for b in range(b_len):\n",
    "            flipped_array = np.flipud(coeff_array[a,b])\n",
    "            for n in range(2,seq_length):\n",
    "                diag = np.diagonal(flipped_array, -seq_length+n+1)[1:n]\n",
    "                vec_A = diag*seq_array[a,b,1:n]\n",
    "                vec_B = seq_array[a,b,n-1:0:-1]\n",
    "                seq_array[a,b,n] = (1/((n*n*n)*(n-1)))*np.dot(vec_A,vec_B)\n",
    "                \n",
    "    return seq_array"
   ]
  },
  {
   "cell_type": "code",
   "execution_count": 11,
   "metadata": {},
   "outputs": [],
   "source": [
    "A = deg_3_sqnc(-10,10,-10,10,21)"
   ]
  },
  {
   "cell_type": "code",
   "execution_count": 34,
   "metadata": {},
   "outputs": [
    {
     "data": {
      "text/plain": [
       "array([ 0.,  1., -1.,  1., -1.,  1., -1.,  1., -1.,  1., -1.,  1., -1.,\n",
       "        1., -1.,  1., -1.,  1., -1.,  1., -1.])"
      ]
     },
     "execution_count": 34,
     "metadata": {},
     "output_type": "execute_result"
    }
   ],
   "source": [
    "A[8,4] # a = -2, b = -6?"
   ]
  },
  {
   "cell_type": "code",
   "execution_count": 39,
   "metadata": {},
   "outputs": [
    {
     "data": {
      "text/plain": [
       "array([0., 1., 1., 1., 1., 1., 1., 1., 1., 1., 1., 1., 1., 1., 1., 1., 1.,\n",
       "       1., 1., 1., 1.])"
      ]
     },
     "execution_count": 39,
     "metadata": {},
     "output_type": "execute_result"
    }
   ],
   "source": [
    "A[12,16]"
   ]
  },
  {
   "cell_type": "code",
   "execution_count": 28,
   "metadata": {},
   "outputs": [],
   "source": [
    "B = deg_3_sqnc(0,40,0,40,21)"
   ]
  },
  {
   "cell_type": "code",
   "execution_count": 73,
   "metadata": {},
   "outputs": [
    {
     "data": {
      "text/plain": [
       "array([0.00000e+00, 1.00000e+00, 2.00000e+00, 4.00000e+00, 8.00000e+00,\n",
       "       1.60000e+01, 3.20000e+01, 6.40000e+01, 1.28000e+02, 2.56000e+02,\n",
       "       5.12000e+02, 1.02400e+03, 2.04800e+03, 4.09600e+03, 8.19200e+03,\n",
       "       1.63840e+04, 3.27680e+04, 6.55360e+04, 1.31072e+05, 2.62144e+05,\n",
       "       5.24288e+05])"
      ]
     },
     "execution_count": 73,
     "metadata": {},
     "output_type": "execute_result"
    }
   ],
   "source": [
    "B[4,12] # a = 4 ---> 2^n"
   ]
  },
  {
   "cell_type": "code",
   "execution_count": 29,
   "metadata": {},
   "outputs": [
    {
     "data": {
      "text/plain": [
       "array([0.00000000e+00, 1.00000000e+00, 6.00000000e+00, 3.60000000e+01,\n",
       "       2.16000000e+02, 1.29600000e+03, 7.77600000e+03, 4.66560000e+04,\n",
       "       2.79936000e+05, 1.67961600e+06, 1.00776960e+07, 6.04661760e+07,\n",
       "       3.62797056e+08, 2.17678234e+09, 1.30606940e+10, 7.83641641e+10,\n",
       "       4.70184985e+11, 2.82110991e+12, 1.69266594e+13, 1.01559957e+14,\n",
       "       6.09359740e+14])"
      ]
     },
     "execution_count": 29,
     "metadata": {},
     "output_type": "execute_result"
    }
   ],
   "source": [
    "B[12,36] # a = 12 ---> 6^n"
   ]
  },
  {
   "cell_type": "code",
   "execution_count": 34,
   "metadata": {},
   "outputs": [
    {
     "data": {
      "text/plain": [
       "array([0.00000000e+00, 1.00000000e+00, 4.00000000e+00, 1.60000000e+01,\n",
       "       6.40000000e+01, 2.56000000e+02, 1.02400000e+03, 4.09600000e+03,\n",
       "       1.63840000e+04, 6.55360000e+04, 2.62144000e+05, 1.04857600e+06,\n",
       "       4.19430400e+06, 1.67772160e+07, 6.71088640e+07, 2.68435456e+08,\n",
       "       1.07374182e+09, 4.29496730e+09, 1.71798692e+10, 6.87194767e+10,\n",
       "       2.74877907e+11])"
      ]
     },
     "execution_count": 34,
     "metadata": {},
     "output_type": "execute_result"
    }
   ],
   "source": [
    "B[8,24] # a = 8 ---> 4^n"
   ]
  },
  {
   "cell_type": "code",
   "execution_count": 81,
   "metadata": {
    "scrolled": true
   },
   "outputs": [
    {
     "data": {
      "text/plain": [
       "array([0.00000000e+00, 1.00000000e+00, 5.00000000e+00, 2.50000000e+01,\n",
       "       1.25000000e+02, 6.25000000e+02, 3.12500000e+03, 1.56250000e+04,\n",
       "       7.81250000e+04, 3.90625000e+05, 1.95312500e+06, 9.76562500e+06,\n",
       "       4.88281250e+07, 2.44140625e+08, 1.22070312e+09, 6.10351562e+09,\n",
       "       3.05175781e+10, 1.52587891e+11, 7.62939453e+11, 3.81469727e+12,\n",
       "       1.90734863e+13])"
      ]
     },
     "execution_count": 81,
     "metadata": {},
     "output_type": "execute_result"
    }
   ],
   "source": [
    "B[10,30] # a = 10 ---> 5^n"
   ]
  },
  {
   "cell_type": "code",
   "execution_count": 11,
   "metadata": {},
   "outputs": [
    {
     "data": {
      "text/plain": [
       "array([0.00000000e+00, 1.00000000e+00, 3.00000000e+00, 9.00000000e+00,\n",
       "       2.70000000e+01, 8.10000000e+01, 2.43000000e+02, 7.29000000e+02,\n",
       "       2.18700000e+03, 6.56100000e+03, 1.96830000e+04, 5.90490000e+04,\n",
       "       1.77147000e+05, 5.31441000e+05, 1.59432300e+06, 4.78296900e+06,\n",
       "       1.43489070e+07, 4.30467210e+07, 1.29140163e+08, 3.87420489e+08,\n",
       "       1.16226147e+09])"
      ]
     },
     "execution_count": 11,
     "metadata": {},
     "output_type": "execute_result"
    }
   ],
   "source": [
    "B[6,18] # a = 6 ---> 3^n"
   ]
  },
  {
   "cell_type": "markdown",
   "metadata": {},
   "source": [
    "$$\n",
    "\\frac{1}{n^3(n-1)}\\sum_{u+v=n}(6u^3 + 18u^2v)\\tau(u)\\tau(v)\n",
    "$$"
   ]
  },
  {
   "cell_type": "markdown",
   "metadata": {},
   "source": [
    "For $\\deg(P(u,v)) = 3$, it looks like we get a geometric sequence if $a = 2k, \\ k \\in \\mathbb{Z}$, and $b = 3a$. It looks like the geometric sequence is again of the form  $\\left(\\frac{a}{2}\\right)^n$. I'm probably missing something that makes this obvious, but that's kind of fun."
   ]
  }
 ],
 "metadata": {
  "kernelspec": {
   "display_name": "Python 3",
   "language": "python",
   "name": "python3"
  },
  "language_info": {
   "codemirror_mode": {
    "name": "ipython",
    "version": 3
   },
   "file_extension": ".py",
   "mimetype": "text/x-python",
   "name": "python",
   "nbconvert_exporter": "python",
   "pygments_lexer": "ipython3",
   "version": "3.7.6"
  }
 },
 "nbformat": 4,
 "nbformat_minor": 4
}
