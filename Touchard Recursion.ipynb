{
 "cells": [
  {
   "cell_type": "code",
   "execution_count": 1,
   "metadata": {},
   "outputs": [],
   "source": [
    "import numpy as np"
   ]
  },
  {
   "cell_type": "markdown",
   "metadata": {},
   "source": [
    "## Linear Case"
   ]
  },
  {
   "cell_type": "markdown",
   "metadata": {},
   "source": [
    "$$\n",
    "\\tau(n) = \\frac{1}{n(n-1)}\\sum_{u+v=n}(au+bv)\\tau(u)\\tau(v)\n",
    "$$\n",
    "Due to symmetry, we can rewrite the sum as\n",
    "$$\n",
    "\\tau(n) = \\frac{1}{n(n-1)}\\sum_{u+v=n}au\\tau(u)\\tau(v).\n",
    "$$"
   ]
  },
  {
   "cell_type": "code",
   "execution_count": 52,
   "metadata": {},
   "outputs": [],
   "source": [
    "def deg_1_array(a_min,a_max,seq_length):\n",
    "    a_len = a_max+1 - a_min\n",
    "    \n",
    "    a_range = np.arange(a_min, a_max+1)\n",
    "    u_range = np.arange(seq_length)\n",
    "    \n",
    "    au_array = np.multiply.outer(a_range,u_range)\n",
    "    \n",
    "    return au_array\n",
    "\n",
    "def deg_1_sqnc(a_min,a_max,seq_length):\n",
    "    a_len = a_max+1 - a_min\n",
    "    \n",
    "    coeff_array = deg_1_array(a_min,a_max,seq_length)\n",
    "    seq = np.zeros(seq_length)\n",
    "    seq[1] = 1\n",
    "    seq_array = np.broadcast_to(seq, (a_len,seq_length)).copy()\n",
    "    \n",
    "    for n in range(2,seq_length):\n",
    "        vec_A = coeff_array[:,1:n]*seq_array[:,1:n]\n",
    "        vec_B = seq_array[:,n-1:0:-1]\n",
    "        seq_array[:,n] = (1/(n*(n-1)))*np.sum(vec_A*vec_B, axis=1)\n",
    "    \n",
    "    return seq_array"
   ]
  },
  {
   "cell_type": "code",
   "execution_count": 53,
   "metadata": {},
   "outputs": [
    {
     "data": {
      "text/plain": [
       "array([[ 0.00000000e+00,  1.00000000e+00, -5.00000000e-01,\n",
       "         2.50000000e-01, -1.25000000e-01,  6.25000000e-02,\n",
       "        -3.12500000e-02,  1.56250000e-02, -7.81250000e-03,\n",
       "         3.90625000e-03, -1.95312500e-03,  9.76562500e-04,\n",
       "        -4.88281250e-04,  2.44140625e-04, -1.22070312e-04,\n",
       "         6.10351562e-05, -3.05175781e-05,  1.52587891e-05,\n",
       "        -7.62939453e-06,  3.81469727e-06, -1.90734863e-06]])"
      ]
     },
     "execution_count": 53,
     "metadata": {},
     "output_type": "execute_result"
    }
   ],
   "source": [
    "deg_1_sqnc(-1,-1,21)"
   ]
  },
  {
   "cell_type": "markdown",
   "metadata": {},
   "source": [
    "## Quadratic Case"
   ]
  },
  {
   "cell_type": "code",
   "execution_count": 4,
   "metadata": {},
   "outputs": [],
   "source": [
    "def deg_2_array(a_min,a_max,b_min,b_max,seq_length):\n",
    "    a_len = a_max+1 - a_min\n",
    "    b_len = b_max+1 - b_min\n",
    "    \n",
    "    a_range = np.arange(a_min, a_max+1)\n",
    "    b_range = np.arange(b_min, b_max+1)\n",
    "    u_range = np.arange(seq_length)\n",
    "    v_range = u_range\n",
    "    \n",
    "    au_squared_matrix = np.multiply.outer(a_range, u_range*u_range) # a x u\n",
    "    au_tensor = np.broadcast_to(au_squared_matrix,(seq_length,b_len,a_len,seq_length)) # k x b x a x k\n",
    "    #k,b,a,k --> a,b,k,k\n",
    "    \n",
    "    bu_matrix = np.multiply.outer(b_range,u_range) # b_len x seq_length\n",
    "    buv_matrix = np.multiply.outer(bu_matrix,v_range) # b_len x seq_len x seq_len\n",
    "    buv_tensor = np.broadcast_to(buv_matrix,(a_len,b_len,seq_length,seq_length))\n",
    "    \n",
    "    corrected_au_tensor = np.swapaxes(au_tensor, 0,2)\n",
    "    #corrected_buv_tensor = np.swapaxes(buv_tensor, 2,3)\n",
    "    \n",
    "    tensor = corrected_au_tensor + buv_tensor\n",
    "    \n",
    "    P_array = np.swapaxes(tensor, 2,3)\n",
    "    \n",
    "    return P_array\n",
    "\n",
    "\n",
    "def deg_2_sqnc(a_min,a_max,b_min,b_max,seq_length):\n",
    "    a_len = a_max+1 - a_min\n",
    "    b_len = b_max+1 - b_min\n",
    "    \n",
    "    coeff_array = deg_2_array(a_min,a_max,b_min,b_max,seq_length)\n",
    "    seq = np.zeros(seq_length)\n",
    "    seq[1] = 1\n",
    "    seq_array = np.broadcast_to(seq, (a_len,b_len,seq_length)).copy()\n",
    "    \n",
    "    flipped_array = coeff_array[:,:,::-1,:]\n",
    "    for n in range(2,seq_length):\n",
    "        diag = np.diagonal(flipped_array, -seq_length+n+1, axis1 = 2, axis2 = 3)[:,:,1:n]\n",
    "        vec_A = diag*seq_array[:,:,1:n]\n",
    "        vec_B = seq_array[:,:,n-1:0:-1]\n",
    "        seq_array[:,:,n] = (1/((n*n)*(n-1)))*np.sum(vec_A*vec_B,axis=2)\n",
    "    \n",
    "    return seq_array"
   ]
  },
  {
   "cell_type": "code",
   "execution_count": 5,
   "metadata": {},
   "outputs": [
    {
     "data": {
      "text/plain": [
       "array([[[ 0.,  1.,  3.,  4.,  7.,  6., 12.,  8., 15., 13., 18., 12.,\n",
       "         28., 14., 24., 24., 31., 18., 39., 20., 42.]]])"
      ]
     },
     "execution_count": 5,
     "metadata": {},
     "output_type": "execute_result"
    }
   ],
   "source": [
    "deg_2_sqnc(-24,-24,36,36,21)"
   ]
  },
  {
   "cell_type": "markdown",
   "metadata": {},
   "source": [
    "## Cubic Case"
   ]
  },
  {
   "cell_type": "code",
   "execution_count": 7,
   "metadata": {},
   "outputs": [],
   "source": [
    "def deg_3_array(a_min,a_max,b_min,b_max,seq_length):\n",
    "    a_len = a_max+1 - a_min\n",
    "    b_len = b_max+1 - b_min\n",
    "    \n",
    "    a_range = np.arange(a_min, a_max+1)\n",
    "    b_range = np.arange(b_min, b_max+1)\n",
    "    u_range = np.arange(seq_length)\n",
    "    v_range = u_range\n",
    "    \n",
    "    au_squared_matrix = np.multiply.outer(a_range, u_range*u_range*u_range) # a x u^3\n",
    "    au_tensor = np.broadcast_to(au_squared_matrix,(seq_length,b_len,a_len,seq_length)) # k x b x a x k\n",
    "    #k,b,a,k --> a,b,k,k\n",
    "    \n",
    "    bu_matrix = np.multiply.outer(b_range,u_range*u_range) # b x u^2\n",
    "    buv_matrix = np.multiply.outer(bu_matrix,v_range) # b x u^2 x v\n",
    "    buv_tensor = np.broadcast_to(buv_matrix,(a_len,b_len,seq_length,seq_length)) # a x b x k x k\n",
    "    \n",
    "    corrected_au_tensor = np.swapaxes(au_tensor, 0,2)\n",
    "    #corrected_buv_tensor = np.swapaxes(buv_tensor, 2,3)\n",
    "    \n",
    "    tensor = corrected_au_tensor + buv_tensor\n",
    "    \n",
    "    P_array = np.swapaxes(tensor, 2,3)\n",
    "    \n",
    "    return P_array\n",
    "\n",
    "\n",
    "def deg_3_sqnc(a_min,a_max,b_min,b_max,seq_length):\n",
    "    a_len = a_max+1 - a_min\n",
    "    b_len = b_max+1 - b_min\n",
    "    \n",
    "    coeff_array = deg_3_array(a_min,a_max,b_min,b_max,seq_length)\n",
    "    seq = np.zeros(seq_length)\n",
    "    seq[1] = 1\n",
    "    seq_array = np.broadcast_to(seq, (a_len,b_len,seq_length)).copy()\n",
    "    \n",
    "    flipped_array = coeff_array[:,:,::-1,:]\n",
    "    for n in range(2,seq_length):\n",
    "        diag = np.diagonal(flipped_array, -seq_length+n+1, axis1 = 2, axis2 = 3)[:,:,1:n]\n",
    "        vec_A = diag*seq_array[:,:,1:n]\n",
    "        vec_B = seq_array[:,:,n-1:0:-1]\n",
    "        seq_array[:,:,n] = (1/((n**3)*(n-1)))*np.sum(vec_A*vec_B,axis=2)\n",
    "    \n",
    "    return seq_array"
   ]
  },
  {
   "cell_type": "code",
   "execution_count": 9,
   "metadata": {},
   "outputs": [
    {
     "data": {
      "text/plain": [
       "array([[[ 0.,  1.,  3.,  4.,  7.,  6., 12.,  8., 15., 13., 18., 12.,\n",
       "         28., 14., 24., 24., 31., 18., 39., 20., 42.]]])"
      ]
     },
     "execution_count": 9,
     "metadata": {},
     "output_type": "execute_result"
    }
   ],
   "source": [
    "deg_3_sqnc(-24,-24,48,48,21)"
   ]
  },
  {
   "cell_type": "markdown",
   "metadata": {},
   "source": [
    "## Catalan Numbers"
   ]
  },
  {
   "cell_type": "code",
   "execution_count": 10,
   "metadata": {},
   "outputs": [],
   "source": [
    "def catalan(length):\n",
    "    catlist = np.zeros(length)\n",
    "    catlist[1] = 1\n",
    "    for n in range(2,length):\n",
    "        vec_A = catlist[1:n]\n",
    "        vec_B = catlist[n-1:0:-1]\n",
    "        catlist[n] = np.dot(vec_A,vec_B)\n",
    "\n",
    "    return catlist"
   ]
  },
  {
   "cell_type": "code",
   "execution_count": 11,
   "metadata": {
    "scrolled": true
   },
   "outputs": [
    {
     "data": {
      "text/plain": [
       "array([0.00000000e+00, 1.00000000e+00, 1.00000000e+00, 2.00000000e+00,\n",
       "       5.00000000e+00, 1.40000000e+01, 4.20000000e+01, 1.32000000e+02,\n",
       "       4.29000000e+02, 1.43000000e+03, 4.86200000e+03, 1.67960000e+04,\n",
       "       5.87860000e+04, 2.08012000e+05, 7.42900000e+05, 2.67444000e+06,\n",
       "       9.69484500e+06, 3.53576700e+07, 1.29644790e+08, 4.77638700e+08,\n",
       "       1.76726319e+09])"
      ]
     },
     "execution_count": 11,
     "metadata": {},
     "output_type": "execute_result"
    }
   ],
   "source": [
    "catalan(21)"
   ]
  },
  {
   "cell_type": "markdown",
   "metadata": {},
   "source": [
    "## Checking for Geometric Sequences"
   ]
  },
  {
   "cell_type": "code",
   "execution_count": 56,
   "metadata": {},
   "outputs": [],
   "source": [
    "def array_div(A): # input is 3d array\n",
    "    if len(A.shape) == 2:\n",
    "        orig_sqnc_len = A.shape[1]\n",
    "        \n",
    "        shift_1 = A[:,2::]\n",
    "        shift_2 = A[:,1:-1]\n",
    "        \n",
    "        div_array = np.divide(shift_1,shift_2, out=np.full_like(shift_1,np.nan), where=shift_2!=0)\n",
    "        \n",
    "        return div_array\n",
    "    \n",
    "    elif len(A.shape) == 3:\n",
    "        orig_sqnc_len = A.shape[2]\n",
    "\n",
    "        shift_1 = A[:,:,2::] # starts each sequence at their second index\n",
    "        shift_2 = A[:,:,1:-1] # then at their first index\n",
    "\n",
    "        div_array = np.divide(shift_1,shift_2, out=np.full_like(shift_1,np.nan), where=shift_2!=0)\n",
    "        # puts a zero wherever it had to divide by zero\n",
    "\n",
    "        return div_array\n",
    "    \n",
    "    elif len(A.shape) == 4:\n",
    "        orig_sqnc_len = A.shape[3]\n",
    "        \n",
    "        shift_1 = A[:,:,:,2::]\n",
    "        shift_2 = A[:,:,:,1:-1]\n",
    "        \n",
    "        div_array = np.divide(shift_1,shift_2, out=np.full_like(shift_1,np.nan), where=shift_2!=0)\n",
    "        \n",
    "        return div_array"
   ]
  },
  {
   "cell_type": "code",
   "execution_count": 73,
   "metadata": {},
   "outputs": [],
   "source": [
    "def geom_sqnc_check(A,a_min=0,b_min=0,c_min=0): # need those extra inputs to get the a and b values correct in the tuples\n",
    "    np.seterr(all=\"ignore\")\n",
    "   \n",
    "    quot_array = array_div(A)\n",
    "    \n",
    "    if len(A.shape) == 2:\n",
    "        bool_array = (np.abs(quot_array[:,:-1] - quot_array[:,1:]) < 1e-5).sum(axis=1) == (quot_array.shape[1]-1)\n",
    "        \n",
    "        a_coords = np.where(bool_array)[0]\n",
    "        length = len(a_coords)\n",
    "        coord_list = [(a_coords[n]+a_min,a_coords[n]) for n in range(length)]\n",
    "        \n",
    "        return coord_list\n",
    "    \n",
    "    elif len(A.shape) == 3:\n",
    "        bool_array = (np.abs(quot_array[:,:,:-1] - quot_array[:,:,1:]) < 1e-5).sum(axis=2) == (quot_array.shape[2]-1)\n",
    "\n",
    "        arrays = np.where(bool_array)\n",
    "        a_coords = arrays[0]\n",
    "        b_coords = arrays[1]\n",
    "        length = len(a_coords)\n",
    "        coord_list = [(a_coords[n]+a_min,b_coords[n]+b_min,a_coords[n],b_coords[n]) for n in range(length)]\n",
    "        # I wanted to include the indices as well so it's easier to find in the array\n",
    "\n",
    "        return coord_list\n",
    "    \n",
    "    elif len(A.shape) == 4:\n",
    "        bool_array = (np.abs(quot_array[:,:,:,:-1] - quot_array[:,:,:,1:]) < 1e-5).sum(axis=3) == (quot_array.shape[3]-1)\n",
    "        \n",
    "        arrays = np.where(bool_array)\n",
    "        a_coords = arrays[0]\n",
    "        b_coords = arrays[1]\n",
    "        c_coords = arrays[2]\n",
    "        length = len(a_coords)\n",
    "        coord_list = [(a_coords[n]+a_min,b_coords[n]+b_min,c_coords[n]+c_min) for n in range(length)]\n",
    "        # Just letting the tuple be (a,b,c) or else it'll get really cluttered\n",
    "        \n",
    "        return coord_list"
   ]
  },
  {
   "cell_type": "code",
   "execution_count": 102,
   "metadata": {},
   "outputs": [
    {
     "data": {
      "text/plain": [
       "[(-10, -10, 0, 0),\n",
       " (-9, -9, 1, 1),\n",
       " (-8, -8, 2, 2),\n",
       " (-7, -7, 3, 3),\n",
       " (-6, -6, 4, 4),\n",
       " (-5, -5, 5, 5),\n",
       " (-4, -4, 6, 6),\n",
       " (-3, -3, 7, 7),\n",
       " (-2, -2, 8, 8),\n",
       " (-1, -1, 9, 9),\n",
       " (1, 1, 11, 11),\n",
       " (2, 2, 12, 12),\n",
       " (3, 3, 13, 13),\n",
       " (4, 4, 14, 14),\n",
       " (5, 5, 15, 15),\n",
       " (6, 6, 16, 16),\n",
       " (7, 7, 17, 17),\n",
       " (8, 8, 18, 18),\n",
       " (9, 9, 19, 19),\n",
       " (10, 10, 20, 20)]"
      ]
     },
     "execution_count": 102,
     "metadata": {},
     "output_type": "execute_result"
    }
   ],
   "source": [
    "A = deg_2_sqnc(-10,10,-10,10,21)\n",
    "geom_sqnc_check(A,-10,-10,-10)"
   ]
  },
  {
   "cell_type": "raw",
   "metadata": {},
   "source": [
    "A[7,1]"
   ]
  },
  {
   "cell_type": "code",
   "execution_count": 69,
   "metadata": {
    "scrolled": false
   },
   "outputs": [
    {
     "data": {
      "text/plain": [
       "[(-10, 0),\n",
       " (-9, 1),\n",
       " (-8, 2),\n",
       " (-7, 3),\n",
       " (-6, 4),\n",
       " (-5, 5),\n",
       " (-4, 6),\n",
       " (-3, 7),\n",
       " (-2, 8),\n",
       " (-1, 9),\n",
       " (1, 11),\n",
       " (2, 12),\n",
       " (3, 13),\n",
       " (4, 14),\n",
       " (5, 15),\n",
       " (6, 16),\n",
       " (7, 17),\n",
       " (8, 18),\n",
       " (9, 19),\n",
       " (10, 20)]"
      ]
     },
     "execution_count": 69,
     "metadata": {},
     "output_type": "execute_result"
    }
   ],
   "source": [
    "geom_sqnc_check(deg_1_sqnc(-10,10,21),-10)"
   ]
  },
  {
   "cell_type": "code",
   "execution_count": 70,
   "metadata": {},
   "outputs": [
    {
     "data": {
      "text/plain": [
       "array([[336.5, 336.5, 336.5, 336.5, 336.5, 336.5, 336.5, 336.5, 336.5,\n",
       "        336.5, 336.5, 336.5, 336.5, 336.5, 336.5, 336.5, 336.5, 336.5,\n",
       "        336.5]])"
      ]
     },
     "execution_count": 70,
     "metadata": {},
     "output_type": "execute_result"
    }
   ],
   "source": [
    "array_div(deg_1_sqnc(673,673,21)) # a = 1000, b = -327"
   ]
  },
  {
   "cell_type": "markdown",
   "metadata": {},
   "source": [
    "It looks like the linear case *only* produces geometric sequences!"
   ]
  },
  {
   "cell_type": "code",
   "execution_count": 71,
   "metadata": {},
   "outputs": [
    {
     "data": {
      "text/plain": [
       "[(-10, -10, 0, 0),\n",
       " (-9, -9, 1, 1),\n",
       " (-8, -8, 2, 2),\n",
       " (-7, -7, 3, 3),\n",
       " (-6, -6, 4, 4),\n",
       " (-5, -5, 5, 5),\n",
       " (-4, -4, 6, 6),\n",
       " (-3, -3, 7, 7),\n",
       " (-2, -2, 8, 8),\n",
       " (-1, -1, 9, 9),\n",
       " (1, 1, 11, 11),\n",
       " (2, 2, 12, 12),\n",
       " (3, 3, 13, 13),\n",
       " (4, 4, 14, 14),\n",
       " (5, 5, 15, 15),\n",
       " (6, 6, 16, 16),\n",
       " (7, 7, 17, 17),\n",
       " (8, 8, 18, 18),\n",
       " (9, 9, 19, 19),\n",
       " (10, 10, 20, 20)]"
      ]
     },
     "execution_count": 71,
     "metadata": {},
     "output_type": "execute_result"
    }
   ],
   "source": [
    "geom_sqnc_check(deg_2_sqnc(-10,10,-10,10,21),-10,-10)"
   ]
  },
  {
   "cell_type": "code",
   "execution_count": 60,
   "metadata": {},
   "outputs": [
    {
     "data": {
      "text/plain": [
       "(21, 21, 21, 19)"
      ]
     },
     "execution_count": 60,
     "metadata": {},
     "output_type": "execute_result"
    }
   ],
   "source": [
    "array_div(deg_4_sqnc(-10,10,-10,10,-10,10,21)).shape"
   ]
  },
  {
   "cell_type": "code",
   "execution_count": 18,
   "metadata": {},
   "outputs": [
    {
     "data": {
      "text/plain": [
       "array([3., 3., 3., 3., 3., 3., 3., 3., 3., 3., 3., 3., 3., 3., 3., 3., 3.,\n",
       "       3., 3.])"
      ]
     },
     "execution_count": 18,
     "metadata": {},
     "output_type": "execute_result"
    }
   ],
   "source": [
    "array_div(deg_2_sqnc(-10,10,-10,10,21))[16,16]"
   ]
  },
  {
   "cell_type": "code",
   "execution_count": 19,
   "metadata": {},
   "outputs": [
    {
     "data": {
      "text/plain": [
       "array([ 0., nan, nan, nan, nan, nan, nan, nan, nan, nan, nan, nan, nan,\n",
       "       nan, nan, nan, nan, nan, nan])"
      ]
     },
     "execution_count": 19,
     "metadata": {},
     "output_type": "execute_result"
    }
   ],
   "source": [
    "array_div(deg_2_sqnc(-10,10,-10,10,21))[16,4]"
   ]
  },
  {
   "cell_type": "markdown",
   "metadata": {},
   "source": [
    "Looks like the quadratic function produces a geometric sequence for each ordered pair $(a,b) = (a,a)$ and sequences of zeros for $(a,b) = (a,-a)$, $a \\in \\mathbb{Z}$."
   ]
  },
  {
   "cell_type": "code",
   "execution_count": 20,
   "metadata": {},
   "outputs": [
    {
     "data": {
      "text/plain": [
       "[(-16, -48, 14, 2),\n",
       " (-15, -45, 15, 5),\n",
       " (-14, -42, 16, 8),\n",
       " (-13, -39, 17, 11),\n",
       " (-12, -36, 18, 14),\n",
       " (-11, -33, 19, 17),\n",
       " (-10, -30, 20, 20),\n",
       " (-9, -27, 21, 23),\n",
       " (-8, -24, 22, 26),\n",
       " (-7, -21, 23, 29),\n",
       " (-6, -18, 24, 32),\n",
       " (-5, -15, 25, 35),\n",
       " (-4, -12, 26, 38),\n",
       " (-3, -9, 27, 41),\n",
       " (-2, -6, 28, 44),\n",
       " (-1, -3, 29, 47),\n",
       " (1, 3, 31, 53),\n",
       " (2, 6, 32, 56),\n",
       " (3, 9, 33, 59),\n",
       " (4, 12, 34, 62),\n",
       " (5, 15, 35, 65),\n",
       " (6, 18, 36, 68),\n",
       " (7, 21, 37, 71),\n",
       " (8, 24, 38, 74),\n",
       " (9, 27, 39, 77),\n",
       " (10, 30, 40, 80),\n",
       " (11, 33, 41, 83),\n",
       " (12, 36, 42, 86),\n",
       " (13, 39, 43, 89),\n",
       " (14, 42, 44, 92),\n",
       " (15, 45, 45, 95),\n",
       " (16, 48, 46, 98)]"
      ]
     },
     "execution_count": 20,
     "metadata": {},
     "output_type": "execute_result"
    }
   ],
   "source": [
    "geom_sqnc_check(deg_3_sqnc(-30,30,-50,50,21),-30,-50)"
   ]
  },
  {
   "cell_type": "code",
   "execution_count": 21,
   "metadata": {},
   "outputs": [
    {
     "data": {
      "text/plain": [
       "array([[[ 0.,  1.,  3.,  4.,  7.,  6., 12.,  8., 15., 13., 18., 12.,\n",
       "         28., 14., 24., 24., 31., 18., 39., 20., 42.]]])"
      ]
     },
     "execution_count": 21,
     "metadata": {},
     "output_type": "execute_result"
    }
   ],
   "source": [
    "deg_3_sqnc(-24,-24,48,48,21) # finding our original sigma_n in the cubics"
   ]
  },
  {
   "cell_type": "markdown",
   "metadata": {},
   "source": [
    "## Some Ideas\n",
    "\n",
    "After finding a function that finds the geometric sequences, try dividing everything by sequences of catalan numbers or sequences of sums of factors, then put it through the function. This way we can pinpoint the combo-sequences."
   ]
  },
  {
   "cell_type": "markdown",
   "metadata": {},
   "source": [
    "### Finding Combo Sequences with $\\sigma_n$"
   ]
  },
  {
   "cell_type": "code",
   "execution_count": 22,
   "metadata": {},
   "outputs": [
    {
     "data": {
      "text/plain": [
       "[(-26, 39, 14, 79),\n",
       " (-24, 36, 16, 76),\n",
       " (-22, 33, 18, 73),\n",
       " (-20, 30, 20, 70),\n",
       " (-18, 27, 22, 67),\n",
       " (-16, 24, 24, 64),\n",
       " (-14, 21, 26, 61),\n",
       " (-12, 18, 28, 58),\n",
       " (-10, 15, 30, 55),\n",
       " (-8, 12, 32, 52),\n",
       " (-6, 9, 34, 49),\n",
       " (-4, 6, 36, 46),\n",
       " (-2, 3, 38, 43),\n",
       " (2, -3, 42, 37),\n",
       " (4, -6, 44, 34),\n",
       " (6, -9, 46, 31),\n",
       " (8, -12, 48, 28),\n",
       " (10, -15, 50, 25),\n",
       " (12, -18, 52, 22),\n",
       " (14, -21, 54, 19),\n",
       " (16, -24, 56, 16),\n",
       " (18, -27, 58, 13),\n",
       " (20, -30, 60, 10),\n",
       " (22, -33, 62, 7),\n",
       " (24, -36, 64, 4),\n",
       " (26, -39, 66, 1)]"
      ]
     },
     "execution_count": 22,
     "metadata": {},
     "output_type": "execute_result"
    }
   ],
   "source": [
    "divsigma = deg_2_sqnc(-40,40,-40,40,21)\n",
    "sigma = deg_2_sqnc(-24,-24,36,36,21)\n",
    "divsigma[:,:,1::] = divsigma[:,:,1::]/sigma[:,:,1::]\n",
    "\n",
    "geom_sqnc_check(divsigma,-40,-40)"
   ]
  },
  {
   "cell_type": "markdown",
   "metadata": {},
   "source": [
    "First look at possible combo-sequences:"
   ]
  },
  {
   "cell_type": "code",
   "execution_count": 23,
   "metadata": {},
   "outputs": [
    {
     "data": {
      "text/plain": [
       "array([1.08333333, 1.08333333, 1.08333333, 1.08333333, 1.08333333,\n",
       "       1.08333333, 1.08333333, 1.08333333, 1.08333333, 1.08333333,\n",
       "       1.08333333, 1.08333333, 1.08333333, 1.08333333, 1.08333333,\n",
       "       1.08333333, 1.08333333, 1.08333333, 1.08333333])"
      ]
     },
     "execution_count": 23,
     "metadata": {},
     "output_type": "execute_result"
    }
   ],
   "source": [
    "array_div(divsigma)[14,79] # a = -26, b = 39"
   ]
  },
  {
   "cell_type": "markdown",
   "metadata": {},
   "source": [
    "Looks like $\\big\\{\\left(\\frac{13}{12}\\right)^n\\big\\}$ for $a = -26$ and $b = 39$. Now to look at the original sequence in that place:"
   ]
  },
  {
   "cell_type": "code",
   "execution_count": 24,
   "metadata": {},
   "outputs": [
    {
     "data": {
      "text/plain": [
       "array([  0.        ,   1.        ,   3.25      ,   4.69444444,\n",
       "         8.89988426,   8.26417824,  17.90571952,  12.93190854,\n",
       "        26.26793923,  24.66267628,  36.99401441,  26.7178993 ,\n",
       "        67.53691212,  36.58249406,  67.93891755,  73.60049401,\n",
       "       102.98958016,  64.78376816, 152.06190027,  84.47883348,\n",
       "       192.18934618])"
      ]
     },
     "execution_count": 24,
     "metadata": {},
     "output_type": "execute_result"
    }
   ],
   "source": [
    "deg_2_sqnc(-40,40,-40,40,21)[14,79]"
   ]
  },
  {
   "cell_type": "code",
   "execution_count": 25,
   "metadata": {
    "scrolled": true
   },
   "outputs": [
    {
     "data": {
      "text/plain": [
       "array([-1.5       , -0.66666667, -0.875     , -0.42857143, -1.        ,\n",
       "       -0.33333333, -0.9375    , -0.43333333, -0.69230769, -0.33333333,\n",
       "       -1.16666667, -0.25      , -0.85714286, -0.5       , -0.64583333,\n",
       "       -0.29032258, -1.08333333, -0.25641026, -1.05      ])"
      ]
     },
     "execution_count": 25,
     "metadata": {},
     "output_type": "execute_result"
    }
   ],
   "source": [
    "array_div(deg_2_sqnc(-40,40,-40,40,21))[52,22]"
   ]
  },
  {
   "cell_type": "code",
   "execution_count": 26,
   "metadata": {},
   "outputs": [
    {
     "data": {
      "text/plain": [
       "array([-0.5, -0.5, -0.5, -0.5, -0.5, -0.5, -0.5, -0.5, -0.5, -0.5, -0.5,\n",
       "       -0.5, -0.5, -0.5, -0.5, -0.5, -0.5, -0.5, -0.5])"
      ]
     },
     "execution_count": 26,
     "metadata": {},
     "output_type": "execute_result"
    }
   ],
   "source": [
    "array_div(divsigma)[52,22]"
   ]
  },
  {
   "cell_type": "markdown",
   "metadata": {},
   "source": [
    "Looks pretty evident that $a = 12$, $b = -18$ $\\Rightarrow$ $\\{-0.5^n\\}\\times\\sigma(n)$. Now to find some more:"
   ]
  },
  {
   "cell_type": "code",
   "execution_count": 27,
   "metadata": {},
   "outputs": [
    {
     "data": {
      "text/plain": [
       "array([0.75, 0.75, 0.75, 0.75, 0.75, 0.75, 0.75, 0.75, 0.75, 0.75, 0.75,\n",
       "       0.75, 0.75, 0.75, 0.75, 0.75, 0.75, 0.75, 0.75])"
      ]
     },
     "execution_count": 27,
     "metadata": {},
     "output_type": "execute_result"
    }
   ],
   "source": [
    "array_div(divsigma)[22,67]"
   ]
  },
  {
   "cell_type": "markdown",
   "metadata": {},
   "source": [
    "$a = -18$, $b = 27$ $\\Rightarrow$ $\\{0.75^n\\}\\times\\sigma(n)$."
   ]
  },
  {
   "cell_type": "code",
   "execution_count": 28,
   "metadata": {},
   "outputs": [
    {
     "data": {
      "text/plain": [
       "array([0.25, 0.25, 0.25, 0.25, 0.25, 0.25, 0.25, 0.25, 0.25, 0.25, 0.25,\n",
       "       0.25, 0.25, 0.25, 0.25, 0.25, 0.25, 0.25, 0.25])"
      ]
     },
     "execution_count": 28,
     "metadata": {},
     "output_type": "execute_result"
    }
   ],
   "source": [
    "array_div(divsigma)[34, 49]"
   ]
  },
  {
   "cell_type": "markdown",
   "metadata": {},
   "source": [
    "$a = -6, b = 9$ $\\Rightarrow$ $\\{0.25^n\\}\\times\\sigma(n)$"
   ]
  },
  {
   "cell_type": "code",
   "execution_count": 29,
   "metadata": {},
   "outputs": [
    {
     "data": {
      "text/plain": [
       "array([1., 1., 1., 1., 1., 1., 1., 1., 1., 1., 1., 1., 1., 1., 1., 1., 1.,\n",
       "       1., 1.])"
      ]
     },
     "execution_count": 29,
     "metadata": {},
     "output_type": "execute_result"
    }
   ],
   "source": [
    "array_div(divsigma)[16, 76] # this is just where sigma_n would be"
   ]
  },
  {
   "cell_type": "code",
   "execution_count": 30,
   "metadata": {},
   "outputs": [
    {
     "data": {
      "text/plain": [
       "array([0.08333333, 0.08333333, 0.08333333, 0.08333333, 0.08333333,\n",
       "       0.08333333, 0.08333333, 0.08333333, 0.08333333, 0.08333333,\n",
       "       0.08333333, 0.08333333, 0.08333333, 0.08333333, 0.08333333,\n",
       "       0.08333333, 0.08333333, 0.08333333, 0.08333333])"
      ]
     },
     "execution_count": 30,
     "metadata": {},
     "output_type": "execute_result"
    }
   ],
   "source": [
    "array_div(divsigma)[38,43] # 0.08333333... = 1/12"
   ]
  },
  {
   "cell_type": "markdown",
   "metadata": {},
   "source": [
    "$a = -2, \\ b = 3 \\ \\Rightarrow \\ \\big\\{\\left(\\frac{1}{12}\\right)^n\\big\\}\\times\\sigma(n)$. Didn't want to show up from the function because of floating point inconsistencies."
   ]
  },
  {
   "cell_type": "code",
   "execution_count": 31,
   "metadata": {},
   "outputs": [
    {
     "data": {
      "text/plain": [
       "array([0.5, 0.5, 0.5, 0.5, 0.5, 0.5, 0.5, 0.5, 0.5, 0.5, 0.5, 0.5, 0.5,\n",
       "       0.5, 0.5, 0.5, 0.5, 0.5, 0.5])"
      ]
     },
     "execution_count": 31,
     "metadata": {},
     "output_type": "execute_result"
    }
   ],
   "source": [
    "array_div(divsigma)[28,58]"
   ]
  },
  {
   "cell_type": "markdown",
   "metadata": {},
   "source": [
    "$a = -12$, $b = 18$ $\\Rightarrow$ $\\{0.5^n\\}\\times\\sigma(n)$"
   ]
  },
  {
   "cell_type": "code",
   "execution_count": 32,
   "metadata": {},
   "outputs": [
    {
     "data": {
      "text/plain": [
       "array([-0.75, -0.75, -0.75, -0.75, -0.75, -0.75, -0.75, -0.75, -0.75,\n",
       "       -0.75, -0.75, -0.75, -0.75, -0.75, -0.75, -0.75, -0.75, -0.75,\n",
       "       -0.75])"
      ]
     },
     "execution_count": 32,
     "metadata": {},
     "output_type": "execute_result"
    }
   ],
   "source": [
    "array_div(divsigma)[58,13]"
   ]
  },
  {
   "cell_type": "markdown",
   "metadata": {},
   "source": [
    "$a = 18$, $b = -27$ $\\Rightarrow$ $\\{-0.75^n\\}\\times\\sigma(n)$."
   ]
  },
  {
   "cell_type": "code",
   "execution_count": 33,
   "metadata": {},
   "outputs": [
    {
     "data": {
      "text/plain": [
       "array([0.16666667, 0.16666667, 0.16666667, 0.16666667, 0.16666667,\n",
       "       0.16666667, 0.16666667, 0.16666667, 0.16666667, 0.16666667,\n",
       "       0.16666667, 0.16666667, 0.16666667, 0.16666667, 0.16666667,\n",
       "       0.16666667, 0.16666667, 0.16666667, 0.16666667])"
      ]
     },
     "execution_count": 33,
     "metadata": {},
     "output_type": "execute_result"
    }
   ],
   "source": [
    "array_div(divsigma)[36,46] # 0.166666... = 1/6"
   ]
  },
  {
   "cell_type": "markdown",
   "metadata": {},
   "source": [
    "$a = -4, \\ b = 6 \\ \\Rightarrow \\big\\{\\left(\\frac{1}{6}\\right)^n\\big\\}\\times\\sigma(n)$"
   ]
  },
  {
   "cell_type": "markdown",
   "metadata": {},
   "source": [
    "What I'm seeing is that, for $\\tau(n) = \\frac{1}{n^2(n-1)}\\sum_{u+v=n}(au^2+buv)\\tau(u)\\tau(v)$, $(a,b)=(a,a)$ produces a geometric sequence $\\{\\rho^n\\}$ for $\\rho \\in \\mathbb{Q}$, $(a,b) = (-24,36)$ produces $\\sigma(n)$, and $(a,b) = (-2k,3k)$ for $k \\in \\mathbb{Z}$ produces some sequence $\\{\\rho^n\\}\\times\\sigma(n)$. The next step would be to connect $a$ and $\\rho$ as well as $k$ and $\\rho$."
   ]
  },
  {
   "cell_type": "markdown",
   "metadata": {},
   "source": [
    "# Next Stuff\n",
    "\n",
    "Play with other denominators, like $\\frac{1}{n^3}$ or $\\frac{1}{n(n-1)(n-2)}$. Also extend search to higher degree polynomials - quartics, quintics, etc. Put together a function that checks for sequences of integers."
   ]
  },
  {
   "cell_type": "markdown",
   "metadata": {},
   "source": [
    "### Integer Sequence Checker"
   ]
  },
  {
   "cell_type": "code",
   "execution_count": 109,
   "metadata": {},
   "outputs": [],
   "source": [
    "def int_sqnc_check(A,a_min=0,b_min=0,c_min=0):\n",
    "    if len(A.shape) == 2:\n",
    "        bool_array = (np.abs(A - np.around(A)) < 1e-5).sum(axis=1) >= (A.shape[1]-1)\n",
    "\n",
    "        a_coords = np.where(bool_array)[0]\n",
    "        length = len(a_coords)\n",
    "        coord_list = [(a_coords[n]+a_min,a_coords[n]) for n in range(length)]\n",
    "\n",
    "        return coord_list\n",
    "    \n",
    "    elif len(A.shape) == 3:\n",
    "        bool_array = (np.abs(A - np.around(A)) < 1e-5).sum(axis=2) >= (A.shape[2]-1)\n",
    "\n",
    "        arrays = np.where(bool_array)\n",
    "        a_coords = arrays[0]\n",
    "        b_coords = arrays[1]\n",
    "        length = len(a_coords)\n",
    "        coord_list = [(a_coords[n]+a_min,b_coords[n]+b_min,a_coords[n],b_coords[n]) for n in range(length)]\n",
    "\n",
    "        return coord_list\n",
    "    \n",
    "    elif len(A.shape) == 4:\n",
    "        bool_array = (np.abs(A - np.around(A)) < 1e-5).sum(axis=3) >= (A.shape[3]-1)\n",
    "\n",
    "        arrays = np.where(bool_array)\n",
    "        a_coords = arrays[0]\n",
    "        b_coords = arrays[1]\n",
    "        c_coords = arrays[2]\n",
    "        length = len(a_coords)\n",
    "        coord_list = [(a_coords[n]+a_min,b_coords[n]+b_min,c_coords[n]+c_min) for n in range(length)]\n",
    "\n",
    "        return coord_list"
   ]
  },
  {
   "cell_type": "code",
   "execution_count": 110,
   "metadata": {
    "scrolled": true
   },
   "outputs": [
    {
     "data": {
      "text/plain": [
       "[(-10, 0, 10),\n",
       " (-10, 1, 9),\n",
       " (-10, 2, 8),\n",
       " (-10, 3, 7),\n",
       " (-10, 4, 6),\n",
       " (-10, 5, 5),\n",
       " (-10, 6, 4),\n",
       " (-10, 7, 3),\n",
       " (-10, 8, 2),\n",
       " (-10, 9, 1),\n",
       " (-10, 10, 0),\n",
       " (-9, -1, 10),\n",
       " (-9, 0, 9),\n",
       " (-9, 1, 8),\n",
       " (-9, 2, 7),\n",
       " (-9, 3, 6),\n",
       " (-9, 4, 5),\n",
       " (-9, 5, 4),\n",
       " (-9, 6, 3),\n",
       " (-9, 7, 2),\n",
       " (-9, 8, 1),\n",
       " (-9, 9, 0),\n",
       " (-9, 10, -1),\n",
       " (-8, -2, 10),\n",
       " (-8, -1, 9),\n",
       " (-8, 0, 8),\n",
       " (-8, 1, 7),\n",
       " (-8, 2, 6),\n",
       " (-8, 3, 5),\n",
       " (-8, 4, 4),\n",
       " (-8, 5, 3),\n",
       " (-8, 6, 2),\n",
       " (-8, 7, 1),\n",
       " (-8, 8, 0),\n",
       " (-8, 9, -1),\n",
       " (-8, 10, -2),\n",
       " (-7, -3, 10),\n",
       " (-7, -2, 9),\n",
       " (-7, -1, 8),\n",
       " (-7, 0, 7),\n",
       " (-7, 1, 6),\n",
       " (-7, 2, 5),\n",
       " (-7, 3, 4),\n",
       " (-7, 4, 3),\n",
       " (-7, 5, 2),\n",
       " (-7, 6, 1),\n",
       " (-7, 7, 0),\n",
       " (-7, 8, -1),\n",
       " (-7, 9, -2),\n",
       " (-7, 10, -3),\n",
       " (-6, -4, 10),\n",
       " (-6, -3, 9),\n",
       " (-6, -2, 8),\n",
       " (-6, -1, 7),\n",
       " (-6, 0, 6),\n",
       " (-6, 1, 5),\n",
       " (-6, 2, 4),\n",
       " (-6, 3, 3),\n",
       " (-6, 4, 2),\n",
       " (-6, 5, 1),\n",
       " (-6, 6, 0),\n",
       " (-6, 7, -1),\n",
       " (-6, 8, -2),\n",
       " (-6, 9, -3),\n",
       " (-6, 10, -4),\n",
       " (-5, -5, 10),\n",
       " (-5, -4, 9),\n",
       " (-5, -3, 8),\n",
       " (-5, -2, 7),\n",
       " (-5, -1, 6),\n",
       " (-5, 0, 5),\n",
       " (-5, 1, 4),\n",
       " (-5, 2, 3),\n",
       " (-5, 3, 2),\n",
       " (-5, 4, 1),\n",
       " (-5, 5, 0),\n",
       " (-5, 6, -1),\n",
       " (-5, 7, -2),\n",
       " (-5, 8, -3),\n",
       " (-5, 9, -4),\n",
       " (-5, 10, -5),\n",
       " (-4, -6, 10),\n",
       " (-4, -5, 9),\n",
       " (-4, -4, 8),\n",
       " (-4, -3, 7),\n",
       " (-4, -2, 6),\n",
       " (-4, -1, 5),\n",
       " (-4, 0, 4),\n",
       " (-4, 1, 3),\n",
       " (-4, 2, 2),\n",
       " (-4, 3, 1),\n",
       " (-4, 4, 0),\n",
       " (-4, 5, -1),\n",
       " (-4, 6, -2),\n",
       " (-4, 7, -3),\n",
       " (-4, 8, -4),\n",
       " (-4, 9, -5),\n",
       " (-4, 10, -6),\n",
       " (-3, -7, 10),\n",
       " (-3, -6, 9),\n",
       " (-3, -5, 8),\n",
       " (-3, -4, 7),\n",
       " (-3, -3, 6),\n",
       " (-3, -2, 5),\n",
       " (-3, -1, 4),\n",
       " (-3, 0, 3),\n",
       " (-3, 1, 2),\n",
       " (-3, 2, 1),\n",
       " (-3, 3, 0),\n",
       " (-3, 4, -1),\n",
       " (-3, 5, -2),\n",
       " (-3, 6, -3),\n",
       " (-3, 7, -4),\n",
       " (-3, 8, -5),\n",
       " (-3, 9, -6),\n",
       " (-3, 10, -7),\n",
       " (-2, -8, -6),\n",
       " (-2, -8, 10),\n",
       " (-2, -7, 9),\n",
       " (-2, -6, 8),\n",
       " (-2, -5, 7),\n",
       " (-2, -4, 6),\n",
       " (-2, -3, 5),\n",
       " (-2, -2, 4),\n",
       " (-2, -1, 3),\n",
       " (-2, 0, 2),\n",
       " (-2, 1, 1),\n",
       " (-2, 2, 0),\n",
       " (-2, 3, -1),\n",
       " (-2, 4, -2),\n",
       " (-2, 5, -3),\n",
       " (-2, 6, -4),\n",
       " (-2, 7, -5),\n",
       " (-2, 8, -6),\n",
       " (-2, 9, -7),\n",
       " (-2, 10, -8),\n",
       " (-1, -9, 10),\n",
       " (-1, -8, 9),\n",
       " (-1, -7, 8),\n",
       " (-1, -6, 7),\n",
       " (-1, -5, 6),\n",
       " (-1, -4, 5),\n",
       " (-1, -3, 4),\n",
       " (-1, -2, 3),\n",
       " (-1, -1, 2),\n",
       " (-1, 0, 1),\n",
       " (-1, 1, 0),\n",
       " (-1, 2, -1),\n",
       " (-1, 3, -2),\n",
       " (-1, 4, -3),\n",
       " (-1, 5, -4),\n",
       " (-1, 6, -5),\n",
       " (-1, 7, -6),\n",
       " (-1, 8, -7),\n",
       " (-1, 9, -8),\n",
       " (-1, 10, -9),\n",
       " (0, -10, 10),\n",
       " (0, -9, 9),\n",
       " (0, -8, 8),\n",
       " (0, -7, 7),\n",
       " (0, -6, 6),\n",
       " (0, -5, 5),\n",
       " (0, -4, 4),\n",
       " (0, -3, 3),\n",
       " (0, -2, 2),\n",
       " (0, -1, 1),\n",
       " (0, 0, 0),\n",
       " (0, 1, -1),\n",
       " (0, 2, -2),\n",
       " (0, 3, -3),\n",
       " (0, 4, -4),\n",
       " (0, 5, -5),\n",
       " (0, 6, -6),\n",
       " (0, 7, -7),\n",
       " (0, 8, -8),\n",
       " (0, 9, -9),\n",
       " (0, 10, -10),\n",
       " (1, -10, 9),\n",
       " (1, -9, 8),\n",
       " (1, -8, 7),\n",
       " (1, -7, 6),\n",
       " (1, -6, 5),\n",
       " (1, -5, 4),\n",
       " (1, -4, 3),\n",
       " (1, -3, 2),\n",
       " (1, -2, 1),\n",
       " (1, -1, 0),\n",
       " (1, 0, -1),\n",
       " (1, 1, -2),\n",
       " (1, 2, -3),\n",
       " (1, 3, -4),\n",
       " (1, 4, -5),\n",
       " (1, 5, -6),\n",
       " (1, 6, -7),\n",
       " (1, 7, -8),\n",
       " (1, 8, -9),\n",
       " (1, 9, -10),\n",
       " (2, -10, 8),\n",
       " (2, -9, 7),\n",
       " (2, -8, 6),\n",
       " (2, -7, 5),\n",
       " (2, -6, 4),\n",
       " (2, -5, 3),\n",
       " (2, -4, 2),\n",
       " (2, -3, 1),\n",
       " (2, -2, 0),\n",
       " (2, -1, -1),\n",
       " (2, 0, -2),\n",
       " (2, 1, -3),\n",
       " (2, 2, -4),\n",
       " (2, 3, -5),\n",
       " (2, 4, -6),\n",
       " (2, 5, -7),\n",
       " (2, 6, -8),\n",
       " (2, 7, -9),\n",
       " (2, 8, -10),\n",
       " (2, 8, 6),\n",
       " (3, -10, 7),\n",
       " (3, -9, 6),\n",
       " (3, -8, 5),\n",
       " (3, -7, 4),\n",
       " (3, -6, 3),\n",
       " (3, -5, 2),\n",
       " (3, -4, 1),\n",
       " (3, -3, 0),\n",
       " (3, -2, -1),\n",
       " (3, -1, -2),\n",
       " (3, 0, -3),\n",
       " (3, 1, -4),\n",
       " (3, 2, -5),\n",
       " (3, 3, -6),\n",
       " (3, 4, -7),\n",
       " (3, 5, -8),\n",
       " (3, 6, -9),\n",
       " (3, 7, -10),\n",
       " (4, -10, 6),\n",
       " (4, -9, 5),\n",
       " (4, -8, 4),\n",
       " (4, -7, 3),\n",
       " (4, -6, 2),\n",
       " (4, -5, 1),\n",
       " (4, -4, 0),\n",
       " (4, -3, -1),\n",
       " (4, -2, -2),\n",
       " (4, -1, -3),\n",
       " (4, 0, -4),\n",
       " (4, 1, -5),\n",
       " (4, 2, -6),\n",
       " (4, 3, -7),\n",
       " (4, 4, -8),\n",
       " (4, 5, -9),\n",
       " (4, 6, -10),\n",
       " (5, -10, 5),\n",
       " (5, -9, 4),\n",
       " (5, -8, 3),\n",
       " (5, -7, 2),\n",
       " (5, -6, 1),\n",
       " (5, -5, 0),\n",
       " (5, -4, -1),\n",
       " (5, -3, -2),\n",
       " (5, -2, -3),\n",
       " (5, -1, -4),\n",
       " (5, 0, -5),\n",
       " (5, 1, -6),\n",
       " (5, 2, -7),\n",
       " (5, 3, -8),\n",
       " (5, 4, -9),\n",
       " (5, 5, -10),\n",
       " (6, -10, 4),\n",
       " (6, -9, 3),\n",
       " (6, -8, 2),\n",
       " (6, -7, 1),\n",
       " (6, -6, 0),\n",
       " (6, -5, -1),\n",
       " (6, -4, -2),\n",
       " (6, -3, -3),\n",
       " (6, -2, -4),\n",
       " (6, -1, -5),\n",
       " (6, 0, -6),\n",
       " (6, 1, -7),\n",
       " (6, 2, -8),\n",
       " (6, 3, -9),\n",
       " (6, 4, -10),\n",
       " (7, -10, 3),\n",
       " (7, -9, 2),\n",
       " (7, -8, 1),\n",
       " (7, -7, 0),\n",
       " (7, -6, -1),\n",
       " (7, -5, -2),\n",
       " (7, -4, -3),\n",
       " (7, -3, -4),\n",
       " (7, -2, -5),\n",
       " (7, -1, -6),\n",
       " (7, 0, -7),\n",
       " (7, 1, -8),\n",
       " (7, 2, -9),\n",
       " (7, 3, -10),\n",
       " (8, -10, 2),\n",
       " (8, -9, 1),\n",
       " (8, -8, 0),\n",
       " (8, -7, -1),\n",
       " (8, -6, -2),\n",
       " (8, -5, -3),\n",
       " (8, -4, -4),\n",
       " (8, -3, -5),\n",
       " (8, -2, -6),\n",
       " (8, -1, -7),\n",
       " (8, 0, -8),\n",
       " (8, 1, -9),\n",
       " (8, 2, -10),\n",
       " (9, -10, 1),\n",
       " (9, -9, 0),\n",
       " (9, -8, -1),\n",
       " (9, -7, -2),\n",
       " (9, -6, -3),\n",
       " (9, -5, -4),\n",
       " (9, -4, -5),\n",
       " (9, -3, -6),\n",
       " (9, -2, -7),\n",
       " (9, -1, -8),\n",
       " (9, 0, -9),\n",
       " (9, 1, -10),\n",
       " (10, -10, 0),\n",
       " (10, -9, -1),\n",
       " (10, -8, -2),\n",
       " (10, -7, -3),\n",
       " (10, -6, -4),\n",
       " (10, -5, -5),\n",
       " (10, -4, -6),\n",
       " (10, -3, -7),\n",
       " (10, -2, -8),\n",
       " (10, -1, -9),\n",
       " (10, 0, -10)]"
      ]
     },
     "execution_count": 110,
     "metadata": {},
     "output_type": "execute_result"
    }
   ],
   "source": [
    "A = deg_4_sqnc(-10,10,-10,10,-10,10,21)\n",
    "int_sqnc_check(A,-10,-10,-10)"
   ]
  },
  {
   "cell_type": "code",
   "execution_count": 115,
   "metadata": {},
   "outputs": [
    {
     "data": {
      "text/plain": [
       "array([0., 1., 1., 1., 1., 1., 1., 1., 1., 1., 1., 1., 1., 1., 1., 1., 1.,\n",
       "       1., 1., 1., 1.])"
      ]
     },
     "execution_count": 115,
     "metadata": {},
     "output_type": "execute_result"
    }
   ],
   "source": [
    "A[12,18,16]"
   ]
  },
  {
   "cell_type": "code",
   "execution_count": 116,
   "metadata": {
    "scrolled": true
   },
   "outputs": [
    {
     "data": {
      "text/plain": [
       "[(-50, 50, 0, 100),\n",
       " (-49, 49, 1, 99),\n",
       " (-48, 48, 2, 98),\n",
       " (-47, 47, 3, 97),\n",
       " (-46, 46, 4, 96),\n",
       " (-45, 45, 5, 95),\n",
       " (-44, 44, 6, 94),\n",
       " (-43, 43, 7, 93),\n",
       " (-42, 42, 8, 92),\n",
       " (-41, 41, 9, 91),\n",
       " (-40, 40, 10, 90),\n",
       " (-39, 39, 11, 89),\n",
       " (-38, 38, 12, 88),\n",
       " (-37, 37, 13, 87),\n",
       " (-36, 36, 14, 86),\n",
       " (-35, 35, 15, 85),\n",
       " (-34, 34, 16, 84),\n",
       " (-33, 33, 17, 83),\n",
       " (-32, 32, 18, 82),\n",
       " (-31, 31, 19, 81),\n",
       " (-30, 30, 20, 80),\n",
       " (-29, 29, 21, 79),\n",
       " (-28, 28, 22, 78),\n",
       " (-27, 27, 23, 77),\n",
       " (-26, 26, 24, 76),\n",
       " (-25, 25, 25, 75),\n",
       " (-24, 24, 26, 74),\n",
       " (-24, 48, 26, 98),\n",
       " (-23, 23, 27, 73),\n",
       " (-22, 22, 28, 72),\n",
       " (-21, 21, 29, 71),\n",
       " (-20, 20, 30, 70),\n",
       " (-19, 19, 31, 69),\n",
       " (-18, 18, 32, 68),\n",
       " (-17, 17, 33, 67),\n",
       " (-16, -48, 34, 2),\n",
       " (-16, 16, 34, 66),\n",
       " (-15, 15, 35, 65),\n",
       " (-14, 14, 36, 64),\n",
       " (-13, 13, 37, 63),\n",
       " (-12, -36, 38, 14),\n",
       " (-12, 12, 38, 62),\n",
       " (-11, 11, 39, 61),\n",
       " (-10, -30, 40, 20),\n",
       " (-10, 10, 40, 60),\n",
       " (-9, 9, 41, 59),\n",
       " (-8, -24, 42, 26),\n",
       " (-8, 8, 42, 58),\n",
       " (-7, 7, 43, 57),\n",
       " (-6, -18, 44, 32),\n",
       " (-6, 6, 44, 56),\n",
       " (-5, 5, 45, 55),\n",
       " (-4, -12, 46, 38),\n",
       " (-4, 4, 46, 54),\n",
       " (-3, 3, 47, 53),\n",
       " (-2, -6, 48, 44),\n",
       " (-2, 2, 48, 52),\n",
       " (-1, 1, 49, 51),\n",
       " (0, 0, 50, 50),\n",
       " (1, -1, 51, 49),\n",
       " (2, -2, 52, 48),\n",
       " (2, 6, 52, 56),\n",
       " (3, -3, 53, 47),\n",
       " (4, -4, 54, 46),\n",
       " (4, 12, 54, 62),\n",
       " (5, -5, 55, 45),\n",
       " (6, -6, 56, 44),\n",
       " (6, 18, 56, 68),\n",
       " (7, -7, 57, 43),\n",
       " (8, -8, 58, 42),\n",
       " (8, 24, 58, 74),\n",
       " (9, -9, 59, 41),\n",
       " (10, -10, 60, 40),\n",
       " (10, 30, 60, 80),\n",
       " (11, -11, 61, 39),\n",
       " (12, -12, 62, 38),\n",
       " (12, 36, 62, 86),\n",
       " (13, -13, 63, 37),\n",
       " (14, -14, 64, 36),\n",
       " (15, -15, 65, 35),\n",
       " (16, -16, 66, 34),\n",
       " (16, 48, 66, 98),\n",
       " (17, -17, 67, 33),\n",
       " (18, -18, 68, 32),\n",
       " (19, -19, 69, 31),\n",
       " (20, -20, 70, 30),\n",
       " (21, -21, 71, 29),\n",
       " (22, -22, 72, 28),\n",
       " (23, -23, 73, 27),\n",
       " (24, -48, 74, 2),\n",
       " (24, -24, 74, 26),\n",
       " (25, -25, 75, 25),\n",
       " (26, -26, 76, 24),\n",
       " (27, -27, 77, 23),\n",
       " (28, -28, 78, 22),\n",
       " (29, -29, 79, 21),\n",
       " (30, -30, 80, 20),\n",
       " (31, -31, 81, 19),\n",
       " (32, -32, 82, 18),\n",
       " (33, -33, 83, 17),\n",
       " (34, -34, 84, 16),\n",
       " (35, -35, 85, 15),\n",
       " (36, -36, 86, 14),\n",
       " (37, -37, 87, 13),\n",
       " (38, -38, 88, 12),\n",
       " (39, -39, 89, 11),\n",
       " (40, -40, 90, 10),\n",
       " (41, -41, 91, 9),\n",
       " (42, -42, 92, 8),\n",
       " (43, -43, 93, 7),\n",
       " (44, -44, 94, 6),\n",
       " (45, -45, 95, 5),\n",
       " (46, -46, 96, 4),\n",
       " (47, -47, 97, 3),\n",
       " (48, -48, 98, 2),\n",
       " (49, -49, 99, 1),\n",
       " (50, -50, 100, 0)]"
      ]
     },
     "execution_count": 116,
     "metadata": {},
     "output_type": "execute_result"
    }
   ],
   "source": [
    "B = deg_3_sqnc(-50,50,-50,50,21)\n",
    "int_sqnc_check(B,-50,-50)"
   ]
  },
  {
   "cell_type": "code",
   "execution_count": 118,
   "metadata": {},
   "outputs": [
    {
     "data": {
      "text/plain": [
       "array([0.00000000e+00, 1.00000000e+00, 6.00000000e+00, 3.60000000e+01,\n",
       "       2.16000000e+02, 1.29600000e+03, 7.77600000e+03, 4.66560000e+04,\n",
       "       2.79936000e+05, 1.67961600e+06, 1.00776960e+07, 6.04661760e+07,\n",
       "       3.62797056e+08, 2.17678234e+09, 1.30606940e+10, 7.83641641e+10,\n",
       "       4.70184985e+11, 2.82110991e+12, 1.69266594e+13, 1.01559957e+14,\n",
       "       6.09359740e+14])"
      ]
     },
     "execution_count": 118,
     "metadata": {},
     "output_type": "execute_result"
    }
   ],
   "source": [
    "B[62,86]"
   ]
  },
  {
   "cell_type": "code",
   "execution_count": 55,
   "metadata": {},
   "outputs": [
    {
     "data": {
      "text/plain": [
       "True"
      ]
     },
     "execution_count": 55,
     "metadata": {},
     "output_type": "execute_result"
    }
   ],
   "source": [
    "len(B.shape) == 3"
   ]
  },
  {
   "cell_type": "markdown",
   "metadata": {},
   "source": [
    "### Quartic Case"
   ]
  },
  {
   "cell_type": "markdown",
   "metadata": {},
   "source": [
    "Now we're letting $P(u,v) = au^4 + bu^3v + cu^2v^2$. This instantly complicates things, since I'll need to include a new axis in my matrix, but it should involve the same idea. In the end, the ordered triplet $(a,b,c) = (-24,24,48)$ should yield our $\\sigma(n)$.\n",
    "\n",
    "I'll also need to create new sequence checkers (or add features to the current ones) for each of these to account for the extra axis."
   ]
  },
  {
   "cell_type": "code",
   "execution_count": 74,
   "metadata": {},
   "outputs": [],
   "source": [
    "def deg_4_array(a_min,a_max,b_min,b_max,c_min,c_max,seq_length):\n",
    "    a_len = a_max+1 - a_min\n",
    "    b_len = b_max+1 - b_min\n",
    "    c_len = c_max+1 - c_min\n",
    "    \n",
    "    a_range = np.arange(a_min, a_max+1)\n",
    "    b_range = np.arange(b_min, b_max+1)\n",
    "    c_range = np.arange(c_min, c_max+1)\n",
    "    u_range = np.arange(seq_length)\n",
    "    v_range = u_range\n",
    "    \n",
    "    au_matrix = np.multiply.outer(a_range, u_range**4) # a x u^4\n",
    "    au_tensor = np.broadcast_to(au_matrix,(seq_length,b_len,c_len,a_len,seq_length)) # k x b x c x a x u^4\n",
    "    #v,b,c,a,u --> a,b,c,v,u --> a,b,c,u,v\n",
    "    \n",
    "    bu_matrix = np.multiply.outer(b_range,u_range**3) # b x u^3\n",
    "    buv_matrix = np.multiply.outer(bu_matrix,v_range) # b x u^3 x v\n",
    "    buv_tensor = np.broadcast_to(buv_matrix,(a_len,c_len,b_len,seq_length,seq_length)) # a x c x b x u^3 x v\n",
    "    # a,c,b,u,v --> a,b,c,u,v\n",
    "    \n",
    "    cu_matrix = np.multiply.outer(c_range,u_range**2) # c x u^2\n",
    "    cuv_matrix = np.multiply.outer(cu_matrix,v_range**2) # c x u^2 x v^2\n",
    "    cuv_tensor = np.broadcast_to(cuv_matrix,(a_len,b_len,c_len,seq_length,seq_length)) # a x b x c x u^2 x v^2\n",
    "    \n",
    "    corrected_au_tensor = np.swapaxes(np.swapaxes(au_tensor, 3,4),0,4)\n",
    "    corrected_buv_tensor = np.swapaxes(buv_tensor, 1,2)\n",
    "    \n",
    "    tensor = corrected_au_tensor + corrected_buv_tensor + cuv_tensor\n",
    "    \n",
    "    #P_array = np.swapaxes(tensor, 3,4)\n",
    "    \n",
    "    return tensor\n",
    "\n",
    "\n",
    "def deg_4_sqnc(a_min,a_max,b_min,b_max,c_min,c_max,seq_length):\n",
    "    a_len = a_max+1 - a_min\n",
    "    b_len = b_max+1 - b_min\n",
    "    c_len = c_max+1 - c_min\n",
    "    \n",
    "    coeff_array = deg_4_array(a_min,a_max,b_min,b_max,c_min,c_max,seq_length)\n",
    "    seq = np.zeros(seq_length)\n",
    "    seq[1] = 1\n",
    "    seq_array = np.broadcast_to(seq, (a_len,b_len,c_len,seq_length)).copy()\n",
    "    \n",
    "    flipped_array = coeff_array[:,:,:,::-1,:]\n",
    "    for n in range(2,seq_length):\n",
    "        diag = np.diagonal(flipped_array, -seq_length+n+1, axis1 = 3, axis2 = 4)[:,:,:,1:n]\n",
    "        vec_A = diag*seq_array[:,:,:,1:n]\n",
    "        vec_B = seq_array[:,:,:,n-1:0:-1]\n",
    "        seq_array[:,:,:,n] = (1/((n**4)*(n-1)))*np.sum(vec_A*vec_B,axis=3)\n",
    "    \n",
    "    return seq_array"
   ]
  },
  {
   "cell_type": "code",
   "execution_count": 75,
   "metadata": {},
   "outputs": [
    {
     "data": {
      "text/plain": [
       "array([[[[ 0.,  1.,  3.,  4.,  7.,  6., 12.,  8., 15., 13., 18., 12.,\n",
       "          28., 14., 24., 24., 31., 18., 39., 20., 42.]]]])"
      ]
     },
     "execution_count": 75,
     "metadata": {},
     "output_type": "execute_result"
    }
   ],
   "source": [
    "deg_4_sqnc(-24,-24,24,24,48,48,21)"
   ]
  },
  {
   "cell_type": "markdown",
   "metadata": {},
   "source": [
    "### Quintic Case"
   ]
  },
  {
   "cell_type": "markdown",
   "metadata": {},
   "source": [
    "Home is at $(a,b,c) = (-24,0,120)$."
   ]
  },
  {
   "cell_type": "code",
   "execution_count": 91,
   "metadata": {},
   "outputs": [],
   "source": [
    "def deg_5_array(a_min,a_max,b_min,b_max,c_min,c_max,seq_length):\n",
    "    a_len = a_max+1 - a_min\n",
    "    b_len = b_max+1 - b_min\n",
    "    c_len = c_max+1 - c_min\n",
    "    \n",
    "    a_range = np.arange(a_min, a_max+1)\n",
    "    b_range = np.arange(b_min, b_max+1)\n",
    "    c_range = np.arange(c_min, c_max+1)\n",
    "    u_range = np.arange(seq_length)\n",
    "    v_range = u_range\n",
    "    \n",
    "    au_matrix = np.multiply.outer(a_range, u_range**5) # a x u^5\n",
    "    au_tensor = np.broadcast_to(au_matrix,(seq_length,b_len,c_len,a_len,seq_length)) # k x b x c x a x u^4\n",
    "    #v,b,c,a,u --> a,b,c,v,u --> a,b,c,u,v\n",
    "    \n",
    "    bu_matrix = np.multiply.outer(b_range,u_range**4) # b x u^4\n",
    "    buv_matrix = np.multiply.outer(bu_matrix,v_range) # b x u^4 x v\n",
    "    buv_tensor = np.broadcast_to(buv_matrix,(a_len,c_len,b_len,seq_length,seq_length)) # a x c x b x u^3 x v\n",
    "    # a,c,b,u,v --> a,b,c,u,v\n",
    "    \n",
    "    cu_matrix = np.multiply.outer(c_range,u_range**3) # c x u^3\n",
    "    cuv_matrix = np.multiply.outer(cu_matrix,v_range**2) # c x u^3 x v^2\n",
    "    cuv_tensor = np.broadcast_to(cuv_matrix,(a_len,b_len,c_len,seq_length,seq_length)) # a x b x c x u^3 x v^2\n",
    "    \n",
    "    corrected_au_tensor = np.swapaxes(np.swapaxes(au_tensor, 3,4),0,4)\n",
    "    corrected_buv_tensor = np.swapaxes(buv_tensor, 1,2)\n",
    "    \n",
    "    tensor = corrected_au_tensor + corrected_buv_tensor + cuv_tensor\n",
    "    \n",
    "    #P_array = np.swapaxes(tensor, 3,4)\n",
    "    \n",
    "    return tensor\n",
    "\n",
    "\n",
    "def deg_5_sqnc(a_min,a_max,b_min,b_max,c_min,c_max,seq_length):\n",
    "    a_len = a_max+1 - a_min\n",
    "    b_len = b_max+1 - b_min\n",
    "    c_len = c_max+1 - c_min\n",
    "    \n",
    "    coeff_array = deg_5_array(a_min,a_max,b_min,b_max,c_min,c_max,seq_length)\n",
    "    seq = np.zeros(seq_length)\n",
    "    seq[1] = 1\n",
    "    seq_array = np.broadcast_to(seq, (a_len,b_len,c_len,seq_length)).copy()\n",
    "    \n",
    "    flipped_array = coeff_array[:,:,:,::-1,:]\n",
    "    for n in range(2,seq_length):\n",
    "        diag = np.diagonal(flipped_array, -seq_length+n+1, axis1 = 3, axis2 = 4)[:,:,:,1:n]\n",
    "        vec_A = diag*seq_array[:,:,:,1:n]\n",
    "        vec_B = seq_array[:,:,:,n-1:0:-1]\n",
    "        seq_array[:,:,:,n] = (1/((n**5)*(n-1)))*np.sum(vec_A*vec_B,axis=3)\n",
    "    \n",
    "    return seq_array"
   ]
  },
  {
   "cell_type": "code",
   "execution_count": 92,
   "metadata": {
    "scrolled": true
   },
   "outputs": [
    {
     "data": {
      "text/plain": [
       "array([[[[ 0.,  1.,  3.,  4.,  7.,  6., 12.,  8., 15., 13., 18., 12.,\n",
       "          28., 14., 24., 24., 31., 18., 39., 20., 42.]]]])"
      ]
     },
     "execution_count": 92,
     "metadata": {},
     "output_type": "execute_result"
    }
   ],
   "source": [
    "deg_5_sqnc(-24,-24,0,0,120,120,21)"
   ]
  },
  {
   "cell_type": "markdown",
   "metadata": {},
   "source": [
    "### Playing with $\\frac{1}{n^2(n-1)}$\n",
    "\n",
    "Below are some alterations to that term of the function. We use these to check for some possible interesting sequences of integers."
   ]
  },
  {
   "cell_type": "code",
   "execution_count": 121,
   "metadata": {},
   "outputs": [],
   "source": [
    "def deg_2_alter1(a_min,a_max,b_min,b_max,seq_length):\n",
    "    a_len = a_max+1 - a_min\n",
    "    b_len = b_max+1 - b_min\n",
    "    \n",
    "    coeff_array = deg_2_array(a_min,a_max,b_min,b_max,seq_length)\n",
    "    seq = np.zeros(seq_length)\n",
    "    seq[1] = 1\n",
    "    seq_array = np.broadcast_to(seq, (a_len,b_len,seq_length)).copy()\n",
    "    \n",
    "    flipped_array = coeff_array[:,:,::-1,:]\n",
    "    for n in range(2,seq_length):\n",
    "        diag = np.diagonal(flipped_array, -seq_length+n+1, axis1 = 2, axis2 = 3)[:,:,1:n]\n",
    "        vec_A = diag*seq_array[:,:,1:n]\n",
    "        vec_B = seq_array[:,:,n-1:0:-1]\n",
    "        seq_array[:,:,n] = (1/(n**3))*np.sum(vec_A*vec_B,axis=2)\n",
    "    \n",
    "    return seq_array"
   ]
  },
  {
   "cell_type": "code",
   "execution_count": 131,
   "metadata": {},
   "outputs": [
    {
     "data": {
      "text/plain": [
       "[]"
      ]
     },
     "execution_count": 131,
     "metadata": {},
     "output_type": "execute_result"
    }
   ],
   "source": [
    "A = deg_2_alter1(-50,50,-50,50,21)\n",
    "geom_sqnc_check(A,-50,-50)"
   ]
  },
  {
   "cell_type": "code",
   "execution_count": 138,
   "metadata": {},
   "outputs": [],
   "source": [
    "def deg_2_alter2(a_min,a_max,b_min,b_max,seq_length):\n",
    "    a_len = a_max+1 - a_min\n",
    "    b_len = b_max+1 - b_min\n",
    "    \n",
    "    coeff_array = deg_2_array(a_min,a_max,b_min,b_max,seq_length)\n",
    "    seq = np.zeros(seq_length)\n",
    "    seq[1] = 1\n",
    "    seq_array = np.broadcast_to(seq, (a_len,b_len,seq_length)).copy()\n",
    "    \n",
    "    flipped_array = coeff_array[:,:,::-1,:]\n",
    "    for n in range(2,seq_length):\n",
    "        diag = np.diagonal(flipped_array, -seq_length+n+1, axis1 = 2, axis2 = 3)[:,:,1:n]\n",
    "        vec_A = diag*seq_array[:,:,1:n]\n",
    "        vec_B = seq_array[:,:,n-1:0:-1]\n",
    "        seq_array[:,:,n] = (1/((2*n)*(n**2-1)))*np.sum(vec_A*vec_B,axis=2)\n",
    "\n",
    "    return seq_array"
   ]
  },
  {
   "cell_type": "code",
   "execution_count": 145,
   "metadata": {},
   "outputs": [
    {
     "data": {
      "text/plain": [
       "[(-50, 50, 0, 100),\n",
       " (-49, 49, 1, 99),\n",
       " (-48, 48, 2, 98),\n",
       " (-47, 47, 3, 97),\n",
       " (-46, 46, 4, 96),\n",
       " (-45, 45, 5, 95),\n",
       " (-44, 44, 6, 94),\n",
       " (-43, 43, 7, 93),\n",
       " (-42, 42, 8, 92),\n",
       " (-41, 41, 9, 91),\n",
       " (-40, 40, 10, 90),\n",
       " (-39, 39, 11, 89),\n",
       " (-38, 38, 12, 88),\n",
       " (-37, 37, 13, 87),\n",
       " (-36, 36, 14, 86),\n",
       " (-35, 35, 15, 85),\n",
       " (-34, 34, 16, 84),\n",
       " (-33, 33, 17, 83),\n",
       " (-32, 32, 18, 82),\n",
       " (-31, 31, 19, 81),\n",
       " (-30, 30, 20, 80),\n",
       " (-29, 29, 21, 79),\n",
       " (-28, 28, 22, 78),\n",
       " (-27, 27, 23, 77),\n",
       " (-26, 26, 24, 76),\n",
       " (-25, 25, 25, 75),\n",
       " (-24, 24, 26, 74),\n",
       " (-23, 23, 27, 73),\n",
       " (-22, 22, 28, 72),\n",
       " (-21, 21, 29, 71),\n",
       " (-20, 20, 30, 70),\n",
       " (-19, 19, 31, 69),\n",
       " (-18, 18, 32, 68),\n",
       " (-17, 17, 33, 67),\n",
       " (-16, 16, 34, 66),\n",
       " (-15, 15, 35, 65),\n",
       " (-14, 14, 36, 64),\n",
       " (-13, 13, 37, 63),\n",
       " (-12, 12, 38, 62),\n",
       " (-11, 11, 39, 61),\n",
       " (-10, 10, 40, 60),\n",
       " (-9, 9, 41, 59),\n",
       " (-8, 8, 42, 58),\n",
       " (-7, 7, 43, 57),\n",
       " (-6, 6, 44, 56),\n",
       " (-5, 5, 45, 55),\n",
       " (-4, 4, 46, 54),\n",
       " (-3, 3, 47, 53),\n",
       " (-2, 2, 48, 52),\n",
       " (-1, 1, 49, 51),\n",
       " (0, -48, 50, 2),\n",
       " (0, -36, 50, 14),\n",
       " (0, -24, 50, 26),\n",
       " (0, -12, 50, 38),\n",
       " (0, 0, 50, 50),\n",
       " (0, 12, 50, 62),\n",
       " (0, 24, 50, 74),\n",
       " (0, 36, 50, 86),\n",
       " (0, 48, 50, 98),\n",
       " (1, -1, 51, 49),\n",
       " (2, -2, 52, 48),\n",
       " (3, -3, 53, 47),\n",
       " (4, -4, 54, 46),\n",
       " (5, -5, 55, 45),\n",
       " (6, -6, 56, 44),\n",
       " (7, -7, 57, 43),\n",
       " (8, -8, 58, 42),\n",
       " (9, -9, 59, 41),\n",
       " (10, -10, 60, 40),\n",
       " (11, -11, 61, 39),\n",
       " (12, -12, 62, 38),\n",
       " (13, -13, 63, 37),\n",
       " (14, -14, 64, 36),\n",
       " (15, -15, 65, 35),\n",
       " (16, -16, 66, 34),\n",
       " (17, -17, 67, 33),\n",
       " (18, -18, 68, 32),\n",
       " (19, -19, 69, 31),\n",
       " (20, -20, 70, 30),\n",
       " (21, -21, 71, 29),\n",
       " (22, -22, 72, 28),\n",
       " (23, -23, 73, 27),\n",
       " (24, -24, 74, 26),\n",
       " (25, -25, 75, 25),\n",
       " (26, -26, 76, 24),\n",
       " (27, -27, 77, 23),\n",
       " (28, -28, 78, 22),\n",
       " (29, -29, 79, 21),\n",
       " (30, -30, 80, 20),\n",
       " (31, -31, 81, 19),\n",
       " (32, -32, 82, 18),\n",
       " (33, -33, 83, 17),\n",
       " (34, -34, 84, 16),\n",
       " (35, -35, 85, 15),\n",
       " (36, -36, 86, 14),\n",
       " (37, -37, 87, 13),\n",
       " (38, -38, 88, 12),\n",
       " (39, -39, 89, 11),\n",
       " (40, -40, 90, 10),\n",
       " (41, -41, 91, 9),\n",
       " (42, -42, 92, 8),\n",
       " (43, -43, 93, 7),\n",
       " (44, -44, 94, 6),\n",
       " (45, -45, 95, 5),\n",
       " (46, -46, 96, 4),\n",
       " (47, -47, 97, 3),\n",
       " (48, -48, 98, 2),\n",
       " (49, -49, 99, 1),\n",
       " (50, -50, 100, 0)]"
      ]
     },
     "execution_count": 145,
     "metadata": {},
     "output_type": "execute_result"
    }
   ],
   "source": [
    "B = deg_2_alter2(-50,50,-50,50,21)\n",
    "int_sqnc_check(B,-50,-50)"
   ]
  },
  {
   "cell_type": "code",
   "execution_count": 153,
   "metadata": {
    "scrolled": true
   },
   "outputs": [
    {
     "data": {
      "text/plain": [
       "array([-4., -4., -4., -4., -4., -4., -4., -4., -4., -4., -4., -4., -4.,\n",
       "       -4., -4., -4., -4., -4., -4.])"
      ]
     },
     "execution_count": 153,
     "metadata": {},
     "output_type": "execute_result"
    }
   ],
   "source": [
    "array_div(B)[50,2]"
   ]
  },
  {
   "cell_type": "code",
   "execution_count": 231,
   "metadata": {},
   "outputs": [],
   "source": [
    "def deg_2_alter3(a_min,a_max,b_min,b_max,seq_length):\n",
    "    a_len = a_max+1 - a_min\n",
    "    b_len = b_max+1 - b_min\n",
    "    \n",
    "    coeff_array = deg_2_array(a_min,a_max,b_min,b_max,seq_length)\n",
    "    seq = np.zeros(seq_length)\n",
    "    seq[1] = 1\n",
    "    seq_array = np.broadcast_to(seq, (a_len,b_len,seq_length)).copy()\n",
    "    \n",
    "    flipped_array = coeff_array[:,:,::-1,:]\n",
    "    for n in range(2,seq_length):\n",
    "        diag = np.diagonal(flipped_array, -seq_length+n+1, axis1 = 2, axis2 = 3)[:,:,1:n]\n",
    "        vec_A = diag*seq_array[:,:,1:n]\n",
    "        vec_B = seq_array[:,:,n-1:0:-1]\n",
    "        seq_array[:,:,n] = (1/((n**2)*(n-1)*(n+1)))*np.sum(vec_A*vec_B,axis=2)\n",
    "\n",
    "    return seq_array"
   ]
  },
  {
   "cell_type": "code",
   "execution_count": 237,
   "metadata": {
    "scrolled": true
   },
   "outputs": [
    {
     "data": {
      "text/plain": [
       "[(-50, 50, 0, 100),\n",
       " (-49, 49, 1, 99),\n",
       " (-48, -48, 2, 2),\n",
       " (-48, 48, 2, 98),\n",
       " (-47, 47, 3, 97),\n",
       " (-46, 46, 4, 96),\n",
       " (-45, 45, 5, 95),\n",
       " (-44, 44, 6, 94),\n",
       " (-43, 43, 7, 93),\n",
       " (-42, 42, 8, 92),\n",
       " (-41, 41, 9, 91),\n",
       " (-40, 40, 10, 90),\n",
       " (-39, 39, 11, 89),\n",
       " (-38, 38, 12, 88),\n",
       " (-37, 37, 13, 87),\n",
       " (-36, -36, 14, 14),\n",
       " (-36, 36, 14, 86),\n",
       " (-35, 35, 15, 85),\n",
       " (-34, 34, 16, 84),\n",
       " (-33, 33, 17, 83),\n",
       " (-32, 32, 18, 82),\n",
       " (-31, 31, 19, 81),\n",
       " (-30, 30, 20, 80),\n",
       " (-29, 29, 21, 79),\n",
       " (-28, 28, 22, 78),\n",
       " (-27, 27, 23, 77),\n",
       " (-26, 26, 24, 76),\n",
       " (-25, 25, 25, 75),\n",
       " (-24, -24, 26, 26),\n",
       " (-24, 24, 26, 74),\n",
       " (-23, 23, 27, 73),\n",
       " (-22, 22, 28, 72),\n",
       " (-21, 21, 29, 71),\n",
       " (-20, 20, 30, 70),\n",
       " (-19, 19, 31, 69),\n",
       " (-18, 18, 32, 68),\n",
       " (-17, 17, 33, 67),\n",
       " (-16, 16, 34, 66),\n",
       " (-15, 15, 35, 65),\n",
       " (-14, 14, 36, 64),\n",
       " (-13, 13, 37, 63),\n",
       " (-12, -12, 38, 38),\n",
       " (-12, 12, 38, 62),\n",
       " (-11, 11, 39, 61),\n",
       " (-10, 10, 40, 60),\n",
       " (-9, 9, 41, 59),\n",
       " (-8, 8, 42, 58),\n",
       " (-7, 7, 43, 57),\n",
       " (-6, 6, 44, 56),\n",
       " (-5, 5, 45, 55),\n",
       " (-4, 4, 46, 54),\n",
       " (-3, 3, 47, 53),\n",
       " (-2, 2, 48, 52),\n",
       " (-1, 1, 49, 51),\n",
       " (0, 0, 50, 50),\n",
       " (1, -1, 51, 49),\n",
       " (2, -2, 52, 48),\n",
       " (3, -3, 53, 47),\n",
       " (4, -4, 54, 46),\n",
       " (5, -5, 55, 45),\n",
       " (6, -6, 56, 44),\n",
       " (7, -7, 57, 43),\n",
       " (8, -8, 58, 42),\n",
       " (9, -9, 59, 41),\n",
       " (10, -10, 60, 40),\n",
       " (11, -11, 61, 39),\n",
       " (12, -12, 62, 38),\n",
       " (12, 12, 62, 62),\n",
       " (13, -13, 63, 37),\n",
       " (14, -14, 64, 36),\n",
       " (15, -15, 65, 35),\n",
       " (16, -16, 66, 34),\n",
       " (17, -17, 67, 33),\n",
       " (18, -18, 68, 32),\n",
       " (19, -19, 69, 31),\n",
       " (20, -20, 70, 30),\n",
       " (21, -21, 71, 29),\n",
       " (22, -22, 72, 28),\n",
       " (23, -23, 73, 27),\n",
       " (24, -24, 74, 26),\n",
       " (24, 24, 74, 74),\n",
       " (25, -25, 75, 25),\n",
       " (26, -26, 76, 24),\n",
       " (27, -27, 77, 23),\n",
       " (28, -28, 78, 22),\n",
       " (29, -29, 79, 21),\n",
       " (30, -30, 80, 20),\n",
       " (31, -31, 81, 19),\n",
       " (32, -32, 82, 18),\n",
       " (33, -33, 83, 17),\n",
       " (34, -34, 84, 16),\n",
       " (35, -35, 85, 15),\n",
       " (36, -36, 86, 14),\n",
       " (36, 36, 86, 86),\n",
       " (37, -37, 87, 13),\n",
       " (38, -38, 88, 12),\n",
       " (39, -39, 89, 11),\n",
       " (40, -40, 90, 10),\n",
       " (41, -41, 91, 9),\n",
       " (42, -42, 92, 8),\n",
       " (43, -43, 93, 7),\n",
       " (44, -44, 94, 6),\n",
       " (45, -45, 95, 5),\n",
       " (46, -46, 96, 4),\n",
       " (47, -47, 97, 3),\n",
       " (48, -48, 98, 2),\n",
       " (48, 48, 98, 98),\n",
       " (49, -49, 99, 1),\n",
       " (50, -50, 100, 0)]"
      ]
     },
     "execution_count": 237,
     "metadata": {},
     "output_type": "execute_result"
    }
   ],
   "source": [
    "B = deg_2_alter3(-50,50,-50,50,21)\n",
    "int_sqnc_check(B,-50,-50)"
   ]
  },
  {
   "cell_type": "code",
   "execution_count": 247,
   "metadata": {},
   "outputs": [
    {
     "data": {
      "text/plain": [
       "array([ 0.00000000e+00,  1.00000000e+00, -8.00000000e+00,  4.80000000e+01,\n",
       "       -2.56000000e+02,  1.28000000e+03, -6.14400000e+03,  2.86720000e+04,\n",
       "       -1.31072000e+05,  5.89824000e+05, -2.62144000e+06,  1.15343360e+07,\n",
       "       -5.03316480e+07,  2.18103808e+08, -9.39524096e+08,  4.02653184e+09,\n",
       "       -1.71798692e+10,  7.30144440e+10, -3.09237645e+11,  1.30567006e+12,\n",
       "       -5.49755814e+12])"
      ]
     },
     "execution_count": 247,
     "metadata": {},
     "output_type": "execute_result"
    }
   ],
   "source": [
    "B[2,2]"
   ]
  },
  {
   "cell_type": "markdown",
   "metadata": {},
   "source": [
    "Alright! So, to start off, we have an interesting sequence where $a = -48$ and $b = -48$. We get:\n",
    "$$\n",
    "\\{\\tau(n)\\} = \\{1,-8,48,-256,1280,6144,...\\}\n",
    "$$"
   ]
  },
  {
   "cell_type": "code",
   "execution_count": 249,
   "metadata": {},
   "outputs": [
    {
     "data": {
      "text/plain": [
       "array([0.000000e+00, 1.000000e+00, 4.000000e+00, 1.200000e+01,\n",
       "       3.200000e+01, 8.000000e+01, 1.920000e+02, 4.480000e+02,\n",
       "       1.024000e+03, 2.304000e+03, 5.120000e+03, 1.126400e+04,\n",
       "       2.457600e+04, 5.324800e+04, 1.146880e+05, 2.457600e+05,\n",
       "       5.242880e+05, 1.114112e+06, 2.359296e+06, 4.980736e+06,\n",
       "       1.048576e+07])"
      ]
     },
     "execution_count": 249,
     "metadata": {},
     "output_type": "execute_result"
    }
   ],
   "source": [
    "B[74,74]"
   ]
  },
  {
   "cell_type": "markdown",
   "metadata": {},
   "source": [
    "Another one for $(24,24)$:\n",
    "$$\n",
    "\\{\\tau(n)\\} = \\{1,4,12,32,80,192,448,...\\}\n",
    "$$\n",
    "which should be a familiar sequence:\n",
    "$$\n",
    "\\{\\tau(n)\\} = \\{n2^{n-1}\\}\n",
    "$$"
   ]
  },
  {
   "cell_type": "code",
   "execution_count": 250,
   "metadata": {},
   "outputs": [
    {
     "data": {
      "text/plain": [
       "array([ 0.,  1.,  2.,  3.,  4.,  5.,  6.,  7.,  8.,  9., 10., 11., 12.,\n",
       "       13., 14., 15., 16., 17., 18., 19., 20.])"
      ]
     },
     "execution_count": 250,
     "metadata": {},
     "output_type": "execute_result"
    }
   ],
   "source": [
    "B[62,62]"
   ]
  },
  {
   "cell_type": "markdown",
   "metadata": {},
   "source": [
    "This just gives us the natural numbers. Maybe we have $\\{\\tau(n)\\} = \\{n1^{n-1}\\}$."
   ]
  },
  {
   "cell_type": "code",
   "execution_count": 251,
   "metadata": {},
   "outputs": [
    {
     "data": {
      "text/plain": [
       "array([0.00000000e+00, 1.00000000e+00, 6.00000000e+00, 2.70000000e+01,\n",
       "       1.08000000e+02, 4.05000000e+02, 1.45800000e+03, 5.10300000e+03,\n",
       "       1.74960000e+04, 5.90490000e+04, 1.96830000e+05, 6.49539000e+05,\n",
       "       2.12576400e+06, 6.90873300e+06, 2.23205220e+07, 7.17445350e+07,\n",
       "       2.29582512e+08, 7.31794257e+08, 2.32452293e+09, 7.36098929e+09,\n",
       "       2.32452293e+10])"
      ]
     },
     "execution_count": 251,
     "metadata": {},
     "output_type": "execute_result"
    }
   ],
   "source": [
    "B[86,86]"
   ]
  },
  {
   "cell_type": "markdown",
   "metadata": {},
   "source": [
    "$(36,36)$ gives $\\{\\tau(n)\\} = \\{n3^{n-1}\\}.$\n",
    "\n",
    "__Idea__: Let $\\tau(n) = \\frac{1}{n^2(n-1)(n+1)}\\sum_{u+v=n}(au^2 +buv)\\tau(u)\\tau(v)$ be the $n^{th}$ term in a sequence. If $(a,b) = (12k,12k)$ for $k \\in \\mathbb{Z}$, then $\\{\\tau(n)\\} = \\{nk^{n-1}\\}.$"
   ]
  },
  {
   "cell_type": "code",
   "execution_count": 422,
   "metadata": {},
   "outputs": [],
   "source": [
    "def deg_2_alter4(a_min,a_max,b_min,b_max,seq_length):\n",
    "    a_len = a_max+1 - a_min\n",
    "    b_len = b_max+1 - b_min\n",
    "    \n",
    "    coeff_array = deg_2_array(a_min,a_max,b_min,b_max,seq_length)\n",
    "    seq = np.zeros(seq_length)\n",
    "    seq[1] = 1\n",
    "    seq_array = np.broadcast_to(seq, (a_len,b_len,seq_length)).copy()\n",
    "    \n",
    "    flipped_array = coeff_array[:,:,::-1,:]\n",
    "    for n in range(2,seq_length):\n",
    "        diag = np.diagonal(flipped_array, -seq_length+n+1, axis1 = 2, axis2 = 3)[:,:,1:n]\n",
    "        vec_A = diag*seq_array[:,:,1:n]\n",
    "        vec_B = seq_array[:,:,n-1:0:-1]\n",
    "        seq_array[:,:,n] = (12/((n-1)*n**2))*np.sum(vec_A*vec_B,axis=2)\n",
    "\n",
    "    return seq_array"
   ]
  },
  {
   "cell_type": "code",
   "execution_count": 423,
   "metadata": {
    "scrolled": true
   },
   "outputs": [
    {
     "data": {
      "text/plain": [
       "[(-50, -50, 0, 0),\n",
       " (-50, -45, 0, 5),\n",
       " (-50, -40, 0, 10),\n",
       " (-50, -35, 0, 15),\n",
       " (-50, -30, 0, 20),\n",
       " (-50, -25, 0, 25),\n",
       " (-50, -20, 0, 30),\n",
       " (-50, -15, 0, 35),\n",
       " (-50, -10, 0, 40),\n",
       " (-50, -5, 0, 45),\n",
       " (-50, 0, 0, 50),\n",
       " (-50, 5, 0, 55),\n",
       " (-50, 50, 0, 100),\n",
       " (-49, -49, 1, 1),\n",
       " (-49, -48, 1, 2),\n",
       " (-49, -39, 1, 11),\n",
       " (-49, -24, 1, 26),\n",
       " (-49, -14, 1, 36),\n",
       " (-49, 49, 1, 99),\n",
       " (-48, -48, 2, 2),\n",
       " (-48, -28, 2, 22),\n",
       " (-48, -27, 2, 23),\n",
       " (-48, -23, 2, 27),\n",
       " (-48, -3, 2, 47),\n",
       " (-48, 2, 2, 52),\n",
       " (-48, 4, 2, 54),\n",
       " (-48, 48, 2, 98),\n",
       " (-47, -47, 3, 3),\n",
       " (-47, -42, 3, 8),\n",
       " (-47, -28, 3, 22),\n",
       " (-47, -22, 3, 28),\n",
       " (-47, -17, 3, 33),\n",
       " (-47, -3, 3, 47),\n",
       " (-47, 47, 3, 97),\n",
       " (-46, -46, 4, 4),\n",
       " (-46, -31, 4, 19),\n",
       " (-46, -29, 4, 21),\n",
       " (-46, -21, 4, 29),\n",
       " (-46, -17, 4, 33),\n",
       " (-46, 4, 4, 54),\n",
       " (-46, 46, 4, 96),\n",
       " (-45, -50, 5, 0),\n",
       " (-45, -45, 5, 5),\n",
       " (-45, -40, 5, 10),\n",
       " (-45, -35, 5, 15),\n",
       " (-45, -30, 5, 20),\n",
       " (-45, -25, 5, 25),\n",
       " (-45, -20, 5, 30),\n",
       " (-45, -15, 5, 35),\n",
       " (-45, -10, 5, 40),\n",
       " (-45, -5, 5, 45),\n",
       " (-45, 0, 5, 50),\n",
       " (-45, 10, 5, 60),\n",
       " (-45, 45, 5, 95),\n",
       " (-44, -44, 6, 6),\n",
       " (-44, -38, 6, 12),\n",
       " (-44, -34, 6, 16),\n",
       " (-44, -19, 6, 31),\n",
       " (-44, 6, 6, 56),\n",
       " (-44, 44, 6, 94),\n",
       " (-43, -48, 7, 2),\n",
       " (-43, -43, 7, 7),\n",
       " (-43, -32, 7, 18),\n",
       " (-43, -23, 7, 27),\n",
       " (-43, -18, 7, 32),\n",
       " (-43, 43, 7, 93),\n",
       " (-42, -42, 8, 8),\n",
       " (-42, -37, 8, 13),\n",
       " (-42, -17, 8, 33),\n",
       " (-42, -12, 8, 38),\n",
       " (-42, 42, 8, 92),\n",
       " (-41, -41, 9, 9),\n",
       " (-41, -26, 9, 24),\n",
       " (-41, -16, 9, 34),\n",
       " (-41, -1, 9, 49),\n",
       " (-41, 16, 9, 66),\n",
       " (-41, 41, 9, 91),\n",
       " (-40, -50, 10, 0),\n",
       " (-40, -45, 10, 5),\n",
       " (-40, -40, 10, 10),\n",
       " (-40, -35, 10, 15),\n",
       " (-40, -30, 10, 20),\n",
       " (-40, -25, 10, 25),\n",
       " (-40, -20, 10, 30),\n",
       " (-40, -15, 10, 35),\n",
       " (-40, -10, 10, 40),\n",
       " (-40, -5, 10, 45),\n",
       " (-40, 40, 10, 90),\n",
       " (-39, -39, 11, 11),\n",
       " (-39, -29, 11, 21),\n",
       " (-39, -28, 11, 22),\n",
       " (-39, -14, 11, 36),\n",
       " (-39, 39, 11, 89),\n",
       " (-38, -43, 12, 7),\n",
       " (-38, -38, 12, 12),\n",
       " (-38, -18, 12, 32),\n",
       " (-38, 38, 12, 88),\n",
       " (-37, -49, 13, 1),\n",
       " (-37, -37, 13, 13),\n",
       " (-37, -32, 13, 18),\n",
       " (-37, 12, 13, 62),\n",
       " (-37, 37, 13, 87),\n",
       " (-36, -46, 14, 4),\n",
       " (-36, -36, 14, 14),\n",
       " (-36, -21, 14, 29),\n",
       " (-36, 36, 14, 86),\n",
       " (-35, -50, 15, 0),\n",
       " (-35, -45, 15, 5),\n",
       " (-35, -40, 15, 10),\n",
       " (-35, -35, 15, 15),\n",
       " (-35, -30, 15, 20),\n",
       " (-35, -25, 15, 25),\n",
       " (-35, -10, 15, 40),\n",
       " (-35, 0, 15, 50),\n",
       " (-35, 35, 15, 85),\n",
       " (-34, -49, 16, 1),\n",
       " (-34, -34, 16, 16),\n",
       " (-34, -24, 16, 26),\n",
       " (-34, -18, 16, 32),\n",
       " (-34, 34, 16, 84),\n",
       " (-33, -38, 17, 12),\n",
       " (-33, -33, 17, 17),\n",
       " (-33, 33, 17, 83),\n",
       " (-32, -47, 18, 3),\n",
       " (-32, -39, 18, 11),\n",
       " (-32, -32, 18, 18),\n",
       " (-32, -27, 18, 23),\n",
       " (-32, 32, 18, 82),\n",
       " (-32, 48, 18, 98),\n",
       " (-31, -41, 19, 9),\n",
       " (-31, -31, 19, 19),\n",
       " (-31, -16, 19, 34),\n",
       " (-31, -6, 19, 44),\n",
       " (-31, 31, 19, 81),\n",
       " (-30, -50, 20, 0),\n",
       " (-30, -45, 20, 5),\n",
       " (-30, -40, 20, 10),\n",
       " (-30, -35, 20, 15),\n",
       " (-30, -30, 20, 20),\n",
       " (-30, -25, 20, 25),\n",
       " (-30, -20, 20, 30),\n",
       " (-30, 30, 20, 80),\n",
       " (-29, -44, 21, 6),\n",
       " (-29, -29, 21, 21),\n",
       " (-29, -8, 21, 42),\n",
       " (-29, 29, 21, 79),\n",
       " (-28, -33, 22, 17),\n",
       " (-28, -28, 22, 22),\n",
       " (-28, 28, 22, 78),\n",
       " (-28, 42, 22, 92),\n",
       " (-27, -47, 23, 3),\n",
       " (-27, -27, 23, 23),\n",
       " (-27, -22, 23, 28),\n",
       " (-27, 27, 23, 77),\n",
       " (-26, -36, 24, 14),\n",
       " (-26, -26, 24, 24),\n",
       " (-26, 26, 24, 76),\n",
       " (-26, 39, 24, 89),\n",
       " (-25, -50, 25, 0),\n",
       " (-25, -45, 25, 5),\n",
       " (-25, -40, 25, 10),\n",
       " (-25, -35, 25, 15),\n",
       " (-25, -30, 25, 20),\n",
       " (-25, -25, 25, 25),\n",
       " (-25, 25, 25, 75),\n",
       " (-24, -49, 26, 1),\n",
       " (-24, -39, 26, 11),\n",
       " (-24, -24, 26, 26),\n",
       " (-24, 1, 26, 51),\n",
       " (-24, 24, 26, 74),\n",
       " (-24, 36, 26, 86),\n",
       " (-23, -48, 27, 2),\n",
       " (-23, -23, 27, 27),\n",
       " (-23, 23, 27, 73),\n",
       " (-22, -47, 28, 3),\n",
       " (-22, -42, 28, 8),\n",
       " (-22, -22, 28, 28),\n",
       " (-22, -19, 28, 31),\n",
       " (-22, -17, 28, 33),\n",
       " (-22, 22, 28, 72),\n",
       " (-21, -46, 29, 4),\n",
       " (-21, -31, 29, 19),\n",
       " (-21, -21, 29, 29),\n",
       " (-21, 21, 29, 71),\n",
       " (-20, -50, 30, 0),\n",
       " (-20, -45, 30, 5),\n",
       " (-20, -40, 30, 10),\n",
       " (-20, -20, 30, 30),\n",
       " (-20, 20, 30, 70),\n",
       " (-20, 30, 30, 80),\n",
       " (-20, 50, 30, 100),\n",
       " (-19, -44, 31, 6),\n",
       " (-19, -34, 31, 16),\n",
       " (-19, -19, 31, 31),\n",
       " (-19, 19, 31, 69),\n",
       " (-18, -48, 32, 2),\n",
       " (-18, -43, 32, 7),\n",
       " (-18, -18, 32, 32),\n",
       " (-18, 18, 32, 68),\n",
       " (-18, 27, 32, 77),\n",
       " (-17, -17, 33, 33),\n",
       " (-17, 17, 33, 67),\n",
       " (-16, -41, 34, 9),\n",
       " (-16, -16, 34, 34),\n",
       " (-16, 16, 34, 66),\n",
       " (-16, 24, 34, 74),\n",
       " (-15, -50, 35, 0),\n",
       " (-15, -35, 35, 15),\n",
       " (-15, -30, 35, 20),\n",
       " (-15, -15, 35, 35),\n",
       " (-15, 15, 35, 65),\n",
       " (-14, -14, 36, 36),\n",
       " (-14, 14, 36, 64),\n",
       " (-13, -43, 37, 7),\n",
       " (-13, -13, 37, 37),\n",
       " (-13, 13, 37, 63),\n",
       " (-12, -12, 38, 38),\n",
       " (-12, 12, 38, 62),\n",
       " (-12, 37, 38, 87),\n",
       " (-11, -46, 39, 4),\n",
       " (-11, -36, 39, 14),\n",
       " (-11, -11, 39, 39),\n",
       " (-11, 11, 39, 61),\n",
       " (-10, -20, 40, 30),\n",
       " (-10, -10, 40, 40),\n",
       " (-10, 10, 40, 60),\n",
       " (-10, 25, 40, 75),\n",
       " (-9, -49, 41, 1),\n",
       " (-9, -9, 41, 41),\n",
       " (-9, 9, 41, 59),\n",
       " (-8, -8, 42, 42),\n",
       " (-8, 8, 42, 58),\n",
       " (-8, 33, 42, 83),\n",
       " (-7, -7, 43, 43),\n",
       " (-7, 7, 43, 57),\n",
       " (-6, -41, 44, 9),\n",
       " (-6, -6, 44, 44),\n",
       " (-6, 6, 44, 56),\n",
       " (-6, 9, 44, 59),\n",
       " (-5, -10, 45, 40),\n",
       " (-5, -5, 45, 45),\n",
       " (-5, 5, 45, 55),\n",
       " (-4, -44, 46, 6),\n",
       " (-4, -4, 46, 46),\n",
       " (-4, 4, 46, 54),\n",
       " (-4, 6, 46, 56),\n",
       " (-3, -31, 47, 19),\n",
       " (-3, -3, 47, 47),\n",
       " (-3, 3, 47, 53),\n",
       " (-2, -47, 48, 3),\n",
       " (-2, -2, 48, 48),\n",
       " (-2, 2, 48, 52),\n",
       " (-2, 3, 48, 53),\n",
       " (-2, 27, 48, 77),\n",
       " (-1, -1, 49, 49),\n",
       " (-1, 1, 49, 51),\n",
       " (-1, 26, 49, 76),\n",
       " (0, -35, 50, 15),\n",
       " (0, 0, 50, 50),\n",
       " (0, 35, 50, 85),\n",
       " (1, -26, 51, 24),\n",
       " (1, -1, 51, 49),\n",
       " (1, 1, 51, 51),\n",
       " (2, -27, 52, 23),\n",
       " (2, -3, 52, 47),\n",
       " (2, -2, 52, 48),\n",
       " (2, 2, 52, 52),\n",
       " (2, 47, 52, 97),\n",
       " (3, -3, 53, 47),\n",
       " (3, 3, 53, 53),\n",
       " (3, 31, 53, 81),\n",
       " (4, -6, 54, 44),\n",
       " (4, -4, 54, 46),\n",
       " (4, 4, 54, 54),\n",
       " (4, 44, 54, 94),\n",
       " (5, -5, 55, 45),\n",
       " (5, 5, 55, 55),\n",
       " (5, 10, 55, 60),\n",
       " (6, -9, 56, 41),\n",
       " (6, -6, 56, 44),\n",
       " (6, 6, 56, 56),\n",
       " (6, 41, 56, 91),\n",
       " (7, -7, 57, 43),\n",
       " (7, 7, 57, 57),\n",
       " (8, -33, 58, 17),\n",
       " (8, -8, 58, 42),\n",
       " (8, 8, 58, 58),\n",
       " (9, -9, 59, 41),\n",
       " (9, 9, 59, 59),\n",
       " (9, 49, 59, 99),\n",
       " (10, -25, 60, 25),\n",
       " (10, -10, 60, 40),\n",
       " (10, 10, 60, 60),\n",
       " (10, 20, 60, 70),\n",
       " (11, -11, 61, 39),\n",
       " (11, 11, 61, 61),\n",
       " (11, 36, 61, 86),\n",
       " (11, 46, 61, 96),\n",
       " (12, -37, 62, 13),\n",
       " (12, -12, 62, 38),\n",
       " (12, 12, 62, 62),\n",
       " (13, -13, 63, 37),\n",
       " (13, 13, 63, 63),\n",
       " (13, 43, 63, 93),\n",
       " (14, -14, 64, 36),\n",
       " (14, 14, 64, 64),\n",
       " (15, -15, 65, 35),\n",
       " (15, 15, 65, 65),\n",
       " (15, 30, 65, 80),\n",
       " (15, 35, 65, 85),\n",
       " (15, 50, 65, 100),\n",
       " (16, -24, 66, 26),\n",
       " (16, -16, 66, 34),\n",
       " (16, 16, 66, 66),\n",
       " (16, 41, 66, 91),\n",
       " (17, -17, 67, 33),\n",
       " (17, 17, 67, 67),\n",
       " (18, -27, 68, 23),\n",
       " (18, -18, 68, 32),\n",
       " (18, 18, 68, 68),\n",
       " (18, 43, 68, 93),\n",
       " (18, 48, 68, 98),\n",
       " (19, -19, 69, 31),\n",
       " (19, 19, 69, 69),\n",
       " (19, 34, 69, 84),\n",
       " (19, 44, 69, 94),\n",
       " (20, -50, 70, 0),\n",
       " (20, -30, 70, 20),\n",
       " (20, -20, 70, 30),\n",
       " (20, 20, 70, 70),\n",
       " (20, 40, 70, 90),\n",
       " (20, 45, 70, 95),\n",
       " (20, 50, 70, 100),\n",
       " (21, -21, 71, 29),\n",
       " (21, 21, 71, 71),\n",
       " (21, 31, 71, 81),\n",
       " (21, 46, 71, 96),\n",
       " (22, -22, 72, 28),\n",
       " (22, 17, 72, 67),\n",
       " (22, 19, 72, 69),\n",
       " (22, 22, 72, 72),\n",
       " (22, 42, 72, 92),\n",
       " (22, 47, 72, 97),\n",
       " (23, -23, 73, 27),\n",
       " (23, 23, 73, 73),\n",
       " (23, 48, 73, 98),\n",
       " (24, -36, 74, 14),\n",
       " (24, -24, 74, 26),\n",
       " (24, -1, 74, 49),\n",
       " (24, 24, 74, 74),\n",
       " (24, 39, 74, 89),\n",
       " (24, 49, 74, 99),\n",
       " (25, -25, 75, 25),\n",
       " (25, 25, 75, 75),\n",
       " (25, 30, 75, 80),\n",
       " (25, 35, 75, 85),\n",
       " (25, 40, 75, 90),\n",
       " (25, 45, 75, 95),\n",
       " (25, 50, 75, 100),\n",
       " (26, -39, 76, 11),\n",
       " (26, -26, 76, 24),\n",
       " (26, 26, 76, 76),\n",
       " (26, 36, 76, 86),\n",
       " (27, -27, 77, 23),\n",
       " (27, 22, 77, 72),\n",
       " (27, 27, 77, 77),\n",
       " (27, 47, 77, 97),\n",
       " (28, -42, 78, 8),\n",
       " (28, -28, 78, 22),\n",
       " (28, 28, 78, 78),\n",
       " (28, 33, 78, 83),\n",
       " (29, -29, 79, 21),\n",
       " (29, 8, 79, 58),\n",
       " (29, 29, 79, 79),\n",
       " (29, 44, 79, 94),\n",
       " (30, -30, 80, 20),\n",
       " (30, 20, 80, 70),\n",
       " (30, 25, 80, 75),\n",
       " (30, 30, 80, 80),\n",
       " (30, 35, 80, 85),\n",
       " (30, 40, 80, 90),\n",
       " (30, 45, 80, 95),\n",
       " (30, 50, 80, 100),\n",
       " (31, -31, 81, 19),\n",
       " (31, 6, 81, 56),\n",
       " (31, 16, 81, 66),\n",
       " (31, 31, 81, 81),\n",
       " (31, 41, 81, 91),\n",
       " (32, -48, 82, 2),\n",
       " (32, -32, 82, 18),\n",
       " (32, 27, 82, 77),\n",
       " (32, 32, 82, 82),\n",
       " (32, 39, 82, 89),\n",
       " (32, 47, 82, 97),\n",
       " (33, -33, 83, 17),\n",
       " (33, 33, 83, 83),\n",
       " (33, 38, 83, 88),\n",
       " (34, -34, 84, 16),\n",
       " (34, 18, 84, 68),\n",
       " (34, 24, 84, 74),\n",
       " (34, 34, 84, 84),\n",
       " (34, 49, 84, 99),\n",
       " (35, -35, 85, 15),\n",
       " (35, 0, 85, 50),\n",
       " (35, 10, 85, 60),\n",
       " (35, 25, 85, 75),\n",
       " (35, 30, 85, 80),\n",
       " (35, 35, 85, 85),\n",
       " (35, 40, 85, 90),\n",
       " (35, 45, 85, 95),\n",
       " (35, 50, 85, 100),\n",
       " (36, -36, 86, 14),\n",
       " (36, 21, 86, 71),\n",
       " (36, 36, 86, 86),\n",
       " (36, 46, 86, 96),\n",
       " (37, -37, 87, 13),\n",
       " (37, -12, 87, 38),\n",
       " (37, 32, 87, 82),\n",
       " (37, 37, 87, 87),\n",
       " (37, 49, 87, 99),\n",
       " (38, -38, 88, 12),\n",
       " (38, 18, 88, 68),\n",
       " (38, 38, 88, 88),\n",
       " (38, 43, 88, 93),\n",
       " (39, -39, 89, 11),\n",
       " (39, 14, 89, 64),\n",
       " (39, 28, 89, 78),\n",
       " (39, 29, 89, 79),\n",
       " (39, 39, 89, 89),\n",
       " (40, -40, 90, 10),\n",
       " (40, 5, 90, 55),\n",
       " (40, 10, 90, 60),\n",
       " (40, 15, 90, 65),\n",
       " (40, 20, 90, 70),\n",
       " (40, 25, 90, 75),\n",
       " (40, 30, 90, 80),\n",
       " (40, 35, 90, 85),\n",
       " (40, 40, 90, 90),\n",
       " (40, 45, 90, 95),\n",
       " (40, 50, 90, 100),\n",
       " (41, -41, 91, 9),\n",
       " (41, -16, 91, 34),\n",
       " (41, 1, 91, 51),\n",
       " (41, 16, 91, 66),\n",
       " (41, 26, 91, 76),\n",
       " (41, 41, 91, 91),\n",
       " (42, -42, 92, 8),\n",
       " (42, 12, 92, 62),\n",
       " (42, 17, 92, 67),\n",
       " (42, 37, 92, 87),\n",
       " (42, 42, 92, 92),\n",
       " (43, -43, 93, 7),\n",
       " (43, 18, 93, 68),\n",
       " (43, 23, 93, 73),\n",
       " (43, 32, 93, 82),\n",
       " (43, 43, 93, 93),\n",
       " (43, 48, 93, 98),\n",
       " (44, -44, 94, 6),\n",
       " (44, -6, 94, 44),\n",
       " (44, 19, 94, 69),\n",
       " (44, 34, 94, 84),\n",
       " (44, 38, 94, 88),\n",
       " (44, 44, 94, 94),\n",
       " (45, -45, 95, 5),\n",
       " (45, -10, 95, 40),\n",
       " (45, 0, 95, 50),\n",
       " (45, 5, 95, 55),\n",
       " (45, 10, 95, 60),\n",
       " (45, 15, 95, 65),\n",
       " (45, 20, 95, 70),\n",
       " (45, 25, 95, 75),\n",
       " (45, 30, 95, 80),\n",
       " (45, 35, 95, 85),\n",
       " (45, 40, 95, 90),\n",
       " (45, 45, 95, 95),\n",
       " (45, 50, 95, 100),\n",
       " (46, -46, 96, 4),\n",
       " (46, -4, 96, 46),\n",
       " (46, 17, 96, 67),\n",
       " (46, 21, 96, 71),\n",
       " (46, 29, 96, 79),\n",
       " (46, 31, 96, 81),\n",
       " (46, 46, 96, 96),\n",
       " (47, -47, 97, 3),\n",
       " (47, 3, 97, 53),\n",
       " (47, 17, 97, 67),\n",
       " (47, 22, 97, 72),\n",
       " (47, 28, 97, 78),\n",
       " (47, 42, 97, 92),\n",
       " (47, 47, 97, 97),\n",
       " (48, -48, 98, 2),\n",
       " (48, -4, 98, 46),\n",
       " (48, -2, 98, 48),\n",
       " (48, 3, 98, 53),\n",
       " (48, 23, 98, 73),\n",
       " (48, 27, 98, 77),\n",
       " (48, 28, 98, 78),\n",
       " (48, 48, 98, 98),\n",
       " (49, -49, 99, 1),\n",
       " (49, 14, 99, 64),\n",
       " (49, 24, 99, 74),\n",
       " (49, 39, 99, 89),\n",
       " (49, 48, 99, 98),\n",
       " (49, 49, 99, 99),\n",
       " (50, -50, 100, 0),\n",
       " (50, -5, 100, 45),\n",
       " (50, 0, 100, 50),\n",
       " (50, 5, 100, 55),\n",
       " (50, 10, 100, 60),\n",
       " (50, 15, 100, 65),\n",
       " (50, 20, 100, 70),\n",
       " (50, 25, 100, 75),\n",
       " (50, 30, 100, 80),\n",
       " (50, 35, 100, 85),\n",
       " (50, 40, 100, 90),\n",
       " (50, 45, 100, 95),\n",
       " (50, 50, 100, 100)]"
      ]
     },
     "execution_count": 423,
     "metadata": {},
     "output_type": "execute_result"
    }
   ],
   "source": [
    "D = deg_2_alter4(-50,50,-50,50,21)\n",
    "int_sqnc_check(D,-50,-50)"
   ]
  },
  {
   "cell_type": "code",
   "execution_count": 451,
   "metadata": {},
   "outputs": [
    {
     "data": {
      "text/plain": [
       "array([ 0.0000000e+00,  0.0000000e+00,  0.0000000e+00,  0.0000000e+00,\n",
       "        0.0000000e+00,  0.0000000e+00,  0.0000000e+00, -3.7252903e-09,\n",
       "        0.0000000e+00,  0.0000000e+00,  0.0000000e+00,  0.0000000e+00,\n",
       "        0.0000000e+00,  0.0000000e+00,  0.0000000e+00,  0.0000000e+00,\n",
       "        0.0000000e+00,  0.0000000e+00,  0.0000000e+00,  0.0000000e+00,\n",
       "        0.0000000e+00])"
      ]
     },
     "execution_count": 451,
     "metadata": {},
     "output_type": "execute_result"
    }
   ],
   "source": [
    "D[74,14]-np.around(D[74,14]) # (24,-36)"
   ]
  },
  {
   "cell_type": "markdown",
   "metadata": {},
   "source": [
    "16,41"
   ]
  },
  {
   "cell_type": "code",
   "execution_count": 484,
   "metadata": {
    "scrolled": true
   },
   "outputs": [
    {
     "data": {
      "text/plain": [
       "array([[[            nan, 1.00000000e+000, 4.90000000e+001,\n",
       "         4.85100000e+003, 3.60549000e+005, 5.43536910e+007,\n",
       "         3.50063816e+009, 6.75177257e+011, 4.62511260e+013,\n",
       "         6.84958020e+015, 6.34617755e+017, 1.22074474e+020,\n",
       "         6.70738559e+021, 1.71949001e+024, 1.28547446e+026,\n",
       "         1.64723374e+028, 1.63399940e+030, 3.60538438e+032,\n",
       "         2.13176616e+034, 5.32511222e+036, 3.24819770e+038,\n",
       "         5.46080025e+040, 6.21730825e+042, 1.19447897e+045,\n",
       "         6.11943499e+046, 1.51692165e+049, 1.43393184e+051,\n",
       "         1.92824627e+053, 1.76389122e+055, 4.21666717e+057,\n",
       "         2.25000207e+059, 6.48313318e+061, 4.21705299e+063,\n",
       "         7.08791793e+065, 8.06812254e+067, 1.16232533e+070,\n",
       "         7.85103500e+071, 2.40758165e+074, 1.95257120e+076,\n",
       "         2.67892790e+078, 2.13449468e+080, 5.85699182e+082,\n",
       "         3.28123206e+084, 9.16722455e+086, 6.14882105e+088,\n",
       "         8.47921171e+090, 1.17623740e+093, 2.25923912e+095,\n",
       "         1.11984098e+097, 3.11943920e+099, 2.44816443e+101,\n",
       "         4.04913323e+103, 3.80924115e+105, 8.85196668e+107,\n",
       "         5.10058907e+109, 1.08851960e+112, 8.36284095e+113,\n",
       "         1.60624074e+116, 1.82819665e+118, 3.51138338e+120,\n",
       "         1.60577105e+122, 5.57139544e+124, 4.60730114e+126,\n",
       "         5.44560418e+128, 5.71000799e+130, 1.10540558e+133,\n",
       "         8.25654675e+134, 2.23878065e+137, 1.54706647e+139,\n",
       "         2.59996147e+141, 2.21939121e+143, 5.68357590e+145,\n",
       "         2.68705759e+147, 9.06644274e+149, 7.53564615e+151,\n",
       "         8.87074370e+153, 1.00602720e+156, 1.87854784e+158,\n",
       "         1.37448386e+160, 3.69584787e+162, 2.03538232e+164,\n",
       "         4.00615894e+166, 4.92603335e+168, 9.46112341e+170,\n",
       "         4.54284415e+172, 1.20644002e+175, 1.26388911e+177,\n",
       "         1.78014285e+179, 1.51955558e+181, 3.89134179e+183,\n",
       "         1.91636677e+185, 5.12659351e+187, 4.37612643e+189,\n",
       "         7.35429820e+191, 8.37029198e+193, 1.28609659e+196,\n",
       "         7.84162132e+197, 2.58185443e+200, 1.89458019e+202,\n",
       "         2.65910591e+204, 2.44766227e+206, 6.66748293e+208,\n",
       "         4.03142941e+210, 1.07208710e+213, 6.79821028e+214,\n",
       "         9.52057147e+216, 1.44477252e+219, 2.77485863e+221,\n",
       "         1.37042921e+223, 4.46654655e+225, 2.91246428e+227,\n",
       "         5.29932409e+229, 4.15874219e+231, 1.15839945e+234,\n",
       "         7.04533058e+235, 1.50348624e+238, 1.32005462e+240,\n",
       "         1.95024407e+242, 2.52485781e+244, 4.04106590e+246,\n",
       "         2.06968780e+248, 7.17306121e+250, 6.56737774e+252,\n",
       "         9.30988569e+254, 8.94034401e+256, 1.64371379e+259,\n",
       "         1.05231239e+261, 3.28426143e+263, 2.11084264e+265,\n",
       "         3.91590057e+267, 3.50180538e+269, 8.55986229e+271,\n",
       "         4.30575719e+273, 1.15775556e+276, 1.16266522e+278,\n",
       "         1.26538168e+280, 1.44018041e+282, 3.60785774e+284,\n",
       "         2.21352168e+286, 5.83036788e+288]]])"
      ]
     },
     "execution_count": 484,
     "metadata": {},
     "output_type": "execute_result"
    }
   ],
   "source": [
    "A = deg_2_alter4(2,2,47,47,140)\n",
    "A - np.around(A)\n",
    "\n",
    "B = A/deg_2_sqnc(-24,-24,36,36,140)\n",
    "B"
   ]
  },
  {
   "cell_type": "code",
   "execution_count": 485,
   "metadata": {
    "scrolled": false
   },
   "outputs": [
    {
     "data": {
      "text/plain": [
       "array([[[       nan,  0.       ,  0.       ,  0.       ,  0.       ,\n",
       "          0.       ,  0.       ,  0.       , -0.1171875,  0.       ,\n",
       "          0.       ,  0.       ,  0.       ,  0.       ,  0.       ,\n",
       "          0.       ,  0.       ,  0.       ,  0.       ,  0.       ,\n",
       "          0.       ,  0.       ,  0.       ,  0.       ,  0.       ,\n",
       "          0.       ,  0.       ,  0.       ,  0.       ,  0.       ,\n",
       "          0.       ,  0.       ,  0.       ,  0.       ,  0.       ,\n",
       "          0.       ,  0.       ,  0.       ,  0.       ,  0.       ,\n",
       "          0.       ,  0.       ,  0.       ,  0.       ,  0.       ,\n",
       "          0.       ,  0.       ,  0.       ,  0.       ,  0.       ,\n",
       "          0.       ,  0.       ,  0.       ,  0.       ,  0.       ,\n",
       "          0.       ,  0.       ,  0.       ,  0.       ,  0.       ,\n",
       "          0.       ,  0.       ,  0.       ,  0.       ,  0.       ,\n",
       "          0.       ,  0.       ,  0.       ,  0.       ,  0.       ,\n",
       "          0.       ,  0.       ,  0.       ,  0.       ,  0.       ,\n",
       "          0.       ,  0.       ,  0.       ,  0.       ,  0.       ,\n",
       "          0.       ,  0.       ,  0.       ,  0.       ,  0.       ,\n",
       "          0.       ,  0.       ,  0.       ,  0.       ,  0.       ,\n",
       "          0.       ,  0.       ,  0.       ,  0.       ,  0.       ,\n",
       "          0.       ,  0.       ,  0.       ,  0.       ,  0.       ,\n",
       "          0.       ,  0.       ,  0.       ,  0.       ,  0.       ,\n",
       "          0.       ,  0.       ,  0.       ,  0.       ,  0.       ,\n",
       "          0.       ,  0.       ,  0.       ,  0.       ,  0.       ,\n",
       "          0.       ,  0.       ,  0.       ,  0.       ,  0.       ,\n",
       "          0.       ,  0.       ,  0.       ,  0.       ,  0.       ,\n",
       "          0.       ,  0.       ,  0.       ,  0.       ,  0.       ,\n",
       "          0.       ,  0.       ,  0.       ,  0.       ,  0.       ,\n",
       "          0.       ,  0.       ,  0.       ,  0.       ,  0.       ]]])"
      ]
     },
     "execution_count": 485,
     "metadata": {},
     "output_type": "execute_result"
    }
   ],
   "source": [
    "B-np.around(B)"
   ]
  },
  {
   "cell_type": "code",
   "execution_count": 487,
   "metadata": {},
   "outputs": [
    {
     "data": {
      "text/plain": [
       "array([[[0.  , 0.  , 0.  , 0.  , 0.  , 0.  , 0.  , 0.  , 0.25, 0.  ,\n",
       "         0.  , 0.  , 0.  , 0.  , 0.  , 0.  , 0.  , 0.  , 0.  , 0.  ,\n",
       "         0.  , 0.  , 0.  , 0.  , 0.  , 0.  , 0.  , 0.  , 0.  , 0.  ,\n",
       "         0.  , 0.  , 0.  , 0.  , 0.  , 0.  , 0.  , 0.  , 0.  , 0.  ,\n",
       "         0.  , 0.  , 0.  , 0.  , 0.  , 0.  , 0.  , 0.  , 0.  , 0.  ,\n",
       "         0.  , 0.  , 0.  , 0.  , 0.  , 0.  , 0.  , 0.  , 0.  , 0.  ,\n",
       "         0.  , 0.  , 0.  , 0.  , 0.  , 0.  , 0.  , 0.  , 0.  , 0.  ,\n",
       "         0.  , 0.  , 0.  , 0.  , 0.  , 0.  , 0.  , 0.  , 0.  , 0.  ,\n",
       "         0.  , 0.  , 0.  , 0.  , 0.  , 0.  , 0.  , 0.  , 0.  , 0.  ,\n",
       "         0.  , 0.  , 0.  , 0.  , 0.  , 0.  , 0.  , 0.  , 0.  , 0.  ,\n",
       "         0.  , 0.  , 0.  , 0.  , 0.  , 0.  , 0.  , 0.  , 0.  , 0.  ,\n",
       "         0.  , 0.  , 0.  , 0.  , 0.  , 0.  , 0.  , 0.  , 0.  , 0.  ,\n",
       "         0.  , 0.  , 0.  , 0.  , 0.  , 0.  , 0.  , 0.  , 0.  , 0.  ,\n",
       "         0.  , 0.  , 0.  , 0.  , 0.  , 0.  , 0.  , 0.  , 0.  , 0.  ]]])"
      ]
     },
     "execution_count": 487,
     "metadata": {},
     "output_type": "execute_result"
    }
   ],
   "source": [
    "A-np.around(A)"
   ]
  },
  {
   "cell_type": "markdown",
   "metadata": {},
   "source": [
    "$$\n",
    "\\tau(n) = \\frac{12}{n^2(n-1)}\\sum_{u+v=n}(2u^2+47uv)\\tau(u)\\tau(v) = \\frac{1}{n^2(n-1)}\\sum_{u+v=n}(24u^2 + 546uv)\\tau(u)\\tau(v)\n",
    "$$\n",
    "As is (hopefully) shown above, $\\tau(n) = \\varphi(n)\\sigma(n)$, where $\\varphi(n)$ is some kind of sequence of integers??? I don't know about that 9th term, but it seems to stabilize as integers after that."
   ]
  },
  {
   "cell_type": "code",
   "execution_count": 488,
   "metadata": {},
   "outputs": [
    {
     "data": {
      "text/plain": [
       "array([0.   , 0.   , 0.   , 0.   , 0.   , 0.   , 0.   , 0.   , 0.375,\n",
       "       0.   , 0.   , 0.   , 0.   , 0.   , 0.   , 0.   , 0.   , 0.   ,\n",
       "       0.   , 0.   , 0.   ])"
      ]
     },
     "execution_count": 488,
     "metadata": {},
     "output_type": "execute_result"
    }
   ],
   "source": [
    "D[54,94] - np.around(D[54,94])"
   ]
  },
  {
   "cell_type": "markdown",
   "metadata": {},
   "source": [
    "$$\n",
    "\\tau(n) = \\frac{12}{n^2(n-1)}\\sum_{u+v=n}(4u^2+44uv)\\tau(u)\\tau(v) = \\frac{1}{n^2(n-1)}\\sum{u+v=n}(24u^2 + 528uv)\\tau(u)\\tau(v)\n",
    "$$\n",
    "Same thing happens here, even with the 9th term. I have no idea what these are all about, or whether these are even sequences of integers at all."
   ]
  }
 ],
 "metadata": {
  "kernelspec": {
   "display_name": "Python 3",
   "language": "python",
   "name": "python3"
  },
  "language_info": {
   "codemirror_mode": {
    "name": "ipython",
    "version": 3
   },
   "file_extension": ".py",
   "mimetype": "text/x-python",
   "name": "python",
   "nbconvert_exporter": "python",
   "pygments_lexer": "ipython3",
   "version": "3.7.6"
  }
 },
 "nbformat": 4,
 "nbformat_minor": 4
}
