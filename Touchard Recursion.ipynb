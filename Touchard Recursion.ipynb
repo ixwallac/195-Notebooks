{
 "cells": [
  {
   "cell_type": "code",
   "execution_count": 209,
   "metadata": {},
   "outputs": [],
   "source": [
    "import numpy as np"
   ]
  },
  {
   "cell_type": "markdown",
   "metadata": {},
   "source": [
    "## Linear Case"
   ]
  },
  {
   "cell_type": "code",
   "execution_count": 210,
   "metadata": {},
   "outputs": [],
   "source": [
    "def deg_1_array(a_min,a_max,b_min,b_max,seq_length):\n",
    "    a_len = a_max+1 - a_min\n",
    "    b_len = b_max+1 - b_min\n",
    "    \n",
    "    a_range = np.arange(a_min, a_max+1)\n",
    "    b_range = np.arange(b_min, b_max+1)\n",
    "    u_range = np.arange(seq_length)\n",
    "    v_range = u_range\n",
    "    \n",
    "    au_array = np.multiply.outer(a_range,u_range) # a x u\n",
    "    bv_array = np.multiply.outer(b_range,v_range) # b x v\n",
    "    \n",
    "    temp_array = np.add.outer(au_array, bv_array) # a x u x b x v\n",
    "    \n",
    "    final_array = np.swapaxes(temp_array, 1,2)\n",
    "    \n",
    "    return final_array\n",
    "\n",
    "\n",
    "def deg_1_sqnc(a_min,a_max,b_min,b_max,seq_length):\n",
    "    a_len = a_max+1 - a_min\n",
    "    b_len = b_max+1 - b_min\n",
    "    \n",
    "    coeff_array = deg_1_array(a_min,a_max,b_min,b_max,seq_length)\n",
    "    seq = np.zeros(seq_length)\n",
    "    seq[1] = 1\n",
    "    seq_array = np.broadcast_to(seq, (a_len,b_len,seq_length)).copy()\n",
    "    \n",
    "    flipped_array = coeff_array[:,:,::-1,:]\n",
    "    for n in range(2,seq_length):\n",
    "        diag = np.diagonal(flipped_array, -seq_length+n+1, axis1 = 2, axis2 = 3)[:,:,1:n]\n",
    "        vec_A = diag*seq_array[:,:,1:n]\n",
    "        vec_B = seq_array[:,:,n-1:0:-1]\n",
    "        seq_array[:,:,n] = (1/(n*(n-1)))*np.sum(vec_A*vec_B,axis=2)\n",
    "    \n",
    "    return seq_array"
   ]
  },
  {
   "cell_type": "code",
   "execution_count": 274,
   "metadata": {},
   "outputs": [
    {
     "data": {
      "text/plain": [
       "array([[[ 0.00000000e+00,  1.00000000e+00, -5.00000000e-01,\n",
       "          2.50000000e-01, -1.25000000e-01,  6.25000000e-02,\n",
       "         -3.12500000e-02,  1.56250000e-02, -7.81250000e-03,\n",
       "          3.90625000e-03, -1.95312500e-03,  9.76562500e-04,\n",
       "         -4.88281250e-04,  2.44140625e-04, -1.22070312e-04,\n",
       "          6.10351562e-05, -3.05175781e-05,  1.52587891e-05,\n",
       "         -7.62939453e-06,  3.81469727e-06, -1.90734863e-06]]])"
      ]
     },
     "execution_count": 274,
     "metadata": {},
     "output_type": "execute_result"
    }
   ],
   "source": [
    "deg_1_sqnc(-5,-5,4,4,21)"
   ]
  },
  {
   "cell_type": "markdown",
   "metadata": {},
   "source": [
    "## Quadratic Case"
   ]
  },
  {
   "cell_type": "code",
   "execution_count": 212,
   "metadata": {},
   "outputs": [],
   "source": [
    "def deg_2_array(a_min,a_max,b_min,b_max,seq_length):\n",
    "    a_len = a_max+1 - a_min\n",
    "    b_len = b_max+1 - b_min\n",
    "    \n",
    "    a_range = np.arange(a_min, a_max+1)\n",
    "    b_range = np.arange(b_min, b_max+1)\n",
    "    u_range = np.arange(seq_length)\n",
    "    v_range = u_range\n",
    "    \n",
    "    au_squared_matrix = np.multiply.outer(a_range, u_range*u_range) # a x u\n",
    "    au_tensor = np.broadcast_to(au_squared_matrix,(seq_length,b_len,a_len,seq_length)) # k x b x a x k\n",
    "    #k,b,a,k --> a,b,k,k\n",
    "    \n",
    "    bu_matrix = np.multiply.outer(b_range,u_range) # b_len x seq_length\n",
    "    buv_matrix = np.multiply.outer(bu_matrix,v_range) # b_len x seq_len x seq_len\n",
    "    buv_tensor = np.broadcast_to(buv_matrix,(a_len,b_len,seq_length,seq_length))\n",
    "    \n",
    "    corrected_au_tensor = np.swapaxes(au_tensor, 0,2)\n",
    "    #corrected_buv_tensor = np.swapaxes(buv_tensor, 2,3)\n",
    "    \n",
    "    tensor = corrected_au_tensor + buv_tensor\n",
    "    \n",
    "    P_array = np.swapaxes(tensor, 2,3)\n",
    "    \n",
    "    return P_array\n",
    "\n",
    "\n",
    "def deg_2_sqnc(a_min,a_max,b_min,b_max,seq_length):\n",
    "    a_len = a_max+1 - a_min\n",
    "    b_len = b_max+1 - b_min\n",
    "    \n",
    "    coeff_array = deg_2_array(a_min,a_max,b_min,b_max,seq_length)\n",
    "    seq = np.zeros(seq_length)\n",
    "    seq[1] = 1\n",
    "    seq_array = np.broadcast_to(seq, (a_len,b_len,seq_length)).copy()\n",
    "    \n",
    "    flipped_array = coeff_array[:,:,::-1,:]\n",
    "    for n in range(2,seq_length):\n",
    "        diag = np.diagonal(flipped_array, -seq_length+n+1, axis1 = 2, axis2 = 3)[:,:,1:n]\n",
    "        vec_A = diag*seq_array[:,:,1:n]\n",
    "        vec_B = seq_array[:,:,n-1:0:-1]\n",
    "        seq_array[:,:,n] = (1/((n*n)*(n-1)))*np.sum(vec_A*vec_B,axis=2)\n",
    "    \n",
    "    return seq_array"
   ]
  },
  {
   "cell_type": "code",
   "execution_count": 213,
   "metadata": {},
   "outputs": [
    {
     "data": {
      "text/plain": [
       "array([[[ 0.,  1.,  3.,  4.,  7.,  6., 12.,  8., 15., 13., 18., 12.,\n",
       "         28., 14., 24., 24., 31., 18., 39., 20., 42.]]])"
      ]
     },
     "execution_count": 213,
     "metadata": {},
     "output_type": "execute_result"
    }
   ],
   "source": [
    "deg_2_sqnc(-24,-24,36,36,21)"
   ]
  },
  {
   "cell_type": "markdown",
   "metadata": {},
   "source": [
    "## Cubic Case"
   ]
  },
  {
   "cell_type": "code",
   "execution_count": 214,
   "metadata": {},
   "outputs": [],
   "source": [
    "def deg_3_array(a_min,a_max,b_min,b_max,seq_length):\n",
    "    a_len = a_max+1 - a_min\n",
    "    b_len = b_max+1 - b_min\n",
    "    \n",
    "    a_range = np.arange(a_min, a_max+1)\n",
    "    b_range = np.arange(b_min, b_max+1)\n",
    "    u_range = np.arange(seq_length)\n",
    "    v_range = u_range\n",
    "    \n",
    "    au_squared_matrix = np.multiply.outer(a_range, u_range*u_range*u_range) # a x u^3\n",
    "    au_tensor = np.broadcast_to(au_squared_matrix,(seq_length,b_len,a_len,seq_length)) # k x b x a x k\n",
    "    #k,b,a,k --> a,b,k,k\n",
    "    \n",
    "    bu_matrix = np.multiply.outer(b_range,u_range*u_range) # b x u^2\n",
    "    buv_matrix = np.multiply.outer(bu_matrix,v_range) # b x u^2 x v\n",
    "    buv_tensor = np.broadcast_to(buv_matrix,(a_len,b_len,seq_length,seq_length)) # a x b x k x k\n",
    "    \n",
    "    corrected_au_tensor = np.swapaxes(au_tensor, 0,2)\n",
    "    #corrected_buv_tensor = np.swapaxes(buv_tensor, 2,3)\n",
    "    \n",
    "    tensor = corrected_au_tensor + buv_tensor\n",
    "    \n",
    "    P_array = np.swapaxes(tensor, 2,3)\n",
    "    \n",
    "    return P_array\n",
    "\n",
    "\n",
    "def deg_3_sqnc(a_min,a_max,b_min,b_max,seq_length):\n",
    "    a_len = a_max+1 - a_min\n",
    "    b_len = b_max+1 - b_min\n",
    "    \n",
    "    coeff_array = deg_3_array(a_min,a_max,b_min,b_max,seq_length)\n",
    "    seq = np.zeros(seq_length)\n",
    "    seq[1] = 1\n",
    "    seq_array = np.broadcast_to(seq, (a_len,b_len,seq_length)).copy()\n",
    "    \n",
    "    flipped_array = coeff_array[:,:,::-1,:]\n",
    "    for n in range(2,seq_length):\n",
    "        diag = np.diagonal(flipped_array, -seq_length+n+1, axis1 = 2, axis2 = 3)[:,:,1:n]\n",
    "        vec_A = diag*seq_array[:,:,1:n]\n",
    "        vec_B = seq_array[:,:,n-1:0:-1]\n",
    "        seq_array[:,:,n] = (1/((n**3)*(n-1)))*np.sum(vec_A*vec_B,axis=2)\n",
    "    \n",
    "    return seq_array"
   ]
  },
  {
   "cell_type": "code",
   "execution_count": 215,
   "metadata": {},
   "outputs": [
    {
     "data": {
      "text/plain": [
       "array([[[0.00000000e+00, 1.00000000e+00, 3.00000000e+00, 9.00000000e+00,\n",
       "         2.70000000e+01, 8.10000000e+01, 2.43000000e+02, 7.29000000e+02,\n",
       "         2.18700000e+03, 6.56100000e+03, 1.96830000e+04, 5.90490000e+04,\n",
       "         1.77147000e+05, 5.31441000e+05, 1.59432300e+06, 4.78296900e+06,\n",
       "         1.43489070e+07, 4.30467210e+07, 1.29140163e+08, 3.87420489e+08,\n",
       "         1.16226147e+09]]])"
      ]
     },
     "execution_count": 215,
     "metadata": {},
     "output_type": "execute_result"
    }
   ],
   "source": [
    "deg_3_sqnc(6,6,18,18,21)"
   ]
  },
  {
   "cell_type": "markdown",
   "metadata": {},
   "source": [
    "## Catalan Numbers"
   ]
  },
  {
   "cell_type": "code",
   "execution_count": 216,
   "metadata": {},
   "outputs": [],
   "source": [
    "def catalan(length):\n",
    "    catlist = np.zeros(length)\n",
    "    catlist[1] = 1\n",
    "    for n in range(2,length):\n",
    "        vec_A = catlist[1:n]\n",
    "        vec_B = catlist[n-1:0:-1]\n",
    "        catlist[n] = np.dot(vec_A,vec_B)\n",
    "\n",
    "    return catlist"
   ]
  },
  {
   "cell_type": "code",
   "execution_count": 217,
   "metadata": {
    "scrolled": true
   },
   "outputs": [
    {
     "data": {
      "text/plain": [
       "1.0"
      ]
     },
     "execution_count": 217,
     "metadata": {},
     "output_type": "execute_result"
    }
   ],
   "source": [
    "catalan(21)[1]"
   ]
  },
  {
   "cell_type": "markdown",
   "metadata": {},
   "source": [
    "## Checking for Geometric Sequences"
   ]
  },
  {
   "cell_type": "markdown",
   "metadata": {},
   "source": [
    "Just some preliminary goofing off"
   ]
  },
  {
   "cell_type": "code",
   "execution_count": 218,
   "metadata": {},
   "outputs": [],
   "source": [
    "A = np.arange(1,13).reshape(2,2,3)"
   ]
  },
  {
   "cell_type": "code",
   "execution_count": 219,
   "metadata": {
    "scrolled": true
   },
   "outputs": [
    {
     "data": {
      "text/plain": [
       "array([[[2.        , 1.5       ],\n",
       "        [1.25      , 1.2       ]],\n",
       "\n",
       "       [[1.14285714, 1.125     ],\n",
       "        [1.1       , 1.09090909]]])"
      ]
     },
     "execution_count": 219,
     "metadata": {},
     "output_type": "execute_result"
    }
   ],
   "source": [
    "A[:,:,1:]/A[:,:,:2]"
   ]
  },
  {
   "cell_type": "code",
   "execution_count": 221,
   "metadata": {},
   "outputs": [
    {
     "data": {
      "text/plain": [
       "(2, 2, 3)"
      ]
     },
     "execution_count": 221,
     "metadata": {},
     "output_type": "execute_result"
    }
   ],
   "source": [
    "A.shape"
   ]
  },
  {
   "cell_type": "code",
   "execution_count": 222,
   "metadata": {},
   "outputs": [
    {
     "data": {
      "text/plain": [
       "21"
      ]
     },
     "execution_count": 222,
     "metadata": {},
     "output_type": "execute_result"
    }
   ],
   "source": [
    "deg_2_sqnc(-20,20,-20,20,21).shape[2]"
   ]
  },
  {
   "cell_type": "code",
   "execution_count": 245,
   "metadata": {},
   "outputs": [],
   "source": [
    "def array_div(A): # input is 3d array\n",
    "    orig_sqnc_len = A.shape[2]\n",
    "    \n",
    "    shift_1 = A[:,:,2::] # starts each sequence at their first index\n",
    "    shift_2 = A[:,:,1:orig_sqnc_len-1:] # then at their second index\n",
    "    \n",
    "    div_array = np.divide(shift_1,shift_2, out=np.zeros_like(shift_1), where=shift_2!=0)\n",
    "    # puts a zero wherever it had to divide by zero\n",
    "    \n",
    "    return div_array"
   ]
  },
  {
   "cell_type": "code",
   "execution_count": 249,
   "metadata": {},
   "outputs": [],
   "source": [
    "def geom_sqnc_check(A):\n",
    "    orig_array = array_div(A)\n",
    "    ax_1 = orig_array.shape[0]\n",
    "    ax_2 = orig_array.shape[1]\n",
    "    \n",
    "    bool_array = np.full((ax_1,ax_2), False)\n",
    "    \n",
    "    for a in range(ax_1): # no idea how to vectorize this\n",
    "        for b in range(ax_2):\n",
    "            sqnc = orig_array[a,b]\n",
    "            elt_1 = sqnc[0]\n",
    "            if np.count_nonzero(sqnc == elt_1) > 2: # found some cases where the first number appears exactly twice\n",
    "                bool_array[a,b] = True\n",
    "            else:\n",
    "                continue\n",
    "    arrays = np.where(bool_array) # two arrays of coordinates where bool_array is True\n",
    "    x_coords = arrays[0]\n",
    "    y_coords = arrays[1]\n",
    "    length = len(x_coords) # they're both the same length, so I just picked one\n",
    "    coord_list = [(x_coords[n],y_coords[n]) for n in range(length)]\n",
    "    \n",
    "    return coord_list"
   ]
  },
  {
   "cell_type": "code",
   "execution_count": 250,
   "metadata": {
    "scrolled": false
   },
   "outputs": [
    {
     "data": {
      "text/plain": [
       "[(0, 0),\n",
       " (0, 80),\n",
       " (1, 3),\n",
       " (1, 79),\n",
       " (2, 6),\n",
       " (2, 78),\n",
       " (3, 9),\n",
       " (3, 77),\n",
       " (4, 12),\n",
       " (4, 76),\n",
       " (5, 15),\n",
       " (5, 75),\n",
       " (6, 18),\n",
       " (6, 74),\n",
       " (7, 21),\n",
       " (7, 73),\n",
       " (8, 24),\n",
       " (8, 72),\n",
       " (9, 27),\n",
       " (9, 71),\n",
       " (10, 30),\n",
       " (10, 70),\n",
       " (11, 33),\n",
       " (11, 69),\n",
       " (12, 36),\n",
       " (12, 68),\n",
       " (13, 39),\n",
       " (13, 67),\n",
       " (14, 42),\n",
       " (14, 66),\n",
       " (15, 45),\n",
       " (15, 65),\n",
       " (16, 48),\n",
       " (16, 64),\n",
       " (17, 51),\n",
       " (17, 63),\n",
       " (18, 54),\n",
       " (18, 62),\n",
       " (19, 57),\n",
       " (19, 61),\n",
       " (20, 60),\n",
       " (21, 59),\n",
       " (21, 63),\n",
       " (22, 58),\n",
       " (22, 66),\n",
       " (23, 57),\n",
       " (23, 69),\n",
       " (24, 56),\n",
       " (24, 72),\n",
       " (25, 55),\n",
       " (25, 75),\n",
       " (26, 54),\n",
       " (26, 78),\n",
       " (27, 53),\n",
       " (27, 81),\n",
       " (28, 52),\n",
       " (28, 84),\n",
       " (29, 51),\n",
       " (29, 87),\n",
       " (30, 50),\n",
       " (30, 90),\n",
       " (31, 49),\n",
       " (31, 93),\n",
       " (32, 48),\n",
       " (32, 96),\n",
       " (33, 47),\n",
       " (33, 99),\n",
       " (34, 46),\n",
       " (34, 102),\n",
       " (35, 45),\n",
       " (35, 105),\n",
       " (36, 44),\n",
       " (36, 108),\n",
       " (37, 43),\n",
       " (37, 111),\n",
       " (38, 42),\n",
       " (38, 114),\n",
       " (39, 41),\n",
       " (39, 117),\n",
       " (40, 40),\n",
       " (40, 120)]"
      ]
     },
     "execution_count": 250,
     "metadata": {},
     "output_type": "execute_result"
    }
   ],
   "source": [
    "geom_sqnc_check(deg_3_sqnc(-20,20,-60,60,21))"
   ]
  },
  {
   "cell_type": "markdown",
   "metadata": {},
   "source": [
    "The cubic function appears to produce geometric sequences forever ordered pair $(a,b) = (a,3a)$ where $a \\in \\mathbb{Z}$."
   ]
  },
  {
   "cell_type": "code",
   "execution_count": 277,
   "metadata": {
    "scrolled": true
   },
   "outputs": [
    {
     "data": {
      "text/plain": [
       "[(0, 0),\n",
       " (0, 1),\n",
       " (0, 2),\n",
       " (0, 3),\n",
       " (0, 4),\n",
       " (0, 5),\n",
       " (0, 6),\n",
       " (0, 7),\n",
       " (0, 8),\n",
       " (0, 9),\n",
       " (0, 10),\n",
       " (0, 11),\n",
       " (0, 12),\n",
       " (0, 13),\n",
       " (0, 14),\n",
       " (0, 15),\n",
       " (0, 16),\n",
       " (0, 17),\n",
       " (0, 18),\n",
       " (0, 19),\n",
       " (0, 20),\n",
       " (1, 0),\n",
       " (1, 1),\n",
       " (1, 2),\n",
       " (1, 3),\n",
       " (1, 4),\n",
       " (1, 5),\n",
       " (1, 6),\n",
       " (1, 7),\n",
       " (1, 8)]"
      ]
     },
     "execution_count": 277,
     "metadata": {},
     "output_type": "execute_result"
    }
   ],
   "source": [
    "geom_sqnc_check(deg_1_sqnc(-10,10,-10,10,21))[:30]"
   ]
  },
  {
   "cell_type": "markdown",
   "metadata": {},
   "source": [
    "It looks like the linear case *only* produces geometric sequences or sequences of zeros!"
   ]
  },
  {
   "cell_type": "code",
   "execution_count": 271,
   "metadata": {},
   "outputs": [
    {
     "data": {
      "text/plain": [
       "array([0.00000000e+00, 1.00000000e+00, 5.50000000e+00, 3.02500000e+01,\n",
       "       1.66375000e+02, 9.15062500e+02, 5.03284375e+03, 2.76806406e+04,\n",
       "       1.52243523e+05, 8.37339379e+05, 4.60536658e+06, 2.53295162e+07,\n",
       "       1.39312339e+08, 7.66217865e+08, 4.21419826e+09, 2.31780904e+10,\n",
       "       1.27479497e+11, 7.01137235e+11, 3.85625480e+12, 2.12094014e+13,\n",
       "       1.16651708e+14])"
      ]
     },
     "execution_count": 271,
     "metadata": {},
     "output_type": "execute_result"
    }
   ],
   "source": [
    "deg_1_sqnc(-10,10,-10,10,21)[13,18]"
   ]
  },
  {
   "cell_type": "code",
   "execution_count": 272,
   "metadata": {},
   "outputs": [
    {
     "data": {
      "text/plain": [
       "array([5.5, 5.5, 5.5, 5.5, 5.5, 5.5, 5.5, 5.5, 5.5, 5.5, 5.5, 5.5, 5.5,\n",
       "       5.5, 5.5, 5.5, 5.5, 5.5, 5.5])"
      ]
     },
     "execution_count": 272,
     "metadata": {},
     "output_type": "execute_result"
    }
   ],
   "source": [
    "array_div(deg_1_sqnc(-10,10,-10,10,21))[13,18]"
   ]
  },
  {
   "cell_type": "code",
   "execution_count": 257,
   "metadata": {},
   "outputs": [
    {
     "data": {
      "text/plain": [
       "array([0.e+00, 1.e+00, 1.e+01, 1.e+02, 1.e+03, 1.e+04, 1.e+05, 1.e+06,\n",
       "       1.e+07, 1.e+08, 1.e+09, 1.e+10, 1.e+11, 1.e+12, 1.e+13, 1.e+14,\n",
       "       1.e+15, 1.e+16, 1.e+17, 1.e+18, 1.e+19])"
      ]
     },
     "execution_count": 257,
     "metadata": {},
     "output_type": "execute_result"
    }
   ],
   "source": [
    "deg_3_sqnc(-20,20,-60,60,21)[40,120]"
   ]
  },
  {
   "cell_type": "code",
   "execution_count": 255,
   "metadata": {},
   "outputs": [
    {
     "data": {
      "text/plain": [
       "array([-10., -10., -10., -10., -10., -10., -10., -10., -10., -10., -10.,\n",
       "       -10., -10., -10., -10., -10., -10., -10., -10.])"
      ]
     },
     "execution_count": 255,
     "metadata": {},
     "output_type": "execute_result"
    }
   ],
   "source": [
    "array_div(deg_3_sqnc(-20,20,-60,60,21))[0,0]"
   ]
  },
  {
   "cell_type": "code",
   "execution_count": 162,
   "metadata": {
    "scrolled": false
   },
   "outputs": [
    {
     "name": "stdout",
     "output_type": "stream",
     "text": [
      "8.18 ms ± 25.6 µs per loop (mean ± std. dev. of 7 runs, 100 loops each)\n"
     ]
    }
   ],
   "source": [
    "%timeit geom_sqnc_check(deg_3_sqnc(-20,20,-20,20,21))"
   ]
  },
  {
   "cell_type": "code",
   "execution_count": 278,
   "metadata": {},
   "outputs": [
    {
     "data": {
      "text/plain": [
       "[(0, 0),\n",
       " (0, 20),\n",
       " (1, 1),\n",
       " (1, 19),\n",
       " (2, 2),\n",
       " (2, 18),\n",
       " (3, 3),\n",
       " (3, 17),\n",
       " (4, 4),\n",
       " (4, 16),\n",
       " (5, 5),\n",
       " (5, 15),\n",
       " (6, 6),\n",
       " (6, 14),\n",
       " (7, 7),\n",
       " (7, 13),\n",
       " (8, 8),\n",
       " (8, 12),\n",
       " (9, 9),\n",
       " (9, 11),\n",
       " (10, 10),\n",
       " (11, 9),\n",
       " (11, 11),\n",
       " (12, 8),\n",
       " (12, 12),\n",
       " (13, 7),\n",
       " (13, 13),\n",
       " (14, 6),\n",
       " (14, 14),\n",
       " (15, 5),\n",
       " (15, 15),\n",
       " (16, 4),\n",
       " (16, 16),\n",
       " (17, 3),\n",
       " (17, 17),\n",
       " (18, 2),\n",
       " (18, 18),\n",
       " (19, 1),\n",
       " (19, 19),\n",
       " (20, 0),\n",
       " (20, 20)]"
      ]
     },
     "execution_count": 278,
     "metadata": {},
     "output_type": "execute_result"
    }
   ],
   "source": [
    "geom_sqnc_check(deg_2_sqnc(-10,10,-10,10,21))"
   ]
  },
  {
   "cell_type": "code",
   "execution_count": 282,
   "metadata": {},
   "outputs": [
    {
     "data": {
      "text/plain": [
       "array([2., 2., 2., 2., 2., 2., 2., 2., 2., 2., 2., 2., 2., 2., 2., 2., 2.,\n",
       "       2., 2.])"
      ]
     },
     "execution_count": 282,
     "metadata": {},
     "output_type": "execute_result"
    }
   ],
   "source": [
    "array_div(deg_2_sqnc(-10,10,-10,10,21))[14,14]"
   ]
  },
  {
   "cell_type": "code",
   "execution_count": 283,
   "metadata": {},
   "outputs": [
    {
     "data": {
      "text/plain": [
       "array([0., 0., 0., 0., 0., 0., 0., 0., 0., 0., 0., 0., 0., 0., 0., 0., 0.,\n",
       "       0., 0.])"
      ]
     },
     "execution_count": 283,
     "metadata": {},
     "output_type": "execute_result"
    }
   ],
   "source": [
    "array_div(deg_2_sqnc(-10,10,-10,10,21))[14,6]"
   ]
  },
  {
   "cell_type": "markdown",
   "metadata": {},
   "source": [
    "Looks like the quadratic function produces a geometric sequence for each ordered pair $(a,b) = (a,a)$ and sequences of zeros for $(a,b) = (a,-a)$., $a "
   ]
  },
  {
   "cell_type": "markdown",
   "metadata": {},
   "source": [
    "#### Some Ideas\n",
    "\n",
    "After finding a function that finds the geometric sequences, try dividing everything by sequences of catalan numbers or sequences of sums of factors, then put it through the function. This way we can pinpoint the combo-sequences."
   ]
  }
 ],
 "metadata": {
  "kernelspec": {
   "display_name": "Python 3",
   "language": "python",
   "name": "python3"
  },
  "language_info": {
   "codemirror_mode": {
    "name": "ipython",
    "version": 3
   },
   "file_extension": ".py",
   "mimetype": "text/x-python",
   "name": "python",
   "nbconvert_exporter": "python",
   "pygments_lexer": "ipython3",
   "version": "3.7.6"
  }
 },
 "nbformat": 4,
 "nbformat_minor": 4
}
