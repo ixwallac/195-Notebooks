{
 "cells": [
  {
   "cell_type": "code",
   "execution_count": 170,
   "metadata": {},
   "outputs": [],
   "source": [
    "import numpy as np"
   ]
  },
  {
   "cell_type": "markdown",
   "metadata": {},
   "source": [
    "## Linear Case"
   ]
  },
  {
   "cell_type": "markdown",
   "metadata": {},
   "source": [
    "$$\n",
    "\\tau(n) = \\frac{1}{n(n-1)}\\sum_{u+v=n}(au+bv)\\tau(u)\\tau(v)\n",
    "$$\n",
    "Due to symmetry, we can rewrite the sum as\n",
    "$$\n",
    "\\tau(n) = \\frac{1}{n(n-1)}\\sum_{u+v=n}au\\tau(u)\\tau(v).\n",
    "$$"
   ]
  },
  {
   "cell_type": "code",
   "execution_count": 171,
   "metadata": {},
   "outputs": [],
   "source": [
    "def deg_1_array(a_min,a_max,b_min,b_max,seq_length):\n",
    "    a_len = a_max+1 - a_min\n",
    "    b_len = b_max+1 - b_min\n",
    "    \n",
    "    a_range = np.arange(a_min, a_max+1)\n",
    "    b_range = np.arange(b_min, b_max+1)\n",
    "    u_range = np.arange(seq_length)\n",
    "    v_range = u_range\n",
    "    \n",
    "    au_array = np.multiply.outer(a_range,u_range) # a x u\n",
    "    bv_array = np.multiply.outer(b_range,v_range) # b x v\n",
    "    \n",
    "    temp_array = np.add.outer(au_array, bv_array) # a x u x b x v\n",
    "    \n",
    "    final_array = np.swapaxes(temp_array, 1,2)\n",
    "    \n",
    "    return final_array\n",
    "\n",
    "\n",
    "def deg_1_sqnc(a_min,a_max,b_min,b_max,seq_length):\n",
    "    a_len = a_max+1 - a_min\n",
    "    b_len = b_max+1 - b_min\n",
    "    \n",
    "    coeff_array = deg_1_array(a_min,a_max,b_min,b_max,seq_length)\n",
    "    seq = np.zeros(seq_length)\n",
    "    seq[1] = 1\n",
    "    seq_array = np.broadcast_to(seq, (a_len,b_len,seq_length)).copy()\n",
    "    \n",
    "    flipped_array = coeff_array[:,:,::-1,:]\n",
    "    for n in range(2,seq_length):\n",
    "        diag = np.diagonal(flipped_array, -seq_length+n+1, axis1 = 2, axis2 = 3)[:,:,1:n]\n",
    "        vec_A = diag*seq_array[:,:,1:n]\n",
    "        vec_B = seq_array[:,:,n-1:0:-1]\n",
    "        seq_array[:,:,n] = (1/(n*(n-1)))*np.sum(vec_A*vec_B,axis=2)\n",
    "    \n",
    "    return seq_array"
   ]
  },
  {
   "cell_type": "code",
   "execution_count": 172,
   "metadata": {},
   "outputs": [
    {
     "data": {
      "text/plain": [
       "array([[[ 0.00000000e+00,  1.00000000e+00, -5.00000000e-01,\n",
       "          2.50000000e-01, -1.25000000e-01,  6.25000000e-02,\n",
       "         -3.12500000e-02,  1.56250000e-02, -7.81250000e-03,\n",
       "          3.90625000e-03, -1.95312500e-03,  9.76562500e-04,\n",
       "         -4.88281250e-04,  2.44140625e-04, -1.22070312e-04,\n",
       "          6.10351562e-05, -3.05175781e-05,  1.52587891e-05,\n",
       "         -7.62939453e-06,  3.81469727e-06, -1.90734863e-06]]])"
      ]
     },
     "execution_count": 172,
     "metadata": {},
     "output_type": "execute_result"
    }
   ],
   "source": [
    "deg_1_sqnc(-5,-5,4,4,21)"
   ]
  },
  {
   "cell_type": "markdown",
   "metadata": {},
   "source": [
    "## Quadratic Case"
   ]
  },
  {
   "cell_type": "code",
   "execution_count": 173,
   "metadata": {},
   "outputs": [],
   "source": [
    "def deg_2_array(a_min,a_max,b_min,b_max,seq_length):\n",
    "    a_len = a_max+1 - a_min\n",
    "    b_len = b_max+1 - b_min\n",
    "    \n",
    "    a_range = np.arange(a_min, a_max+1)\n",
    "    b_range = np.arange(b_min, b_max+1)\n",
    "    u_range = np.arange(seq_length)\n",
    "    v_range = u_range\n",
    "    \n",
    "    au_squared_matrix = np.multiply.outer(a_range, u_range*u_range) # a x u\n",
    "    au_tensor = np.broadcast_to(au_squared_matrix,(seq_length,b_len,a_len,seq_length)) # k x b x a x k\n",
    "    #k,b,a,k --> a,b,k,k\n",
    "    \n",
    "    bu_matrix = np.multiply.outer(b_range,u_range) # b_len x seq_length\n",
    "    buv_matrix = np.multiply.outer(bu_matrix,v_range) # b_len x seq_len x seq_len\n",
    "    buv_tensor = np.broadcast_to(buv_matrix,(a_len,b_len,seq_length,seq_length))\n",
    "    \n",
    "    corrected_au_tensor = np.swapaxes(au_tensor, 0,2)\n",
    "    #corrected_buv_tensor = np.swapaxes(buv_tensor, 2,3)\n",
    "    \n",
    "    tensor = corrected_au_tensor + buv_tensor\n",
    "    \n",
    "    P_array = np.swapaxes(tensor, 2,3)\n",
    "    \n",
    "    return P_array\n",
    "\n",
    "\n",
    "def deg_2_sqnc(a_min,a_max,b_min,b_max,seq_length):\n",
    "    a_len = a_max+1 - a_min\n",
    "    b_len = b_max+1 - b_min\n",
    "    \n",
    "    coeff_array = deg_2_array(a_min,a_max,b_min,b_max,seq_length)\n",
    "    seq = np.zeros(seq_length)\n",
    "    seq[1] = 1\n",
    "    seq_array = np.broadcast_to(seq, (a_len,b_len,seq_length)).copy()\n",
    "    \n",
    "    flipped_array = coeff_array[:,:,::-1,:]\n",
    "    for n in range(2,seq_length):\n",
    "        diag = np.diagonal(flipped_array, -seq_length+n+1, axis1 = 2, axis2 = 3)[:,:,1:n]\n",
    "        vec_A = diag*seq_array[:,:,1:n]\n",
    "        vec_B = seq_array[:,:,n-1:0:-1]\n",
    "        seq_array[:,:,n] = (1/((n*n)*(n-1)))*np.sum(vec_A*vec_B,axis=2)\n",
    "    \n",
    "    return seq_array"
   ]
  },
  {
   "cell_type": "code",
   "execution_count": 174,
   "metadata": {},
   "outputs": [
    {
     "data": {
      "text/plain": [
       "array([[[ 0.,  1.,  3.,  4.,  7.,  6., 12.,  8., 15., 13., 18., 12.,\n",
       "         28., 14., 24., 24., 31., 18., 39., 20., 42.]]])"
      ]
     },
     "execution_count": 174,
     "metadata": {},
     "output_type": "execute_result"
    }
   ],
   "source": [
    "deg_2_sqnc(-24,-24,36,36,21)"
   ]
  },
  {
   "cell_type": "markdown",
   "metadata": {},
   "source": [
    "## Cubic Case"
   ]
  },
  {
   "cell_type": "code",
   "execution_count": 175,
   "metadata": {},
   "outputs": [],
   "source": [
    "def deg_3_array(a_min,a_max,b_min,b_max,seq_length):\n",
    "    a_len = a_max+1 - a_min\n",
    "    b_len = b_max+1 - b_min\n",
    "    \n",
    "    a_range = np.arange(a_min, a_max+1)\n",
    "    b_range = np.arange(b_min, b_max+1)\n",
    "    u_range = np.arange(seq_length)\n",
    "    v_range = u_range\n",
    "    \n",
    "    au_squared_matrix = np.multiply.outer(a_range, u_range*u_range*u_range) # a x u^3\n",
    "    au_tensor = np.broadcast_to(au_squared_matrix,(seq_length,b_len,a_len,seq_length)) # k x b x a x k\n",
    "    #k,b,a,k --> a,b,k,k\n",
    "    \n",
    "    bu_matrix = np.multiply.outer(b_range,u_range*u_range) # b x u^2\n",
    "    buv_matrix = np.multiply.outer(bu_matrix,v_range) # b x u^2 x v\n",
    "    buv_tensor = np.broadcast_to(buv_matrix,(a_len,b_len,seq_length,seq_length)) # a x b x k x k\n",
    "    \n",
    "    corrected_au_tensor = np.swapaxes(au_tensor, 0,2)\n",
    "    #corrected_buv_tensor = np.swapaxes(buv_tensor, 2,3)\n",
    "    \n",
    "    tensor = corrected_au_tensor + buv_tensor\n",
    "    \n",
    "    P_array = np.swapaxes(tensor, 2,3)\n",
    "    \n",
    "    return P_array\n",
    "\n",
    "\n",
    "def deg_3_sqnc(a_min,a_max,b_min,b_max,seq_length):\n",
    "    a_len = a_max+1 - a_min\n",
    "    b_len = b_max+1 - b_min\n",
    "    \n",
    "    coeff_array = deg_3_array(a_min,a_max,b_min,b_max,seq_length)\n",
    "    seq = np.zeros(seq_length)\n",
    "    seq[1] = 1\n",
    "    seq_array = np.broadcast_to(seq, (a_len,b_len,seq_length)).copy()\n",
    "    \n",
    "    flipped_array = coeff_array[:,:,::-1,:]\n",
    "    for n in range(2,seq_length):\n",
    "        diag = np.diagonal(flipped_array, -seq_length+n+1, axis1 = 2, axis2 = 3)[:,:,1:n]\n",
    "        vec_A = diag*seq_array[:,:,1:n]n\n",
    "        vec_B = seq_array[:,:,n-1:0:-1]\n",
    "        seq_array[:,:,n] = (1/((n**3)*(n-1)))*np.sum(vec_A*vec_B,axis=2)\n",
    "    \n",
    "    return seq_array"
   ]
  },
  {
   "cell_type": "code",
   "execution_count": 176,
   "metadata": {},
   "outputs": [
    {
     "data": {
      "text/plain": [
       "array([[[0.00000000e+00, 1.00000000e+00, 3.00000000e+00, 9.00000000e+00,\n",
       "         2.70000000e+01, 8.10000000e+01, 2.43000000e+02, 7.29000000e+02,\n",
       "         2.18700000e+03, 6.56100000e+03, 1.96830000e+04, 5.90490000e+04,\n",
       "         1.77147000e+05, 5.31441000e+05, 1.59432300e+06, 4.78296900e+06,\n",
       "         1.43489070e+07, 4.30467210e+07, 1.29140163e+08, 3.87420489e+08,\n",
       "         1.16226147e+09]]])"
      ]
     },
     "execution_count": 176,
     "metadata": {},
     "output_type": "execute_result"
    }
   ],
   "source": [
    "deg_3_sqnc(6,6,18,18,21)"
   ]
  },
  {
   "cell_type": "markdown",
   "metadata": {},
   "source": [
    "## Catalan Numbers"
   ]
  },
  {
   "cell_type": "code",
   "execution_count": 177,
   "metadata": {},
   "outputs": [],
   "source": [
    "def catalan(length):\n",
    "    catlist = np.zeros(length)\n",
    "    catlist[1] = 1\n",
    "    for n in range(2,length):\n",
    "        vec_A = catlist[1:n]\n",
    "        vec_B = catlist[n-1:0:-1]\n",
    "        catlist[n] = np.dot(vec_A,vec_B)\n",
    "\n",
    "    return catlist"
   ]
  },
  {
   "cell_type": "code",
   "execution_count": 178,
   "metadata": {
    "scrolled": true
   },
   "outputs": [
    {
     "data": {
      "text/plain": [
       "array([0.00000000e+00, 1.00000000e+00, 1.00000000e+00, 2.00000000e+00,\n",
       "       5.00000000e+00, 1.40000000e+01, 4.20000000e+01, 1.32000000e+02,\n",
       "       4.29000000e+02, 1.43000000e+03, 4.86200000e+03, 1.67960000e+04,\n",
       "       5.87860000e+04, 2.08012000e+05, 7.42900000e+05, 2.67444000e+06,\n",
       "       9.69484500e+06, 3.53576700e+07, 1.29644790e+08, 4.77638700e+08,\n",
       "       1.76726319e+09])"
      ]
     },
     "execution_count": 178,
     "metadata": {},
     "output_type": "execute_result"
    }
   ],
   "source": [
    "catalan(21)"
   ]
  },
  {
   "cell_type": "markdown",
   "metadata": {},
   "source": [
    "## Checking for Geometric Sequences"
   ]
  },
  {
   "cell_type": "code",
   "execution_count": 179,
   "metadata": {},
   "outputs": [],
   "source": [
    "def array_div(A): # input is 3d array\n",
    "    orig_sqnc_len = A.shape[2]\n",
    "    \n",
    "    shift_1 = A[:,:,2::] # starts each sequence at their first index\n",
    "    shift_2 = A[:,:,1:-1] # then at their second index\n",
    "    \n",
    "    div_array = np.divide(shift_1,shift_2, out=np.full_like(shift_1,np.nan), where=shift_2!=0)\n",
    "    # puts a zero wherever it had to divide by zero\n",
    "    \n",
    "    return div_array"
   ]
  },
  {
   "cell_type": "code",
   "execution_count": 180,
   "metadata": {},
   "outputs": [],
   "source": [
    "def geom_sqnc_check(A,a_min=0,b_min=0): # need those extra inputs to get the a and b values correct in the tuples\n",
    "    np.seterr(all=\"ignore\")\n",
    "   \n",
    "    quot_array = array_div(A)\n",
    "    bool_array = (np.abs(quot_array[:,:,:-1] - quot_array[:,:,1:]) < 1e-5).sum(axis=2) == (quot_array.shape[2]-1)\n",
    "\n",
    "    arrays = np.where(bool_array)\n",
    "    x_coords = arrays[0]\n",
    "    y_coords = arrays[1]\n",
    "    length = len(x_coords)\n",
    "    coord_list = [(x_coords[n]+a_min,y_coords[n]+b_min,x_coords[n],y_coords[n]) for n in range(length)]\n",
    "    # I wanted to include the indices as well so it's easier to find in the array\n",
    "    \n",
    "    return coord_list"
   ]
  },
  {
   "cell_type": "code",
   "execution_count": 181,
   "metadata": {
    "scrolled": false
   },
   "outputs": [
    {
     "name": "stdout",
     "output_type": "stream",
     "text": [
      "1.21 ms ± 6.93 µs per loop (mean ± std. dev. of 7 runs, 1000 loops each)\n"
     ]
    }
   ],
   "source": [
    "%timeit geom_sqnc_check(deg_3_sqnc(-10,10,-10,10,21),-10,-10)"
   ]
  },
  {
   "cell_type": "code",
   "execution_count": 182,
   "metadata": {},
   "outputs": [
    {
     "data": {
      "text/plain": [
       "array([[[336.5, 336.5, 336.5, 336.5, 336.5, 336.5, 336.5, 336.5, 336.5,\n",
       "         336.5, 336.5, 336.5, 336.5, 336.5, 336.5, 336.5, 336.5, 336.5,\n",
       "         336.5]]])"
      ]
     },
     "execution_count": 182,
     "metadata": {},
     "output_type": "execute_result"
    }
   ],
   "source": [
    "array_div(deg_1_sqnc(1000,1000,-327,-327,21)) # a = 1000, b = -327"
   ]
  },
  {
   "cell_type": "markdown",
   "metadata": {},
   "source": [
    "It looks like the linear case *only* produces geometric sequences!"
   ]
  },
  {
   "cell_type": "code",
   "execution_count": 183,
   "metadata": {},
   "outputs": [
    {
     "data": {
      "text/plain": [
       "[(-10, -10, 0, 0),\n",
       " (-9, -9, 1, 1),\n",
       " (-8, -8, 2, 2),\n",
       " (-7, -7, 3, 3),\n",
       " (-6, -6, 4, 4),\n",
       " (-5, -5, 5, 5),\n",
       " (-4, -4, 6, 6),\n",
       " (-3, -3, 7, 7),\n",
       " (-2, -2, 8, 8),\n",
       " (-1, -1, 9, 9),\n",
       " (1, 1, 11, 11),\n",
       " (2, 2, 12, 12),\n",
       " (3, 3, 13, 13),\n",
       " (4, 4, 14, 14),\n",
       " (5, 5, 15, 15),\n",
       " (6, 6, 16, 16),\n",
       " (7, 7, 17, 17),\n",
       " (8, 8, 18, 18),\n",
       " (9, 9, 19, 19),\n",
       " (10, 10, 20, 20)]"
      ]
     },
     "execution_count": 183,
     "metadata": {},
     "output_type": "execute_result"
    }
   ],
   "source": [
    "geom_sqnc_check(deg_2_sqnc(-10,10,-10,10,21),-10,-10)"
   ]
  },
  {
   "cell_type": "code",
   "execution_count": 184,
   "metadata": {},
   "outputs": [
    {
     "data": {
      "text/plain": [
       "array([2., 2., 2., 2., 2., 2., 2., 2., 2., 2., 2., 2., 2., 2., 2., 2., 2.,\n",
       "       2., 2.])"
      ]
     },
     "execution_count": 184,
     "metadata": {},
     "output_type": "execute_result"
    }
   ],
   "source": [
    "array_div(deg_2_sqnc(-10,10,-10,10,21))[14,14]"
   ]
  },
  {
   "cell_type": "code",
   "execution_count": 185,
   "metadata": {},
   "outputs": [
    {
     "data": {
      "text/plain": [
       "array([3., 3., 3., 3., 3., 3., 3., 3., 3., 3., 3., 3., 3., 3., 3., 3., 3.,\n",
       "       3., 3.])"
      ]
     },
     "execution_count": 185,
     "metadata": {},
     "output_type": "execute_result"
    }
   ],
   "source": [
    "array_div(deg_2_sqnc(-10,10,-10,10,21))[16,16]"
   ]
  },
  {
   "cell_type": "code",
   "execution_count": 186,
   "metadata": {},
   "outputs": [
    {
     "data": {
      "text/plain": [
       "array([ 0., nan, nan, nan, nan, nan, nan, nan, nan, nan, nan, nan, nan,\n",
       "       nan, nan, nan, nan, nan, nan])"
      ]
     },
     "execution_count": 186,
     "metadata": {},
     "output_type": "execute_result"
    }
   ],
   "source": [
    "array_div(deg_2_sqnc(-10,10,-10,10,21))[16,4]"
   ]
  },
  {
   "cell_type": "markdown",
   "metadata": {},
   "source": [
    "Looks like the quadratic function produces a geometric sequence for each ordered pair $(a,b) = (a,a)$ and sequences of zeros for $(a,b) = (a,-a)$, $a \\in \\mathbb{Z}$."
   ]
  },
  {
   "cell_type": "code",
   "execution_count": 187,
   "metadata": {},
   "outputs": [
    {
     "data": {
      "text/plain": [
       "[(-16, -48, 14, 2),\n",
       " (-15, -45, 15, 5),\n",
       " (-14, -42, 16, 8),\n",
       " (-13, -39, 17, 11),\n",
       " (-12, -36, 18, 14),\n",
       " (-11, -33, 19, 17),\n",
       " (-10, -30, 20, 20),\n",
       " (-9, -27, 21, 23),\n",
       " (-8, -24, 22, 26),\n",
       " (-7, -21, 23, 29),\n",
       " (-6, -18, 24, 32),\n",
       " (-5, -15, 25, 35),\n",
       " (-4, -12, 26, 38),\n",
       " (-3, -9, 27, 41),\n",
       " (-2, -6, 28, 44),\n",
       " (-1, -3, 29, 47),\n",
       " (1, 3, 31, 53),\n",
       " (2, 6, 32, 56),\n",
       " (3, 9, 33, 59),\n",
       " (4, 12, 34, 62),\n",
       " (5, 15, 35, 65),\n",
       " (6, 18, 36, 68),\n",
       " (7, 21, 37, 71),\n",
       " (8, 24, 38, 74),\n",
       " (9, 27, 39, 77),\n",
       " (10, 30, 40, 80),\n",
       " (11, 33, 41, 83),\n",
       " (12, 36, 42, 86),\n",
       " (13, 39, 43, 89),\n",
       " (14, 42, 44, 92),\n",
       " (15, 45, 45, 95),\n",
       " (16, 48, 46, 98)]"
      ]
     },
     "execution_count": 187,
     "metadata": {},
     "output_type": "execute_result"
    }
   ],
   "source": [
    "geom_sqnc_check(deg_3_sqnc(-30,30,-50,50,21),-30,-50)"
   ]
  },
  {
   "cell_type": "code",
   "execution_count": 188,
   "metadata": {},
   "outputs": [
    {
     "data": {
      "text/plain": [
       "array([[[ 0.,  1.,  3.,  4.,  7.,  6., 12.,  8., 15., 13., 18., 12.,\n",
       "         28., 14., 24., 24., 31., 18., 39., 20., 42.]]])"
      ]
     },
     "execution_count": 188,
     "metadata": {},
     "output_type": "execute_result"
    }
   ],
   "source": [
    "deg_3_sqnc(-24,-24,48,48,21) # finding our original sigma_n in the cubics"
   ]
  },
  {
   "cell_type": "markdown",
   "metadata": {},
   "source": [
    "## Some Ideas\n",
    "\n",
    "After finding a function that finds the geometric sequences, try dividing everything by sequences of catalan numbers or sequences of sums of factors, then put it through the function. This way we can pinpoint the combo-sequences."
   ]
  },
  {
   "cell_type": "markdown",
   "metadata": {},
   "source": [
    "### Finding Combo Sequences with $\\sigma_n$"
   ]
  },
  {
   "cell_type": "code",
   "execution_count": 189,
   "metadata": {},
   "outputs": [
    {
     "data": {
      "text/plain": [
       "[(-26, 39, 14, 79),\n",
       " (-24, 36, 16, 76),\n",
       " (-22, 33, 18, 73),\n",
       " (-20, 30, 20, 70),\n",
       " (-18, 27, 22, 67),\n",
       " (-16, 24, 24, 64),\n",
       " (-14, 21, 26, 61),\n",
       " (-12, 18, 28, 58),\n",
       " (-10, 15, 30, 55),\n",
       " (-8, 12, 32, 52),\n",
       " (-6, 9, 34, 49),\n",
       " (-4, 6, 36, 46),\n",
       " (-2, 3, 38, 43),\n",
       " (2, -3, 42, 37),\n",
       " (4, -6, 44, 34),\n",
       " (6, -9, 46, 31),\n",
       " (8, -12, 48, 28),\n",
       " (10, -15, 50, 25),\n",
       " (12, -18, 52, 22),\n",
       " (14, -21, 54, 19),\n",
       " (16, -24, 56, 16),\n",
       " (18, -27, 58, 13),\n",
       " (20, -30, 60, 10),\n",
       " (22, -33, 62, 7),\n",
       " (24, -36, 64, 4),\n",
       " (26, -39, 66, 1)]"
      ]
     },
     "execution_count": 189,
     "metadata": {},
     "output_type": "execute_result"
    }
   ],
   "source": [
    "divsigma = deg_2_sqnc(-40,40,-40,40,21)\n",
    "sigma = deg_2_sqnc(-24,-24,36,36,21)\n",
    "divsigma[:,:,1::] = divsigma[:,:,1::]/sigma[:,:,1::]\n",
    "\n",
    "geom_sqnc_check(divsigma,-40,-40)"
   ]
  },
  {
   "cell_type": "markdown",
   "metadata": {},
   "source": [
    "First look at possible combo-sequences:"
   ]
  },
  {
   "cell_type": "code",
   "execution_count": 190,
   "metadata": {},
   "outputs": [
    {
     "data": {
      "text/plain": [
       "array([1.08333333, 1.08333333, 1.08333333, 1.08333333, 1.08333333,\n",
       "       1.08333333, 1.08333333, 1.08333333, 1.08333333, 1.08333333,\n",
       "       1.08333333, 1.08333333, 1.08333333, 1.08333333, 1.08333333,\n",
       "       1.08333333, 1.08333333, 1.08333333, 1.08333333])"
      ]
     },
     "execution_count": 190,
     "metadata": {},
     "output_type": "execute_result"
    }
   ],
   "source": [
    "array_div(divsigma)[14,79] # a = -26, b = 39"
   ]
  },
  {
   "cell_type": "markdown",
   "metadata": {},
   "source": [
    "Looks like $\\big\\{\\left(\\frac{13}{12}\\right)^n\\big\\}$ for $a = -26$ and $b = 39$. Now to look at the original sequence in that place:"
   ]
  },
  {
   "cell_type": "code",
   "execution_count": 191,
   "metadata": {},
   "outputs": [
    {
     "data": {
      "text/plain": [
       "array([  0.        ,   1.        ,   3.25      ,   4.69444444,\n",
       "         8.89988426,   8.26417824,  17.90571952,  12.93190854,\n",
       "        26.26793923,  24.66267628,  36.99401441,  26.7178993 ,\n",
       "        67.53691212,  36.58249406,  67.93891755,  73.60049401,\n",
       "       102.98958016,  64.78376816, 152.06190027,  84.47883348,\n",
       "       192.18934618])"
      ]
     },
     "execution_count": 191,
     "metadata": {},
     "output_type": "execute_result"
    }
   ],
   "source": [
    "deg_2_sqnc(-40,40,-40,40,21)[14,79]"
   ]
  },
  {
   "cell_type": "code",
   "execution_count": 192,
   "metadata": {
    "scrolled": true
   },
   "outputs": [
    {
     "data": {
      "text/plain": [
       "array([-1.5       , -0.66666667, -0.875     , -0.42857143, -1.        ,\n",
       "       -0.33333333, -0.9375    , -0.43333333, -0.69230769, -0.33333333,\n",
       "       -1.16666667, -0.25      , -0.85714286, -0.5       , -0.64583333,\n",
       "       -0.29032258, -1.08333333, -0.25641026, -1.05      ])"
      ]
     },
     "execution_count": 192,
     "metadata": {},
     "output_type": "execute_result"
    }
   ],
   "source": [
    "array_div(deg_2_sqnc(-40,40,-40,40,21))[52,22]"
   ]
  },
  {
   "cell_type": "code",
   "execution_count": 193,
   "metadata": {},
   "outputs": [
    {
     "data": {
      "text/plain": [
       "array([-0.5, -0.5, -0.5, -0.5, -0.5, -0.5, -0.5, -0.5, -0.5, -0.5, -0.5,\n",
       "       -0.5, -0.5, -0.5, -0.5, -0.5, -0.5, -0.5, -0.5])"
      ]
     },
     "execution_count": 193,
     "metadata": {},
     "output_type": "execute_result"
    }
   ],
   "source": [
    "array_div(divsigma)[52,22]"
   ]
  },
  {
   "cell_type": "markdown",
   "metadata": {},
   "source": [
    "Looks pretty evident that $a = 12$, $b = -18$ $\\Rightarrow$ $\\{-0.5^n\\}\\times\\sigma(n)$. Now to find some more:"
   ]
  },
  {
   "cell_type": "code",
   "execution_count": 194,
   "metadata": {},
   "outputs": [
    {
     "data": {
      "text/plain": [
       "array([0.75, 0.75, 0.75, 0.75, 0.75, 0.75, 0.75, 0.75, 0.75, 0.75, 0.75,\n",
       "       0.75, 0.75, 0.75, 0.75, 0.75, 0.75, 0.75, 0.75])"
      ]
     },
     "execution_count": 194,
     "metadata": {},
     "output_type": "execute_result"
    }
   ],
   "source": [
    "array_div(divsigma)[22,67]"
   ]
  },
  {
   "cell_type": "markdown",
   "metadata": {},
   "source": [
    "$a = -18$, $b = 27$ $\\Rightarrow$ $\\{0.75^n\\}\\times\\sigma(n)$."
   ]
  },
  {
   "cell_type": "code",
   "execution_count": 195,
   "metadata": {},
   "outputs": [
    {
     "data": {
      "text/plain": [
       "array([0.25, 0.25, 0.25, 0.25, 0.25, 0.25, 0.25, 0.25, 0.25, 0.25, 0.25,\n",
       "       0.25, 0.25, 0.25, 0.25, 0.25, 0.25, 0.25, 0.25])"
      ]
     },
     "execution_count": 195,
     "metadata": {},
     "output_type": "execute_result"
    }
   ],
   "source": [
    "array_div(divsigma)[34, 49]"
   ]
  },
  {
   "cell_type": "markdown",
   "metadata": {},
   "source": [
    "$a = -6, b = 9$ $\\Rightarrow$ $\\{0.25^n\\}\\times\\sigma(n)$"
   ]
  },
  {
   "cell_type": "code",
   "execution_count": 196,
   "metadata": {},
   "outputs": [
    {
     "data": {
      "text/plain": [
       "array([1., 1., 1., 1., 1., 1., 1., 1., 1., 1., 1., 1., 1., 1., 1., 1., 1.,\n",
       "       1., 1.])"
      ]
     },
     "execution_count": 196,
     "metadata": {},
     "output_type": "execute_result"
    }
   ],
   "source": [
    "array_div(divsigma)[16, 76] # this is just where sigma_n would be"
   ]
  },
  {
   "cell_type": "code",
   "execution_count": 197,
   "metadata": {},
   "outputs": [
    {
     "data": {
      "text/plain": [
       "array([0.08333333, 0.08333333, 0.08333333, 0.08333333, 0.08333333,\n",
       "       0.08333333, 0.08333333, 0.08333333, 0.08333333, 0.08333333,\n",
       "       0.08333333, 0.08333333, 0.08333333, 0.08333333, 0.08333333,\n",
       "       0.08333333, 0.08333333, 0.08333333, 0.08333333])"
      ]
     },
     "execution_count": 197,
     "metadata": {},
     "output_type": "execute_result"
    }
   ],
   "source": [
    "array_div(divsigma)[38,43] # 0.08333333... = 1/12"
   ]
  },
  {
   "cell_type": "markdown",
   "metadata": {},
   "source": [
    "$a = -2, \\ b = 3 \\ \\Rightarrow \\ \\big\\{\\left(\\frac{1}{12}\\right)^n\\big\\}\\times\\sigma(n)$. Didn't want to show up from the function because of floating point inconsistencies."
   ]
  },
  {
   "cell_type": "code",
   "execution_count": 198,
   "metadata": {},
   "outputs": [
    {
     "data": {
      "text/plain": [
       "array([0.5, 0.5, 0.5, 0.5, 0.5, 0.5, 0.5, 0.5, 0.5, 0.5, 0.5, 0.5, 0.5,\n",
       "       0.5, 0.5, 0.5, 0.5, 0.5, 0.5])"
      ]
     },
     "execution_count": 198,
     "metadata": {},
     "output_type": "execute_result"
    }
   ],
   "source": [
    "array_div(divsigma)[28,58]"
   ]
  },
  {
   "cell_type": "markdown",
   "metadata": {},
   "source": [
    "$a = -12$, $b = 18$ $\\Rightarrow$ $\\{0.5^n\\}\\times\\sigma(n)$"
   ]
  },
  {
   "cell_type": "code",
   "execution_count": 199,
   "metadata": {},
   "outputs": [
    {
     "data": {
      "text/plain": [
       "array([-0.75, -0.75, -0.75, -0.75, -0.75, -0.75, -0.75, -0.75, -0.75,\n",
       "       -0.75, -0.75, -0.75, -0.75, -0.75, -0.75, -0.75, -0.75, -0.75,\n",
       "       -0.75])"
      ]
     },
     "execution_count": 199,
     "metadata": {},
     "output_type": "execute_result"
    }
   ],
   "source": [
    "array_div(divsigma)[58,13]"
   ]
  },
  {
   "cell_type": "markdown",
   "metadata": {},
   "source": [
    "$a = 18$, $b = -27$ $\\Rightarrow$ $\\{-0.75^n\\}\\times\\sigma(n)$."
   ]
  },
  {
   "cell_type": "code",
   "execution_count": 200,
   "metadata": {},
   "outputs": [
    {
     "data": {
      "text/plain": [
       "array([0.16666667, 0.16666667, 0.16666667, 0.16666667, 0.16666667,\n",
       "       0.16666667, 0.16666667, 0.16666667, 0.16666667, 0.16666667,\n",
       "       0.16666667, 0.16666667, 0.16666667, 0.16666667, 0.16666667,\n",
       "       0.16666667, 0.16666667, 0.16666667, 0.16666667])"
      ]
     },
     "execution_count": 200,
     "metadata": {},
     "output_type": "execute_result"
    }
   ],
   "source": [
    "array_div(divsigma)[36,46] # 0.166666... = 1/6"
   ]
  },
  {
   "cell_type": "markdown",
   "metadata": {},
   "source": [
    "$a = -4, \\ b = 6 \\ \\Rightarrow \\big\\{\\left(\\frac{1}{6}\\right)^n\\big\\}\\times\\sigma(n)$"
   ]
  },
  {
   "cell_type": "markdown",
   "metadata": {},
   "source": [
    "What I'm seeing is that, for $\\tau(n) = \\frac{1}{n^2(n-1)}\\sum_{u+v=n}(au^2+buv)\\tau(u)\\tau(v)$, $(a,b)=(a,a)$ produces a geometric sequence $\\{\\rho^n\\}$ for $\\rho \\in \\mathbb{Q}$, $(a,b) = (-24,36)$ produces $\\sigma(n)$, and $(a,b) = (-2k,3k)$ for $k \\in \\mathbb{Z}$ produces some sequence $\\{\\rho^n\\}\\times\\sigma(n)$. The next step would be to connect $a$ and $\\rho$ as well as $k$ and $\\rho$."
   ]
  },
  {
   "cell_type": "markdown",
   "metadata": {},
   "source": [
    "# Next Stuff\n",
    "\n",
    "Play with other denominators, like $\\frac{1}{n^3}$ or $\\frac{1}{n(n-1)(n-2)}$. Also extend search to higher degree polynomials - quartics, quintics, etc. Put together a function that checks for sequences of integers."
   ]
  },
  {
   "cell_type": "markdown",
   "metadata": {},
   "source": [
    "### Integer Sequence Checker"
   ]
  },
  {
   "cell_type": "code",
   "execution_count": 201,
   "metadata": {},
   "outputs": [],
   "source": [
    "def int_sqnc_check(A,a_min=0,b_min=0):\n",
    "    bool_array = (np.abs(A - np.around(A)) < 1e-5).sum(axis=2) >= (A.shape[2]-1)\n",
    "    \n",
    "    arrays = np.where(bool_array)\n",
    "    x_coords = arrays[0]\n",
    "    y_coords = arrays[1]\n",
    "    length = len(x_coords)\n",
    "    coord_list = [(x_coords[n]+a_min,y_coords[n]+b_min,x_coords[n],y_coords[n]) for n in range(length)]\n",
    "    \n",
    "    return coord_list"
   ]
  },
  {
   "cell_type": "code",
   "execution_count": 206,
   "metadata": {
    "scrolled": true
   },
   "outputs": [
    {
     "data": {
      "text/plain": [
       "[(-30, 30, 0, 80),\n",
       " (-29, 29, 1, 79),\n",
       " (-28, -28, 2, 22),\n",
       " (-28, 28, 2, 78),\n",
       " (-27, 27, 3, 77),\n",
       " (-26, 26, 4, 76),\n",
       " (-25, 25, 5, 75),\n",
       " (-24, -24, 6, 26),\n",
       " (-24, 24, 6, 74),\n",
       " (-24, 36, 6, 86),\n",
       " (-23, 23, 7, 73),\n",
       " (-22, -22, 8, 28),\n",
       " (-22, 22, 8, 72),\n",
       " (-21, 21, 9, 71),\n",
       " (-20, -20, 10, 30),\n",
       " (-20, 20, 10, 70),\n",
       " (-19, 19, 11, 69),\n",
       " (-18, 18, 12, 68),\n",
       " (-17, 17, 13, 67),\n",
       " (-16, -16, 14, 34),\n",
       " (-16, 16, 14, 66),\n",
       " (-15, 15, 15, 65),\n",
       " (-14, 14, 16, 64),\n",
       " (-13, 13, 17, 63),\n",
       " (-12, -12, 18, 38),\n",
       " (-12, 12, 18, 62),\n",
       " (-11, 11, 19, 61),\n",
       " (-10, -10, 20, 40),\n",
       " (-10, 10, 20, 60),\n",
       " (-9, 9, 21, 59),\n",
       " (-8, -8, 22, 42),\n",
       " (-8, 8, 22, 58),\n",
       " (-7, 7, 23, 57),\n",
       " (-6, -6, 24, 44),\n",
       " (-6, 6, 24, 56),\n",
       " (-5, 5, 25, 55),\n",
       " (-4, -4, 26, 46),\n",
       " (-4, 4, 26, 54),\n",
       " (-3, 3, 27, 53),\n",
       " (-2, -2, 28, 48),\n",
       " (-2, 2, 28, 52),\n",
       " (-1, 1, 29, 51),\n",
       " (0, 0, 30, 50),\n",
       " (1, -1, 31, 49),\n",
       " (2, -2, 32, 48),\n",
       " (2, 2, 32, 52),\n",
       " (3, -3, 33, 47),\n",
       " (4, -4, 34, 46),\n",
       " (4, 4, 34, 54),\n",
       " (5, -5, 35, 45),\n",
       " (6, -6, 36, 44),\n",
       " (6, 6, 36, 56),\n",
       " (7, -7, 37, 43),\n",
       " (8, -8, 38, 42),\n",
       " (8, 8, 38, 58),\n",
       " (9, -9, 39, 41),\n",
       " (10, -10, 40, 40),\n",
       " (10, 10, 40, 60),\n",
       " (11, -11, 41, 39),\n",
       " (12, -12, 42, 38),\n",
       " (12, 12, 42, 62),\n",
       " (13, -13, 43, 37),\n",
       " (14, -14, 44, 36),\n",
       " (15, -15, 45, 35),\n",
       " (16, -16, 46, 34),\n",
       " (16, 16, 46, 66),\n",
       " (17, -17, 47, 33),\n",
       " (18, -18, 48, 32),\n",
       " (19, -19, 49, 31),\n",
       " (20, -20, 50, 30),\n",
       " (20, 20, 50, 70),\n",
       " (21, -21, 51, 29),\n",
       " (22, -22, 52, 28),\n",
       " (22, 22, 52, 72),\n",
       " (23, -23, 53, 27),\n",
       " (24, -36, 54, 14),\n",
       " (24, -24, 54, 26),\n",
       " (24, 24, 54, 74),\n",
       " (25, -25, 55, 25),\n",
       " (26, -26, 56, 24),\n",
       " (27, -27, 57, 23),\n",
       " (28, -28, 58, 22),\n",
       " (28, 28, 58, 78),\n",
       " (29, -29, 59, 21),\n",
       " (30, -30, 60, 20)]"
      ]
     },
     "execution_count": 206,
     "metadata": {},
     "output_type": "execute_result"
    }
   ],
   "source": [
    "A = deg_2_sqnc(-30,30,-50,50,21)\n",
    "int_sqnc_check(A,-30,-50)"
   ]
  },
  {
   "cell_type": "code",
   "execution_count": 207,
   "metadata": {},
   "outputs": [
    {
     "data": {
      "text/plain": [
       "array([  0.,   1.,  -3.,   4.,  -7.,   6., -12.,   8., -15.,  13., -18.,\n",
       "        12., -28.,  14., -24.,  24., -31.,  18., -39.,  20., -42.])"
      ]
     },
     "execution_count": 207,
     "metadata": {},
     "output_type": "execute_result"
    }
   ],
   "source": [
    "A[54,14]"
   ]
  },
  {
   "cell_type": "code",
   "execution_count": 208,
   "metadata": {
    "scrolled": true
   },
   "outputs": [
    {
     "data": {
      "text/plain": [
       "[(-50, 50, 0, 100),\n",
       " (-49, 49, 1, 99),\n",
       " (-48, 48, 2, 98),\n",
       " (-47, 47, 3, 97),\n",
       " (-46, 46, 4, 96),\n",
       " (-45, 45, 5, 95),\n",
       " (-44, 44, 6, 94),\n",
       " (-43, 43, 7, 93),\n",
       " (-42, 42, 8, 92),\n",
       " (-41, 41, 9, 91),\n",
       " (-40, 40, 10, 90),\n",
       " (-39, 39, 11, 89),\n",
       " (-38, 38, 12, 88),\n",
       " (-37, 37, 13, 87),\n",
       " (-36, 36, 14, 86),\n",
       " (-35, 35, 15, 85),\n",
       " (-34, 34, 16, 84),\n",
       " (-33, 33, 17, 83),\n",
       " (-32, 32, 18, 82),\n",
       " (-31, 31, 19, 81),\n",
       " (-30, 30, 20, 80),\n",
       " (-29, 29, 21, 79),\n",
       " (-28, 28, 22, 78),\n",
       " (-27, 27, 23, 77),\n",
       " (-26, 26, 24, 76),\n",
       " (-25, 25, 25, 75),\n",
       " (-24, 24, 26, 74),\n",
       " (-24, 48, 26, 98),\n",
       " (-23, 23, 27, 73),\n",
       " (-22, 22, 28, 72),\n",
       " (-21, 21, 29, 71),\n",
       " (-20, 20, 30, 70),\n",
       " (-19, 19, 31, 69),\n",
       " (-18, 18, 32, 68),\n",
       " (-17, 17, 33, 67),\n",
       " (-16, -48, 34, 2),\n",
       " (-16, 16, 34, 66),\n",
       " (-15, 15, 35, 65),\n",
       " (-14, 14, 36, 64),\n",
       " (-13, 13, 37, 63),\n",
       " (-12, -36, 38, 14),\n",
       " (-12, 12, 38, 62),\n",
       " (-11, 11, 39, 61),\n",
       " (-10, -30, 40, 20),\n",
       " (-10, 10, 40, 60),\n",
       " (-9, 9, 41, 59),\n",
       " (-8, -24, 42, 26),\n",
       " (-8, 8, 42, 58),\n",
       " (-7, 7, 43, 57),\n",
       " (-6, -18, 44, 32),\n",
       " (-6, 6, 44, 56),\n",
       " (-5, 5, 45, 55),\n",
       " (-4, -12, 46, 38),\n",
       " (-4, 4, 46, 54),\n",
       " (-3, 3, 47, 53),\n",
       " (-2, -6, 48, 44),\n",
       " (-2, 2, 48, 52),\n",
       " (-1, 1, 49, 51),\n",
       " (0, 0, 50, 50),\n",
       " (1, -1, 51, 49),\n",
       " (2, -2, 52, 48),\n",
       " (2, 6, 52, 56),\n",
       " (3, -3, 53, 47),\n",
       " (4, -4, 54, 46),\n",
       " (4, 12, 54, 62),\n",
       " (5, -5, 55, 45),\n",
       " (6, -6, 56, 44),\n",
       " (6, 18, 56, 68),\n",
       " (7, -7, 57, 43),\n",
       " (8, -8, 58, 42),\n",
       " (8, 24, 58, 74),\n",
       " (9, -9, 59, 41),\n",
       " (10, -10, 60, 40),\n",
       " (10, 30, 60, 80),\n",
       " (11, -11, 61, 39),\n",
       " (12, -12, 62, 38),\n",
       " (12, 36, 62, 86),\n",
       " (13, -13, 63, 37),\n",
       " (14, -14, 64, 36),\n",
       " (15, -15, 65, 35),\n",
       " (16, -16, 66, 34),\n",
       " (16, 48, 66, 98),\n",
       " (17, -17, 67, 33),\n",
       " (18, -18, 68, 32),\n",
       " (19, -19, 69, 31),\n",
       " (20, -20, 70, 30),\n",
       " (21, -21, 71, 29),\n",
       " (22, -22, 72, 28),\n",
       " (23, -23, 73, 27),\n",
       " (24, -48, 74, 2),\n",
       " (24, -24, 74, 26),\n",
       " (25, -25, 75, 25),\n",
       " (26, -26, 76, 24),\n",
       " (27, -27, 77, 23),\n",
       " (28, -28, 78, 22),\n",
       " (29, -29, 79, 21),\n",
       " (30, -30, 80, 20),\n",
       " (31, -31, 81, 19),\n",
       " (32, -32, 82, 18),\n",
       " (33, -33, 83, 17),\n",
       " (34, -34, 84, 16),\n",
       " (35, -35, 85, 15),\n",
       " (36, -36, 86, 14),\n",
       " (37, -37, 87, 13),\n",
       " (38, -38, 88, 12),\n",
       " (39, -39, 89, 11),\n",
       " (40, -40, 90, 10),\n",
       " (41, -41, 91, 9),\n",
       " (42, -42, 92, 8),\n",
       " (43, -43, 93, 7),\n",
       " (44, -44, 94, 6),\n",
       " (45, -45, 95, 5),\n",
       " (46, -46, 96, 4),\n",
       " (47, -47, 97, 3),\n",
       " (48, -48, 98, 2),\n",
       " (49, -49, 99, 1),\n",
       " (50, -50, 100, 0)]"
      ]
     },
     "execution_count": 208,
     "metadata": {},
     "output_type": "execute_result"
    }
   ],
   "source": [
    "B = deg_3_sqnc(-50,50,-50,50,21)\n",
    "int_sqnc_check(B,-50,-50)"
   ]
  },
  {
   "cell_type": "code",
   "execution_count": 209,
   "metadata": {},
   "outputs": [
    {
     "data": {
      "text/plain": [
       "array([ 0.,  1.,  3.,  4.,  7.,  6., 12.,  8., 15., 13., 18., 12., 28.,\n",
       "       14., 24., 24., 31., 18., 39., 20., 42.])"
      ]
     },
     "execution_count": 209,
     "metadata": {},
     "output_type": "execute_result"
    }
   ],
   "source": [
    "B[26,98]"
   ]
  },
  {
   "cell_type": "code",
   "execution_count": null,
   "metadata": {},
   "outputs": [],
   "source": []
  },
  {
   "cell_type": "code",
   "execution_count": 210,
   "metadata": {},
   "outputs": [
    {
     "data": {
      "text/plain": [
       "3"
      ]
     },
     "execution_count": 210,
     "metadata": {},
     "output_type": "execute_result"
    }
   ],
   "source": [
    "len(B.shape)"
   ]
  },
  {
   "cell_type": "markdown",
   "metadata": {},
   "source": [
    "### Quartic Case"
   ]
  },
  {
   "cell_type": "markdown",
   "metadata": {},
   "source": [
    "Now we're letting $P(u,v) = au^4 + bu^3v + cu^2v^2$. This instantly complicates things, since I'll need to include a new axis in my matrix, but it should involve the same idea. In the end, the ordered triplet $(a,b,c) = (-24,24,48)$ should yield our $\\sigma(n)$.\n",
    "\n",
    "I'll also need to create new sequence checkers (or add features to the current ones) for each of these to account for the extra axis."
   ]
  },
  {
   "cell_type": "code",
   "execution_count": 304,
   "metadata": {},
   "outputs": [],
   "source": [
    "def deg_4_array(a_min,a_max,b_min,b_max,c_min,c_max,seq_length):\n",
    "    a_len = a_max+1 - a_min\n",
    "    b_len = b_max+1 - b_min\n",
    "    c_len = c_max+1 - c_min\n",
    "    \n",
    "    a_range = np.arange(a_min, a_max+1)\n",
    "    b_range = np.arange(b_min, b_max+1)\n",
    "    c_range = np.arange(c_min, c_max+1)\n",
    "    u_range = np.arange(seq_length)\n",
    "    v_range = u_range\n",
    "    \n",
    "    au_matrix = np.multiply.outer(a_range, u_range**4) # a x u^4\n",
    "    au_tensor = np.broadcast_to(au_matrix,(seq_length,b_len,c_len,a_len,seq_length)) # k x b x c x a x u^4\n",
    "    #v,b,c,a,u --> a,b,c,v,u --> a,b,c,u,v\n",
    "    \n",
    "    bu_matrix = np.multiply.outer(b_range,u_range**3) # b x u^3\n",
    "    buv_matrix = np.multiply.outer(bu_matrix,v_range) # b x u^3 x v\n",
    "    buv_tensor = np.broadcast_to(buv_matrix,(a_len,c_len,b_len,seq_length,seq_length)) # a x c x b x u^3 x v\n",
    "    # a,c,b,u,v --> a,b,c,u,v\n",
    "    \n",
    "    cu_matrix = np.multiply.outer(c_range,u_range**2) # c x u^2\n",
    "    cuv_matrix = np.multiply.outer(cu_matrix,v_range**2) # c x u^2 x v^2\n",
    "    cuv_tensor = np.broadcast_to(cuv_matrix,(a_len,b_len,c_len,seq_length,seq_length)) # a x b x c x u^2 x v^2\n",
    "    \n",
    "    corrected_au_tensor = np.swapaxes(np.swapaxes(au_tensor, 3,4),0,4)\n",
    "    corrected_buv_tensor = np.swapaxes(buv_tensor, 1,2)\n",
    "    \n",
    "    tensor = corrected_au_tensor + corrected_buv_tensor + cuv_tensor\n",
    "    \n",
    "    #P_array = np.swapaxes(tensor, 3,4)\n",
    "    \n",
    "    return tensor\n",
    "\n",
    "\n",
    "def deg_4_sqnc(a_min,a_max,b_min,b_max,c_min,c_max,seq_length):\n",
    "    a_len = a_max+1 - a_min\n",
    "    b_len = b_max+1 - b_min\n",
    "    c_len = c_max+1 - c_min\n",
    "    \n",
    "    coeff_array = deg_4_array(a_min,a_max,b_min,b_max,c_min,c_max,seq_length)\n",
    "    seq = np.zeros(seq_length)\n",
    "    seq[1] = 1\n",
    "    seq_array = np.broadcast_to(seq, (a_len,b_len,c_len,seq_length)).copy()\n",
    "    \n",
    "    flipped_array = coeff_array[:,:,:,::-1,:]\n",
    "    for n in range(2,seq_length):\n",
    "        diag = np.diagonal(flipped_array, -seq_length+n+1, axis1 = 3, axis2 = 4)[:,:,:,1:n]\n",
    "        vec_A = diag*seq_array[:,:,:,1:n]\n",
    "        vec_B = seq_array[:,:,:,n-1:0:-1]\n",
    "        seq_array[:,:,:,n] = (1/((n**4)*(n-1)))*np.sum(vec_A*vec_B,axis=3)\n",
    "    \n",
    "    return seq_array"
   ]
  },
  {
   "cell_type": "code",
   "execution_count": 305,
   "metadata": {},
   "outputs": [
    {
     "data": {
      "text/plain": [
       "array([[[[ 0.,  1.,  3.,  4.,  7.,  6., 12.,  8., 15., 13., 18., 12.,\n",
       "          28., 14., 24., 24., 31., 18., 39., 20., 42.]]]])"
      ]
     },
     "execution_count": 305,
     "metadata": {},
     "output_type": "execute_result"
    }
   ],
   "source": [
    "deg_4_sqnc(-24,-24,24,24,48,48,21)"
   ]
  },
  {
   "cell_type": "markdown",
   "metadata": {},
   "source": [
    "### Quintic Case"
   ]
  },
  {
   "cell_type": "markdown",
   "metadata": {},
   "source": [
    "Home is at $(a,b,c) = (-24,0,120)$."
   ]
  },
  {
   "cell_type": "code",
   "execution_count": 307,
   "metadata": {},
   "outputs": [],
   "source": [
    "def deg_5_array(a_min,a_max,b_min,b_max,c_min,c_max,seq_length):\n",
    "    a_len = a_max+1 - a_min\n",
    "    b_len = b_max+1 - b_min\n",
    "    c_len = c_max+1 - c_min\n",
    "    \n",
    "    a_range = np.arange(a_min, a_max+1)\n",
    "    b_range = np.arange(b_min, b_max+1)\n",
    "    c_range = np.arange(c_min, c_max+1)\n",
    "    u_range = np.arange(seq_length)\n",
    "    v_range = u_range\n",
    "    \n",
    "    au_matrix = np.multiply.outer(a_range, u_range**5) # a x u^5\n",
    "    au_tensor = np.broadcast_to(au_matrix,(seq_length,b_len,c_len,a_len,seq_length)) # k x b x c x a x u^4\n",
    "    #v,b,c,a,u --> a,b,c,v,u --> a,b,c,u,v\n",
    "    \n",
    "    bu_matrix = np.multiply.outer(b_range,u_range**4) # b x u^4\n",
    "    buv_matrix = np.multiply.outer(bu_matrix,v_range) # b x u^4 x v\n",
    "    buv_tensor = np.broadcast_to(buv_matrix,(a_len,c_len,b_len,seq_length,seq_length)) # a x c x b x u^3 x v\n",
    "    # a,c,b,u,v --> a,b,c,u,v\n",
    "    \n",
    "    cu_matrix = np.multiply.outer(c_range,u_range**3) # c x u^3\n",
    "    cuv_matrix = np.multiply.outer(cu_matrix,v_range**2) # c x u^3 x v^2\n",
    "    cuv_tensor = np.broadcast_to(cuv_matrix,(a_len,b_len,c_len,seq_length,seq_length)) # a x b x c x u^3 x v^2\n",
    "    \n",
    "    corrected_au_tensor = np.swapaxes(np.swapaxes(au_tensor, 3,4),0,4)\n",
    "    corrected_buv_tensor = np.swapaxes(buv_tensor, 1,2)\n",
    "    \n",
    "    tensor = corrected_au_tensor + corrected_buv_tensor + cuv_tensor\n",
    "    \n",
    "    #P_array = np.swapaxes(tensor, 3,4)\n",
    "    \n",
    "    return tensor\n",
    "\n",
    "\n",
    "def deg_5_sqnc(a_min,a_max,b_min,b_max,c_min,c_max,seq_length):\n",
    "    a_len = a_max+1 - a_min\n",
    "    b_len = b_max+1 - b_min\n",
    "    c_len = c_max+1 - c_min\n",
    "    \n",
    "    coeff_array = deg_5_array(a_min,a_max,b_min,b_max,c_min,c_max,seq_length)\n",
    "    seq = np.zeros(seq_length)\n",
    "    seq[1] = 1\n",
    "    seq_array = np.broadcast_to(seq, (a_len,b_len,c_len,seq_length)).copy()\n",
    "    \n",
    "    flipped_array = coeff_array[:,:,:,::-1,:]\n",
    "    for n in range(2,seq_length):\n",
    "        diag = np.diagonal(flipped_array, -seq_length+n+1, axis1 = 3, axis2 = 4)[:,:,:,1:n]\n",
    "        vec_A = diag*seq_array[:,:,:,1:n]\n",
    "        vec_B = seq_array[:,:,:,n-1:0:-1]\n",
    "        seq_array[:,:,:,n] = (1/((n**5)*(n-1)))*np.sum(vec_A*vec_B,axis=3)\n",
    "    \n",
    "    return seq_array"
   ]
  },
  {
   "cell_type": "code",
   "execution_count": 311,
   "metadata": {
    "scrolled": true
   },
   "outputs": [
    {
     "data": {
      "text/plain": [
       "array([[[[ 0.,  1.,  3.,  4.,  7.,  6., 12.,  8., 15., 13., 18., 12.,\n",
       "          28., 14., 24., 24., 31., 18., 39., 20., 42.]]]])"
      ]
     },
     "execution_count": 311,
     "metadata": {},
     "output_type": "execute_result"
    }
   ],
   "source": [
    "deg_5_sqnc(-24,-24,0,0,120,120,21)"
   ]
  },
  {
   "cell_type": "markdown",
   "metadata": {},
   "source": [
    "Gotta update the dang sequence checkers and play with the $\\frac{1}{n^p(n-1)}$ thing."
   ]
  },
  {
   "cell_type": "code",
   "execution_count": null,
   "metadata": {},
   "outputs": [],
   "source": []
  }
 ],
 "metadata": {
  "kernelspec": {
   "display_name": "Python 3",
   "language": "python",
   "name": "python3"
  },
  "language_info": {
   "codemirror_mode": {
    "name": "ipython",
    "version": 3
   },
   "file_extension": ".py",
   "mimetype": "text/x-python",
   "name": "python",
   "nbconvert_exporter": "python",
   "pygments_lexer": "ipython3",
   "version": "3.7.6"
  }
 },
 "nbformat": 4,
 "nbformat_minor": 4
}
