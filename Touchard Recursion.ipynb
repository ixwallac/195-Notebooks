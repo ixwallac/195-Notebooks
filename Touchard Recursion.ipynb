{
 "cells": [
  {
   "cell_type": "code",
   "execution_count": 1,
   "metadata": {},
   "outputs": [],
   "source": [
    "import numpy as np"
   ]
  },
  {
   "cell_type": "markdown",
   "metadata": {},
   "source": [
    "## Linear Case"
   ]
  },
  {
   "cell_type": "markdown",
   "metadata": {},
   "source": [
    "$$\n",
    "\\tau(n) = \\frac{1}{n(n-1)}\\sum_{u+v=n}(au+bv)\\tau(u)\\tau(v)\n",
    "$$\n",
    "Due to symmetry, we can rewrite the sum as\n",
    "$$\n",
    "\\tau(n) = \\frac{1}{n(n-1)}\\sum_{u+v=n}au\\tau(u)\\tau(v).\n",
    "$$"
   ]
  },
  {
   "cell_type": "code",
   "execution_count": 2,
   "metadata": {},
   "outputs": [],
   "source": [
    "def deg_1_array(a_min,a_max,b_min,b_max,seq_length):\n",
    "    a_len = a_max+1 - a_min\n",
    "    b_len = b_max+1 - b_min\n",
    "    \n",
    "    a_range = np.arange(a_min, a_max+1)\n",
    "    b_range = np.arange(b_min, b_max+1)\n",
    "    u_range = np.arange(seq_length)\n",
    "    v_range = u_range\n",
    "    \n",
    "    au_array = np.multiply.outer(a_range,u_range) # a x u\n",
    "    bv_array = np.multiply.outer(b_range,v_range) # b x v\n",
    "    \n",
    "    temp_array = np.add.outer(au_array, bv_array) # a x u x b x v\n",
    "    \n",
    "    final_array = np.swapaxes(temp_array, 1,2)\n",
    "    \n",
    "    return final_array\n",
    "\n",
    "\n",
    "def deg_1_sqnc(a_min,a_max,b_min,b_max,seq_length):\n",
    "    a_len = a_max+1 - a_min\n",
    "    b_len = b_max+1 - b_min\n",
    "    \n",
    "    coeff_array = deg_1_array(a_min,a_max,b_min,b_max,seq_length)\n",
    "    seq = np.zeros(seq_length)\n",
    "    seq[1] = 1\n",
    "    seq_array = np.broadcast_to(seq, (a_len,b_len,seq_length)).copy()\n",
    "    \n",
    "    flipped_array = coeff_array[:,:,::-1,:]\n",
    "    for n in range(2,seq_length):\n",
    "        diag = np.diagonal(flipped_array, -seq_length+n+1, axis1 = 2, axis2 = 3)[:,:,1:n]\n",
    "        vec_A = diag*seq_array[:,:,1:n]\n",
    "        vec_B = seq_array[:,:,n-1:0:-1]\n",
    "        seq_array[:,:,n] = (1/(n*(n-1)))*np.sum(vec_A*vec_B,axis=2)\n",
    "    \n",
    "    return seq_array"
   ]
  },
  {
   "cell_type": "code",
   "execution_count": 3,
   "metadata": {},
   "outputs": [
    {
     "data": {
      "text/plain": [
       "array([[[ 0.00000000e+00,  1.00000000e+00, -5.00000000e-01,\n",
       "          2.50000000e-01, -1.25000000e-01,  6.25000000e-02,\n",
       "         -3.12500000e-02,  1.56250000e-02, -7.81250000e-03,\n",
       "          3.90625000e-03, -1.95312500e-03,  9.76562500e-04,\n",
       "         -4.88281250e-04,  2.44140625e-04, -1.22070312e-04,\n",
       "          6.10351562e-05, -3.05175781e-05,  1.52587891e-05,\n",
       "         -7.62939453e-06,  3.81469727e-06, -1.90734863e-06]]])"
      ]
     },
     "execution_count": 3,
     "metadata": {},
     "output_type": "execute_result"
    }
   ],
   "source": [
    "deg_1_sqnc(-5,-5,4,4,21)"
   ]
  },
  {
   "cell_type": "markdown",
   "metadata": {},
   "source": [
    "## Quadratic Case"
   ]
  },
  {
   "cell_type": "code",
   "execution_count": 4,
   "metadata": {},
   "outputs": [],
   "source": [
    "def deg_2_array(a_min,a_max,b_min,b_max,seq_length):\n",
    "    a_len = a_max+1 - a_min\n",
    "    b_len = b_max+1 - b_min\n",
    "    \n",
    "    a_range = np.arange(a_min, a_max+1)\n",
    "    b_range = np.arange(b_min, b_max+1)\n",
    "    u_range = np.arange(seq_length)\n",
    "    v_range = u_range\n",
    "    \n",
    "    au_squared_matrix = np.multiply.outer(a_range, u_range*u_range) # a x u\n",
    "    au_tensor = np.broadcast_to(au_squared_matrix,(seq_length,b_len,a_len,seq_length)) # k x b x a x k\n",
    "    #k,b,a,k --> a,b,k,k\n",
    "    \n",
    "    bu_matrix = np.multiply.outer(b_range,u_range) # b_len x seq_length\n",
    "    buv_matrix = np.multiply.outer(bu_matrix,v_range) # b_len x seq_len x seq_len\n",
    "    buv_tensor = np.broadcast_to(buv_matrix,(a_len,b_len,seq_length,seq_length))\n",
    "    \n",
    "    corrected_au_tensor = np.swapaxes(au_tensor, 0,2)\n",
    "    #corrected_buv_tensor = np.swapaxes(buv_tensor, 2,3)\n",
    "    \n",
    "    tensor = corrected_au_tensor + buv_tensor\n",
    "    \n",
    "    P_array = np.swapaxes(tensor, 2,3)\n",
    "    \n",
    "    return P_array\n",
    "\n",
    "\n",
    "def deg_2_sqnc(a_min,a_max,b_min,b_max,seq_length):\n",
    "    a_len = a_max+1 - a_min\n",
    "    b_len = b_max+1 - b_min\n",
    "    \n",
    "    coeff_array = deg_2_array(a_min,a_max,b_min,b_max,seq_length)\n",
    "    seq = np.zeros(seq_length)\n",
    "    seq[1] = 1\n",
    "    seq_array = np.broadcast_to(seq, (a_len,b_len,seq_length)).copy()\n",
    "    \n",
    "    flipped_array = coeff_array[:,:,::-1,:]\n",
    "    for n in range(2,seq_length):\n",
    "        diag = np.diagonal(flipped_array, -seq_length+n+1, axis1 = 2, axis2 = 3)[:,:,1:n]\n",
    "        vec_A = diag*seq_array[:,:,1:n]\n",
    "        vec_B = seq_array[:,:,n-1:0:-1]\n",
    "        seq_array[:,:,n] = (1/((n*n)*(n-1)))*np.sum(vec_A*vec_B,axis=2)\n",
    "    \n",
    "    return seq_array"
   ]
  },
  {
   "cell_type": "code",
   "execution_count": 5,
   "metadata": {},
   "outputs": [
    {
     "data": {
      "text/plain": [
       "array([[[ 0.,  1.,  3.,  4.,  7.,  6., 12.,  8., 15., 13., 18., 12.,\n",
       "         28., 14., 24., 24., 31., 18., 39., 20., 42.]]])"
      ]
     },
     "execution_count": 5,
     "metadata": {},
     "output_type": "execute_result"
    }
   ],
   "source": [
    "deg_2_sqnc(-24,-24,36,36,21)"
   ]
  },
  {
   "cell_type": "markdown",
   "metadata": {},
   "source": [
    "## Cubic Case"
   ]
  },
  {
   "cell_type": "code",
   "execution_count": 6,
   "metadata": {},
   "outputs": [],
   "source": [
    "def deg_3_array(a_min,a_max,b_min,b_max,seq_length):\n",
    "    a_len = a_max+1 - a_min\n",
    "    b_len = b_max+1 - b_min\n",
    "    \n",
    "    a_range = np.arange(a_min, a_max+1)\n",
    "    b_range = np.arange(b_min, b_max+1)\n",
    "    u_range = np.arange(seq_length)\n",
    "    v_range = u_range\n",
    "    \n",
    "    au_squared_matrix = np.multiply.outer(a_range, u_range*u_range*u_range) # a x u^3\n",
    "    au_tensor = np.broadcast_to(au_squared_matrix,(seq_length,b_len,a_len,seq_length)) # k x b x a x k\n",
    "    #k,b,a,k --> a,b,k,k\n",
    "    \n",
    "    bu_matrix = np.multiply.outer(b_range,u_range*u_range) # b x u^2\n",
    "    buv_matrix = np.multiply.outer(bu_matrix,v_range) # b x u^2 x v\n",
    "    buv_tensor = np.broadcast_to(buv_matrix,(a_len,b_len,seq_length,seq_length)) # a x b x k x k\n",
    "    \n",
    "    corrected_au_tensor = np.swapaxes(au_tensor, 0,2)\n",
    "    #corrected_buv_tensor = np.swapaxes(buv_tensor, 2,3)\n",
    "    \n",
    "    tensor = corrected_au_tensor + buv_tensor\n",
    "    \n",
    "    P_array = np.swapaxes(tensor, 2,3)\n",
    "    \n",
    "    return P_array\n",
    "\n",
    "\n",
    "def deg_3_sqnc(a_min,a_max,b_min,b_max,seq_length):\n",
    "    a_len = a_max+1 - a_min\n",
    "    b_len = b_max+1 - b_min\n",
    "    \n",
    "    coeff_array = deg_3_array(a_min,a_max,b_min,b_max,seq_length)\n",
    "    seq = np.zeros(seq_length)\n",
    "    seq[1] = 1\n",
    "    seq_array = np.broadcast_to(seq, (a_len,b_len,seq_length)).copy()\n",
    "    \n",
    "    flipped_array = coeff_array[:,:,::-1,:]\n",
    "    for n in range(2,seq_length):\n",
    "        diag = np.diagonal(flipped_array, -seq_length+n+1, axis1 = 2, axis2 = 3)[:,:,1:n]\n",
    "        vec_A = diag*seq_array[:,:,1:n]\n",
    "        vec_B = seq_array[:,:,n-1:0:-1]\n",
    "        seq_array[:,:,n] = (1/((n**3)*(n-1)))*np.sum(vec_A*vec_B,axis=2)\n",
    "    \n",
    "    return seq_array"
   ]
  },
  {
   "cell_type": "code",
   "execution_count": 7,
   "metadata": {},
   "outputs": [
    {
     "data": {
      "text/plain": [
       "array([[[0.00000000e+00, 1.00000000e+00, 3.00000000e+00, 9.00000000e+00,\n",
       "         2.70000000e+01, 8.10000000e+01, 2.43000000e+02, 7.29000000e+02,\n",
       "         2.18700000e+03, 6.56100000e+03, 1.96830000e+04, 5.90490000e+04,\n",
       "         1.77147000e+05, 5.31441000e+05, 1.59432300e+06, 4.78296900e+06,\n",
       "         1.43489070e+07, 4.30467210e+07, 1.29140163e+08, 3.87420489e+08,\n",
       "         1.16226147e+09]]])"
      ]
     },
     "execution_count": 7,
     "metadata": {},
     "output_type": "execute_result"
    }
   ],
   "source": [
    "deg_3_sqnc(6,6,18,18,21)"
   ]
  },
  {
   "cell_type": "markdown",
   "metadata": {},
   "source": [
    "## Catalan Numbers"
   ]
  },
  {
   "cell_type": "code",
   "execution_count": 8,
   "metadata": {},
   "outputs": [],
   "source": [
    "def catalan(length):\n",
    "    catlist = np.zeros(length)\n",
    "    catlist[1] = 1\n",
    "    for n in range(2,length):\n",
    "        vec_A = catlist[1:n]\n",
    "        vec_B = catlist[n-1:0:-1]\n",
    "        catlist[n] = np.dot(vec_A,vec_B)\n",
    "\n",
    "    return catlist"
   ]
  },
  {
   "cell_type": "code",
   "execution_count": 9,
   "metadata": {
    "scrolled": true
   },
   "outputs": [
    {
     "data": {
      "text/plain": [
       "array([0.00000000e+00, 1.00000000e+00, 1.00000000e+00, 2.00000000e+00,\n",
       "       5.00000000e+00, 1.40000000e+01, 4.20000000e+01, 1.32000000e+02,\n",
       "       4.29000000e+02, 1.43000000e+03, 4.86200000e+03, 1.67960000e+04,\n",
       "       5.87860000e+04, 2.08012000e+05, 7.42900000e+05, 2.67444000e+06,\n",
       "       9.69484500e+06, 3.53576700e+07, 1.29644790e+08, 4.77638700e+08,\n",
       "       1.76726319e+09])"
      ]
     },
     "execution_count": 9,
     "metadata": {},
     "output_type": "execute_result"
    }
   ],
   "source": [
    "catalan(21)"
   ]
  },
  {
   "cell_type": "markdown",
   "metadata": {},
   "source": [
    "## Checking for Geometric Sequences"
   ]
  },
  {
   "cell_type": "code",
   "execution_count": 10,
   "metadata": {},
   "outputs": [],
   "source": [
    "def array_div(A): # input is 3d array\n",
    "    orig_sqnc_len = A.shape[2]\n",
    "    \n",
    "    shift_1 = A[:,:,2::] # starts each sequence at their first index\n",
    "    shift_2 = A[:,:,1:-1] # then at their second index\n",
    "    \n",
    "    div_array = np.divide(shift_1,shift_2, out=np.full_like(shift_1,np.nan), where=shift_2!=0)\n",
    "    # puts a zero wherever it had to divide by zero\n",
    "    \n",
    "    return div_array"
   ]
  },
  {
   "cell_type": "code",
   "execution_count": 11,
   "metadata": {},
   "outputs": [],
   "source": [
    "def geom_sqnc_check(A,a_min=0,b_min=0): # need those extra inputs to get the a and b values correct in the tuples\n",
    "    np.seterr(all=\"ignore\")\n",
    "   \n",
    "    quot_array = array_div(A)\n",
    "    bool_array = (np.abs(quot_array[:,:,:-1] - quot_array[:,:,1:]) < 1e-5).sum(axis=2) == (quot_array.shape[2]-1)\n",
    "\n",
    "    arrays = np.where(bool_array)\n",
    "    x_coords = arrays[0]\n",
    "    y_coords = arrays[1]\n",
    "    length = len(x_coords)\n",
    "    coord_list = [(x_coords[n]+a_min,y_coords[n]+b_min) for n in range(length)]\n",
    "    coord_list\n",
    "    \n",
    "    return coord_list"
   ]
  },
  {
   "cell_type": "code",
   "execution_count": 12,
   "metadata": {
    "scrolled": false
   },
   "outputs": [
    {
     "data": {
      "text/plain": [
       "[(-10, -10),\n",
       " (-10, -9),\n",
       " (-10, -8),\n",
       " (-10, -7),\n",
       " (-10, -6),\n",
       " (-10, -5),\n",
       " (-10, -4),\n",
       " (-10, -3),\n",
       " (-10, -2),\n",
       " (-10, -1),\n",
       " (-10, 0),\n",
       " (-10, 1),\n",
       " (-10, 2),\n",
       " (-10, 3),\n",
       " (-10, 4),\n",
       " (-10, 5),\n",
       " (-10, 6),\n",
       " (-10, 7),\n",
       " (-10, 8),\n",
       " (-10, 9),\n",
       " (-9, -10),\n",
       " (-9, -9),\n",
       " (-9, -8),\n",
       " (-9, -7),\n",
       " (-9, -6)]"
      ]
     },
     "execution_count": 12,
     "metadata": {},
     "output_type": "execute_result"
    }
   ],
   "source": [
    "geom_sqnc_check(deg_1_sqnc(-10,10,-10,10,21),-10,-10)[:25]"
   ]
  },
  {
   "cell_type": "code",
   "execution_count": 13,
   "metadata": {},
   "outputs": [
    {
     "data": {
      "text/plain": [
       "array([[[336.5, 336.5, 336.5, 336.5, 336.5, 336.5, 336.5, 336.5, 336.5,\n",
       "         336.5, 336.5, 336.5, 336.5, 336.5, 336.5, 336.5, 336.5, 336.5,\n",
       "         336.5]]])"
      ]
     },
     "execution_count": 13,
     "metadata": {},
     "output_type": "execute_result"
    }
   ],
   "source": [
    "array_div(deg_1_sqnc(1000,1000,-327,-327,21)) # a = 1000, b = -327"
   ]
  },
  {
   "cell_type": "markdown",
   "metadata": {},
   "source": [
    "It looks like the linear case *only* produces geometric sequences!"
   ]
  },
  {
   "cell_type": "code",
   "execution_count": 14,
   "metadata": {},
   "outputs": [
    {
     "data": {
      "text/plain": [
       "[(-10, -10),\n",
       " (-9, -9),\n",
       " (-8, -8),\n",
       " (-7, -7),\n",
       " (-6, -6),\n",
       " (-5, -5),\n",
       " (-4, -4),\n",
       " (-3, -3),\n",
       " (-2, -2),\n",
       " (-1, -1),\n",
       " (1, 1),\n",
       " (2, 2),\n",
       " (3, 3),\n",
       " (4, 4),\n",
       " (5, 5),\n",
       " (6, 6),\n",
       " (7, 7),\n",
       " (8, 8),\n",
       " (9, 9),\n",
       " (10, 10)]"
      ]
     },
     "execution_count": 14,
     "metadata": {},
     "output_type": "execute_result"
    }
   ],
   "source": [
    "geom_sqnc_check(deg_2_sqnc(-10,10,-10,10,21),-10,-10)"
   ]
  },
  {
   "cell_type": "code",
   "execution_count": 15,
   "metadata": {},
   "outputs": [
    {
     "data": {
      "text/plain": [
       "array([2., 2., 2., 2., 2., 2., 2., 2., 2., 2., 2., 2., 2., 2., 2., 2., 2.,\n",
       "       2., 2.])"
      ]
     },
     "execution_count": 15,
     "metadata": {},
     "output_type": "execute_result"
    }
   ],
   "source": [
    "array_div(deg_2_sqnc(-10,10,-10,10,21))[14,14]"
   ]
  },
  {
   "cell_type": "code",
   "execution_count": 16,
   "metadata": {},
   "outputs": [
    {
     "data": {
      "text/plain": [
       "array([3., 3., 3., 3., 3., 3., 3., 3., 3., 3., 3., 3., 3., 3., 3., 3., 3.,\n",
       "       3., 3.])"
      ]
     },
     "execution_count": 16,
     "metadata": {},
     "output_type": "execute_result"
    }
   ],
   "source": [
    "array_div(deg_2_sqnc(-10,10,-10,10,21))[16,16]"
   ]
  },
  {
   "cell_type": "markdown",
   "metadata": {},
   "source": [
    "Looks like the quadratic function produces a geometric sequence for each ordered pair $(a,b) = (a,a)$ and sequences of zeros for $(a,b) = (a,-a)$, $a \\in \\mathbb{Z}$."
   ]
  },
  {
   "cell_type": "code",
   "execution_count": 17,
   "metadata": {},
   "outputs": [
    {
     "data": {
      "text/plain": [
       "[(-16, -48),\n",
       " (-15, -45),\n",
       " (-14, -42),\n",
       " (-13, -39),\n",
       " (-12, -36),\n",
       " (-11, -33),\n",
       " (-10, -30),\n",
       " (-9, -27),\n",
       " (-8, -24),\n",
       " (-7, -21),\n",
       " (-6, -18),\n",
       " (-5, -15),\n",
       " (-4, -12),\n",
       " (-3, -9),\n",
       " (-2, -6),\n",
       " (-1, -3),\n",
       " (1, 3),\n",
       " (2, 6),\n",
       " (3, 9),\n",
       " (4, 12),\n",
       " (5, 15),\n",
       " (6, 18),\n",
       " (7, 21),\n",
       " (8, 24),\n",
       " (9, 27),\n",
       " (10, 30),\n",
       " (11, 33),\n",
       " (12, 36),\n",
       " (13, 39),\n",
       " (14, 42),\n",
       " (15, 45),\n",
       " (16, 48)]"
      ]
     },
     "execution_count": 17,
     "metadata": {},
     "output_type": "execute_result"
    }
   ],
   "source": [
    "geom_sqnc_check(deg_3_sqnc(-30,30,-50,50,21),-30,-50)"
   ]
  },
  {
   "cell_type": "code",
   "execution_count": 18,
   "metadata": {},
   "outputs": [
    {
     "data": {
      "text/plain": [
       "array([[[ 0.,  1.,  3.,  4.,  7.,  6., 12.,  8., 15., 13., 18., 12.,\n",
       "         28., 14., 24., 24., 31., 18., 39., 20., 42.]]])"
      ]
     },
     "execution_count": 18,
     "metadata": {},
     "output_type": "execute_result"
    }
   ],
   "source": [
    "deg_3_sqnc(-24,-24,48,48,21) # finding our original sigma_n in the cubics"
   ]
  },
  {
   "cell_type": "markdown",
   "metadata": {},
   "source": [
    "## Some Ideas\n",
    "\n",
    "After finding a function that finds the geometric sequences, try dividing everything by sequences of catalan numbers or sequences of sums of factors, then put it through the function. This way we can pinpoint the combo-sequences."
   ]
  },
  {
   "cell_type": "markdown",
   "metadata": {},
   "source": [
    "### Finding Combo Sequences with $\\sigma_n$"
   ]
  },
  {
   "cell_type": "code",
   "execution_count": 19,
   "metadata": {},
   "outputs": [
    {
     "data": {
      "text/plain": [
       "[(-26, 39),\n",
       " (-24, 36),\n",
       " (-22, 33),\n",
       " (-20, 30),\n",
       " (-18, 27),\n",
       " (-16, 24),\n",
       " (-14, 21),\n",
       " (-12, 18),\n",
       " (-10, 15),\n",
       " (-8, 12),\n",
       " (-6, 9),\n",
       " (-4, 6),\n",
       " (-2, 3),\n",
       " (2, -3),\n",
       " (4, -6),\n",
       " (6, -9),\n",
       " (8, -12),\n",
       " (10, -15),\n",
       " (12, -18),\n",
       " (14, -21),\n",
       " (16, -24),\n",
       " (18, -27),\n",
       " (20, -30),\n",
       " (22, -33),\n",
       " (24, -36),\n",
       " (26, -39)]"
      ]
     },
     "execution_count": 19,
     "metadata": {},
     "output_type": "execute_result"
    }
   ],
   "source": [
    "divsigma = deg_2_sqnc(-40,40,-40,40,21)\n",
    "sigma = deg_2_sqnc(-24,-24,36,36,21)\n",
    "divsigma[:,:,1::] = divsigma[:,:,1::]/sigma[:,:,1::]\n",
    "\n",
    "geom_sqnc_check(divsigma,-40,-40)"
   ]
  },
  {
   "cell_type": "markdown",
   "metadata": {},
   "source": [
    "First look at possible combo-sequences:"
   ]
  },
  {
   "cell_type": "code",
   "execution_count": 20,
   "metadata": {},
   "outputs": [
    {
     "data": {
      "text/plain": [
       "array([1.08333333, 1.08333333, 1.08333333, 1.08333333, 1.08333333,\n",
       "       1.08333333, 1.08333333, 1.08333333, 1.08333333, 1.08333333,\n",
       "       1.08333333, 1.08333333, 1.08333333, 1.08333333, 1.08333333,\n",
       "       1.08333333, 1.08333333, 1.08333333, 1.08333333])"
      ]
     },
     "execution_count": 20,
     "metadata": {},
     "output_type": "execute_result"
    }
   ],
   "source": [
    "array_div(divsigma)[14,79] # a = -26, b = 39"
   ]
  },
  {
   "cell_type": "markdown",
   "metadata": {},
   "source": [
    "Looks like $\\big\\{\\left(\\frac{13}{12}\\right)^n\\big\\}$ for $a = -26$ and $b = 39$. Now to look at the original sequence in that place:"
   ]
  },
  {
   "cell_type": "code",
   "execution_count": 21,
   "metadata": {},
   "outputs": [
    {
     "data": {
      "text/plain": [
       "array([  0.        ,   1.        ,   3.25      ,   4.69444444,\n",
       "         8.89988426,   8.26417824,  17.90571952,  12.93190854,\n",
       "        26.26793923,  24.66267628,  36.99401441,  26.7178993 ,\n",
       "        67.53691212,  36.58249406,  67.93891755,  73.60049401,\n",
       "       102.98958016,  64.78376816, 152.06190027,  84.47883348,\n",
       "       192.18934618])"
      ]
     },
     "execution_count": 21,
     "metadata": {},
     "output_type": "execute_result"
    }
   ],
   "source": [
    "deg_2_sqnc(-40,40,-40,40,21)[14,79]"
   ]
  },
  {
   "cell_type": "code",
   "execution_count": 22,
   "metadata": {
    "scrolled": true
   },
   "outputs": [
    {
     "data": {
      "text/plain": [
       "array([-1.5       , -0.66666667, -0.875     , -0.42857143, -1.        ,\n",
       "       -0.33333333, -0.9375    , -0.43333333, -0.69230769, -0.33333333,\n",
       "       -1.16666667, -0.25      , -0.85714286, -0.5       , -0.64583333,\n",
       "       -0.29032258, -1.08333333, -0.25641026, -1.05      ])"
      ]
     },
     "execution_count": 22,
     "metadata": {},
     "output_type": "execute_result"
    }
   ],
   "source": [
    "array_div(deg_2_sqnc(-40,40,-40,40,21))[52,22]"
   ]
  },
  {
   "cell_type": "code",
   "execution_count": 23,
   "metadata": {},
   "outputs": [
    {
     "data": {
      "text/plain": [
       "array([-0.5, -0.5, -0.5, -0.5, -0.5, -0.5, -0.5, -0.5, -0.5, -0.5, -0.5,\n",
       "       -0.5, -0.5, -0.5, -0.5, -0.5, -0.5, -0.5, -0.5])"
      ]
     },
     "execution_count": 23,
     "metadata": {},
     "output_type": "execute_result"
    }
   ],
   "source": [
    "array_div(divsigma)[52,22]"
   ]
  },
  {
   "cell_type": "markdown",
   "metadata": {},
   "source": [
    "Looks pretty evident that $a = 12$, $b = -18$ $\\Rightarrow$ $\\{-0.5^n\\}\\times\\sigma(n)$. Now to find some more:"
   ]
  },
  {
   "cell_type": "code",
   "execution_count": 24,
   "metadata": {},
   "outputs": [
    {
     "data": {
      "text/plain": [
       "array([0.75, 0.75, 0.75, 0.75, 0.75, 0.75, 0.75, 0.75, 0.75, 0.75, 0.75,\n",
       "       0.75, 0.75, 0.75, 0.75, 0.75, 0.75, 0.75, 0.75])"
      ]
     },
     "execution_count": 24,
     "metadata": {},
     "output_type": "execute_result"
    }
   ],
   "source": [
    "array_div(divsigma)[22,67]"
   ]
  },
  {
   "cell_type": "markdown",
   "metadata": {},
   "source": [
    "$a = -18$, $b = 27$ $\\Rightarrow$ $\\{0.75^n\\}\\times\\sigma(n)$."
   ]
  },
  {
   "cell_type": "code",
   "execution_count": 25,
   "metadata": {},
   "outputs": [
    {
     "data": {
      "text/plain": [
       "array([0.25, 0.25, 0.25, 0.25, 0.25, 0.25, 0.25, 0.25, 0.25, 0.25, 0.25,\n",
       "       0.25, 0.25, 0.25, 0.25, 0.25, 0.25, 0.25, 0.25])"
      ]
     },
     "execution_count": 25,
     "metadata": {},
     "output_type": "execute_result"
    }
   ],
   "source": [
    "array_div(divsigma)[34, 49]"
   ]
  },
  {
   "cell_type": "markdown",
   "metadata": {},
   "source": [
    "$a = -6, b = 9$ $\\Rightarrow$ $\\{0.25^n\\}\\times\\sigma(n)$"
   ]
  },
  {
   "cell_type": "code",
   "execution_count": 26,
   "metadata": {},
   "outputs": [
    {
     "data": {
      "text/plain": [
       "array([1., 1., 1., 1., 1., 1., 1., 1., 1., 1., 1., 1., 1., 1., 1., 1., 1.,\n",
       "       1., 1.])"
      ]
     },
     "execution_count": 26,
     "metadata": {},
     "output_type": "execute_result"
    }
   ],
   "source": [
    "array_div(divsigma)[16, 76] # this is just where sigma_n would be"
   ]
  },
  {
   "cell_type": "code",
   "execution_count": 27,
   "metadata": {},
   "outputs": [
    {
     "data": {
      "text/plain": [
       "array([0.08333333, 0.08333333, 0.08333333, 0.08333333, 0.08333333,\n",
       "       0.08333333, 0.08333333, 0.08333333, 0.08333333, 0.08333333,\n",
       "       0.08333333, 0.08333333, 0.08333333, 0.08333333, 0.08333333,\n",
       "       0.08333333, 0.08333333, 0.08333333, 0.08333333])"
      ]
     },
     "execution_count": 27,
     "metadata": {},
     "output_type": "execute_result"
    }
   ],
   "source": [
    "array_div(divsigma)[38,43] # 0.08333333... = 1/12"
   ]
  },
  {
   "cell_type": "markdown",
   "metadata": {},
   "source": [
    "$a = -2, \\ b = 3 \\ \\Rightarrow \\ \\big\\{\\left(\\frac{1}{12}\\right)^n\\big\\}\\times\\sigma(n)$. Didn't want to show up from the function because of floating point inconsistencies."
   ]
  },
  {
   "cell_type": "code",
   "execution_count": 28,
   "metadata": {},
   "outputs": [
    {
     "data": {
      "text/plain": [
       "array([0.5, 0.5, 0.5, 0.5, 0.5, 0.5, 0.5, 0.5, 0.5, 0.5, 0.5, 0.5, 0.5,\n",
       "       0.5, 0.5, 0.5, 0.5, 0.5, 0.5])"
      ]
     },
     "execution_count": 28,
     "metadata": {},
     "output_type": "execute_result"
    }
   ],
   "source": [
    "array_div(divsigma)[28,58]"
   ]
  },
  {
   "cell_type": "markdown",
   "metadata": {},
   "source": [
    "$a = -12$, $b = 18$ $\\Rightarrow$ $\\{0.5^n\\}\\times\\sigma(n)$"
   ]
  },
  {
   "cell_type": "code",
   "execution_count": 29,
   "metadata": {},
   "outputs": [
    {
     "data": {
      "text/plain": [
       "array([-0.75, -0.75, -0.75, -0.75, -0.75, -0.75, -0.75, -0.75, -0.75,\n",
       "       -0.75, -0.75, -0.75, -0.75, -0.75, -0.75, -0.75, -0.75, -0.75,\n",
       "       -0.75])"
      ]
     },
     "execution_count": 29,
     "metadata": {},
     "output_type": "execute_result"
    }
   ],
   "source": [
    "array_div(divsigma)[58,13]"
   ]
  },
  {
   "cell_type": "markdown",
   "metadata": {},
   "source": [
    "$a = 18$, $b = -27$ $\\Rightarrow$ $\\{-0.75^n\\}\\times\\sigma(n)$."
   ]
  },
  {
   "cell_type": "code",
   "execution_count": 30,
   "metadata": {},
   "outputs": [
    {
     "data": {
      "text/plain": [
       "array([0.16666667, 0.16666667, 0.16666667, 0.16666667, 0.16666667,\n",
       "       0.16666667, 0.16666667, 0.16666667, 0.16666667, 0.16666667,\n",
       "       0.16666667, 0.16666667, 0.16666667, 0.16666667, 0.16666667,\n",
       "       0.16666667, 0.16666667, 0.16666667, 0.16666667])"
      ]
     },
     "execution_count": 30,
     "metadata": {},
     "output_type": "execute_result"
    }
   ],
   "source": [
    "array_div(divsigma)[36,46] # 0.166666... = 1/6"
   ]
  },
  {
   "cell_type": "markdown",
   "metadata": {},
   "source": [
    "$a = -4, \\ b = 6 \\ \\Rightarrow \\big\\{\\left(\\frac{1}{6}\\right)^n\\big\\}\\times\\sigma(n)$"
   ]
  },
  {
   "cell_type": "markdown",
   "metadata": {},
   "source": [
    "What I'm seeing is that, for $\\tau(n) = \\frac{1}{n^2(n-1)}\\sum_{u+v=n}(au^2+buv)\\tau(u)\\tau(v)$, $(a,b)=(a,a)$ produces a geometric sequence $\\{\\rho^n\\}$ for $\\rho \\in \\mathbb{Q}$, $(a,b) = (-24,36)$ produces $\\sigma(n)$, and $(a,b) = (-2k,3k)$ for $k \\in \\mathbb{Z}$ produces some sequence $\\{\\rho^n\\}\\times\\sigma(n)$. The next step would be to connect $a$ and $\\rho$ as well as $k$ and $\\rho$."
   ]
  },
  {
   "cell_type": "markdown",
   "metadata": {},
   "source": [
    "### Next Stuff\n",
    "\n",
    "Play with other denominators, like $\\frac{1}{n^3}$ or $\\frac{1}{n(n-1)(n-2)}$. Also extend search to higher degree polynomials - quartics, quintics, etc."
   ]
  }
 ],
 "metadata": {
  "kernelspec": {
   "display_name": "Python 3",
   "language": "python",
   "name": "python3"
  },
  "language_info": {
   "codemirror_mode": {
    "name": "ipython",
    "version": 3
   },
   "file_extension": ".py",
   "mimetype": "text/x-python",
   "name": "python",
   "nbconvert_exporter": "python",
   "pygments_lexer": "ipython3",
   "version": "3.7.6"
  }
 },
 "nbformat": 4,
 "nbformat_minor": 4
}
