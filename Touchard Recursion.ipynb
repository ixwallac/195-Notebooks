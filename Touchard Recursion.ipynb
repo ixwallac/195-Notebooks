{
 "cells": [
  {
   "cell_type": "code",
   "execution_count": 1,
   "metadata": {},
   "outputs": [],
   "source": [
    "import numpy as np"
   ]
  },
  {
   "cell_type": "code",
   "execution_count": 59,
   "metadata": {},
   "outputs": [],
   "source": [
    "def polynom_matrix(a_min,a_max,b_min,b_max,seq_length): # USE THIS FOR COMPARISON TO FASTER FUNCTION\n",
    "    a_range = a_max+1 - a_min\n",
    "    b_range = b_max+1 - b_min\n",
    "    \n",
    "    Poly_matrix = np.fromfunction(lambda a,b,u,v: (a+a_min)*u*u + (b+b_min)*u*v, (a_range,b_range,seq_length,seq_length))\n",
    "    \n",
    "    return Poly_matrix"
   ]
  },
  {
   "cell_type": "code",
   "execution_count": 60,
   "metadata": {},
   "outputs": [
    {
     "data": {
      "text/plain": [
       "10.0"
      ]
     },
     "execution_count": 60,
     "metadata": {},
     "output_type": "execute_result"
    }
   ],
   "source": [
    "polynom_matrix(0,20,0,20,21)[1,1,2,3] # Should be 1*2*2 + 1*2*3 = 10"
   ]
  },
  {
   "cell_type": "code",
   "execution_count": 4,
   "metadata": {},
   "outputs": [
    {
     "name": "stdout",
     "output_type": "stream",
     "text": [
      "4.65 ms ± 183 µs per loop (mean ± std. dev. of 7 runs, 100 loops each)\n"
     ]
    }
   ],
   "source": [
    "%timeit polynom_matrix(-10,10,-10,10,21)"
   ]
  },
  {
   "cell_type": "code",
   "execution_count": 7,
   "metadata": {},
   "outputs": [
    {
     "name": "stdout",
     "output_type": "stream",
     "text": [
      "251 µs ± 2.45 µs per loop (mean ± std. dev. of 7 runs, 1000 loops each)\n"
     ]
    }
   ],
   "source": [
    "%timeit make_P_array(-10,10,-10,10,21)"
   ]
  },
  {
   "cell_type": "code",
   "execution_count": 48,
   "metadata": {
    "scrolled": false
   },
   "outputs": [
    {
     "data": {
      "text/plain": [
       "10.0"
      ]
     },
     "execution_count": 48,
     "metadata": {},
     "output_type": "execute_result"
    }
   ],
   "source": [
    "polynom_matrix(0,20,0,20,21)[1,1,2,3]"
   ]
  },
  {
   "cell_type": "code",
   "execution_count": 61,
   "metadata": {},
   "outputs": [
    {
     "data": {
      "text/plain": [
       "10"
      ]
     },
     "execution_count": 61,
     "metadata": {},
     "output_type": "execute_result"
    }
   ],
   "source": [
    "make_P_array(0,20,0,20,21)[1,1,2,3]"
   ]
  },
  {
   "cell_type": "markdown",
   "metadata": {},
   "source": [
    "Efficiently making a big matrix with entries $au^2 + buv$:"
   ]
  },
  {
   "cell_type": "code",
   "execution_count": 2,
   "metadata": {},
   "outputs": [],
   "source": [
    "def make_P_array(a_min,a_max,b_min,b_max,seq_length):\n",
    "    a_len = a_max+1 - a_min\n",
    "    b_len = b_max+1 - b_min\n",
    "    \n",
    "    a_range = np.arange(a_min, a_max+1)\n",
    "    b_range = np.arange(b_min, b_max+1)\n",
    "    u_range = np.arange(seq_length)\n",
    "    v_range = u_range\n",
    "    \n",
    "    au_squared_matrix = np.multiply.outer(a_range, u_range*u_range) # a x u\n",
    "    au_tensor = np.broadcast_to(au_squared_matrix,(seq_length,b_len,a_len,seq_length)) # k x b x a x k\n",
    "    #k,b,a,k --> a,b,k,k\n",
    "    \n",
    "    bu_matrix = np.multiply.outer(b_range,u_range) # b_len x seq_length\n",
    "    buv_matrix = np.multiply.outer(bu_matrix,v_range) # b_len x seq_len x seq_len\n",
    "    buv_tensor = np.broadcast_to(buv_matrix,(a_len,b_len,seq_length,seq_length))\n",
    "    \n",
    "    corrected_au_tensor = np.swapaxes(au_tensor, 0,2)\n",
    "    #corrected_buv_tensor = np.swapaxes(buv_tensor, 2,3)\n",
    "    \n",
    "    tensor = corrected_au_tensor + buv_tensor\n",
    "    \n",
    "    P_array = np.swapaxes(tensor, 2,3)\n",
    "    \n",
    "    return P_array"
   ]
  },
  {
   "cell_type": "code",
   "execution_count": 16,
   "metadata": {
    "scrolled": true
   },
   "outputs": [
    {
     "name": "stdout",
     "output_type": "stream",
     "text": [
      "253 µs ± 2 µs per loop (mean ± std. dev. of 7 runs, 1000 loops each)\n"
     ]
    }
   ],
   "source": [
    "%timeit make_P_array(-10,10,-10,10,21) # *racecar noises*"
   ]
  },
  {
   "cell_type": "code",
   "execution_count": 17,
   "metadata": {},
   "outputs": [
    {
     "name": "stdout",
     "output_type": "stream",
     "text": [
      "4.82 ms ± 184 µs per loop (mean ± std. dev. of 7 runs, 100 loops each)\n"
     ]
    }
   ],
   "source": [
    "%timeit polynom_matrix(-10,10,-10,10,21) # *regular car noises*"
   ]
  },
  {
   "cell_type": "code",
   "execution_count": 196,
   "metadata": {
    "scrolled": false
   },
   "outputs": [
    {
     "data": {
      "text/plain": [
       "array([  0,   2,   6,  12,  20,  30,  42,  56,  72,  90, 110, 132, 156,\n",
       "       182, 210, 240, 272, 306, 342, 380, 420])"
      ]
     },
     "execution_count": 196,
     "metadata": {},
     "output_type": "execute_result"
    }
   ],
   "source": [
    "make_P_array(0,10,0,10,21)[1,1,1]"
   ]
  },
  {
   "cell_type": "code",
   "execution_count": 217,
   "metadata": {
    "scrolled": true
   },
   "outputs": [
    {
     "data": {
      "text/plain": [
       "array([ 1.,  2.,  3.,  4.,  5.,  6.,  7.,  8.,  9., 10., 11., 12., 13.,\n",
       "       14., 15., 16., 17., 18., 19., 20., 21.])"
      ]
     },
     "execution_count": 217,
     "metadata": {},
     "output_type": "execute_result"
    }
   ],
   "source": [
    "polynom_matrix(0,10,0,10,21)[1,1,1]"
   ]
  },
  {
   "cell_type": "code",
   "execution_count": 177,
   "metadata": {
    "scrolled": true
   },
   "outputs": [
    {
     "data": {
      "text/plain": [
       "array([[   0,    0,    0,    0,    0,    0,    0,    0,    0,    0,    0,\n",
       "           0,    0,    0,    0,    0,    0,    0,    0,    0,    0],\n",
       "       [  -2,    1,    4,    7,   10,   13,   16,   19,   22,   25,   28,\n",
       "          31,   34,   37,   40,   43,   46,   49,   52,   55,   58],\n",
       "       [  -8,   -2,    4,   10,   16,   22,   28,   34,   40,   46,   52,\n",
       "          58,   64,   70,   76,   82,   88,   94,  100,  106,  112],\n",
       "       [ -18,   -9,    0,    9,   18,   27,   36,   45,   54,   63,   72,\n",
       "          81,   90,   99,  108,  117,  126,  135,  144,  153,  162],\n",
       "       [ -32,  -20,   -8,    4,   16,   28,   40,   52,   64,   76,   88,\n",
       "         100,  112,  124,  136,  148,  160,  172,  184,  196,  208],\n",
       "       [ -50,  -35,  -20,   -5,   10,   25,   40,   55,   70,   85,  100,\n",
       "         115,  130,  145,  160,  175,  190,  205,  220,  235,  250],\n",
       "       [ -72,  -54,  -36,  -18,    0,   18,   36,   54,   72,   90,  108,\n",
       "         126,  144,  162,  180,  198,  216,  234,  252,  270,  288],\n",
       "       [ -98,  -77,  -56,  -35,  -14,    7,   28,   49,   70,   91,  112,\n",
       "         133,  154,  175,  196,  217,  238,  259,  280,  301,  322],\n",
       "       [-128, -104,  -80,  -56,  -32,   -8,   16,   40,   64,   88,  112,\n",
       "         136,  160,  184,  208,  232,  256,  280,  304,  328,  352],\n",
       "       [-162, -135, -108,  -81,  -54,  -27,    0,   27,   54,   81,  108,\n",
       "         135,  162,  189,  216,  243,  270,  297,  324,  351,  378],\n",
       "       [-200, -170, -140, -110,  -80,  -50,  -20,   10,   40,   70,  100,\n",
       "         130,  160,  190,  220,  250,  280,  310,  340,  370,  400],\n",
       "       [-242, -209, -176, -143, -110,  -77,  -44,  -11,   22,   55,   88,\n",
       "         121,  154,  187,  220,  253,  286,  319,  352,  385,  418],\n",
       "       [-288, -252, -216, -180, -144, -108,  -72,  -36,    0,   36,   72,\n",
       "         108,  144,  180,  216,  252,  288,  324,  360,  396,  432],\n",
       "       [-338, -299, -260, -221, -182, -143, -104,  -65,  -26,   13,   52,\n",
       "          91,  130,  169,  208,  247,  286,  325,  364,  403,  442],\n",
       "       [-392, -350, -308, -266, -224, -182, -140,  -98,  -56,  -14,   28,\n",
       "          70,  112,  154,  196,  238,  280,  322,  364,  406,  448],\n",
       "       [-450, -405, -360, -315, -270, -225, -180, -135,  -90,  -45,    0,\n",
       "          45,   90,  135,  180,  225,  270,  315,  360,  405,  450],\n",
       "       [-512, -464, -416, -368, -320, -272, -224, -176, -128,  -80,  -32,\n",
       "          16,   64,  112,  160,  208,  256,  304,  352,  400,  448],\n",
       "       [-578, -527, -476, -425, -374, -323, -272, -221, -170, -119,  -68,\n",
       "         -17,   34,   85,  136,  187,  238,  289,  340,  391,  442],\n",
       "       [-648, -594, -540, -486, -432, -378, -324, -270, -216, -162, -108,\n",
       "         -54,    0,   54,  108,  162,  216,  270,  324,  378,  432],\n",
       "       [-722, -665, -608, -551, -494, -437, -380, -323, -266, -209, -152,\n",
       "         -95,  -38,   19,   76,  133,  190,  247,  304,  361,  418],\n",
       "       [-800, -740, -680, -620, -560, -500, -440, -380, -320, -260, -200,\n",
       "        -140,  -80,  -20,   40,  100,  160,  220,  280,  340,  400]])"
      ]
     },
     "execution_count": 177,
     "metadata": {},
     "output_type": "execute_result"
    }
   ],
   "source": [
    "make_P_array(-5,5,-5,5,21)[3,8]"
   ]
  },
  {
   "cell_type": "markdown",
   "metadata": {},
   "source": [
    "We want to work on getting a matrix of sequences of $\\tau(n)$ where\n",
    "$$\n",
    "\\tau(n) = \\frac{1}{n^2(n-1)}\\sum_{u+v=n}(au^2 + buv)\\tau(u)\\tau(v).\n",
    "$$\n",
    "For the original sequence of $\\sigma_n$, we'd use $a = -24$ and $b = 36$."
   ]
  },
  {
   "cell_type": "code",
   "execution_count": 11,
   "metadata": {},
   "outputs": [],
   "source": [
    "def make_sequences(a_min,a_max,b_min,b_max,seq_length):\n",
    "    a_len = a_max+1 - a_min\n",
    "    b_len = b_max+1 - b_min\n",
    "    \n",
    "    coeff_array = make_P_array(a_min,a_max,b_min,b_max,seq_length) # Big array for the polynomial values\n",
    "    seq = np.zeros(seq_length)\n",
    "    seq[1] = 1\n",
    "    seq_array = np.broadcast_to(seq, (a_len, b_len, seq_length)).copy() # Big array for the sequences\n",
    "    \n",
    "    for a in range(a_len):\n",
    "        for b in range(b_len):\n",
    "            flipped_array = np.flipud(coeff_array[a,b])\n",
    "            for n in range(2,seq_length):\n",
    "                diag = np.diagonal(flipped_array, -seq_length+n+1)[1:n]\n",
    "                vec_A = diag*seq_array[a,b,1:n]\n",
    "                vec_B = seq_array[a,b,n-1:0:-1]\n",
    "                seq_array[a,b,n] = (1/((n*n)*(n-1)))*np.dot(vec_A,vec_B)\n",
    "                \n",
    "    return seq_array"
   ]
  },
  {
   "cell_type": "code",
   "execution_count": 8,
   "metadata": {},
   "outputs": [
    {
     "name": "stdout",
     "output_type": "stream",
     "text": [
      "42.9 ms ± 502 µs per loop (mean ± std. dev. of 7 runs, 10 loops each)\n"
     ]
    }
   ],
   "source": [
    "%timeit make_sequences(-10,10,-10,10,20) # Not great, but I got it"
   ]
  },
  {
   "cell_type": "code",
   "execution_count": 21,
   "metadata": {},
   "outputs": [
    {
     "data": {
      "text/plain": [
       "array([[[ 0.,  1.,  3.,  4.,  7.,  6., 12.,  8., 15., 13., 18., 12.,\n",
       "         28., 14., 24., 24., 31., 18., 39., 20.]]])"
      ]
     },
     "execution_count": 21,
     "metadata": {},
     "output_type": "execute_result"
    }
   ],
   "source": [
    "make_sequences(-24,-24,36,36,20) # Nice"
   ]
  },
  {
   "cell_type": "markdown",
   "metadata": {},
   "source": [
    "## From Here:\n",
    "\n",
    "Finally get to start playing with some higher order polynomials. Thankfully, their respective matrices are still 4d and can be constructed in a similar manner, and the process for getting the sequences won't be much slower than it already is. So that's not nothing."
   ]
  },
  {
   "cell_type": "markdown",
   "metadata": {},
   "source": [
    "#### Linear\n",
    "\n",
    "$$\n",
    "\\tau(n) = \\frac{1}{n(n-1)}\\sum_{u+v=n}(au+bv)\\tau(u)\\tau(v)\n",
    "$$"
   ]
  },
  {
   "cell_type": "code",
   "execution_count": 3,
   "metadata": {},
   "outputs": [],
   "source": [
    "def deg_1_array(a_min,a_max,b_min,b_max,seq_length):\n",
    "    a_len = a_max+1 - a_min\n",
    "    b_len = b_max+1 - b_min\n",
    "    \n",
    "    a_range = np.arange(a_min, a_max+1)\n",
    "    b_range = np.arange(b_min, b_max+1)\n",
    "    u_range = np.arange(seq_length)\n",
    "    v_range = u_range\n",
    "    \n",
    "    au_array = np.multiply.outer(a_range,u_range) # a x u\n",
    "    bv_array = np.multiply.outer(b_range,v_range) # b x v\n",
    "    \n",
    "    temp_array = np.add.outer(au_array, bv_array) # a x u x b x v\n",
    "    \n",
    "    final_array = np.swapaxes(temp_array, 1,2)\n",
    "    \n",
    "    return final_array\n",
    "\n",
    "\n",
    "\n",
    "def deg_1_sqnc(a_min,a_max,b_min,b_max,seq_length):\n",
    "    a_len = a_max+1 - a_min\n",
    "    b_len = b_max+1 - b_min\n",
    "    \n",
    "    coeff_array = deg_1_array(a_min,a_max,b_min,b_max,seq_length)\n",
    "    seq = np.zeros(seq_length)\n",
    "    seq[1] = 1\n",
    "    seq_array = np.broadcast_to(seq, (a_len,b_len,seq_length)).copy()\n",
    "    \n",
    "    for a in range(a_len):\n",
    "        for b in range(b_len):\n",
    "            flipped_array = np.flipud(coeff_array[a,b])\n",
    "            for n in range(2,seq_length):\n",
    "                diag = np.diagonal(flipped_array, -seq_length+n+1)[1:n]\n",
    "                vec_A = diag*seq_array[a,b,1:n]\n",
    "                vec_B = seq_array[a,b,n-1:0:-1]\n",
    "                seq_array[a,b,n] = (1/(n*(n-1)))*np.dot(vec_A,vec_B)\n",
    "                \n",
    "    return seq_array"
   ]
  },
  {
   "cell_type": "code",
   "execution_count": 4,
   "metadata": {},
   "outputs": [],
   "source": [
    "X = deg_1_sqnc(0,40,0,40,21)"
   ]
  },
  {
   "cell_type": "code",
   "execution_count": 86,
   "metadata": {},
   "outputs": [
    {
     "data": {
      "text/plain": [
       "array([0.00000000e+00, 1.00000000e+00, 1.10000000e+01, 1.21000000e+02,\n",
       "       1.33100000e+03, 1.46410000e+04, 1.61051000e+05, 1.77156100e+06,\n",
       "       1.94871710e+07, 2.14358881e+08, 2.35794769e+09, 2.59374246e+10,\n",
       "       2.85311671e+11, 3.13842838e+12, 3.45227121e+13, 3.79749834e+14,\n",
       "       4.17724817e+15, 4.59497299e+16, 5.05447028e+17, 5.55991731e+18,\n",
       "       6.11590904e+19])"
      ]
     },
     "execution_count": 86,
     "metadata": {},
     "output_type": "execute_result"
    }
   ],
   "source": [
    "X[19,3]"
   ]
  },
  {
   "cell_type": "code",
   "execution_count": 89,
   "metadata": {},
   "outputs": [
    {
     "data": {
      "text/plain": [
       "array([0., 1., 1., 1., 1., 1., 1., 1., 1., 1., 1., 1., 1., 1., 1., 1., 1.,\n",
       "       1., 1., 1., 1.])"
      ]
     },
     "execution_count": 89,
     "metadata": {},
     "output_type": "execute_result"
    }
   ],
   "source": [
    "X[0,2] # a = 0, b = 2"
   ]
  },
  {
   "cell_type": "code",
   "execution_count": 91,
   "metadata": {
    "scrolled": true
   },
   "outputs": [
    {
     "data": {
      "text/plain": [
       "array([0.00000e+00, 1.00000e+00, 2.00000e+00, 4.00000e+00, 8.00000e+00,\n",
       "       1.60000e+01, 3.20000e+01, 6.40000e+01, 1.28000e+02, 2.56000e+02,\n",
       "       5.12000e+02, 1.02400e+03, 2.04800e+03, 4.09600e+03, 8.19200e+03,\n",
       "       1.63840e+04, 3.27680e+04, 6.55360e+04, 1.31072e+05, 2.62144e+05,\n",
       "       5.24288e+05])"
      ]
     },
     "execution_count": 91,
     "metadata": {},
     "output_type": "execute_result"
    }
   ],
   "source": [
    "X[0,4] #a = 0, b = 4"
   ]
  },
  {
   "cell_type": "code",
   "execution_count": 93,
   "metadata": {
    "scrolled": true
   },
   "outputs": [
    {
     "data": {
      "text/plain": [
       "array([0.00000000e+00, 1.00000000e+00, 3.00000000e+00, 9.00000000e+00,\n",
       "       2.70000000e+01, 8.10000000e+01, 2.43000000e+02, 7.29000000e+02,\n",
       "       2.18700000e+03, 6.56100000e+03, 1.96830000e+04, 5.90490000e+04,\n",
       "       1.77147000e+05, 5.31441000e+05, 1.59432300e+06, 4.78296900e+06,\n",
       "       1.43489070e+07, 4.30467210e+07, 1.29140163e+08, 3.87420489e+08,\n",
       "       1.16226147e+09])"
      ]
     },
     "execution_count": 93,
     "metadata": {},
     "output_type": "execute_result"
    }
   ],
   "source": [
    "X[0,6]"
   ]
  },
  {
   "cell_type": "markdown",
   "metadata": {},
   "source": [
    "Looks likeif $a = 0$ and $b = 2k$ for $k \\in \\mathbb{Z}$, we get a geometric sequence."
   ]
  },
  {
   "cell_type": "code",
   "execution_count": 95,
   "metadata": {},
   "outputs": [
    {
     "data": {
      "text/plain": [
       "array([0.00000e+00, 1.00000e+00, 2.00000e+00, 4.00000e+00, 8.00000e+00,\n",
       "       1.60000e+01, 3.20000e+01, 6.40000e+01, 1.28000e+02, 2.56000e+02,\n",
       "       5.12000e+02, 1.02400e+03, 2.04800e+03, 4.09600e+03, 8.19200e+03,\n",
       "       1.63840e+04, 3.27680e+04, 6.55360e+04, 1.31072e+05, 2.62144e+05,\n",
       "       5.24288e+05])"
      ]
     },
     "execution_count": 95,
     "metadata": {},
     "output_type": "execute_result"
    }
   ],
   "source": [
    "X[1,3] # a = 1, b = 3, a+b = 4 ---> 2^n"
   ]
  },
  {
   "cell_type": "code",
   "execution_count": 96,
   "metadata": {},
   "outputs": [
    {
     "data": {
      "text/plain": [
       "array([0.00000000e+00, 1.00000000e+00, 3.00000000e+00, 9.00000000e+00,\n",
       "       2.70000000e+01, 8.10000000e+01, 2.43000000e+02, 7.29000000e+02,\n",
       "       2.18700000e+03, 6.56100000e+03, 1.96830000e+04, 5.90490000e+04,\n",
       "       1.77147000e+05, 5.31441000e+05, 1.59432300e+06, 4.78296900e+06,\n",
       "       1.43489070e+07, 4.30467210e+07, 1.29140163e+08, 3.87420489e+08,\n",
       "       1.16226147e+09])"
      ]
     },
     "execution_count": 96,
     "metadata": {},
     "output_type": "execute_result"
    }
   ],
   "source": [
    "X[1,5] # a = 1, b = 5, a+b = 6 ---> 3^n"
   ]
  },
  {
   "cell_type": "code",
   "execution_count": 97,
   "metadata": {},
   "outputs": [
    {
     "data": {
      "text/plain": [
       "array([0.00000000e+00, 1.00000000e+00, 4.00000000e+00, 1.60000000e+01,\n",
       "       6.40000000e+01, 2.56000000e+02, 1.02400000e+03, 4.09600000e+03,\n",
       "       1.63840000e+04, 6.55360000e+04, 2.62144000e+05, 1.04857600e+06,\n",
       "       4.19430400e+06, 1.67772160e+07, 6.71088640e+07, 2.68435456e+08,\n",
       "       1.07374182e+09, 4.29496730e+09, 1.71798692e+10, 6.87194767e+10,\n",
       "       2.74877907e+11])"
      ]
     },
     "execution_count": 97,
     "metadata": {},
     "output_type": "execute_result"
    }
   ],
   "source": [
    "X[1,7] # a = 1, b = 7, a+b = 8 ---> 4^n"
   ]
  },
  {
   "cell_type": "code",
   "execution_count": 106,
   "metadata": {
    "scrolled": false
   },
   "outputs": [
    {
     "data": {
      "text/plain": [
       "array([0.00000e+00, 1.00000e+00, 2.00000e+00, 4.00000e+00, 8.00000e+00,\n",
       "       1.60000e+01, 3.20000e+01, 6.40000e+01, 1.28000e+02, 2.56000e+02,\n",
       "       5.12000e+02, 1.02400e+03, 2.04800e+03, 4.09600e+03, 8.19200e+03,\n",
       "       1.63840e+04, 3.27680e+04, 6.55360e+04, 1.31072e+05, 2.62144e+05,\n",
       "       5.24288e+05])"
      ]
     },
     "execution_count": 106,
     "metadata": {},
     "output_type": "execute_result"
    }
   ],
   "source": [
    "X[2,2] # a = 2, b = 2, a+b = 4 ---> 2^n"
   ]
  },
  {
   "cell_type": "code",
   "execution_count": 6,
   "metadata": {},
   "outputs": [
    {
     "data": {
      "text/plain": [
       "array([0.00000000e+00, 1.00000000e+00, 5.00000000e+00, 2.50000000e+01,\n",
       "       1.25000000e+02, 6.25000000e+02, 3.12500000e+03, 1.56250000e+04,\n",
       "       7.81250000e+04, 3.90625000e+05, 1.95312500e+06, 9.76562500e+06,\n",
       "       4.88281250e+07, 2.44140625e+08, 1.22070312e+09, 6.10351563e+09,\n",
       "       3.05175781e+10, 1.52587891e+11, 7.62939453e+11, 3.81469727e+12,\n",
       "       1.90734863e+13])"
      ]
     },
     "execution_count": 6,
     "metadata": {},
     "output_type": "execute_result"
    }
   ],
   "source": [
    "X[3,7] # a = 3, b = 7, a+b = 10 ---> 5^n"
   ]
  },
  {
   "cell_type": "code",
   "execution_count": 7,
   "metadata": {},
   "outputs": [
    {
     "data": {
      "text/plain": [
       "array([0.00000000e+00, 1.00000000e+00, 1.80000000e+01, 3.24000000e+02,\n",
       "       5.83200000e+03, 1.04976000e+05, 1.88956800e+06, 3.40122240e+07,\n",
       "       6.12220032e+08, 1.10199606e+10, 1.98359290e+11, 3.57046723e+12,\n",
       "       6.42684101e+13, 1.15683138e+15, 2.08229649e+16, 3.74813368e+17,\n",
       "       6.74664062e+18, 1.21439531e+20, 2.18591156e+21, 3.93464081e+22,\n",
       "       7.08235345e+23])"
      ]
     },
     "execution_count": 7,
     "metadata": {},
     "output_type": "execute_result"
    }
   ],
   "source": [
    "X[19,17] # a = 19, b = 17, a+b = 36 ---> 18^n"
   ]
  },
  {
   "cell_type": "markdown",
   "metadata": {},
   "source": [
    "It sort of looks like if $a+b=k$ is even, then $\\tau(n)$ is a geometric sequence of the form $\\left(\\frac{k}{2}\\right)^n$..."
   ]
  },
  {
   "cell_type": "markdown",
   "metadata": {},
   "source": [
    "#### Quadratic\n",
    "\n",
    "$$\n",
    "\\tau(n) = \\frac{1}{n^2(n-1)}\\sum_{u+v=n}(au^2 + buv)\\tau(u)\\tau(v)\n",
    "$$"
   ]
  },
  {
   "cell_type": "code",
   "execution_count": 108,
   "metadata": {},
   "outputs": [],
   "source": [
    "def deg_2_array(a_min,a_max,b_min,b_max,seq_length):\n",
    "    a_len = a_max+1 - a_min\n",
    "    b_len = b_max+1 - b_min\n",
    "    \n",
    "    a_range = np.arange(a_min, a_max+1)\n",
    "    b_range = np.arange(b_min, b_max+1)\n",
    "    u_range = np.arange(seq_length)\n",
    "    v_range = u_range\n",
    "    \n",
    "    au_squared_matrix = np.multiply.outer(a_range, u_range*u_range) # a x u\n",
    "    au_tensor = np.broadcast_to(au_squared_matrix,(seq_length,b_len,a_len,seq_length)) # k x b x a x k\n",
    "    #k,b,a,k --> a,b,k,k\n",
    "    \n",
    "    bu_matrix = np.multiply.outer(b_range,u_range) # b_len x seq_length\n",
    "    buv_matrix = np.multiply.outer(bu_matrix,v_range) # b_len x seq_len x seq_len\n",
    "    buv_tensor = np.broadcast_to(buv_matrix,(a_len,b_len,seq_length,seq_length))\n",
    "    \n",
    "    corrected_au_tensor = np.swapaxes(au_tensor, 0,2)\n",
    "    #corrected_buv_tensor = np.swapaxes(buv_tensor, 2,3)\n",
    "    \n",
    "    tensor = corrected_au_tensor + buv_tensor\n",
    "    \n",
    "    P_array = np.swapaxes(tensor, 2,3)\n",
    "    \n",
    "    return P_array\n",
    "\n",
    "def deg_2_sqnc(a_min,a_max,b_min,b_max,seq_length):\n",
    "    a_len = a_max+1 - a_min\n",
    "    b_len = b_max+1 - b_min\n",
    "    \n",
    "    coeff_array = deg_2_array(a_min,a_max,b_min,b_max,seq_length) # Big array for the polynomial values\n",
    "    seq = np.zeros(seq_length)\n",
    "    seq[1] = 1\n",
    "    seq_array = np.broadcast_to(seq, (a_len, b_len, seq_length)).copy() # Big array for the sequences\n",
    "    \n",
    "    for a in range(a_len):\n",
    "        for b in range(b_len):\n",
    "            flipped_array = np.flipud(coeff_array[a,b])\n",
    "            for n in range(2,seq_length):\n",
    "                diag = np.diagonal(flipped_array, -seq_length+n+1)[1:n]\n",
    "                vec_A = diag*seq_array[a,b,1:n]\n",
    "                vec_B = seq_array[a,b,n-1:0:-1]\n",
    "                seq_array[a,b,n] = (1/((n*n)*(n-1)))*np.dot(vec_A,vec_B)\n",
    "                \n",
    "    return seq_array"
   ]
  },
  {
   "cell_type": "code",
   "execution_count": 112,
   "metadata": {
    "scrolled": true
   },
   "outputs": [],
   "source": [
    "Z = deg_2_sqnc(0,40,0,40,21)"
   ]
  },
  {
   "cell_type": "code",
   "execution_count": 117,
   "metadata": {},
   "outputs": [
    {
     "data": {
      "text/plain": [
       "array([0., 1., 1., 1., 1., 1., 1., 1., 1., 1., 1., 1., 1., 1., 1., 1., 1.,\n",
       "       1., 1., 1., 1.])"
      ]
     },
     "execution_count": 117,
     "metadata": {},
     "output_type": "execute_result"
    }
   ],
   "source": [
    "Z[2,2] # a = 2, b = 2 ---> 1^n :P"
   ]
  },
  {
   "cell_type": "code",
   "execution_count": 121,
   "metadata": {
    "scrolled": true
   },
   "outputs": [
    {
     "data": {
      "text/plain": [
       "array([0.00000e+00, 1.00000e+00, 2.00000e+00, 4.00000e+00, 8.00000e+00,\n",
       "       1.60000e+01, 3.20000e+01, 6.40000e+01, 1.28000e+02, 2.56000e+02,\n",
       "       5.12000e+02, 1.02400e+03, 2.04800e+03, 4.09600e+03, 8.19200e+03,\n",
       "       1.63840e+04, 3.27680e+04, 6.55360e+04, 1.31072e+05, 2.62144e+05,\n",
       "       5.24288e+05])"
      ]
     },
     "execution_count": 121,
     "metadata": {},
     "output_type": "execute_result"
    }
   ],
   "source": [
    "Z[4,4] # a = 4, b = 4 ---> 2^n"
   ]
  },
  {
   "cell_type": "code",
   "execution_count": 144,
   "metadata": {
    "scrolled": true
   },
   "outputs": [
    {
     "data": {
      "text/plain": [
       "array([0.00000000e+00, 1.00000000e+00, 6.00000000e+00, 3.40000000e+01,\n",
       "       1.91000000e+02, 1.06962000e+03, 5.98142400e+03, 3.34232456e+04,\n",
       "       1.86679787e+05, 1.04237015e+06, 5.81920239e+06, 3.24822963e+07,\n",
       "       1.81295813e+08, 1.01180623e+09, 5.64654620e+09, 3.15100935e+10,\n",
       "       1.75833510e+11, 9.81164092e+11, 5.47484582e+12, 3.05487955e+13,\n",
       "       1.70454934e+14])"
      ]
     },
     "execution_count": 144,
     "metadata": {},
     "output_type": "execute_result"
    }
   ],
   "source": [
    "Z[6,18] # Almost..."
   ]
  },
  {
   "cell_type": "code",
   "execution_count": 150,
   "metadata": {},
   "outputs": [
    {
     "data": {
      "text/plain": [
       "array([0.00000000e+00, 1.00000000e+00, 7.00000000e+00, 4.90000000e+01,\n",
       "       3.43000000e+02, 2.40100000e+03, 1.68070000e+04, 1.17649000e+05,\n",
       "       8.23543000e+05, 5.76480100e+06, 4.03536070e+07, 2.82475249e+08,\n",
       "       1.97732674e+09, 1.38412872e+10, 9.68890104e+10, 6.78223073e+11,\n",
       "       4.74756151e+12, 3.32329306e+13, 2.32630514e+14, 1.62841360e+15,\n",
       "       1.13988952e+16])"
      ]
     },
     "execution_count": 150,
     "metadata": {},
     "output_type": "execute_result"
    }
   ],
   "source": [
    "Z[14,14] ---> 7^n"
   ]
  },
  {
   "cell_type": "markdown",
   "metadata": {},
   "source": [
    "So far, all I'm seeing is that if $a=b$ and $a$ and $b$ are even, then we get a geometric sequence, this time of the form $\\left(\\frac{a}{2}\\right)^n$."
   ]
  },
  {
   "cell_type": "code",
   "execution_count": 154,
   "metadata": {},
   "outputs": [],
   "source": [
    "Y = deg_2_sqnc(-30,10,0,40,21)"
   ]
  },
  {
   "cell_type": "code",
   "execution_count": 185,
   "metadata": {},
   "outputs": [
    {
     "data": {
      "text/plain": [
       "array([[0.00000000e+00, 1.00000000e+00, 1.00000000e+00, 1.11111111e+00,\n",
       "        1.25925926e+00, 1.43407407e+00, 1.63516049e+00, 1.86487769e+00,\n",
       "        2.12676945e+00, 2.42516833e+00, 2.76512033e+00, 3.15241721e+00,\n",
       "        3.59367463e+00, 4.09643689e+00, 4.66930236e+00, 5.32206902e+00,\n",
       "        6.06590148e+00, 6.91352162e+00, 7.87942615e+00, 8.98013449e+00,\n",
       "        1.02344713e+01],\n",
       "       [0.00000000e+00, 1.00000000e+00, 1.25000000e+00, 1.66666667e+00,\n",
       "        2.24826389e+00, 3.04201389e+00, 4.11989583e+00, 5.58152006e+00,\n",
       "        7.56254558e+00, 1.02470495e+01, 1.38845562e+01, 1.88131996e+01,\n",
       "        2.54911394e+01, 3.45391403e+01, 4.67982681e+01, 6.34080619e+01,\n",
       "        8.59124495e+01, 1.16403248e+02, 1.57714589e+02, 2.13686335e+02,\n",
       "        2.89520974e+02],\n",
       "       [0.00000000e+00, 1.00000000e+00, 1.50000000e+00, 2.33333333e+00,\n",
       "        3.65277778e+00, 5.72833333e+00, 8.98877778e+00, 1.41085908e+01,\n",
       "        2.21471486e+01, 3.47678371e+01, 5.45822207e+01, 8.56904339e+01,\n",
       "        1.34529604e+02, 2.11205860e+02, 3.31585554e+02, 5.20578417e+02,\n",
       "        8.17292023e+02, 1.28312414e+03, 2.01446747e+03, 3.16265574e+03,\n",
       "        4.96527842e+03],\n",
       "       [0.00000000e+00, 1.00000000e+00, 1.75000000e+00, 3.11111111e+00,\n",
       "        5.54571759e+00, 9.89317130e+00, 1.76539082e+01, 3.15067720e+01,\n",
       "        5.62336660e+01, 1.00370314e+02, 1.79152937e+02, 3.19778100e+02,\n",
       "        5.70791538e+02, 1.01884723e+03, 1.81862234e+03, 3.24621552e+03,\n",
       "        5.79446290e+03, 1.03430775e+04, 1.84623485e+04, 3.29552458e+04,\n",
       "        5.88250782e+04],\n",
       "       [0.00000000e+00, 1.00000000e+00, 2.00000000e+00, 4.00000000e+00,\n",
       "        8.00000000e+00, 1.60000000e+01, 3.20000000e+01, 6.40000000e+01,\n",
       "        1.28000000e+02, 2.56000000e+02, 5.12000000e+02, 1.02400000e+03,\n",
       "        2.04800000e+03, 4.09600000e+03, 8.19200000e+03, 1.63840000e+04,\n",
       "        3.27680000e+04, 6.55360000e+04, 1.31072000e+05, 2.62144000e+05,\n",
       "        5.24288000e+05],\n",
       "       [0.00000000e+00, 1.00000000e+00, 2.25000000e+00, 5.00000000e+00,\n",
       "        1.10885417e+01, 2.45756250e+01, 5.44528958e+01, 1.20637251e+02,\n",
       "        2.67245882e+02, 5.92000571e+02, 1.31135855e+03, 2.90477773e+03,\n",
       "        6.43426409e+03, 1.42521678e+04, 3.15689450e+04, 6.99257323e+04,\n",
       "        1.54886046e+05, 3.43072766e+05, 7.59904729e+05, 1.68318250e+06,\n",
       "        3.72822900e+06],\n",
       "       [0.00000000e+00, 1.00000000e+00, 2.50000000e+00, 6.11111111e+00,\n",
       "        1.48842593e+01, 3.62101852e+01, 8.80480864e+01, 2.14043104e+02,\n",
       "        5.20261754e+02, 1.26446152e+03, 3.07302036e+03, 7.46808170e+03,\n",
       "        1.81485228e+04, 4.41027047e+04, 1.07172410e+05, 2.60433033e+05,\n",
       "        6.32856861e+05, 1.53784313e+06, 3.73694127e+06, 9.08068558e+06,\n",
       "        2.20657895e+07],\n",
       "       [0.00000000e+00, 1.00000000e+00, 2.75000000e+00, 7.33333333e+00,\n",
       "        1.94600694e+01, 5.15571528e+01, 1.36499229e+02, 3.61257074e+02,\n",
       "        9.55903555e+02, 2.52904920e+03, 6.69059666e+03, 1.76989720e+04,\n",
       "        4.68181154e+04, 1.23841770e+05, 3.27575089e+05, 8.66457564e+05,\n",
       "        2.29180696e+06, 6.06183699e+06, 1.60334446e+07, 4.24078691e+07,\n",
       "        1.12166617e+08],\n",
       "       [0.00000000e+00, 1.00000000e+00, 3.00000000e+00, 8.66666667e+00,\n",
       "        2.48888889e+01, 7.13333333e+01, 2.04266667e+02, 5.84661728e+02,\n",
       "        1.67300741e+03, 4.78652346e+03, 1.36929127e+04, 3.91687148e+04,\n",
       "        1.12036577e+05, 3.20452329e+05, 9.16546024e+05, 2.62141208e+06,\n",
       "        7.49736411e+06, 2.14425170e+07, 6.13250562e+07, 1.75386468e+08,\n",
       "        5.01592284e+08],\n",
       "       [0.00000000e+00, 1.00000000e+00, 3.25000000e+00, 1.01111111e+01,\n",
       "        3.12436343e+01, 9.63188657e+01, 2.96625945e+02, 9.12999571e+02,\n",
       "        2.80927827e+03, 8.64237304e+03, 2.65836316e+04, 8.17628766e+04,\n",
       "        2.51460457e+05, 7.73325460e+05, 2.37814901e+06, 7.31313444e+06,\n",
       "        2.24883917e+07, 6.91521230e+07, 2.12640693e+08, 6.53855988e+08,\n",
       "        2.01054395e+09],\n",
       "       [0.00000000e+00, 1.00000000e+00, 3.50000000e+00, 1.16666667e+01,\n",
       "        3.85972222e+01, 1.27357222e+02, 4.19736333e+02, 1.38247871e+03,\n",
       "        4.55178654e+03, 1.49832341e+04, 4.93131586e+04, 1.62283314e+05,\n",
       "        5.34012735e+05, 1.75713311e+06, 5.78147885e+06, 1.90221087e+07,\n",
       "        6.25845138e+07, 2.05904524e+08, 6.77419045e+08, 2.22865455e+09,\n",
       "        7.33200900e+09],\n",
       "       [0.00000000e+00, 1.00000000e+00, 3.75000000e+00, 1.33333333e+01,\n",
       "        4.70225694e+01, 1.65355208e+02, 5.80709340e+02, 2.03796728e+03,\n",
       "        7.14920667e+03, 2.50729874e+04, 8.79182762e+04, 3.08247658e+05,\n",
       "        1.08064359e+06, 3.78823548e+06, 1.32791402e+07, 4.65464140e+07,\n",
       "        1.63150824e+08, 5.71849420e+08, 2.00431254e+09, 7.02493108e+09,\n",
       "        2.46214006e+10],\n",
       "       [0.00000000e+00, 1.00000000e+00, 4.00000000e+00, 1.51111111e+01,\n",
       "        5.65925926e+01, 2.11282963e+02, 7.87677235e+02, 2.93427670e+03,\n",
       "        1.09259318e+04, 4.06716595e+04, 1.51370808e+05, 5.63292712e+05,\n",
       "        2.09596451e+06, 7.79834133e+06, 2.90132592e+07, 1.07937428e+08,\n",
       "        4.01543649e+08, 1.49376232e+09, 5.55674528e+09, 2.06705213e+10,\n",
       "        7.68910260e+10],\n",
       "       [0.00000000e+00, 1.00000000e+00, 4.25000000e+00, 1.70000000e+01,\n",
       "        6.73802083e+01, 2.66173958e+02, 1.04986156e+03, 4.13753360e+03,\n",
       "        1.62981983e+04, 6.41804877e+04, 2.52682910e+05, 9.94684066e+05,\n",
       "        3.91514880e+06, 1.54090860e+07, 6.06427771e+07, 2.38649580e+08,\n",
       "        9.39130401e+08, 3.69554017e+09, 1.45418338e+10, 5.72204826e+10,\n",
       "        2.25152315e+11],\n",
       "       [0.00000000e+00, 1.00000000e+00, 4.50000000e+00, 1.90000000e+01,\n",
       "        7.94583333e+01, 3.31125000e+02, 1.37764167e+03, 5.72664065e+03,\n",
       "        2.37923547e+04, 9.88167343e+04, 4.10323320e+05, 1.70354421e+06,\n",
       "        7.07181294e+06, 2.93542371e+07, 1.21837851e+08, 5.05674788e+08,\n",
       "        2.09866243e+09, 8.70962621e+09, 3.61447066e+10, 1.49996172e+11,\n",
       "        6.22454375e+11],\n",
       "       [0.00000000e+00, 1.00000000e+00, 4.75000000e+00, 2.11111111e+01,\n",
       "        9.28998843e+01, 4.07296227e+02, 1.78262320e+03, 7.79482603e+03,\n",
       "        3.40654084e+04, 1.48822072e+05, 6.50006108e+05, 2.83853644e+06,\n",
       "        1.23941928e+07, 5.41130587e+07, 2.36240999e+08, 1.03129869e+09,\n",
       "        4.50188662e+09, 1.96512056e+10, 8.57770688e+10, 3.74405941e+11,\n",
       "        1.63420109e+12],\n",
       "       [0.00000000e+00, 1.00000000e+00, 5.00000000e+00, 2.33333333e+01,\n",
       "        1.07777778e+02, 4.95911111e+02, 2.27770667e+03, 1.04512818e+04,\n",
       "        4.79279847e+04, 2.19708590e+05, 1.00692108e+06, 4.61388269e+06,\n",
       "        2.11388439e+07, 9.68397253e+07, 4.43601810e+08, 2.03192443e+09,\n",
       "        9.30682301e+09, 4.26264240e+10, 1.95228338e+11, 8.94119638e+11,\n",
       "        4.09485987e+12],\n",
       "       [0.00000000e+00, 1.00000000e+00, 5.25000000e+00, 2.56666667e+01,\n",
       "        1.24164931e+02, 5.98256458e+02, 2.87715590e+03, 1.38228911e+04,\n",
       "        6.63698316e+04, 3.18546704e+05, 1.52848312e+06, 7.33275160e+06,\n",
       "        3.51733652e+07, 1.68700449e+08, 8.09066498e+08, 3.87994223e+09,\n",
       "        1.86056482e+10, 8.92168617e+10, 4.27794111e+11, 2.05121326e+12,\n",
       "        9.83505739e+12],\n",
       "       [0.00000000e+00, 1.00000000e+00, 5.50000000e+00, 2.81111111e+01,\n",
       "        1.42134259e+02, 7.15682407e+02, 3.59666660e+03, 1.80560436e+04,\n",
       "        9.05880055e+04, 4.54299477e+05, 2.27768623e+06, 1.14172286e+07,\n",
       "        5.72223087e+07, 2.86763128e+08, 1.43696187e+09, 7.20010631e+09,\n",
       "        3.60753038e+10, 1.80743542e+11, 9.05525237e+11, 4.53655164e+12,\n",
       "        2.27269260e+13],\n",
       "       [0.00000000e+00, 1.00000000e+00, 5.75000000e+00, 3.06666667e+01,\n",
       "        1.61758681e+02, 8.49602431e+02, 4.45343490e+03, 2.33185408e+04,\n",
       "        1.22017870e+05, 6.38208105e+05, 3.33715707e+06, 1.74462750e+07,\n",
       "        9.11935445e+07, 4.76624933e+08, 2.49087460e+09, 1.30165970e+10,\n",
       "        6.80173112e+10, 3.55404015e+11, 1.85698965e+12, 9.70249841e+12,\n",
       "        5.06928511e+13],\n",
       "       [0.00000000e+00, 1.00000000e+00, 6.00000000e+00, 3.33333333e+01,\n",
       "        1.83111111e+02, 1.00149333e+03, 5.46622578e+03, 2.98015888e+04,\n",
       "        1.62367045e+05, 8.84233537e+05, 4.81401216e+06, 2.62032968e+07,\n",
       "        1.42605938e+08, 7.76012494e+08, 4.22241394e+09, 2.29732382e+10,\n",
       "        1.24985342e+11, 6.79948525e+11, 3.69893429e+12, 2.01216499e+13,\n",
       "        1.09455888e+14],\n",
       "       [0.00000000e+00, 1.00000000e+00, 6.25000000e+00, 3.61111111e+01,\n",
       "        2.06264468e+02, 1.17289525e+03, 6.65544169e+03, 3.77218809e+04,\n",
       "        2.13652434e+05, 1.20955942e+06, 6.84563296e+06, 3.87351807e+07,\n",
       "        2.19143322e+08, 1.23964858e+09, 7.01178448e+09, 3.96576293e+10,\n",
       "        2.24284625e+11, 1.26838648e+12, 7.17276689e+12, 4.05609110e+13,\n",
       "        2.29359542e+14],\n",
       "       [0.00000000e+00, 1.00000000e+00, 6.50000000e+00, 3.90000000e+01,\n",
       "        2.31291667e+02, 1.36541167e+03, 8.04319100e+03, 4.73237686e+04,\n",
       "        2.78240473e+05, 1.63516186e+06, 9.60648303e+06, 5.64249101e+07,\n",
       "        3.31364442e+08, 1.94574981e+09, 1.14242165e+10, 6.70707317e+10,\n",
       "        3.93743489e+11, 2.31138546e+12, 1.35679364e+13, 7.96417151e+13,\n",
       "        4.67471481e+14],\n",
       "       [0.00000000e+00, 1.00000000e+00, 6.75000000e+00, 4.20000000e+01,\n",
       "        2.58265625e+02, 1.58070938e+03, 9.65335656e+03, 5.88815208e+04,\n",
       "        3.58890725e+05, 2.18645155e+06, 1.33161026e+07, 8.10801552e+07,\n",
       "        4.93603921e+08, 3.00460347e+09, 1.82874375e+10, 1.11297334e+11,\n",
       "        6.77313289e+11, 4.12166251e+12, 2.50805550e+13, 1.52611329e+14,\n",
       "        9.28589410e+14],\n",
       "       [0.00000000e+00, 1.00000000e+00, 7.00000000e+00, 4.51111111e+01,\n",
       "        2.87259259e+02, 1.82051852e+03, 1.15116642e+04, 7.27016731e+04,\n",
       "        4.58802961e+05, 2.89399435e+06, 1.82484271e+07, 1.15040535e+08,\n",
       "        7.25105289e+08, 4.56977003e+09, 2.87967585e+10, 1.81450497e+11,\n",
       "        1.14325971e+12, 7.20292701e+12, 4.53789554e+13, 2.85880449e+14,\n",
       "        1.80094878e+15],\n",
       "       [0.00000000e+00, 1.00000000e+00, 7.25000000e+00, 4.83333333e+01,\n",
       "        3.18345486e+02, 2.08663257e+03, 1.36457512e+04, 8.91254645e+04,\n",
       "        5.81667863e+05, 3.79431624e+06, 2.47425871e+07, 1.61306573e+08,\n",
       "        1.05143394e+09, 6.85257259e+09, 4.46560401e+10, 2.90985403e+11,\n",
       "        1.89597966e+12, 1.23530140e+13, 8.04809454e+13, 5.24321024e+14,\n",
       "        3.41576565e+15],\n",
       "       [0.00000000e+00, 1.00000000e+00, 7.50000000e+00, 5.16666667e+01,\n",
       "        3.51597222e+02, 2.38090833e+03, 1.60852350e+04, 1.08531364e+05,\n",
       "        7.31721467e+05, 4.93079918e+06, 3.32153611e+07, 2.23693735e+08,\n",
       "        1.50622542e+09, 1.01406681e+10, 6.82648364e+10, 4.59505963e+11,\n",
       "        3.09283002e+12, 2.08159957e+13, 1.40093743e+14, 9.42809530e+14,\n",
       "        6.34476360e+15],\n",
       "       [0.00000000e+00, 1.00000000e+00, 7.75000000e+00, 5.51111111e+01,\n",
       "        3.87087384e+02, 2.70526595e+03, 1.88617814e+04, 1.31337684e+05,\n",
       "        9.13803510e+05, 6.35467433e+06, 4.41754621e+07, 3.07015295e+08,\n",
       "        2.13333305e+09, 1.48216494e+10, 1.02964458e+11, 7.15222181e+11,\n",
       "        4.96780775e+12, 3.45035910e+13, 2.39631433e+14, 1.66420406e+15,\n",
       "        1.15572712e+16],\n",
       "       [0.00000000e+00, 1.00000000e+00, 8.00000000e+00, 5.86666667e+01,\n",
       "        4.24888889e+02, 3.06168889e+03, 2.20091733e+04, 1.58005287e+05,\n",
       "        1.13341978e+06, 8.12611961e+06, 5.82398561e+07, 4.17298210e+08,\n",
       "        2.98944800e+09, 2.14128047e+10, 1.53358595e+11, 1.09825903e+12,\n",
       "        7.86449813e+12, 5.63134916e+13, 4.03212003e+14, 2.88693760e+15,\n",
       "        2.06693576e+16],\n",
       "       [0.00000000e+00, 1.00000000e+00, 8.25000000e+00, 6.23333333e+01,\n",
       "        4.65074653e+02, 3.45222396e+03, 2.55633793e+04, 1.89040375e+05,\n",
       "        1.39680864e+06, 1.03154684e+07, 7.61523189e+07, 5.62036598e+08,\n",
       "        4.14727567e+09, 3.05983625e+10, 2.25727574e+11, 1.66506979e+12,\n",
       "        1.22814392e+13, 9.05817738e+13, 6.68053952e+14, 4.92679924e+15,\n",
       "        3.63331912e+16],\n",
       "       [0.00000000e+00, 1.00000000e+00, 8.50000000e+00, 6.61111111e+01,\n",
       "        5.07717593e+02, 3.87898130e+03, 2.95626220e+04, 2.24997371e+05,\n",
       "        1.71101181e+06, 1.30045372e+07, 9.88044574e+07, 7.50487899e+08,\n",
       "        5.69936347e+09, 4.32757846e+10, 3.28559378e+11, 2.49427032e+12,\n",
       "        1.89339672e+13, 1.43718941e+14, 1.09085035e+15, 8.27939559e+15,\n",
       "        6.28372498e+16],\n",
       "       [0.00000000e+00, 1.00000000e+00, 8.75000000e+00, 7.00000000e+01,\n",
       "        5.52890625e+02, 4.34413437e+03, 3.40474466e+04, 2.66481890e+05,\n",
       "        2.08394962e+06, 1.62880788e+07, 1.27259430e+08, 9.94017274e+08,\n",
       "        7.76268780e+09, 6.06129266e+10, 4.73225267e+11, 3.69428755e+12,\n",
       "        2.88377518e+13, 2.25095059e+14, 1.75690768e+15, 1.37124137e+16,\n",
       "        1.07019690e+17],\n",
       "       [0.00000000e+00, 1.00000000e+00, 9.00000000e+00, 7.40000000e+01,\n",
       "        6.00666667e+02, 4.84992000e+03, 3.90607893e+04, 3.14153799e+05,\n",
       "        2.52450076e+06, 2.02753699e+07, 1.62778622e+08, 1.30649635e+09,\n",
       "        1.04841217e+10, 8.41181878e+10, 6.74833374e+11, 5.41330747e+12,\n",
       "        4.34206456e+13, 3.48259767e+14, 2.79311238e+15, 2.24003709e+16,\n",
       "        1.79641460e+17],\n",
       "       [0.00000000e+00, 1.00000000e+00, 9.25000000e+00, 7.81111111e+01,\n",
       "        6.51118634e+02, 5.39863831e+03, 4.46480463e+04, 3.68730361e+05,\n",
       "        3.04258677e+06, 2.50919401e+07, 2.06851538e+08, 1.70476295e+09,\n",
       "        1.40469199e+10, 1.15726101e+11, 9.53300039e+11, 7.85211812e+12,\n",
       "        6.46712127e+13, 5.32608682e+14, 4.38614744e+15, 3.61193252e+16,\n",
       "        2.97426978e+17],\n",
       "       [0.00000000e+00, 1.00000000e+00, 9.50000000e+00, 8.23333333e+01,\n",
       "        7.04319444e+02, 5.99265278e+03, 5.08571417e+04, 4.30989474e+05,\n",
       "        3.64926131e+06, 3.08814513e+07, 2.61229201e+08, 2.20914907e+09,\n",
       "        1.86783749e+10, 1.57901189e+11, 1.33468602e+12, 1.12805739e+13,\n",
       "        9.53344347e+13, 8.05640108e+14, 6.80784715e+15, 5.75254024e+16,\n",
       "        4.86064201e+17],\n",
       "       [0.00000000e+00, 1.00000000e+00, 9.75000000e+00, 8.66666667e+01,\n",
       "        7.60342014e+02, 6.63439021e+03, 5.77385962e+04, 5.01772995e+05,\n",
       "        4.35680447e+06, 3.78077355e+07, 3.27961353e+08, 2.84408499e+09,\n",
       "        2.46588140e+10, 2.13763341e+11, 1.85285323e+12, 1.60585622e+13,\n",
       "        1.39167679e+14, 1.20598647e+15, 1.04501764e+16, 9.05494267e+16,\n",
       "        7.84569955e+17],\n",
       "       [0.00000000e+00, 1.00000000e+00, 1.00000000e+01, 9.11111111e+01,\n",
       "        8.19259259e+02, 7.32634074e+03, 6.53455960e+04, 5.81990154e+05,\n",
       "        5.17882204e+06, 4.60569993e+07, 4.09437776e+08, 3.63878801e+09,\n",
       "        3.23321294e+10, 2.87238407e+11, 2.55150742e+12, 2.26625360e+13,\n",
       "        2.01273155e+14, 1.78745528e+15, 1.58730857e+16, 1.40951010e+17,\n",
       "        1.25158025e+18],\n",
       "       [0.00000000e+00, 1.00000000e+00, 1.02500000e+01, 9.56666667e+01,\n",
       "        8.81144097e+02, 8.07105785e+03, 7.37340609e+04, 6.72621057e+05,\n",
       "        6.13035014e+06, 5.58402052e+07, 5.08434062e+08, 4.62804509e+09,\n",
       "        4.21180515e+10, 3.83238261e+11, 3.48670319e+12, 3.17188886e+13,\n",
       "        2.88526844e+14, 2.62437653e+15, 2.38694624e+16, 2.17089866e+17,\n",
       "        1.97433088e+18],\n",
       "       [0.00000000e+00, 1.00000000e+00, 1.05000000e+01, 1.00333333e+02,\n",
       "        9.46069444e+02, 8.87115833e+03, 8.29627128e+04, 7.74720277e+05,\n",
       "        7.22796515e+06, 6.73956376e+07, 6.28162191e+08, 5.85309941e+09,\n",
       "        5.45264010e+10, 5.07875131e+11, 4.72990068e+12, 4.40456982e+13,\n",
       "        4.10128433e+14, 3.81863018e+15, 3.55526216e+16, 3.30990750e+17,\n",
       "        3.08136659e+18],\n",
       "       [0.00000000e+00, 1.00000000e+00, 1.07500000e+01, 1.05111111e+02,\n",
       "        1.01410822e+03, 9.72932234e+03, 9.30931445e+04, 8.89420533e+05,\n",
       "        8.48989911e+06, 8.09916633e+07, 7.72326275e+08, 7.36265148e+09,\n",
       "        7.01735777e+10, 6.68715651e+11, 6.37167726e+12, 6.07046574e+13,\n",
       "        5.78302135e+14, 5.50882047e+15, 5.24733145e+16, 4.99802424e+17,\n",
       "        4.76037668e+18],\n",
       "       [0.00000000e+00, 1.00000000e+00, 1.10000000e+01, 1.10000000e+02,\n",
       "        1.08533333e+03, 1.06482933e+04, 1.04189888e+05, 1.01793646e+06,\n",
       "        9.93616077e+06, 9.69296968e+07, 9.45183862e+08, 9.21398648e+09,\n",
       "        8.98015721e+10, 8.75080773e+11, 8.52621404e+12, 8.30653420e+13,\n",
       "        8.09184724e+14, 7.88217812e+15, 7.67751414e+16, 7.47781612e+17,\n",
       "        7.28302603e+18]])"
      ]
     },
     "execution_count": 185,
     "metadata": {},
     "output_type": "execute_result"
    }
   ],
   "source": [
    "Y[34]"
   ]
  },
  {
   "cell_type": "markdown",
   "metadata": {},
   "source": [
    "#### Cubic\n",
    "\n",
    "$$\n",
    "\\tau(n) = \\frac{1}{n^3(n-1)}\\sum_{u+v=n}(au^3 + bu^2v)\\tau(u)\\tau(v)\n",
    "$$"
   ]
  },
  {
   "cell_type": "code",
   "execution_count": 9,
   "metadata": {},
   "outputs": [],
   "source": [
    "def deg_3_array(a_min,a_max,b_min,b_max,seq_length):\n",
    "    a_len = a_max+1 - a_min\n",
    "    b_len = b_max+1 - b_min\n",
    "    \n",
    "    a_range = np.arange(a_min, a_max+1)\n",
    "    b_range = np.arange(b_min, b_max+1)\n",
    "    u_range = np.arange(seq_length)\n",
    "    v_range = u_range\n",
    "    \n",
    "    au_squared_matrix = np.multiply.outer(a_range, u_range*u_range*u_range) # a x u^3\n",
    "    au_tensor = np.broadcast_to(au_squared_matrix,(seq_length,b_len,a_len,seq_length)) # k x b x a x k\n",
    "    #k,b,a,k --> a,b,k,k\n",
    "    \n",
    "    bu_matrix = np.multiply.outer(b_range,u_range*u_range) # b x u^2\n",
    "    buv_matrix = np.multiply.outer(bu_matrix,v_range) # b x u^2 x v\n",
    "    buv_tensor = np.broadcast_to(buv_matrix,(a_len,b_len,seq_length,seq_length)) # a x b x k x k\n",
    "    \n",
    "    corrected_au_tensor = np.swapaxes(au_tensor, 0,2)\n",
    "    #corrected_buv_tensor = np.swapaxes(buv_tensor, 2,3)\n",
    "    \n",
    "    tensor = corrected_au_tensor + buv_tensor\n",
    "    \n",
    "    P_array = np.swapaxes(tensor, 2,3)\n",
    "    \n",
    "    return P_array\n",
    "\n",
    "def deg_3_sqnc(a_min,a_max,b_min,b_max,seq_length):\n",
    "    a_len = a_max+1 - a_min\n",
    "    b_len = b_max+1 - b_min\n",
    "    \n",
    "    coeff_array = deg_3_array(a_min,a_max,b_min,b_max,seq_length) # Big array for the polynomial values\n",
    "    seq = np.zeros(seq_length)\n",
    "    seq[1] = 1\n",
    "    seq_array = np.broadcast_to(seq, (a_len, b_len, seq_length)).copy() # Big array for the sequences\n",
    "    \n",
    "    for a in range(a_len):\n",
    "        for b in range(b_len):\n",
    "            flipped_array = np.flipud(coeff_array[a,b])\n",
    "            for n in range(2,seq_length):\n",
    "                diag = np.diagonal(flipped_array, -seq_length+n+1)[1:n]\n",
    "                vec_A = diag*seq_array[a,b,1:n]\n",
    "                vec_B = seq_array[a,b,n-1:0:-1]\n",
    "                seq_array[a,b,n] = (1/((n*n*n)*(n-1)))*np.dot(vec_A,vec_B)\n",
    "                \n",
    "    return seq_array"
   ]
  },
  {
   "cell_type": "code",
   "execution_count": 11,
   "metadata": {},
   "outputs": [],
   "source": [
    "A = deg_3_sqnc(-10,10,-10,10,21)"
   ]
  },
  {
   "cell_type": "code",
   "execution_count": 34,
   "metadata": {},
   "outputs": [
    {
     "data": {
      "text/plain": [
       "array([ 0.,  1., -1.,  1., -1.,  1., -1.,  1., -1.,  1., -1.,  1., -1.,\n",
       "        1., -1.,  1., -1.,  1., -1.,  1., -1.])"
      ]
     },
     "execution_count": 34,
     "metadata": {},
     "output_type": "execute_result"
    }
   ],
   "source": [
    "A[8,4] # a = -2, b = -6?"
   ]
  },
  {
   "cell_type": "code",
   "execution_count": 39,
   "metadata": {},
   "outputs": [
    {
     "data": {
      "text/plain": [
       "array([0., 1., 1., 1., 1., 1., 1., 1., 1., 1., 1., 1., 1., 1., 1., 1., 1.,\n",
       "       1., 1., 1., 1.])"
      ]
     },
     "execution_count": 39,
     "metadata": {},
     "output_type": "execute_result"
    }
   ],
   "source": [
    "A[12,16]"
   ]
  },
  {
   "cell_type": "code",
   "execution_count": 10,
   "metadata": {},
   "outputs": [],
   "source": [
    "B = deg_3_sqnc(0,40,0,40,21)"
   ]
  },
  {
   "cell_type": "code",
   "execution_count": 73,
   "metadata": {},
   "outputs": [
    {
     "data": {
      "text/plain": [
       "array([0.00000e+00, 1.00000e+00, 2.00000e+00, 4.00000e+00, 8.00000e+00,\n",
       "       1.60000e+01, 3.20000e+01, 6.40000e+01, 1.28000e+02, 2.56000e+02,\n",
       "       5.12000e+02, 1.02400e+03, 2.04800e+03, 4.09600e+03, 8.19200e+03,\n",
       "       1.63840e+04, 3.27680e+04, 6.55360e+04, 1.31072e+05, 2.62144e+05,\n",
       "       5.24288e+05])"
      ]
     },
     "execution_count": 73,
     "metadata": {},
     "output_type": "execute_result"
    }
   ],
   "source": [
    "B[4,12] # a = 4 ---> 2^n"
   ]
  },
  {
   "cell_type": "code",
   "execution_count": 81,
   "metadata": {
    "scrolled": true
   },
   "outputs": [
    {
     "data": {
      "text/plain": [
       "array([0.00000000e+00, 1.00000000e+00, 5.00000000e+00, 2.50000000e+01,\n",
       "       1.25000000e+02, 6.25000000e+02, 3.12500000e+03, 1.56250000e+04,\n",
       "       7.81250000e+04, 3.90625000e+05, 1.95312500e+06, 9.76562500e+06,\n",
       "       4.88281250e+07, 2.44140625e+08, 1.22070312e+09, 6.10351562e+09,\n",
       "       3.05175781e+10, 1.52587891e+11, 7.62939453e+11, 3.81469727e+12,\n",
       "       1.90734863e+13])"
      ]
     },
     "execution_count": 81,
     "metadata": {},
     "output_type": "execute_result"
    }
   ],
   "source": [
    "B[10,30] # a = 10 ---> 5^n"
   ]
  },
  {
   "cell_type": "code",
   "execution_count": 11,
   "metadata": {},
   "outputs": [
    {
     "data": {
      "text/plain": [
       "array([0.00000000e+00, 1.00000000e+00, 3.00000000e+00, 9.00000000e+00,\n",
       "       2.70000000e+01, 8.10000000e+01, 2.43000000e+02, 7.29000000e+02,\n",
       "       2.18700000e+03, 6.56100000e+03, 1.96830000e+04, 5.90490000e+04,\n",
       "       1.77147000e+05, 5.31441000e+05, 1.59432300e+06, 4.78296900e+06,\n",
       "       1.43489070e+07, 4.30467210e+07, 1.29140163e+08, 3.87420489e+08,\n",
       "       1.16226147e+09])"
      ]
     },
     "execution_count": 11,
     "metadata": {},
     "output_type": "execute_result"
    }
   ],
   "source": [
    "B[6,18] # a = 6 ---> 3^n"
   ]
  },
  {
   "cell_type": "markdown",
   "metadata": {},
   "source": [
    "$$\n",
    "\\frac{1}{n^3(n-1)}\\sum_{u+v=n}(6u^3 + 18u^2v)\\tau(u)\\tau(v)\n",
    "$$"
   ]
  },
  {
   "cell_type": "markdown",
   "metadata": {},
   "source": [
    "For $\\deg(P(u,v)) = 3$, it looks like we get a geometric sequence if $a = 2k, \\ k \\in \\mathbb{Z}$, and $b = 3a$. It looks like the geometric sequence is again of the form  $\\left(\\frac{a}{2}\\right)^n$. I'm probably missing something that makes this obvious, but that's kind of fun."
   ]
  }
 ],
 "metadata": {
  "kernelspec": {
   "display_name": "Python 3",
   "language": "python",
   "name": "python3"
  },
  "language_info": {
   "codemirror_mode": {
    "name": "ipython",
    "version": 3
   },
   "file_extension": ".py",
   "mimetype": "text/x-python",
   "name": "python",
   "nbconvert_exporter": "python",
   "pygments_lexer": "ipython3",
   "version": "3.7.6"
  }
 },
 "nbformat": 4,
 "nbformat_minor": 4
}
