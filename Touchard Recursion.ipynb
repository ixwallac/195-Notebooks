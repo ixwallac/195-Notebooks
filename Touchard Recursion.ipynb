{
 "cells": [
  {
   "cell_type": "code",
   "execution_count": 1,
   "metadata": {},
   "outputs": [],
   "source": [
    "import numpy as np\n",
    "from fractions import Fraction\n",
    "import matplotlib.pyplot as plt\n",
    "from mpl_toolkits import mplot3d"
   ]
  },
  {
   "cell_type": "markdown",
   "metadata": {},
   "source": [
    "## Linear Case\n",
    "$$\n",
    "\\tau(n) = \\frac{1}{n(n-1)}\\sum_{u+v=n}au\\tau(u)\\tau(v).\n",
    "$$"
   ]
  },
  {
   "cell_type": "code",
   "execution_count": 181,
   "metadata": {},
   "outputs": [],
   "source": [
    "def deg_1_array(a_min,a_max,seq_length):\n",
    "    a_len = a_max+1 - a_min\n",
    "    \n",
    "    a_range = np.arange(a_min, a_max+1)\n",
    "    u_range = np.arange(seq_length)\n",
    "    \n",
    "    au_array = np.multiply.outer(a_range,u_range)\n",
    "    \n",
    "    return au_array\n",
    "\n",
    "def deg_1_sqnc(a_min,a_max,seq_length,c=1,d=-1):\n",
    "    a_len = a_max+1 - a_min\n",
    "    \n",
    "    coeff_array = deg_1_array(a_min,a_max,seq_length)\n",
    "    seq = np.zeros(seq_length)\n",
    "    seq[1] = 1\n",
    "    seq_array = np.broadcast_to(seq, (a_len,seq_length)).copy()\n",
    "    \n",
    "    for n in range(2,seq_length):\n",
    "        vec_A = coeff_array[:,1:n]*seq_array[:,1:n]\n",
    "        vec_B = seq_array[:,n-1:0:-1]\n",
    "        seq_array[:,n] = (1/(n*(c*n+d)))*np.sum(vec_A*vec_B, axis=1)\n",
    "    \n",
    "    return seq_array\n",
    "\n",
    "def deg_1_case(a,seq_length,c=1,d=-1):\n",
    "    seq = [0]*seq_length\n",
    "    seq[1] = Fraction(1,1)\n",
    "    for n in range(2,seq_length):\n",
    "        seq_sum = 0\n",
    "        for u in range(1,n):\n",
    "            v = n-u\n",
    "            seq_sum += (a*u)*seq[u]*seq[v]\n",
    "        if c*n + d == 0:\n",
    "            seq[n] = seq_sum\n",
    "        else:\n",
    "            seq[n] = Fraction(1,n*(c*n+d))*seq_sum\n",
    "    return seq"
   ]
  },
  {
   "cell_type": "code",
   "execution_count": 212,
   "metadata": {
    "scrolled": true
   },
   "outputs": [
    {
     "data": {
      "text/plain": [
       "[0,\n",
       " Fraction(1, 1),\n",
       " Fraction(8, 1),\n",
       " Fraction(32, 1),\n",
       " Fraction(128, 1),\n",
       " Fraction(512, 1),\n",
       " Fraction(2048, 1),\n",
       " Fraction(8192, 1),\n",
       " Fraction(32768, 1),\n",
       " Fraction(131072, 1),\n",
       " Fraction(524288, 1),\n",
       " Fraction(2097152, 1),\n",
       " Fraction(8388608, 1),\n",
       " Fraction(33554432, 1),\n",
       " Fraction(134217728, 1),\n",
       " Fraction(536870912, 1),\n",
       " Fraction(2147483648, 1),\n",
       " Fraction(8589934592, 1),\n",
       " Fraction(34359738368, 1),\n",
       " Fraction(137438953472, 1),\n",
       " Fraction(549755813888, 1),\n",
       " Fraction(2199023255552, 1),\n",
       " Fraction(8796093022208, 1),\n",
       " Fraction(35184372088832, 1),\n",
       " Fraction(140737488355328, 1),\n",
       " Fraction(562949953421312, 1),\n",
       " Fraction(2251799813685248, 1),\n",
       " Fraction(9007199254740992, 1),\n",
       " Fraction(36028797018963968, 1),\n",
       " Fraction(144115188075855872, 1),\n",
       " Fraction(576460752303423488, 1),\n",
       " Fraction(2305843009213693952, 1),\n",
       " Fraction(9223372036854775808, 1),\n",
       " Fraction(36893488147419103232, 1),\n",
       " Fraction(147573952589676412928, 1),\n",
       " Fraction(590295810358705651712, 1),\n",
       " Fraction(2361183241434822606848, 1),\n",
       " Fraction(9444732965739290427392, 1),\n",
       " Fraction(37778931862957161709568, 1),\n",
       " Fraction(151115727451828646838272, 1),\n",
       " Fraction(604462909807314587353088, 1),\n",
       " Fraction(2417851639229258349412352, 1),\n",
       " Fraction(9671406556917033397649408, 1),\n",
       " Fraction(38685626227668133590597632, 1),\n",
       " Fraction(154742504910672534362390528, 1),\n",
       " Fraction(618970019642690137449562112, 1),\n",
       " Fraction(2475880078570760549798248448, 1),\n",
       " Fraction(9903520314283042199192993792, 1),\n",
       " Fraction(39614081257132168796771975168, 1),\n",
       " Fraction(158456325028528675187087900672, 1),\n",
       " Fraction(633825300114114700748351602688, 1),\n",
       " Fraction(2535301200456458802993406410752, 1),\n",
       " Fraction(10141204801825835211973625643008, 1),\n",
       " Fraction(40564819207303340847894502572032, 1),\n",
       " Fraction(162259276829213363391578010288128, 1),\n",
       " Fraction(649037107316853453566312041152512, 1),\n",
       " Fraction(2596148429267413814265248164610048, 1),\n",
       " Fraction(10384593717069655257060992658440192, 1),\n",
       " Fraction(41538374868278621028243970633760768, 1),\n",
       " Fraction(166153499473114484112975882535043072, 1),\n",
       " Fraction(664613997892457936451903530140172288, 1),\n",
       " Fraction(2658455991569831745807614120560689152, 1),\n",
       " Fraction(10633823966279326983230456482242756608, 1),\n",
       " Fraction(42535295865117307932921825928971026432, 1),\n",
       " Fraction(170141183460469231731687303715884105728, 1),\n",
       " Fraction(680564733841876926926749214863536422912, 1),\n",
       " Fraction(2722258935367507707706996859454145691648, 1),\n",
       " Fraction(10889035741470030830827987437816582766592, 1),\n",
       " Fraction(43556142965880123323311949751266331066368, 1),\n",
       " Fraction(174224571863520493293247799005065324265472, 1),\n",
       " Fraction(696898287454081973172991196020261297061888, 1),\n",
       " Fraction(2787593149816327892691964784081045188247552, 1),\n",
       " Fraction(11150372599265311570767859136324180752990208, 1),\n",
       " Fraction(44601490397061246283071436545296723011960832, 1),\n",
       " Fraction(178405961588244985132285746181186892047843328, 1),\n",
       " Fraction(713623846352979940529142984724747568191373312, 1),\n",
       " Fraction(2854495385411919762116571938898990272765493248, 1),\n",
       " Fraction(11417981541647679048466287755595961091061972992, 1),\n",
       " Fraction(45671926166590716193865151022383844364247891968, 1),\n",
       " Fraction(182687704666362864775460604089535377456991567872, 1),\n",
       " Fraction(730750818665451459101842416358141509827966271488, 1),\n",
       " Fraction(2923003274661805836407369665432566039311865085952, 1),\n",
       " Fraction(11692013098647223345629478661730264157247460343808, 1),\n",
       " Fraction(46768052394588893382517914646921056628989841375232, 1),\n",
       " Fraction(187072209578355573530071658587684226515959365500928, 1),\n",
       " Fraction(748288838313422294120286634350736906063837462003712, 1),\n",
       " Fraction(2993155353253689176481146537402947624255349848014848, 1),\n",
       " Fraction(11972621413014756705924586149611790497021399392059392, 1),\n",
       " Fraction(47890485652059026823698344598447161988085597568237568, 1),\n",
       " Fraction(191561942608236107294793378393788647952342390272950272, 1),\n",
       " Fraction(766247770432944429179173513575154591809369561091801088, 1),\n",
       " Fraction(3064991081731777716716694054300618367237478244367204352, 1),\n",
       " Fraction(12259964326927110866866776217202473468949912977468817408, 1),\n",
       " Fraction(49039857307708443467467104868809893875799651909875269632, 1),\n",
       " Fraction(196159429230833773869868419475239575503198607639501078528, 1),\n",
       " Fraction(784637716923335095479473677900958302012794430558004314112, 1),\n",
       " Fraction(3138550867693340381917894711603833208051177722232017256448, 1),\n",
       " Fraction(12554203470773361527671578846415332832204710888928069025792, 1),\n",
       " Fraction(50216813883093446110686315385661331328818843555712276103168, 1),\n",
       " Fraction(200867255532373784442745261542645325315275374222849104412672, 1)]"
      ]
     },
     "execution_count": 212,
     "metadata": {},
     "output_type": "execute_result"
    }
   ],
   "source": [
    "deg_1_case(8,100,2,-4)"
   ]
  },
  {
   "cell_type": "code",
   "execution_count": 216,
   "metadata": {},
   "outputs": [
    {
     "data": {
      "text/plain": [
       "[1,\n",
       " 8,\n",
       " 32,\n",
       " 128,\n",
       " 512,\n",
       " 2048,\n",
       " 8192,\n",
       " 32768,\n",
       " 131072,\n",
       " 524288,\n",
       " 2097152,\n",
       " 8388608,\n",
       " 33554432,\n",
       " 134217728,\n",
       " 536870912,\n",
       " 2147483648,\n",
       " 8589934592,\n",
       " 34359738368,\n",
       " 137438953472,\n",
       " 549755813888,\n",
       " 2199023255552]"
      ]
     },
     "execution_count": 216,
     "metadata": {},
     "output_type": "execute_result"
    }
   ],
   "source": [
    "sequence_thing = [1]\n",
    "for n in range(1,21):\n",
    "    entry = 8*4**(n-1)\n",
    "    sequence_thing.append(entry)\n",
    "sequence_thing"
   ]
  },
  {
   "cell_type": "markdown",
   "metadata": {},
   "source": [
    "This is $\\{8\\cdot4^{n-1}\\}_{n\\in\\mathbb{N}}$."
   ]
  },
  {
   "cell_type": "code",
   "execution_count": 213,
   "metadata": {},
   "outputs": [
    {
     "data": {
      "text/plain": [
       "[0,\n",
       " Fraction(1, 1),\n",
       " Fraction(6, 1),\n",
       " Fraction(18, 1),\n",
       " Fraction(54, 1),\n",
       " Fraction(162, 1),\n",
       " Fraction(486, 1),\n",
       " Fraction(1458, 1),\n",
       " Fraction(4374, 1),\n",
       " Fraction(13122, 1),\n",
       " Fraction(39366, 1),\n",
       " Fraction(118098, 1),\n",
       " Fraction(354294, 1),\n",
       " Fraction(1062882, 1),\n",
       " Fraction(3188646, 1),\n",
       " Fraction(9565938, 1),\n",
       " Fraction(28697814, 1),\n",
       " Fraction(86093442, 1),\n",
       " Fraction(258280326, 1),\n",
       " Fraction(774840978, 1),\n",
       " Fraction(2324522934, 1)]"
      ]
     },
     "execution_count": 213,
     "metadata": {},
     "output_type": "execute_result"
    }
   ],
   "source": [
    "deg_1_case(6,21,2,-4)"
   ]
  },
  {
   "cell_type": "code",
   "execution_count": 214,
   "metadata": {},
   "outputs": [
    {
     "data": {
      "text/plain": [
       "[1,\n",
       " 6,\n",
       " 18,\n",
       " 54,\n",
       " 162,\n",
       " 486,\n",
       " 1458,\n",
       " 4374,\n",
       " 13122,\n",
       " 39366,\n",
       " 118098,\n",
       " 354294,\n",
       " 1062882,\n",
       " 3188646,\n",
       " 9565938,\n",
       " 28697814,\n",
       " 86093442,\n",
       " 258280326,\n",
       " 774840978,\n",
       " 2324522934,\n",
       " 6973568802]"
      ]
     },
     "execution_count": 214,
     "metadata": {},
     "output_type": "execute_result"
    }
   ],
   "source": [
    "sequence_thing = [1]\n",
    "for n in range(1,21):\n",
    "    entry = 6*3**(n-1)\n",
    "    sequence_thing.append(entry)\n",
    "sequence_thing"
   ]
  },
  {
   "cell_type": "markdown",
   "metadata": {},
   "source": [
    "This is $\\{6\\cdot3^{n-1}\\}_{n\\in\\mathbb{N}}$.\n",
    "\n",
    "For $n$ such that $cn+d=0$, if we let $\\tau(n) = \\sum_{u+v=n}au\\tau(u)\\tau(v)$, then we sometimes get some kind of sequence $\\{a\\cdot r^{n-1}\\}$, $r$ some rational."
   ]
  },
  {
   "cell_type": "markdown",
   "metadata": {},
   "source": [
    "## Quadratic Case\n",
    "$$\n",
    "\\tau(n) = \\frac{1}{n^2(n-1)}\\sum_{u+v=n}(au^2+buv)\\tau(u)\\tau(v)\n",
    "$$\n",
    "$\\sigma(n)$ is at $(-24,36)$."
   ]
  },
  {
   "cell_type": "code",
   "execution_count": 218,
   "metadata": {},
   "outputs": [],
   "source": [
    "def deg_2_array(a_min,a_max,b_min,b_max,seq_length):\n",
    "    a_len = a_max+1 - a_min\n",
    "    b_len = b_max+1 - b_min\n",
    "    \n",
    "    a_range = np.arange(a_min, a_max+1)\n",
    "    b_range = np.arange(b_min, b_max+1)\n",
    "    u_range = np.arange(seq_length)\n",
    "    v_range = u_range\n",
    "    \n",
    "    au_squared_matrix = np.multiply.outer(a_range, u_range*u_range) # a x u\n",
    "    au_tensor = np.broadcast_to(au_squared_matrix,(seq_length,b_len,a_len,seq_length)) # k x b x a x k\n",
    "    #k,b,a,k --> a,b,k,k\n",
    "    \n",
    "    bu_matrix = np.multiply.outer(b_range,u_range) # b_len x seq_length\n",
    "    buv_matrix = np.multiply.outer(bu_matrix,v_range) # b_len x seq_len x seq_len\n",
    "    buv_tensor = np.broadcast_to(buv_matrix,(a_len,b_len,seq_length,seq_length))\n",
    "    \n",
    "    corrected_au_tensor = np.swapaxes(au_tensor, 0,2)\n",
    "    #corrected_buv_tensor = np.swapaxes(buv_tensor, 2,3)\n",
    "    \n",
    "    tensor = corrected_au_tensor + buv_tensor\n",
    "    \n",
    "    P_array = np.swapaxes(tensor, 2,3)\n",
    "    \n",
    "    return P_array\n",
    "\n",
    "\n",
    "def deg_2_sqnc(a_min,a_max,b_min,b_max,seq_length,c=1,d=-1):\n",
    "    a_len = a_max+1 - a_min\n",
    "    b_len = b_max+1 - b_min\n",
    "    \n",
    "    coeff_array = deg_2_array(a_min,a_max,b_min,b_max,seq_length)\n",
    "    seq = np.zeros(seq_length)\n",
    "    seq[1] = 1\n",
    "    seq_array = np.broadcast_to(seq, (a_len,b_len,seq_length)).copy()\n",
    "    \n",
    "    flipped_array = coeff_array[:,:,::-1,:]\n",
    "    for n in range(2,seq_length):\n",
    "        diag = np.diagonal(flipped_array, -seq_length+n+1, axis1 = 2, axis2 = 3)[:,:,1:n]\n",
    "        vec_A = diag*seq_array[:,:,1:n]\n",
    "        vec_B = seq_array[:,:,n-1:0:-1]\n",
    "        seq_array[:,:,n] = (1/((n**2)*(c*n+d)))*np.sum(vec_A*vec_B,axis=2)\n",
    "    \n",
    "    return seq_array\n",
    "\n",
    "\n",
    "def deg_2_case(a,b,seq_length,c=1,d=-1):\n",
    "    seq = [0]*seq_length\n",
    "    seq[1] = Fraction(1,1)\n",
    "    for n in range(2,seq_length):\n",
    "        seq_sum = 0\n",
    "        for u in range(1,n):\n",
    "            v = n-u\n",
    "            seq_sum += (a*u*u+b*u*v)*seq[u]*seq[v]\n",
    "        if c*n+d == 0:\n",
    "            seq[n] = seq_sum\n",
    "        else:\n",
    "            seq[n] = Fraction(1,n*n*(c*n+d))*seq_sum\n",
    "    return seq"
   ]
  },
  {
   "cell_type": "code",
   "execution_count": 313,
   "metadata": {
    "scrolled": true
   },
   "outputs": [
    {
     "data": {
      "text/plain": [
       "[0,\n",
       " Fraction(1, 1),\n",
       " Fraction(2, 1),\n",
       " Fraction(8, 1),\n",
       " Fraction(40, 1),\n",
       " Fraction(224, 1),\n",
       " Fraction(1344, 1),\n",
       " Fraction(8448, 1),\n",
       " Fraction(54912, 1),\n",
       " Fraction(366080, 1),\n",
       " Fraction(2489344, 1),\n",
       " Fraction(17199104, 1),\n",
       " Fraction(120393728, 1),\n",
       " Fraction(852017152, 1),\n",
       " Fraction(6085836800, 1),\n",
       " Fraction(43818024960, 1),\n",
       " Fraction(317680680960, 1),\n",
       " Fraction(2317200261120, 1),\n",
       " Fraction(16992801914880, 1),\n",
       " Fraction(125210119372800, 1),\n",
       " Fraction(926554883358720, 1)]"
      ]
     },
     "execution_count": 313,
     "metadata": {},
     "output_type": "execute_result"
    }
   ],
   "source": [
    "deg_2_case(4,4,21,0,1)"
   ]
  },
  {
   "cell_type": "markdown",
   "metadata": {},
   "source": [
    "If $C_n$ is the catalan numbers, then this is $2^n\\times C_n$ element-wise."
   ]
  },
  {
   "cell_type": "code",
   "execution_count": 260,
   "metadata": {
    "scrolled": true
   },
   "outputs": [
    {
     "data": {
      "text/plain": [
       "[0,\n",
       " Fraction(1, 1),\n",
       " Fraction(1, 1),\n",
       " Fraction(2, 1),\n",
       " Fraction(5, 1),\n",
       " Fraction(14, 1),\n",
       " Fraction(42, 1),\n",
       " Fraction(132, 1),\n",
       " Fraction(429, 1),\n",
       " Fraction(1430, 1),\n",
       " Fraction(4862, 1),\n",
       " Fraction(16796, 1),\n",
       " Fraction(58786, 1),\n",
       " Fraction(208012, 1),\n",
       " Fraction(742900, 1),\n",
       " Fraction(2674440, 1),\n",
       " Fraction(9694845, 1),\n",
       " Fraction(35357670, 1),\n",
       " Fraction(129644790, 1),\n",
       " Fraction(477638700, 1),\n",
       " Fraction(1767263190, 1)]"
      ]
     },
     "execution_count": 260,
     "metadata": {},
     "output_type": "execute_result"
    }
   ],
   "source": [
    "deg_2_case(2,2,21,0,1) # the catalan numbers!"
   ]
  },
  {
   "cell_type": "code",
   "execution_count": 325,
   "metadata": {},
   "outputs": [
    {
     "data": {
      "text/plain": [
       "[0,\n",
       " Fraction(1, 1),\n",
       " Fraction(3, 1),\n",
       " Fraction(18, 1),\n",
       " Fraction(135, 1),\n",
       " Fraction(1134, 1),\n",
       " Fraction(10206, 1),\n",
       " Fraction(96228, 1),\n",
       " Fraction(938223, 1),\n",
       " Fraction(9382230, 1),\n",
       " Fraction(95698746, 1),\n",
       " Fraction(991787004, 1),\n",
       " Fraction(10413763542, 1),\n",
       " Fraction(110546105292, 1),\n",
       " Fraction(1184422556700, 1),\n",
       " Fraction(12791763612360, 1),\n",
       " Fraction(139110429284415, 1),\n",
       " Fraction(1522031755700070, 1),\n",
       " Fraction(16742349312700770, 1),\n",
       " Fraction(185047018719324300, 1),\n",
       " Fraction(2054021907784499730, 1)]"
      ]
     },
     "execution_count": 325,
     "metadata": {},
     "output_type": "execute_result"
    }
   ],
   "source": [
    "deg_2_case(6,6,21,0,1)"
   ]
  },
  {
   "cell_type": "markdown",
   "metadata": {},
   "source": [
    "This is $3^{n-1}\\times C_n$."
   ]
  },
  {
   "cell_type": "markdown",
   "metadata": {},
   "source": [
    "Not a Touchard recurrence, but $\\tau(n) = \\frac{1}{n^2}\\sum_{u+v=n}(au^2+auv)\\tau(u)\\tau(v)$ produces $(\\frac{a}{2})^{n-1}\\times C_n$."
   ]
  },
  {
   "cell_type": "markdown",
   "metadata": {},
   "source": [
    "## Cubic Case\n",
    "$$\n",
    "\\tau(n) = \\frac{1}{n^3(n-1)}\\sum_{u+v=n}(au^3+bu^2v)\\tau(u)\\tau(v)\n",
    "$$\n",
    "$\\sigma(n)$ is at $(-24,48)$."
   ]
  },
  {
   "cell_type": "code",
   "execution_count": 6,
   "metadata": {},
   "outputs": [],
   "source": [
    "def deg_3_array(a_min,a_max,b_min,b_max,seq_length):\n",
    "    a_len = a_max+1 - a_min\n",
    "    b_len = b_max+1 - b_min\n",
    "    \n",
    "    a_range = np.arange(a_min, a_max+1)\n",
    "    b_range = np.arange(b_min, b_max+1)\n",
    "    u_range = np.arange(seq_length)\n",
    "    v_range = u_range\n",
    "    \n",
    "    au_squared_matrix = np.multiply.outer(a_range, u_range*u_range*u_range) # a x u^3\n",
    "    au_tensor = np.broadcast_to(au_squared_matrix,(seq_length,b_len,a_len,seq_length)) # k x b x a x k\n",
    "    #k,b,a,k --> a,b,k,k\n",
    "    \n",
    "    bu_matrix = np.multiply.outer(b_range,u_range*u_range) # b x u^2\n",
    "    buv_matrix = np.multiply.outer(bu_matrix,v_range) # b x u^2 x v\n",
    "    buv_tensor = np.broadcast_to(buv_matrix,(a_len,b_len,seq_length,seq_length)) # a x b x k x k\n",
    "    \n",
    "    corrected_au_tensor = np.swapaxes(au_tensor, 0,2)\n",
    "    #corrected_buv_tensor = np.swapaxes(buv_tensor, 2,3)\n",
    "    \n",
    "    tensor = corrected_au_tensor + buv_tensor\n",
    "    \n",
    "    P_array = np.swapaxes(tensor, 2,3)\n",
    "    \n",
    "    return P_array\n",
    "\n",
    "\n",
    "def deg_3_sqnc(a_min,a_max,b_min,b_max,seq_length,c=1,d=-1):\n",
    "    a_len = a_max+1 - a_min\n",
    "    b_len = b_max+1 - b_min\n",
    "    \n",
    "    coeff_array = deg_3_array(a_min,a_max,b_min,b_max,seq_length)\n",
    "    seq = np.zeros(seq_length)\n",
    "    seq[1] = 1\n",
    "    seq_array = np.broadcast_to(seq, (a_len,b_len,seq_length)).copy()\n",
    "    \n",
    "    flipped_array = coeff_array[:,:,::-1,:]\n",
    "    for n in range(2,seq_length):\n",
    "        diag = np.diagonal(flipped_array, -seq_length+n+1, axis1 = 2, axis2 = 3)[:,:,1:n]\n",
    "        vec_A = diag*seq_array[:,:,1:n]\n",
    "        vec_B = seq_array[:,:,n-1:0:-1]\n",
    "        seq_array[:,:,n] = (1/((n**3)*(c*n + d)))*np.sum(vec_A*vec_B,axis=2)\n",
    "    \n",
    "    return seq_array\n",
    "\n",
    "def deg_3_case(a,b,seq_length,c=1,d=-1):\n",
    "    seq = [0]*seq_length\n",
    "    seq[1] = Fraction(1,1)\n",
    "    \n",
    "    for n in range(2,seq_length):\n",
    "        seq_sum = 0\n",
    "        for u in range(1,n):\n",
    "            v = n-u\n",
    "            seq_sum += (a*u*u*u + b*u*u*v)*seq[u]*seq[v]\n",
    "        seq[n] = Fraction(1,((n**3)*(c*n + d)))*seq_sum\n",
    "    \n",
    "    return seq"
   ]
  },
  {
   "cell_type": "code",
   "execution_count": 7,
   "metadata": {},
   "outputs": [
    {
     "data": {
      "text/plain": [
       "[0,\n",
       " Fraction(1, 1),\n",
       " Fraction(3, 1),\n",
       " Fraction(4, 1),\n",
       " Fraction(7, 1),\n",
       " Fraction(6, 1),\n",
       " Fraction(12, 1),\n",
       " Fraction(8, 1),\n",
       " Fraction(15, 1),\n",
       " Fraction(13, 1),\n",
       " Fraction(18, 1),\n",
       " Fraction(12, 1),\n",
       " Fraction(28, 1),\n",
       " Fraction(14, 1),\n",
       " Fraction(24, 1),\n",
       " Fraction(24, 1),\n",
       " Fraction(31, 1),\n",
       " Fraction(18, 1),\n",
       " Fraction(39, 1),\n",
       " Fraction(20, 1),\n",
       " Fraction(42, 1)]"
      ]
     },
     "execution_count": 7,
     "metadata": {},
     "output_type": "execute_result"
    }
   ],
   "source": [
    "deg_3_case(-24,48,21)"
   ]
  },
  {
   "cell_type": "markdown",
   "metadata": {},
   "source": [
    "## Quartic Case\n",
    "$$\n",
    "\\tau(n) = \\frac{1}{n^4(n-1)}\\sum_{u+v=n}(au^4 + bu^3v + cu^2v^2)\\tau(u)\\tau(v).\n",
    "$$\n",
    "$\\sigma(n)$ is at $(-24,24,48)$."
   ]
  },
  {
   "cell_type": "code",
   "execution_count": 8,
   "metadata": {},
   "outputs": [],
   "source": [
    "def deg_4_array(a_min,a_max,b_min,b_max,c_min,c_max,seq_length):\n",
    "    a_len = a_max+1 - a_min\n",
    "    b_len = b_max+1 - b_min\n",
    "    c_len = c_max+1 - c_min\n",
    "    \n",
    "    a_range = np.arange(a_min, a_max+1)\n",
    "    b_range = np.arange(b_min, b_max+1)\n",
    "    c_range = np.arange(c_min, c_max+1)\n",
    "    u_range = np.arange(seq_length)\n",
    "    v_range = u_range\n",
    "    \n",
    "    au_matrix = np.multiply.outer(a_range, u_range**4) # a x u^4\n",
    "    au_tensor = np.broadcast_to(au_matrix,(seq_length,b_len,c_len,a_len,seq_length)) # k x b x c x a x u^4\n",
    "    #v,b,c,a,u --> a,b,c,v,u --> a,b,c,u,v\n",
    "    \n",
    "    bu_matrix = np.multiply.outer(b_range,u_range**3) # b x u^3\n",
    "    buv_matrix = np.multiply.outer(bu_matrix,v_range) # b x u^3 x v\n",
    "    buv_tensor = np.broadcast_to(buv_matrix,(a_len,c_len,b_len,seq_length,seq_length)) # a x c x b x u^3 x v\n",
    "    # a,c,b,u,v --> a,b,c,u,v\n",
    "    \n",
    "    cu_matrix = np.multiply.outer(c_range,u_range**2) # c x u^2\n",
    "    cuv_matrix = np.multiply.outer(cu_matrix,v_range**2) # c x u^2 x v^2\n",
    "    cuv_tensor = np.broadcast_to(cuv_matrix,(a_len,b_len,c_len,seq_length,seq_length)) # a x b x c x u^2 x v^2\n",
    "    \n",
    "    corrected_au_tensor = np.swapaxes(np.swapaxes(au_tensor, 3,4),0,4)\n",
    "    corrected_buv_tensor = np.swapaxes(buv_tensor, 1,2)\n",
    "    \n",
    "    tensor = corrected_au_tensor + corrected_buv_tensor + cuv_tensor\n",
    "    \n",
    "    #P_array = np.swapaxes(tensor, 3,4)\n",
    "    \n",
    "    return tensor\n",
    "\n",
    "\n",
    "def deg_4_sqnc(a_min,a_max,b_min,b_max,c_min,c_max,seq_length,c=1,d=-1):\n",
    "    a_len = a_max+1 - a_min\n",
    "    b_len = b_max+1 - b_min\n",
    "    c_len = c_max+1 - c_min\n",
    "    \n",
    "    coeff_array = deg_4_array(a_min,a_max,b_min,b_max,c_min,c_max,seq_length)\n",
    "    seq = np.zeros(seq_length)\n",
    "    seq[1] = 1\n",
    "    seq_array = np.broadcast_to(seq, (a_len,b_len,c_len,seq_length)).copy()\n",
    "    \n",
    "    flipped_array = coeff_array[:,:,:,::-1,:]\n",
    "    for n in range(2,seq_length):\n",
    "        diag = np.diagonal(flipped_array, -seq_length+n+1, axis1 = 3, axis2 = 4)[:,:,:,1:n]\n",
    "        vec_A = diag*seq_array[:,:,:,1:n]\n",
    "        vec_B = seq_array[:,:,:,n-1:0:-1]\n",
    "        seq_array[:,:,:,n] = (1/((n**4)*(c*n+d)))*np.sum(vec_A*vec_B,axis=3)\n",
    "    \n",
    "    return seq_array\n",
    "\n",
    "\n",
    "def deg_4_case(a,b,c,seq_length,x=1,y=-1):\n",
    "    seq = [0]*seq_length\n",
    "    seq[1] = Fraction(1,1)\n",
    "    \n",
    "    for n in range(2,seq_length):\n",
    "        seq_sum = 0\n",
    "        for u in range(1,n):\n",
    "            v = n-u\n",
    "            seq_sum += (a*u**4 + b*(u**3)*v + c*(u**2)*(v**2))*seq[u]*seq[v]\n",
    "        seq[n] = Fraction(1,((n**4)*(x*n + y)))*seq_sum\n",
    "    \n",
    "    return seq"
   ]
  },
  {
   "cell_type": "code",
   "execution_count": 9,
   "metadata": {},
   "outputs": [
    {
     "data": {
      "text/plain": [
       "[0,\n",
       " Fraction(1, 1),\n",
       " Fraction(3, 1),\n",
       " Fraction(4, 1),\n",
       " Fraction(7, 1),\n",
       " Fraction(6, 1),\n",
       " Fraction(12, 1),\n",
       " Fraction(8, 1),\n",
       " Fraction(15, 1),\n",
       " Fraction(13, 1),\n",
       " Fraction(18, 1),\n",
       " Fraction(12, 1),\n",
       " Fraction(28, 1),\n",
       " Fraction(14, 1),\n",
       " Fraction(24, 1),\n",
       " Fraction(24, 1),\n",
       " Fraction(31, 1),\n",
       " Fraction(18, 1),\n",
       " Fraction(39, 1),\n",
       " Fraction(20, 1),\n",
       " Fraction(42, 1)]"
      ]
     },
     "execution_count": 9,
     "metadata": {},
     "output_type": "execute_result"
    }
   ],
   "source": [
    "deg_4_case(-24,24,48,21)"
   ]
  },
  {
   "cell_type": "markdown",
   "metadata": {},
   "source": [
    "## Quintic Case\n",
    "$$\n",
    "\\tau(n) = \\frac{1}{n^5(n-1)}\\sum_{u+v=n}(au^5+bu^4v+cu^3v^2)\\tau(u)\\tau(v).\n",
    "$$\n",
    "$\\sigma(n)$ is at $(-24,0,120)$."
   ]
  },
  {
   "cell_type": "code",
   "execution_count": 10,
   "metadata": {},
   "outputs": [],
   "source": [
    "def deg_5_array(a_min,a_max,b_min,b_max,c_min,c_max,seq_length):\n",
    "    a_len = a_max+1 - a_min\n",
    "    b_len = b_max+1 - b_min\n",
    "    c_len = c_max+1 - c_min\n",
    "    \n",
    "    a_range = np.arange(a_min, a_max+1)\n",
    "    b_range = np.arange(b_min, b_max+1)\n",
    "    c_range = np.arange(c_min, c_max+1)\n",
    "    u_range = np.arange(seq_length)\n",
    "    v_range = u_range\n",
    "    \n",
    "    au_matrix = np.multiply.outer(a_range, u_range**5) # a x u^5\n",
    "    au_tensor = np.broadcast_to(au_matrix,(seq_length,b_len,c_len,a_len,seq_length)) # k x b x c x a x u^4\n",
    "    #v,b,c,a,u --> a,b,c,v,u --> a,b,c,u,v\n",
    "    \n",
    "    bu_matrix = np.multiply.outer(b_range,u_range**4) # b x u^4\n",
    "    buv_matrix = np.multiply.outer(bu_matrix,v_range) # b x u^4 x v\n",
    "    buv_tensor = np.broadcast_to(buv_matrix,(a_len,c_len,b_len,seq_length,seq_length)) # a x c x b x u^3 x v\n",
    "    # a,c,b,u,v --> a,b,c,u,v\n",
    "    \n",
    "    cu_matrix = np.multiply.outer(c_range,u_range**3) # c x u^3\n",
    "    cuv_matrix = np.multiply.outer(cu_matrix,v_range**2) # c x u^3 x v^2\n",
    "    cuv_tensor = np.broadcast_to(cuv_matrix,(a_len,b_len,c_len,seq_length,seq_length)) # a x b x c x u^3 x v^2\n",
    "    \n",
    "    corrected_au_tensor = np.swapaxes(np.swapaxes(au_tensor, 3,4),0,4)\n",
    "    corrected_buv_tensor = np.swapaxes(buv_tensor, 1,2)\n",
    "    \n",
    "    tensor = corrected_au_tensor + corrected_buv_tensor + cuv_tensor\n",
    "    \n",
    "    #P_array = np.swapaxes(tensor, 3,4)\n",
    "    \n",
    "    return tensor\n",
    "\n",
    "\n",
    "def deg_5_sqnc(a_min,a_max,b_min,b_max,c_min,c_max,seq_length,c=1,d=-1):\n",
    "    a_len = a_max+1 - a_min\n",
    "    b_len = b_max+1 - b_min\n",
    "    c_len = c_max+1 - c_min\n",
    "    \n",
    "    coeff_array = deg_5_array(a_min,a_max,b_min,b_max,c_min,c_max,seq_length)\n",
    "    seq = np.zeros(seq_length)\n",
    "    seq[1] = 1\n",
    "    seq_array = np.broadcast_to(seq, (a_len,b_len,c_len,seq_length)).copy()\n",
    "    \n",
    "    flipped_array = coeff_array[:,:,:,::-1,:]\n",
    "    for n in range(2,seq_length):\n",
    "        diag = np.diagonal(flipped_array, -seq_length+n+1, axis1 = 3, axis2 = 4)[:,:,:,1:n]\n",
    "        vec_A = diag*seq_array[:,:,:,1:n]\n",
    "        vec_B = seq_array[:,:,:,n-1:0:-1]\n",
    "        seq_array[:,:,:,n] = (1/((n**5)*(c*n+d)))*np.sum(vec_A*vec_B,axis=3)\n",
    "    \n",
    "    return seq_array\n",
    "\n",
    "\n",
    "def deg_5_case(a,b,c,seq_length,x=1,y=-1):\n",
    "    seq = [0]*seq_length\n",
    "    seq[1] = Fraction(1,1)\n",
    "    \n",
    "    for n in range(2,seq_length):\n",
    "        seq_sum = 0\n",
    "        for u in range(1,n):\n",
    "            v = n-u\n",
    "            seq_sum += (a*u**5 + b*(u**4)*v + c*(u**3)*(v**2))*seq[u]*seq[v]\n",
    "        seq[n] = Fraction(1,((n**5)*(x*n + y)))*seq_sum\n",
    "    \n",
    "    return seq"
   ]
  },
  {
   "cell_type": "code",
   "execution_count": 139,
   "metadata": {},
   "outputs": [
    {
     "data": {
      "text/plain": [
       "[0,\n",
       " Fraction(1, 1),\n",
       " Fraction(3, 1),\n",
       " Fraction(4, 1),\n",
       " Fraction(7, 1),\n",
       " Fraction(6, 1),\n",
       " Fraction(12, 1),\n",
       " Fraction(8, 1),\n",
       " Fraction(15, 1),\n",
       " Fraction(13, 1),\n",
       " Fraction(18, 1),\n",
       " Fraction(12, 1),\n",
       " Fraction(28, 1),\n",
       " Fraction(14, 1),\n",
       " Fraction(24, 1),\n",
       " Fraction(24, 1),\n",
       " Fraction(31, 1),\n",
       " Fraction(18, 1),\n",
       " Fraction(39, 1),\n",
       " Fraction(20, 1),\n",
       " Fraction(42, 1)]"
      ]
     },
     "execution_count": 139,
     "metadata": {},
     "output_type": "execute_result"
    }
   ],
   "source": [
    "deg_5_case(-24,0,120,21)"
   ]
  },
  {
   "cell_type": "markdown",
   "metadata": {},
   "source": [
    "## Catalan Numbers\n",
    "$$\n",
    "C_n = \\sum_{u+v=n}C_uC_v\n",
    "$$"
   ]
  },
  {
   "cell_type": "code",
   "execution_count": 11,
   "metadata": {},
   "outputs": [],
   "source": [
    "def catalan(length):\n",
    "    catlist = np.zeros(length)\n",
    "    catlist[1] = 1\n",
    "    for n in range(2,length):\n",
    "        vec_A = catlist[1:n]\n",
    "        vec_B = catlist[n-1:0:-1]\n",
    "        catlist[n] = np.dot(vec_A,vec_B)\n",
    "\n",
    "    return catlist"
   ]
  },
  {
   "cell_type": "code",
   "execution_count": 12,
   "metadata": {
    "scrolled": true
   },
   "outputs": [
    {
     "data": {
      "text/plain": [
       "array([0.00000000e+00, 1.00000000e+00, 1.00000000e+00, 2.00000000e+00,\n",
       "       5.00000000e+00, 1.40000000e+01, 4.20000000e+01, 1.32000000e+02,\n",
       "       4.29000000e+02, 1.43000000e+03, 4.86200000e+03, 1.67960000e+04,\n",
       "       5.87860000e+04, 2.08012000e+05, 7.42900000e+05, 2.67444000e+06,\n",
       "       9.69484500e+06, 3.53576700e+07, 1.29644790e+08, 4.77638700e+08,\n",
       "       1.76726319e+09])"
      ]
     },
     "execution_count": 12,
     "metadata": {},
     "output_type": "execute_result"
    }
   ],
   "source": [
    "catalan(21)"
   ]
  },
  {
   "cell_type": "markdown",
   "metadata": {},
   "source": [
    "## Checking for Geometric Sequences"
   ]
  },
  {
   "cell_type": "code",
   "execution_count": 12,
   "metadata": {},
   "outputs": [],
   "source": [
    "def array_div(A): # input is 3d array\n",
    "    if len(A.shape) == 2:\n",
    "        orig_sqnc_len = A.shape[1]\n",
    "        \n",
    "        shift_1 = A[:,2::]\n",
    "        shift_2 = A[:,1:-1]\n",
    "        \n",
    "        div_array = np.divide(shift_1,shift_2, out=np.full_like(shift_1,np.nan), where=shift_2!=0)\n",
    "        \n",
    "        return div_array\n",
    "    \n",
    "    elif len(A.shape) == 3:\n",
    "        orig_sqnc_len = A.shape[2]\n",
    "\n",
    "        shift_1 = A[:,:,2::] # starts each sequence at their second index\n",
    "        shift_2 = A[:,:,1:-1] # then at their first index\n",
    "\n",
    "        div_array = np.divide(shift_1,shift_2, out=np.full_like(shift_1,np.nan), where=shift_2!=0)\n",
    "        # puts a zero wherever it had to divide by zero\n",
    "\n",
    "        return div_array\n",
    "    \n",
    "    elif len(A.shape) == 4:\n",
    "        orig_sqnc_len = A.shape[3]\n",
    "        \n",
    "        shift_1 = A[:,:,:,2::]\n",
    "        shift_2 = A[:,:,:,1:-1]\n",
    "        \n",
    "        div_array = np.divide(shift_1,shift_2, out=np.full_like(shift_1,np.nan), where=shift_2!=0)\n",
    "        \n",
    "        return div_array"
   ]
  },
  {
   "cell_type": "code",
   "execution_count": 13,
   "metadata": {},
   "outputs": [],
   "source": [
    "def geom_sqnc_check(A,a_min=0,b_min=0,c_min=0): # need those extra inputs to get the a and b values correct in the tuples\n",
    "    np.seterr(all=\"ignore\")\n",
    "   \n",
    "    quot_array = array_div(A)\n",
    "    \n",
    "    if len(A.shape) == 2:\n",
    "        bool_array = (np.abs(quot_array[:,:-1] - quot_array[:,1:]) < 1e-5).sum(axis=1) == (quot_array.shape[1]-1)\n",
    "        \n",
    "        a_coords = np.where(bool_array)[0]\n",
    "        length = len(a_coords)\n",
    "        coord_list = [(a_coords[n]+a_min,a_coords[n]) for n in range(length)]\n",
    "        \n",
    "        return coord_list\n",
    "    \n",
    "    elif len(A.shape) == 3:\n",
    "        bool_array = (np.abs(quot_array[:,:,:-1] - quot_array[:,:,1:]) < 1e-5).sum(axis=2) == (quot_array.shape[2]-1)\n",
    "\n",
    "        arrays = np.where(bool_array)\n",
    "        a_coords = arrays[0]\n",
    "        b_coords = arrays[1]\n",
    "        length = len(a_coords)\n",
    "        coord_list = [(a_coords[n]+a_min,b_coords[n]+b_min,a_coords[n],b_coords[n]) for n in range(length)]\n",
    "        # I wanted to include the indices as well so it's easier to find in the array\n",
    "\n",
    "        return coord_list\n",
    "    \n",
    "    elif len(A.shape) == 4:\n",
    "        bool_array = (np.abs(quot_array[:,:,:,:-1] - quot_array[:,:,:,1:]) < 1e-5).sum(axis=3) == (quot_array.shape[3]-1)\n",
    "        \n",
    "        arrays = np.where(bool_array)\n",
    "        a_coords = arrays[0]\n",
    "        b_coords = arrays[1]\n",
    "        c_coords = arrays[2]\n",
    "        length = len(a_coords)\n",
    "        coord_list = [(a_coords[n]+a_min,b_coords[n]+b_min,c_coords[n]+c_min) for n in range(length)]\n",
    "        # Just letting the tuple be (a,b,c) or else it'll get really cluttered\n",
    "        \n",
    "        return coord_list #implement scatter plot"
   ]
  },
  {
   "cell_type": "code",
   "execution_count": 15,
   "metadata": {},
   "outputs": [
    {
     "data": {
      "text/plain": [
       "[(-10, -10, 0, 0),\n",
       " (-9, -9, 1, 1),\n",
       " (-8, -8, 2, 2),\n",
       " (-7, -7, 3, 3),\n",
       " (-6, -6, 4, 4),\n",
       " (-5, -5, 5, 5),\n",
       " (-4, -4, 6, 6),\n",
       " (-3, -3, 7, 7),\n",
       " (-2, -2, 8, 8),\n",
       " (-1, -1, 9, 9),\n",
       " (1, 1, 11, 11),\n",
       " (2, 2, 12, 12),\n",
       " (3, 3, 13, 13),\n",
       " (4, 4, 14, 14),\n",
       " (5, 5, 15, 15),\n",
       " (6, 6, 16, 16),\n",
       " (7, 7, 17, 17),\n",
       " (8, 8, 18, 18),\n",
       " (9, 9, 19, 19),\n",
       " (10, 10, 20, 20)]"
      ]
     },
     "execution_count": 15,
     "metadata": {},
     "output_type": "execute_result"
    }
   ],
   "source": [
    "A = deg_2_sqnc(-10,10,-10,10,21)\n",
    "geom_sqnc_check(A,-10,-10,-10)"
   ]
  },
  {
   "cell_type": "code",
   "execution_count": 16,
   "metadata": {},
   "outputs": [
    {
     "data": {
      "text/plain": [
       "[0,\n",
       " Fraction(1, 1),\n",
       " Fraction(-4, 1),\n",
       " Fraction(16, 1),\n",
       " Fraction(-64, 1),\n",
       " Fraction(256, 1),\n",
       " Fraction(-1024, 1),\n",
       " Fraction(4096, 1),\n",
       " Fraction(-16384, 1),\n",
       " Fraction(65536, 1),\n",
       " Fraction(-262144, 1),\n",
       " Fraction(1048576, 1),\n",
       " Fraction(-4194304, 1),\n",
       " Fraction(16777216, 1),\n",
       " Fraction(-67108864, 1),\n",
       " Fraction(268435456, 1),\n",
       " Fraction(-1073741824, 1),\n",
       " Fraction(4294967296, 1),\n",
       " Fraction(-17179869184, 1),\n",
       " Fraction(68719476736, 1),\n",
       " Fraction(-274877906944, 1)]"
      ]
     },
     "execution_count": 16,
     "metadata": {},
     "output_type": "execute_result"
    }
   ],
   "source": [
    "deg_2_case(-8,-8,21)"
   ]
  },
  {
   "cell_type": "code",
   "execution_count": 41,
   "metadata": {},
   "outputs": [
    {
     "data": {
      "text/plain": [
       "array([ 0.00000000e+00,  1.00000000e+00, -3.00000000e+00,  8.50000000e+00,\n",
       "       -2.38750000e+01,  6.68512500e+01, -1.86919500e+02,  5.22238212e+02,\n",
       "       -1.45843584e+03,  4.07175839e+03, -1.13656297e+04,  3.17209924e+04,\n",
       "       -8.85233462e+04,  2.47023005e+05, -6.89275660e+05,  1.92322348e+06,\n",
       "       -5.36601289e+06,  1.49713759e+07, -4.17697587e+07,  1.16534407e+08,\n",
       "       -3.25116986e+08])"
      ]
     },
     "execution_count": 41,
     "metadata": {},
     "output_type": "execute_result"
    }
   ],
   "source": [
    "A[7,1]"
   ]
  },
  {
   "cell_type": "code",
   "execution_count": 42,
   "metadata": {},
   "outputs": [
    {
     "data": {
      "text/plain": [
       "array([[0.00000000e+00, 1.00000000e+00, 5.00000000e-01, 2.50000000e-01,\n",
       "        1.25000000e-01, 6.25000000e-02, 3.12500000e-02, 1.56250000e-02,\n",
       "        7.81250000e-03, 3.90625000e-03, 1.95312500e-03, 9.76562500e-04,\n",
       "        4.88281250e-04, 2.44140625e-04, 1.22070312e-04, 6.10351562e-05,\n",
       "        3.05175781e-05, 1.52587891e-05, 7.62939453e-06, 3.81469727e-06,\n",
       "        1.90734863e-06]])"
      ]
     },
     "execution_count": 42,
     "metadata": {},
     "output_type": "execute_result"
    }
   ],
   "source": [
    "deg_1_sqnc(1,1,21)"
   ]
  },
  {
   "cell_type": "code",
   "execution_count": 16,
   "metadata": {
    "scrolled": false
   },
   "outputs": [
    {
     "data": {
      "text/plain": [
       "array([[0., 1., 1., 1., 1., 1., 1., 1., 1., 1., 1., 1., 1., 1., 1., 1.,\n",
       "        1., 1., 1., 1., 1.]])"
      ]
     },
     "execution_count": 16,
     "metadata": {},
     "output_type": "execute_result"
    }
   ],
   "source": [
    "deg_1_sqnc(2,2,21)"
   ]
  },
  {
   "cell_type": "code",
   "execution_count": 20,
   "metadata": {},
   "outputs": [
    {
     "data": {
      "text/plain": [
       "array([[ 0,  1,  2,  3,  4,  5,  6,  7,  8,  9, 10, 11, 12, 13, 14, 15,\n",
       "        16, 17, 18, 19, 20]])"
      ]
     },
     "execution_count": 20,
     "metadata": {},
     "output_type": "execute_result"
    }
   ],
   "source": [
    "deg_1_array(1,1,21)"
   ]
  },
  {
   "cell_type": "code",
   "execution_count": 38,
   "metadata": {},
   "outputs": [
    {
     "data": {
      "text/plain": [
       "array([[336.5, 336.5, 336.5, 336.5, 336.5, 336.5, 336.5, 336.5, 336.5,\n",
       "        336.5, 336.5, 336.5, 336.5, 336.5, 336.5, 336.5, 336.5, 336.5,\n",
       "        336.5]])"
      ]
     },
     "execution_count": 38,
     "metadata": {},
     "output_type": "execute_result"
    }
   ],
   "source": [
    "array_div(deg_1_sqnc(673,673,21)) # a = 1000, b = -327"
   ]
  },
  {
   "cell_type": "markdown",
   "metadata": {},
   "source": [
    "It looks like the linear case *only* produces geometric sequences!"
   ]
  },
  {
   "cell_type": "code",
   "execution_count": 74,
   "metadata": {},
   "outputs": [
    {
     "data": {
      "text/plain": [
       "[(-10, -10, 0, 0),\n",
       " (-9, -9, 1, 1),\n",
       " (-8, -8, 2, 2),\n",
       " (-7, -7, 3, 3),\n",
       " (-6, -6, 4, 4),\n",
       " (-5, -5, 5, 5),\n",
       " (-4, -4, 6, 6),\n",
       " (-3, -3, 7, 7),\n",
       " (-2, -2, 8, 8),\n",
       " (-1, -1, 9, 9),\n",
       " (1, 1, 11, 11),\n",
       " (2, 2, 12, 12),\n",
       " (3, 3, 13, 13),\n",
       " (4, 4, 14, 14),\n",
       " (5, 5, 15, 15),\n",
       " (6, 6, 16, 16),\n",
       " (7, 7, 17, 17),\n",
       " (8, 8, 18, 18),\n",
       " (9, 9, 19, 19),\n",
       " (10, 10, 20, 20)]"
      ]
     },
     "execution_count": 74,
     "metadata": {},
     "output_type": "execute_result"
    }
   ],
   "source": [
    "geom_sqnc_check(deg_2_sqnc(-10,10,-10,10,21),-10,-10)"
   ]
  },
  {
   "cell_type": "code",
   "execution_count": 52,
   "metadata": {},
   "outputs": [
    {
     "data": {
      "text/plain": [
       "(21, 21, 21, 19)"
      ]
     },
     "execution_count": 52,
     "metadata": {},
     "output_type": "execute_result"
    }
   ],
   "source": [
    "array_div(deg_4_sqnc(-10,10,-10,10,-10,10,21)).shape"
   ]
  },
  {
   "cell_type": "code",
   "execution_count": 41,
   "metadata": {},
   "outputs": [
    {
     "data": {
      "text/plain": [
       "array([3., 3., 3., 3., 3., 3., 3., 3., 3., 3., 3., 3., 3., 3., 3., 3., 3.,\n",
       "       3., 3.])"
      ]
     },
     "execution_count": 41,
     "metadata": {},
     "output_type": "execute_result"
    }
   ],
   "source": [
    "array_div(deg_2_sqnc(-10,10,-10,10,21))[16,16]"
   ]
  },
  {
   "cell_type": "code",
   "execution_count": 42,
   "metadata": {},
   "outputs": [
    {
     "data": {
      "text/plain": [
       "array([ 0., nan, nan, nan, nan, nan, nan, nan, nan, nan, nan, nan, nan,\n",
       "       nan, nan, nan, nan, nan, nan])"
      ]
     },
     "execution_count": 42,
     "metadata": {},
     "output_type": "execute_result"
    }
   ],
   "source": [
    "array_div(deg_2_sqnc(-10,10,-10,10,21))[16,4]"
   ]
  },
  {
   "cell_type": "markdown",
   "metadata": {},
   "source": [
    "Looks like the quadratic function produces a geometric sequence for each ordered pair $(a,b) = (a,a)$ and sequences of zeros for $(a,b) = (a,-a)$, $a \\in \\mathbb{Z}$."
   ]
  },
  {
   "cell_type": "code",
   "execution_count": 43,
   "metadata": {},
   "outputs": [
    {
     "data": {
      "text/plain": [
       "[(-16, -48, 14, 2),\n",
       " (-15, -45, 15, 5),\n",
       " (-14, -42, 16, 8),\n",
       " (-13, -39, 17, 11),\n",
       " (-12, -36, 18, 14),\n",
       " (-11, -33, 19, 17),\n",
       " (-10, -30, 20, 20),\n",
       " (-9, -27, 21, 23),\n",
       " (-8, -24, 22, 26),\n",
       " (-7, -21, 23, 29),\n",
       " (-6, -18, 24, 32),\n",
       " (-5, -15, 25, 35),\n",
       " (-4, -12, 26, 38),\n",
       " (-3, -9, 27, 41),\n",
       " (-2, -6, 28, 44),\n",
       " (-1, -3, 29, 47),\n",
       " (1, 3, 31, 53),\n",
       " (2, 6, 32, 56),\n",
       " (3, 9, 33, 59),\n",
       " (4, 12, 34, 62),\n",
       " (5, 15, 35, 65),\n",
       " (6, 18, 36, 68),\n",
       " (7, 21, 37, 71),\n",
       " (8, 24, 38, 74),\n",
       " (9, 27, 39, 77),\n",
       " (10, 30, 40, 80),\n",
       " (11, 33, 41, 83),\n",
       " (12, 36, 42, 86),\n",
       " (13, 39, 43, 89),\n",
       " (14, 42, 44, 92),\n",
       " (15, 45, 45, 95),\n",
       " (16, 48, 46, 98)]"
      ]
     },
     "execution_count": 43,
     "metadata": {},
     "output_type": "execute_result"
    }
   ],
   "source": [
    "geom_sqnc_check(deg_3_sqnc(-30,30,-50,50,21),-30,-50)"
   ]
  },
  {
   "cell_type": "code",
   "execution_count": 44,
   "metadata": {},
   "outputs": [
    {
     "data": {
      "text/plain": [
       "array([[[ 0.,  1.,  3.,  4.,  7.,  6., 12.,  8., 15., 13., 18., 12.,\n",
       "         28., 14., 24., 24., 31., 18., 39., 20., 42.]]])"
      ]
     },
     "execution_count": 44,
     "metadata": {},
     "output_type": "execute_result"
    }
   ],
   "source": [
    "deg_3_sqnc(-24,-24,48,48,21) # finding our original sigma_n in the cubics"
   ]
  },
  {
   "cell_type": "markdown",
   "metadata": {},
   "source": [
    "## Some Ideas\n",
    "\n",
    "After finding a function that finds the geometric sequences, try dividing everything by sequences of catalan numbers or sequences of sums of factors, then put it through the function. This way we can pinpoint the combo-sequences."
   ]
  },
  {
   "cell_type": "markdown",
   "metadata": {},
   "source": [
    "### Finding Combo Sequences with $\\sigma_n$"
   ]
  },
  {
   "cell_type": "code",
   "execution_count": 18,
   "metadata": {},
   "outputs": [
    {
     "data": {
      "text/plain": [
       "[(-26, 39, 14, 79),\n",
       " (-24, 36, 16, 76),\n",
       " (-22, 33, 18, 73),\n",
       " (-20, 30, 20, 70),\n",
       " (-18, 27, 22, 67),\n",
       " (-16, 24, 24, 64),\n",
       " (-14, 21, 26, 61),\n",
       " (-12, 18, 28, 58),\n",
       " (-10, 15, 30, 55),\n",
       " (-8, 12, 32, 52),\n",
       " (-6, 9, 34, 49),\n",
       " (-4, 6, 36, 46),\n",
       " (-2, 3, 38, 43),\n",
       " (2, -3, 42, 37),\n",
       " (4, -6, 44, 34),\n",
       " (6, -9, 46, 31),\n",
       " (8, -12, 48, 28),\n",
       " (10, -15, 50, 25),\n",
       " (12, -18, 52, 22),\n",
       " (14, -21, 54, 19),\n",
       " (16, -24, 56, 16),\n",
       " (18, -27, 58, 13),\n",
       " (20, -30, 60, 10),\n",
       " (22, -33, 62, 7),\n",
       " (24, -36, 64, 4),\n",
       " (26, -39, 66, 1)]"
      ]
     },
     "execution_count": 18,
     "metadata": {},
     "output_type": "execute_result"
    }
   ],
   "source": [
    "divsigma = deg_2_sqnc(-40,40,-40,40,21)\n",
    "sigma = deg_2_sqnc(-24,-24,36,36,21)\n",
    "divsigma[:,:,1::] = divsigma[:,:,1::]/sigma[:,:,1::]\n",
    "\n",
    "geom_sqnc_check(divsigma,-40,-40)"
   ]
  },
  {
   "cell_type": "markdown",
   "metadata": {},
   "source": [
    "First look at possible combo-sequences:"
   ]
  },
  {
   "cell_type": "code",
   "execution_count": 20,
   "metadata": {},
   "outputs": [
    {
     "data": {
      "text/plain": [
       "array([0.91666667, 0.91666667, 0.91666667, 0.91666667, 0.91666667,\n",
       "       0.91666667, 0.91666667, 0.91666667, 0.91666667, 0.91666667,\n",
       "       0.91666667, 0.91666667, 0.91666667, 0.91666667, 0.91666667,\n",
       "       0.91666667, 0.91666667, 0.91666667, 0.91666667])"
      ]
     },
     "execution_count": 20,
     "metadata": {},
     "output_type": "execute_result"
    }
   ],
   "source": [
    "array_div(divsigma)[18,73] # a = -26, b = 39"
   ]
  },
  {
   "cell_type": "code",
   "execution_count": 19,
   "metadata": {},
   "outputs": [
    {
     "data": {
      "text/plain": [
       "array([0.        , 1.        , 1.08333333, 1.17361111, 1.27141204,\n",
       "       1.37736304, 1.49214329, 1.61648857, 1.75119595, 1.89712894,\n",
       "       2.05522302, 2.22649161, 2.41203258, 2.61303529, 2.83078823,\n",
       "       3.06668725, 3.32224452, 3.59909823, 3.89902308, 4.22394167,\n",
       "       4.57593681])"
      ]
     },
     "execution_count": 19,
     "metadata": {},
     "output_type": "execute_result"
    }
   ],
   "source": [
    "divsigma[14,79]"
   ]
  },
  {
   "cell_type": "markdown",
   "metadata": {},
   "source": [
    "Looks like $\\big\\{\\left(\\frac{13}{12}\\right)^n\\big\\}$ for $a = -26$ and $b = 39$. Now to look at the original sequence in that place:"
   ]
  },
  {
   "cell_type": "code",
   "execution_count": 47,
   "metadata": {},
   "outputs": [
    {
     "data": {
      "text/plain": [
       "array([  0.        ,   1.        ,   3.25      ,   4.69444444,\n",
       "         8.89988426,   8.26417824,  17.90571952,  12.93190854,\n",
       "        26.26793923,  24.66267628,  36.99401441,  26.7178993 ,\n",
       "        67.53691212,  36.58249406,  67.93891755,  73.60049401,\n",
       "       102.98958016,  64.78376816, 152.06190027,  84.47883348,\n",
       "       192.18934618])"
      ]
     },
     "execution_count": 47,
     "metadata": {},
     "output_type": "execute_result"
    }
   ],
   "source": [
    "deg_2_sqnc(-40,40,-40,40,21)[14,79]"
   ]
  },
  {
   "cell_type": "code",
   "execution_count": 48,
   "metadata": {
    "scrolled": true
   },
   "outputs": [
    {
     "data": {
      "text/plain": [
       "array([-1.5       , -0.66666667, -0.875     , -0.42857143, -1.        ,\n",
       "       -0.33333333, -0.9375    , -0.43333333, -0.69230769, -0.33333333,\n",
       "       -1.16666667, -0.25      , -0.85714286, -0.5       , -0.64583333,\n",
       "       -0.29032258, -1.08333333, -0.25641026, -1.05      ])"
      ]
     },
     "execution_count": 48,
     "metadata": {},
     "output_type": "execute_result"
    }
   ],
   "source": [
    "array_div(deg_2_sqnc(-40,40,-40,40,21))[52,22]"
   ]
  },
  {
   "cell_type": "code",
   "execution_count": 49,
   "metadata": {},
   "outputs": [
    {
     "data": {
      "text/plain": [
       "array([-0.5, -0.5, -0.5, -0.5, -0.5, -0.5, -0.5, -0.5, -0.5, -0.5, -0.5,\n",
       "       -0.5, -0.5, -0.5, -0.5, -0.5, -0.5, -0.5, -0.5])"
      ]
     },
     "execution_count": 49,
     "metadata": {},
     "output_type": "execute_result"
    }
   ],
   "source": [
    "array_div(divsigma)[52,22]"
   ]
  },
  {
   "cell_type": "markdown",
   "metadata": {},
   "source": [
    "Looks pretty evident that $a = 12$, $b = -18$ $\\Rightarrow$ $\\{-0.5^n\\}\\times\\sigma(n)$. Now to find some more:"
   ]
  },
  {
   "cell_type": "code",
   "execution_count": 50,
   "metadata": {},
   "outputs": [
    {
     "data": {
      "text/plain": [
       "array([0.75, 0.75, 0.75, 0.75, 0.75, 0.75, 0.75, 0.75, 0.75, 0.75, 0.75,\n",
       "       0.75, 0.75, 0.75, 0.75, 0.75, 0.75, 0.75, 0.75])"
      ]
     },
     "execution_count": 50,
     "metadata": {},
     "output_type": "execute_result"
    }
   ],
   "source": [
    "array_div(divsigma)[22,67]"
   ]
  },
  {
   "cell_type": "markdown",
   "metadata": {},
   "source": [
    "$a = -18$, $b = 27$ $\\Rightarrow$ $\\{0.75^n\\}\\times\\sigma(n)$."
   ]
  },
  {
   "cell_type": "code",
   "execution_count": 51,
   "metadata": {},
   "outputs": [
    {
     "data": {
      "text/plain": [
       "array([0.25, 0.25, 0.25, 0.25, 0.25, 0.25, 0.25, 0.25, 0.25, 0.25, 0.25,\n",
       "       0.25, 0.25, 0.25, 0.25, 0.25, 0.25, 0.25, 0.25])"
      ]
     },
     "execution_count": 51,
     "metadata": {},
     "output_type": "execute_result"
    }
   ],
   "source": [
    "array_div(divsigma)[34, 49]"
   ]
  },
  {
   "cell_type": "markdown",
   "metadata": {},
   "source": [
    "$a = -6, b = 9$ $\\Rightarrow$ $\\{0.25^n\\}\\times\\sigma(n)$"
   ]
  },
  {
   "cell_type": "code",
   "execution_count": 52,
   "metadata": {},
   "outputs": [
    {
     "data": {
      "text/plain": [
       "array([1., 1., 1., 1., 1., 1., 1., 1., 1., 1., 1., 1., 1., 1., 1., 1., 1.,\n",
       "       1., 1.])"
      ]
     },
     "execution_count": 52,
     "metadata": {},
     "output_type": "execute_result"
    }
   ],
   "source": [
    "array_div(divsigma)[16, 76] # this is just where sigma_n would be"
   ]
  },
  {
   "cell_type": "code",
   "execution_count": 53,
   "metadata": {},
   "outputs": [
    {
     "data": {
      "text/plain": [
       "array([0.08333333, 0.08333333, 0.08333333, 0.08333333, 0.08333333,\n",
       "       0.08333333, 0.08333333, 0.08333333, 0.08333333, 0.08333333,\n",
       "       0.08333333, 0.08333333, 0.08333333, 0.08333333, 0.08333333,\n",
       "       0.08333333, 0.08333333, 0.08333333, 0.08333333])"
      ]
     },
     "execution_count": 53,
     "metadata": {},
     "output_type": "execute_result"
    }
   ],
   "source": [
    "array_div(divsigma)[38,43] # 0.08333333... = 1/12"
   ]
  },
  {
   "cell_type": "markdown",
   "metadata": {},
   "source": [
    "$a = -2, \\ b = 3 \\ \\Rightarrow \\ \\big\\{\\left(\\frac{1}{12}\\right)^n\\big\\}\\times\\sigma(n)$. Didn't want to show up from the function because of floating point inconsistencies."
   ]
  },
  {
   "cell_type": "code",
   "execution_count": 54,
   "metadata": {},
   "outputs": [
    {
     "data": {
      "text/plain": [
       "array([0.5, 0.5, 0.5, 0.5, 0.5, 0.5, 0.5, 0.5, 0.5, 0.5, 0.5, 0.5, 0.5,\n",
       "       0.5, 0.5, 0.5, 0.5, 0.5, 0.5])"
      ]
     },
     "execution_count": 54,
     "metadata": {},
     "output_type": "execute_result"
    }
   ],
   "source": [
    "array_div(divsigma)[28,58]"
   ]
  },
  {
   "cell_type": "markdown",
   "metadata": {},
   "source": [
    "$a = -12$, $b = 18$ $\\Rightarrow$ $\\{0.5^n\\}\\times\\sigma(n)$"
   ]
  },
  {
   "cell_type": "code",
   "execution_count": 55,
   "metadata": {},
   "outputs": [
    {
     "data": {
      "text/plain": [
       "array([-0.75, -0.75, -0.75, -0.75, -0.75, -0.75, -0.75, -0.75, -0.75,\n",
       "       -0.75, -0.75, -0.75, -0.75, -0.75, -0.75, -0.75, -0.75, -0.75,\n",
       "       -0.75])"
      ]
     },
     "execution_count": 55,
     "metadata": {},
     "output_type": "execute_result"
    }
   ],
   "source": [
    "array_div(divsigma)[58,13]"
   ]
  },
  {
   "cell_type": "markdown",
   "metadata": {},
   "source": [
    "$a = 18$, $b = -27$ $\\Rightarrow$ $\\{-0.75^n\\}\\times\\sigma(n)$."
   ]
  },
  {
   "cell_type": "code",
   "execution_count": 56,
   "metadata": {},
   "outputs": [
    {
     "data": {
      "text/plain": [
       "array([0.16666667, 0.16666667, 0.16666667, 0.16666667, 0.16666667,\n",
       "       0.16666667, 0.16666667, 0.16666667, 0.16666667, 0.16666667,\n",
       "       0.16666667, 0.16666667, 0.16666667, 0.16666667, 0.16666667,\n",
       "       0.16666667, 0.16666667, 0.16666667, 0.16666667])"
      ]
     },
     "execution_count": 56,
     "metadata": {},
     "output_type": "execute_result"
    }
   ],
   "source": [
    "array_div(divsigma)[36,46] # 0.166666... = 1/6"
   ]
  },
  {
   "cell_type": "markdown",
   "metadata": {},
   "source": [
    "$a = -4, \\ b = 6 \\ \\Rightarrow \\big\\{\\left(\\frac{1}{6}\\right)^n\\big\\}\\times\\sigma(n)$"
   ]
  },
  {
   "cell_type": "markdown",
   "metadata": {},
   "source": [
    "What I'm seeing is that, for $\\tau(n) = \\frac{1}{n^2(n-1)}\\sum_{u+v=n}(au^2+buv)\\tau(u)\\tau(v)$, $(a,b)=(a,a)$ produces a geometric sequence $\\{\\rho^n\\}$ for $\\rho \\in \\mathbb{Q}$, $(a,b) = (-24,36)$ produces $\\sigma(n)$, and $(a,b) = (-2k,3k)$ for $k \\in \\mathbb{Z}$ produces some sequence $\\big\\{\\left(\\frac{k}{12}\\right)^{n-1}\\big\\}\\times\\sigma(n)$. The next step would be to connect $a$ and $\\rho$ as well as $k$ and $\\rho$."
   ]
  },
  {
   "cell_type": "markdown",
   "metadata": {},
   "source": [
    "# Next Stuff\n",
    "\n",
    "Play with other denominators, like $\\frac{1}{n^3}$ or $\\frac{1}{n(n-1)(n-2)}$. Also extend search to higher degree polynomials - quartics, quintics, etc. Put together a function that checks for sequences of integers."
   ]
  },
  {
   "cell_type": "markdown",
   "metadata": {},
   "source": [
    "### Integer Sequence Checker"
   ]
  },
  {
   "cell_type": "code",
   "execution_count": 14,
   "metadata": {},
   "outputs": [],
   "source": [
    "def int_sqnc_check(A,a_min=0,b_min=0,c_min=0):\n",
    "    if len(A.shape) == 2:\n",
    "        bool_array = (np.abs(A - np.around(A)) < 1e-5).sum(axis=1) == (A.shape[1])\n",
    "\n",
    "        a_coords = np.where(bool_array)[0]\n",
    "        length = len(a_coords)\n",
    "        coord_list = [(a_coords[n]+a_min,a_coords[n]) for n in range(length)]\n",
    "\n",
    "        return coord_list\n",
    "    \n",
    "    elif len(A.shape) == 3:\n",
    "        bool_array = (np.abs(A - np.around(A)) < 1e-5).sum(axis=2) == (A.shape[2])\n",
    "\n",
    "        arrays = np.where(bool_array)\n",
    "        a_coords = arrays[0]\n",
    "        b_coords = arrays[1]\n",
    "        length = len(a_coords)\n",
    "        coord_list = [(a_coords[n]+a_min,b_coords[n]+b_min,a_coords[n],b_coords[n]) for n in range(length)]\n",
    "\n",
    "        return coord_list\n",
    "    \n",
    "    elif len(A.shape) == 4:\n",
    "        bool_array = (np.abs(A - np.around(A)) < 1e-5).sum(axis=3) == (A.shape[3])\n",
    "\n",
    "        arrays = np.where(bool_array)\n",
    "        a_coords = arrays[0]\n",
    "        b_coords = arrays[1]\n",
    "        c_coords = arrays[2]\n",
    "        length = len(a_coords)\n",
    "        coord_list = [(a_coords[n]+a_min,b_coords[n]+b_min,c_coords[n]+c_min) for n in range(length)]\n",
    "\n",
    "        return coord_list"
   ]
  },
  {
   "cell_type": "markdown",
   "metadata": {},
   "source": [
    "### Sifting through cases of $\\frac{1}{n^2(an+b)}$\n",
    "\n",
    "Below are some alterations to that term of the function. We use these to check for some possible interesting sequences of integers."
   ]
  },
  {
   "cell_type": "code",
   "execution_count": 20,
   "metadata": {},
   "outputs": [],
   "source": [
    "def weird_deg_2(a_min,a_max,b_min,b_max,seq_length):\n",
    "    a_len = a_max+1 - a_min\n",
    "    b_len = b_max+1 - b_min\n",
    "    \n",
    "    coeff_array = deg_2_array(a_min,a_max,b_min,b_max,seq_length)\n",
    "    seq = np.zeros(seq_length)\n",
    "    seq[1] = 1\n",
    "    seq_array = np.broadcast_to(seq, (a_len,b_len,seq_length)).copy()\n",
    "    \n",
    "    flipped_array = coeff_array[:,:,::-1,:]\n",
    "    for n in range(2,seq_length):\n",
    "        diag = np.diagonal(flipped_array, -seq_length+n+1, axis1 = 2, axis2 = 3)[:,:,1:n]\n",
    "        vec_A = diag*seq_array[:,:,1:n]\n",
    "        vec_B = seq_array[:,:,n-1:0:-1]\n",
    "        seq_array[:,:,n] = (1/((n**2)*(n-1)*(n+1)))*np.sum(vec_A*vec_B,axis=2)\n",
    "\n",
    "    return seq_array"
   ]
  },
  {
   "cell_type": "code",
   "execution_count": 21,
   "metadata": {
    "scrolled": true
   },
   "outputs": [
    {
     "data": {
      "text/plain": [
       "[(-50, 50, 0, 100),\n",
       " (-49, 49, 1, 99),\n",
       " (-48, -48, 2, 2),\n",
       " (-48, 48, 2, 98),\n",
       " (-47, 47, 3, 97),\n",
       " (-46, 46, 4, 96),\n",
       " (-45, 45, 5, 95),\n",
       " (-44, 44, 6, 94),\n",
       " (-43, 43, 7, 93),\n",
       " (-42, 42, 8, 92),\n",
       " (-41, 41, 9, 91),\n",
       " (-40, 40, 10, 90),\n",
       " (-39, 39, 11, 89),\n",
       " (-38, 38, 12, 88),\n",
       " (-37, 37, 13, 87),\n",
       " (-36, -36, 14, 14),\n",
       " (-36, 36, 14, 86),\n",
       " (-35, 35, 15, 85),\n",
       " (-34, 34, 16, 84),\n",
       " (-33, 33, 17, 83),\n",
       " (-32, 32, 18, 82),\n",
       " (-31, 31, 19, 81),\n",
       " (-30, 30, 20, 80),\n",
       " (-29, 29, 21, 79),\n",
       " (-28, 28, 22, 78),\n",
       " (-27, 27, 23, 77),\n",
       " (-26, 26, 24, 76),\n",
       " (-25, 25, 25, 75),\n",
       " (-24, -24, 26, 26),\n",
       " (-24, 24, 26, 74),\n",
       " (-23, 23, 27, 73),\n",
       " (-22, 22, 28, 72),\n",
       " (-21, 21, 29, 71),\n",
       " (-20, 20, 30, 70),\n",
       " (-19, 19, 31, 69),\n",
       " (-18, 18, 32, 68),\n",
       " (-17, 17, 33, 67),\n",
       " (-16, 16, 34, 66),\n",
       " (-15, 15, 35, 65),\n",
       " (-14, 14, 36, 64),\n",
       " (-13, 13, 37, 63),\n",
       " (-12, -12, 38, 38),\n",
       " (-12, 12, 38, 62),\n",
       " (-11, 11, 39, 61),\n",
       " (-10, 10, 40, 60),\n",
       " (-9, 9, 41, 59),\n",
       " (-8, 8, 42, 58),\n",
       " (-7, 7, 43, 57),\n",
       " (-6, 6, 44, 56),\n",
       " (-5, 5, 45, 55),\n",
       " (-4, 4, 46, 54),\n",
       " (-3, 3, 47, 53),\n",
       " (-2, 2, 48, 52),\n",
       " (-1, 1, 49, 51),\n",
       " (0, 0, 50, 50),\n",
       " (1, -1, 51, 49),\n",
       " (2, -2, 52, 48),\n",
       " (3, -3, 53, 47),\n",
       " (4, -4, 54, 46),\n",
       " (5, -5, 55, 45),\n",
       " (6, -6, 56, 44),\n",
       " (7, -7, 57, 43),\n",
       " (8, -8, 58, 42),\n",
       " (9, -9, 59, 41),\n",
       " (10, -10, 60, 40),\n",
       " (11, -11, 61, 39),\n",
       " (12, -12, 62, 38),\n",
       " (12, 12, 62, 62),\n",
       " (13, -13, 63, 37),\n",
       " (14, -14, 64, 36),\n",
       " (15, -15, 65, 35),\n",
       " (16, -16, 66, 34),\n",
       " (17, -17, 67, 33),\n",
       " (18, -18, 68, 32),\n",
       " (19, -19, 69, 31),\n",
       " (20, -20, 70, 30),\n",
       " (21, -21, 71, 29),\n",
       " (22, -22, 72, 28),\n",
       " (23, -23, 73, 27),\n",
       " (24, -24, 74, 26),\n",
       " (24, 24, 74, 74),\n",
       " (25, -25, 75, 25),\n",
       " (26, -26, 76, 24),\n",
       " (27, -27, 77, 23),\n",
       " (28, -28, 78, 22),\n",
       " (29, -29, 79, 21),\n",
       " (30, -30, 80, 20),\n",
       " (31, -31, 81, 19),\n",
       " (32, -32, 82, 18),\n",
       " (33, -33, 83, 17),\n",
       " (34, -34, 84, 16),\n",
       " (35, -35, 85, 15),\n",
       " (36, -36, 86, 14),\n",
       " (36, 36, 86, 86),\n",
       " (37, -37, 87, 13),\n",
       " (38, -38, 88, 12),\n",
       " (39, -39, 89, 11),\n",
       " (40, -40, 90, 10),\n",
       " (41, -41, 91, 9),\n",
       " (42, -42, 92, 8),\n",
       " (43, -43, 93, 7),\n",
       " (44, -44, 94, 6),\n",
       " (45, -45, 95, 5),\n",
       " (46, -46, 96, 4),\n",
       " (47, -47, 97, 3),\n",
       " (48, -48, 98, 2),\n",
       " (48, 48, 98, 98),\n",
       " (49, -49, 99, 1),\n",
       " (50, -50, 100, 0)]"
      ]
     },
     "execution_count": 21,
     "metadata": {},
     "output_type": "execute_result"
    }
   ],
   "source": [
    "B = weird_deg_2(-50,50,-50,50,21)\n",
    "int_sqnc_check(B,-50,-50)"
   ]
  },
  {
   "cell_type": "code",
   "execution_count": 169,
   "metadata": {},
   "outputs": [
    {
     "data": {
      "text/plain": [
       "array([ 0.00000000e+00,  1.00000000e+00, -8.00000000e+00,  4.80000000e+01,\n",
       "       -2.56000000e+02,  1.28000000e+03, -6.14400000e+03,  2.86720000e+04,\n",
       "       -1.31072000e+05,  5.89824000e+05, -2.62144000e+06,  1.15343360e+07,\n",
       "       -5.03316480e+07,  2.18103808e+08, -9.39524096e+08,  4.02653184e+09,\n",
       "       -1.71798692e+10,  7.30144440e+10, -3.09237645e+11,  1.30567006e+12,\n",
       "       -5.49755814e+12])"
      ]
     },
     "execution_count": 169,
     "metadata": {},
     "output_type": "execute_result"
    }
   ],
   "source": [
    "B[2,2]"
   ]
  },
  {
   "cell_type": "markdown",
   "metadata": {},
   "source": [
    "Alright! So, to start off, we have an interesting sequence where $a = -48$ and $b = -48$. We get:\n",
    "$$\n",
    "\\{\\tau(n)\\} = \\{1,-8,48,-256,1280,6144,...\\}\n",
    "$$"
   ]
  },
  {
   "cell_type": "code",
   "execution_count": 170,
   "metadata": {},
   "outputs": [
    {
     "data": {
      "text/plain": [
       "array([0.000000e+00, 1.000000e+00, 4.000000e+00, 1.200000e+01,\n",
       "       3.200000e+01, 8.000000e+01, 1.920000e+02, 4.480000e+02,\n",
       "       1.024000e+03, 2.304000e+03, 5.120000e+03, 1.126400e+04,\n",
       "       2.457600e+04, 5.324800e+04, 1.146880e+05, 2.457600e+05,\n",
       "       5.242880e+05, 1.114112e+06, 2.359296e+06, 4.980736e+06,\n",
       "       1.048576e+07])"
      ]
     },
     "execution_count": 170,
     "metadata": {},
     "output_type": "execute_result"
    }
   ],
   "source": [
    "B[74,74]"
   ]
  },
  {
   "cell_type": "markdown",
   "metadata": {},
   "source": [
    "Another one for $(24,24)$:\n",
    "$$\n",
    "\\{\\tau(n)\\} = \\{1,4,12,32,80,192,448,...\\}\n",
    "$$\n",
    "which should be a familiar sequence:\n",
    "$$\n",
    "\\{\\tau(n)\\} = \\{n2^{n-1}\\}\n",
    "$$"
   ]
  },
  {
   "cell_type": "code",
   "execution_count": 171,
   "metadata": {},
   "outputs": [
    {
     "data": {
      "text/plain": [
       "array([ 0.,  1.,  2.,  3.,  4.,  5.,  6.,  7.,  8.,  9., 10., 11., 12.,\n",
       "       13., 14., 15., 16., 17., 18., 19., 20.])"
      ]
     },
     "execution_count": 171,
     "metadata": {},
     "output_type": "execute_result"
    }
   ],
   "source": [
    "B[62,62]"
   ]
  },
  {
   "cell_type": "markdown",
   "metadata": {},
   "source": [
    "This just gives us the natural numbers. Maybe we have $\\{\\tau(n)\\} = \\{n1^{n-1}\\}$."
   ]
  },
  {
   "cell_type": "code",
   "execution_count": 172,
   "metadata": {},
   "outputs": [
    {
     "data": {
      "text/plain": [
       "array([0.00000000e+00, 1.00000000e+00, 6.00000000e+00, 2.70000000e+01,\n",
       "       1.08000000e+02, 4.05000000e+02, 1.45800000e+03, 5.10300000e+03,\n",
       "       1.74960000e+04, 5.90490000e+04, 1.96830000e+05, 6.49539000e+05,\n",
       "       2.12576400e+06, 6.90873300e+06, 2.23205220e+07, 7.17445350e+07,\n",
       "       2.29582512e+08, 7.31794257e+08, 2.32452293e+09, 7.36098929e+09,\n",
       "       2.32452293e+10])"
      ]
     },
     "execution_count": 172,
     "metadata": {},
     "output_type": "execute_result"
    }
   ],
   "source": [
    "B[86,86]"
   ]
  },
  {
   "cell_type": "markdown",
   "metadata": {},
   "source": [
    "$(36,36)$ gives $\\{\\tau(n)\\} = \\{n3^{n-1}\\}.$\n",
    "\n",
    "__Idea__: Let $\\tau(n) = \\frac{1}{n^2(n-1)(n+1)}\\sum_{u+v=n}(au^2 +buv)\\tau(u)\\tau(v)$ be the $n^{th}$ term in a sequence. If $(a,b) = (12k,12k)$ for $k \\in \\mathbb{Z}$, then $\\{\\tau(n)\\} = \\{nk^{n-1}\\}.$"
   ]
  },
  {
   "cell_type": "code",
   "execution_count": 175,
   "metadata": {},
   "outputs": [
    {
     "data": {
      "text/plain": [
       "[(-5, -5, 0, 0),\n",
       " (-4, -4, 1, 1),\n",
       " (-3, -3, 2, 2),\n",
       " (-2, -2, 3, 3),\n",
       " (-1, -1, 4, 4),\n",
       " (1, 1, 6, 6),\n",
       " (2, 2, 7, 7),\n",
       " (3, 3, 8, 8),\n",
       " (4, 4, 9, 9),\n",
       " (5, 5, 10, 10)]"
      ]
     },
     "execution_count": 175,
     "metadata": {},
     "output_type": "execute_result"
    }
   ],
   "source": [
    "test_array1 = deg_2_sqnc(-5,5,-5,5,21)\n",
    "geom_sqnc_check(test_array1,-5,-5)"
   ]
  },
  {
   "cell_type": "code",
   "execution_count": 221,
   "metadata": {},
   "outputs": [
    {
     "data": {
      "text/plain": [
       "(-9, -9, 1, 1)"
      ]
     },
     "execution_count": 221,
     "metadata": {},
     "output_type": "execute_result"
    }
   ],
   "source": [
    "test_array2 = deg_2_sqnc(-10,10,-10,10,21,2,-2)\n",
    "thing = geom_sqnc_check(test_array2,-10,-10)\n",
    "thing[1]"
   ]
  },
  {
   "cell_type": "code",
   "execution_count": 193,
   "metadata": {},
   "outputs": [
    {
     "data": {
      "text/plain": [
       "array([0.00000000e+00, 1.00000000e+00, 1.75000000e+00, 3.06250000e+00,\n",
       "       5.35937500e+00, 9.37890625e+00, 1.64130859e+01, 2.87229004e+01,\n",
       "       5.02650757e+01, 8.79638824e+01, 1.53936794e+02, 2.69389390e+02,\n",
       "       4.71431432e+02, 8.25005007e+02, 1.44375876e+03, 2.52657783e+03,\n",
       "       4.42151121e+03, 7.73764462e+03, 1.35408781e+04, 2.36965366e+04,\n",
       "       4.14689391e+04])"
      ]
     },
     "execution_count": 193,
     "metadata": {},
     "output_type": "execute_result"
    }
   ],
   "source": [
    "test_array2[17,17]"
   ]
  },
  {
   "cell_type": "code",
   "execution_count": 172,
   "metadata": {},
   "outputs": [
    {
     "data": {
      "image/png": "[encoded data removed]",
      "text/plain": [
       "<Figure size 432x432 with 1 Axes>"
      ]
     },
     "metadata": {
      "needs_background": "light"
     },
     "output_type": "display_data"
    }
   ],
   "source": [
    "c_range = list(range(-20,20))\n",
    "c_range.remove(0)\n",
    "d_range = c_range\n",
    "\n",
    "coords = []\n",
    "\n",
    "for c in c_range:\n",
    "    for d in d_range:\n",
    "        if d%c == 0 and abs(c)<abs(d):\n",
    "            continue\n",
    "        array = deg_1_sqnc(-20,20,21,c,d)\n",
    "        test = int_sqnc_check(array)\n",
    "        if len(test) > 1:\n",
    "            coords.append((c,d))\n",
    "            \n",
    "c_coords = [coord[0] for coord in coords]\n",
    "d_coords = [coord[1] for coord in coords]\n",
    "\n",
    "plt.figure(figsize = (6,6))\n",
    "plt.scatter(c_coords,d_coords, c = 'purple')\n",
    "plt.title('$(a,b)$ that produce integer sequences')\n",
    "plt.xlabel('$c$')\n",
    "plt.ylabel('$d$')\n",
    "plt.grid()\n",
    "plt.show()"
   ]
  },
  {
   "cell_type": "code",
   "execution_count": 176,
   "metadata": {},
   "outputs": [
    {
     "data": {
      "text/plain": [
       "[(4, 4), (12, 12), (20, 20), (28, 28), (36, 36)]"
      ]
     },
     "execution_count": 176,
     "metadata": {},
     "output_type": "execute_result"
    }
   ],
   "source": [
    "int_sqnc_check(deg_1_sqnc(-20,20,21,4,-4))"
   ]
  },
  {
   "cell_type": "code",
   "execution_count": 179,
   "metadata": {},
   "outputs": [
    {
     "data": {
      "text/plain": [
       "[0,\n",
       " Fraction(1, 1),\n",
       " Fraction(2, 1),\n",
       " Fraction(4, 1),\n",
       " Fraction(8, 1),\n",
       " Fraction(16, 1),\n",
       " Fraction(32, 1),\n",
       " Fraction(64, 1),\n",
       " Fraction(128, 1),\n",
       " Fraction(256, 1),\n",
       " Fraction(512, 1),\n",
       " Fraction(1024, 1),\n",
       " Fraction(2048, 1),\n",
       " Fraction(4096, 1),\n",
       " Fraction(8192, 1),\n",
       " Fraction(16384, 1),\n",
       " Fraction(32768, 1),\n",
       " Fraction(65536, 1),\n",
       " Fraction(131072, 1),\n",
       " Fraction(262144, 1),\n",
       " Fraction(524288, 1)]"
      ]
     },
     "execution_count": 179,
     "metadata": {},
     "output_type": "execute_result"
    }
   ],
   "source": [
    "deg_1_case(16,21,4,-4)"
   ]
  },
  {
   "cell_type": "markdown",
   "metadata": {},
   "source": [
    "## From Here\n",
    "\n",
    "Gotta implement some scatter plots, and arrange by color for geometric sequences, geometric sequences times $\\sigma(n)$, wild sequences. This can be done by overlaying plots.\n",
    "\n",
    "It's worth noting the pairs $(a,b)$ that give us sequences of zeros. When we have $(a,b) = (a,-a)$, and we define our sequence by\n",
    "$$\n",
    "\\tau(n) = \\frac{1}{n^p(xn+y)}\\sum_{u+v=n}(au^2+buv)\\tau(u)\\tau(v),\n",
    "$$\n",
    "with our first term $\\tau(1) = 1$, we find that\n",
    "$$\n",
    "\\tau(2) = (a(1^2) - a(1)(1))\\tau(1)\\tau(1) = a-a = 0.\n",
    "$$\n",
    "Then, since every following term calls on $\\tau(k)$ with $k \\geq 2$, every term must be 0. Therefore, any quadratic/cubic touchard recurrence with $(a,b) = (a,-a)$ must produce a sequence of the form $\\{1,0,0,0,\\dots\\}$. This can be extended to higher-degree cases as well."
   ]
  },
  {
   "cell_type": "code",
   "execution_count": 353,
   "metadata": {
    "scrolled": false
   },
   "outputs": [
    {
     "data": {
      "image/png": "[encoded data removed]",
      "text/plain": [
       "<Figure size 432x432 with 1 Axes>"
      ]
     },
     "metadata": {
      "needs_background": "light"
     },
     "output_type": "display_data"
    }
   ],
   "source": [
    "A = deg_2_sqnc(-100,100,-100,100,21)\n",
    "combo = A/(deg_2_sqnc(-24,-24,36,36,21))\n",
    "geom_coords = geom_sqnc_check(A,-100,-100)\n",
    "int_coords = int_sqnc_check(A,-100,-100)\n",
    "combo_coords = geom_sqnc_check(combo,-100,-100)\n",
    "\n",
    "geoma_coords = [coords[0] for coords in geom_coords]\n",
    "geomb_coords = [coords[1] for coords in geom_coords]\n",
    "\n",
    "inta_coords = [coords[0] for coords in int_coords]\n",
    "intb_coords = [coords[1] for coords in int_coords]\n",
    "\n",
    "comboa_coords = [coords[0] for coords in combo_coords]\n",
    "combob_coords = [coords[1] for coords in combo_coords]\n",
    "\n",
    "plt.figure(figsize = (6,6))\n",
    "plt.scatter(geoma_coords,geomb_coords, c = 'red', alpha=.5, label = 'Geometric Sequences')\n",
    "plt.scatter(inta_coords,intb_coords, c = 'blue', alpha=.5, label = 'Integer Sequences')\n",
    "plt.scatter(comboa_coords,combob_coords, c = 'green', alpha=.5, label = 'Combination Sequences')\n",
    "plt.title('Quadratic Touchard Recurrences')\n",
    "plt.grid()\n",
    "plt.xlabel('$a$')\n",
    "plt.ylabel('$b$')\n",
    "plt.legend()\n",
    "plt.show()"
   ]
  },
  {
   "cell_type": "code",
   "execution_count": 333,
   "metadata": {},
   "outputs": [
    {
     "data": {
      "text/plain": [
       "array([ 0.00000000e+00,  1.00000000e+00, -4.00000000e+00,  1.60000000e+01,\n",
       "       -6.40000000e+01,  2.56000000e+02, -1.02400000e+03,  4.09600000e+03,\n",
       "       -1.63840000e+04,  6.55360000e+04, -2.62144000e+05,  1.04857600e+06,\n",
       "       -4.19430400e+06,  1.67772160e+07, -6.71088640e+07,  2.68435456e+08,\n",
       "       -1.07374182e+09,  4.29496730e+09, -1.71798692e+10,  6.87194767e+10,\n",
       "       -2.74877907e+11])"
      ]
     },
     "execution_count": 333,
     "metadata": {},
     "output_type": "execute_result"
    }
   ],
   "source": [
    "A[140,140]"
   ]
  },
  {
   "cell_type": "code",
   "execution_count": 56,
   "metadata": {},
   "outputs": [
    {
     "data": {
      "text/plain": [
       "[(-100, -100, 0, 0),\n",
       " (-98, -98, 2, 2),\n",
       " (-96, -96, 4, 4),\n",
       " (-92, -92, 8, 8),\n",
       " (-88, -88, 12, 12),\n",
       " (-84, -84, 16, 16),\n",
       " (-80, -80, 20, 20),\n",
       " (-78, -78, 22, 22),\n",
       " (-76, -76, 24, 24),\n",
       " (-72, -72, 28, 28),\n",
       " (-70, -70, 30, 30),\n",
       " (-68, -68, 32, 32),\n",
       " (-64, -64, 36, 36),\n",
       " (-60, -60, 40, 40),\n",
       " (-56, -56, 44, 44),\n",
       " (-54, -54, 46, 46),\n",
       " (-44, -44, 56, 56),\n",
       " (-32, -32, 68, 68),\n",
       " (-16, -16, 84, 84),\n",
       " (-12, -12, 88, 88),\n",
       " (-8, -8, 92, 92),\n",
       " (-6, -6, 94, 94),\n",
       " (-4, -4, 96, 96),\n",
       " (-2, -2, 98, 98),\n",
       " (0, 0, 100, 100),\n",
       " (2, 2, 102, 102),\n",
       " (4, 4, 104, 104),\n",
       " (6, 6, 106, 106),\n",
       " (8, 8, 108, 108),\n",
       " (12, 12, 112, 112),\n",
       " (16, 16, 116, 116),\n",
       " (32, 32, 132, 132),\n",
       " (44, 44, 144, 144),\n",
       " (54, 54, 154, 154),\n",
       " (56, 56, 156, 156),\n",
       " (60, 60, 160, 160),\n",
       " (64, 64, 164, 164),\n",
       " (68, 68, 168, 168),\n",
       " (70, 70, 170, 170),\n",
       " (72, 72, 172, 172),\n",
       " (76, 76, 176, 176),\n",
       " (78, 78, 178, 178),\n",
       " (80, 80, 180, 180),\n",
       " (84, 84, 184, 184),\n",
       " (88, 88, 188, 188),\n",
       " (92, 92, 192, 192),\n",
       " (96, 96, 196, 196),\n",
       " (98, 98, 198, 198),\n",
       " (100, 100, 200, 200)]"
      ]
     },
     "execution_count": 56,
     "metadata": {},
     "output_type": "execute_result"
    }
   ],
   "source": [
    "nice_list = []\n",
    "for n in range(len(int_coords)):\n",
    "    coord = int_coords[n]\n",
    "    if coord[0] == coord[1]:\n",
    "        nice_list.append(coord)\n",
    "        \n",
    "nice_list"
   ]
  },
  {
   "cell_type": "markdown",
   "metadata": {},
   "source": [
    "I wanted to get a better look at what's going on with the nonzero integer sequences. The coordinates seemed to spread out and then cluster at points"
   ]
  },
  {
   "cell_type": "code",
   "execution_count": 216,
   "metadata": {
    "scrolled": false
   },
   "outputs": [
    {
     "data": {
      "image/png": "[encoded data removed]",
      "text/plain": [
       "<Figure size 432x432 with 1 Axes>"
      ]
     },
     "metadata": {
      "needs_background": "light"
     },
     "output_type": "display_data"
    }
   ],
   "source": [
    "A = deg_3_sqnc(-100,100,-100,100,21)\n",
    "combo = A/(deg_2_sqnc(-24,-24,36,36,21))\n",
    "geom_coords = geom_sqnc_check(A,-100,-100)\n",
    "int_coords = int_sqnc_check(A,-100,-100)\n",
    "combo_coords = geom_sqnc_check(combo,-100,-100)\n",
    "\n",
    "geoma_coords = [coords[0] for coords in geom_coords]\n",
    "geomb_coords = [coords[1] for coords in geom_coords]\n",
    "\n",
    "inta_coords = [coords[0] for coords in int_coords]\n",
    "intb_coords = [coords[1] for coords in int_coords]\n",
    "\n",
    "comboa_coords = [coords[0] for coords in combo_coords]\n",
    "combob_coords = [coords[1] for coords in combo_coords]\n",
    "\n",
    "plt.figure(figsize = (6,6))\n",
    "plt.scatter(geoma_coords,geomb_coords, c = 'red', alpha=.5, label = 'Geometric Sequences')\n",
    "plt.scatter(inta_coords,intb_coords, c = 'blue', alpha=.5, label = 'Integer Sequences')\n",
    "plt.scatter(comboa_coords,combob_coords, c = 'green', alpha=.5, label = 'Combination Sequences')\n",
    "plt.grid()\n",
    "plt.xlabel('a')\n",
    "plt.ylabel('b')\n",
    "plt.legend()\n",
    "plt.show()"
   ]
  },
  {
   "cell_type": "code",
   "execution_count": 61,
   "metadata": {
    "scrolled": false
   },
   "outputs": [
    {
     "data": {
      "application/javascript": [
       "/* Put everything inside the global mpl namespace */\n",
       "window.mpl = {};\n",
       "\n",
       "\n",
       "mpl.get_websocket_type = function() {\n",
       "    if (typeof(WebSocket) !== 'undefined') {\n",
       "        return WebSocket;\n",
       "    } else if (typeof(MozWebSocket) !== 'undefined') {\n",
       "        return MozWebSocket;\n",
       "    } else {\n",
       "        alert('Your browser does not have WebSocket support. ' +\n",
       "              'Please try Chrome, Safari or Firefox ≥ 6. ' +\n",
       "              'Firefox 4 and 5 are also supported but you ' +\n",
       "              'have to enable WebSockets in about:config.');\n",
       "    };\n",
       "}\n",
       "\n",
       "mpl.figure = function(figure_id, websocket, ondownload, parent_element) {\n",
       "    this.id = figure_id;\n",
       "\n",
       "    this.ws = websocket;\n",
       "\n",
       "    this.supports_binary = (this.ws.binaryType != undefined);\n",
       "\n",
       "    if (!this.supports_binary) {\n",
       "        var warnings = document.getElementById(\"mpl-warnings\");\n",
       "        if (warnings) {\n",
       "            warnings.style.display = 'block';\n",
       "            warnings.textContent = (\n",
       "                \"This browser does not support binary websocket messages. \" +\n",
       "                    \"Performance may be slow.\");\n",
       "        }\n",
       "    }\n",
       "\n",
       "    this.imageObj = new Image();\n",
       "\n",
       "    this.context = undefined;\n",
       "    this.message = undefined;\n",
       "    this.canvas = undefined;\n",
       "    this.rubberband_canvas = undefined;\n",
       "    this.rubberband_context = undefined;\n",
       "    this.format_dropdown = undefined;\n",
       "\n",
       "    this.image_mode = 'full';\n",
       "\n",
       "    this.root = $('<div/>');\n",
       "    this._root_extra_style(this.root)\n",
       "    this.root.attr('style', 'display: inline-block');\n",
       "\n",
       "    $(parent_element).append(this.root);\n",
       "\n",
       "    this._init_header(this);\n",
       "    this._init_canvas(this);\n",
       "    this._init_toolbar(this);\n",
       "\n",
       "    var fig = this;\n",
       "\n",
       "    this.waiting = false;\n",
       "\n",
       "    this.ws.onopen =  function () {\n",
       "            fig.send_message(\"supports_binary\", {value: fig.supports_binary});\n",
       "            fig.send_message(\"send_image_mode\", {});\n",
       "            if (mpl.ratio != 1) {\n",
       "                fig.send_message(\"set_dpi_ratio\", {'dpi_ratio': mpl.ratio});\n",
       "            }\n",
       "            fig.send_message(\"refresh\", {});\n",
       "        }\n",
       "\n",
       "    this.imageObj.onload = function() {\n",
       "            if (fig.image_mode == 'full') {\n",
       "                // Full images could contain transparency (where diff images\n",
       "                // almost always do), so we need to clear the canvas so that\n",
       "                // there is no ghosting.\n",
       "                fig.context.clearRect(0, 0, fig.canvas.width, fig.canvas.height);\n",
       "            }\n",
       "            fig.context.drawImage(fig.imageObj, 0, 0);\n",
       "        };\n",
       "\n",
       "    this.imageObj.onunload = function() {\n",
       "        fig.ws.close();\n",
       "    }\n",
       "\n",
       "    this.ws.onmessage = this._make_on_message_function(this);\n",
       "\n",
       "    this.ondownload = ondownload;\n",
       "}\n",
       "\n",
       "mpl.figure.prototype._init_header = function() {\n",
       "    var titlebar = $(\n",
       "        '<div class=\"ui-dialog-titlebar ui-widget-header ui-corner-all ' +\n",
       "        'ui-helper-clearfix\"/>');\n",
       "    var titletext = $(\n",
       "        '<div class=\"ui-dialog-title\" style=\"width: 100%; ' +\n",
       "        'text-align: center; padding: 3px;\"/>');\n",
       "    titlebar.append(titletext)\n",
       "    this.root.append(titlebar);\n",
       "    this.header = titletext[0];\n",
       "}\n",
       "\n",
       "\n",
       "\n",
       "mpl.figure.prototype._canvas_extra_style = function(canvas_div) {\n",
       "\n",
       "}\n",
       "\n",
       "\n",
       "mpl.figure.prototype._root_extra_style = function(canvas_div) {\n",
       "\n",
       "}\n",
       "\n",
       "mpl.figure.prototype._init_canvas = function() {\n",
       "    var fig = this;\n",
       "\n",
       "    var canvas_div = $('<div/>');\n",
       "\n",
       "    canvas_div.attr('style', 'position: relative; clear: both; outline: 0');\n",
       "\n",
       "    function canvas_keyboard_event(event) {\n",
       "        return fig.key_event(event, event['data']);\n",
       "    }\n",
       "\n",
       "    canvas_div.keydown('key_press', canvas_keyboard_event);\n",
       "    canvas_div.keyup('key_release', canvas_keyboard_event);\n",
       "    this.canvas_div = canvas_div\n",
       "    this._canvas_extra_style(canvas_div)\n",
       "    this.root.append(canvas_div);\n",
       "\n",
       "    var canvas = $('<canvas/>');\n",
       "    canvas.addClass('mpl-canvas');\n",
       "    canvas.attr('style', \"left: 0; top: 0; z-index: 0; outline: 0\")\n",
       "\n",
       "    this.canvas = canvas[0];\n",
       "    this.context = canvas[0].getContext(\"2d\");\n",
       "\n",
       "    var backingStore = this.context.backingStorePixelRatio ||\n",
       "\tthis.context.webkitBackingStorePixelRatio ||\n",
       "\tthis.context.mozBackingStorePixelRatio ||\n",
       "\tthis.context.msBackingStorePixelRatio ||\n",
       "\tthis.context.oBackingStorePixelRatio ||\n",
       "\tthis.context.backingStorePixelRatio || 1;\n",
       "\n",
       "    mpl.ratio = (window.devicePixelRatio || 1) / backingStore;\n",
       "\n",
       "    var rubberband = $('<canvas/>');\n",
       "    rubberband.attr('style', \"position: absolute; left: 0; top: 0; z-index: 1;\")\n",
       "\n",
       "    var pass_mouse_events = true;\n",
       "\n",
       "    canvas_div.resizable({\n",
       "        start: function(event, ui) {\n",
       "            pass_mouse_events = false;\n",
       "        },\n",
       "        resize: function(event, ui) {\n",
       "            fig.request_resize(ui.size.width, ui.size.height);\n",
       "        },\n",
       "        stop: function(event, ui) {\n",
       "            pass_mouse_events = true;\n",
       "            fig.request_resize(ui.size.width, ui.size.height);\n",
       "        },\n",
       "    });\n",
       "\n",
       "    function mouse_event_fn(event) {\n",
       "        if (pass_mouse_events)\n",
       "            return fig.mouse_event(event, event['data']);\n",
       "    }\n",
       "\n",
       "    rubberband.mousedown('button_press', mouse_event_fn);\n",
       "    rubberband.mouseup('button_release', mouse_event_fn);\n",
       "    // Throttle sequential mouse events to 1 every 20ms.\n",
       "    rubberband.mousemove('motion_notify', mouse_event_fn);\n",
       "\n",
       "    rubberband.mouseenter('figure_enter', mouse_event_fn);\n",
       "    rubberband.mouseleave('figure_leave', mouse_event_fn);\n",
       "\n",
       "    canvas_div.on(\"wheel\", function (event) {\n",
       "        event = event.originalEvent;\n",
       "        event['data'] = 'scroll'\n",
       "        if (event.deltaY < 0) {\n",
       "            event.step = 1;\n",
       "        } else {\n",
       "            event.step = -1;\n",
       "        }\n",
       "        mouse_event_fn(event);\n",
       "    });\n",
       "\n",
       "    canvas_div.append(canvas);\n",
       "    canvas_div.append(rubberband);\n",
       "\n",
       "    this.rubberband = rubberband;\n",
       "    this.rubberband_canvas = rubberband[0];\n",
       "    this.rubberband_context = rubberband[0].getContext(\"2d\");\n",
       "    this.rubberband_context.strokeStyle = \"#000000\";\n",
       "\n",
       "    this._resize_canvas = function(width, height) {\n",
       "        // Keep the size of the canvas, canvas container, and rubber band\n",
       "        // canvas in synch.\n",
       "        canvas_div.css('width', width)\n",
       "        canvas_div.css('height', height)\n",
       "\n",
       "        canvas.attr('width', width * mpl.ratio);\n",
       "        canvas.attr('height', height * mpl.ratio);\n",
       "        canvas.attr('style', 'width: ' + width + 'px; height: ' + height + 'px;');\n",
       "\n",
       "        rubberband.attr('width', width);\n",
       "        rubberband.attr('height', height);\n",
       "    }\n",
       "\n",
       "    // Set the figure to an initial 600x600px, this will subsequently be updated\n",
       "    // upon first draw.\n",
       "    this._resize_canvas(600, 600);\n",
       "\n",
       "    // Disable right mouse context menu.\n",
       "    $(this.rubberband_canvas).bind(\"contextmenu\",function(e){\n",
       "        return false;\n",
       "    });\n",
       "\n",
       "    function set_focus () {\n",
       "        canvas.focus();\n",
       "        canvas_div.focus();\n",
       "    }\n",
       "\n",
       "    window.setTimeout(set_focus, 100);\n",
       "}\n",
       "\n",
       "mpl.figure.prototype._init_toolbar = function() {\n",
       "    var fig = this;\n",
       "\n",
       "    var nav_element = $('<div/>');\n",
       "    nav_element.attr('style', 'width: 100%');\n",
       "    this.root.append(nav_element);\n",
       "\n",
       "    // Define a callback function for later on.\n",
       "    function toolbar_event(event) {\n",
       "        return fig.toolbar_button_onclick(event['data']);\n",
       "    }\n",
       "    function toolbar_mouse_event(event) {\n",
       "        return fig.toolbar_button_onmouseover(event['data']);\n",
       "    }\n",
       "\n",
       "    for(var toolbar_ind in mpl.toolbar_items) {\n",
       "        var name = mpl.toolbar_items[toolbar_ind][0];\n",
       "        var tooltip = mpl.toolbar_items[toolbar_ind][1];\n",
       "        var image = mpl.toolbar_items[toolbar_ind][2];\n",
       "        var method_name = mpl.toolbar_items[toolbar_ind][3];\n",
       "\n",
       "        if (!name) {\n",
       "            // put a spacer in here.\n",
       "            continue;\n",
       "        }\n",
       "        var button = $('<button/>');\n",
       "        button.addClass('ui-button ui-widget ui-state-default ui-corner-all ' +\n",
       "                        'ui-button-icon-only');\n",
       "        button.attr('role', 'button');\n",
       "        button.attr('aria-disabled', 'false');\n",
       "        button.click(method_name, toolbar_event);\n",
       "        button.mouseover(tooltip, toolbar_mouse_event);\n",
       "\n",
       "        var icon_img = $('<span/>');\n",
       "        icon_img.addClass('ui-button-icon-primary ui-icon');\n",
       "        icon_img.addClass(image);\n",
       "        icon_img.addClass('ui-corner-all');\n",
       "\n",
       "        var tooltip_span = $('<span/>');\n",
       "        tooltip_span.addClass('ui-button-text');\n",
       "        tooltip_span.html(tooltip);\n",
       "\n",
       "        button.append(icon_img);\n",
       "        button.append(tooltip_span);\n",
       "\n",
       "        nav_element.append(button);\n",
       "    }\n",
       "\n",
       "    var fmt_picker_span = $('<span/>');\n",
       "\n",
       "    var fmt_picker = $('<select/>');\n",
       "    fmt_picker.addClass('mpl-toolbar-option ui-widget ui-widget-content');\n",
       "    fmt_picker_span.append(fmt_picker);\n",
       "    nav_element.append(fmt_picker_span);\n",
       "    this.format_dropdown = fmt_picker[0];\n",
       "\n",
       "    for (var ind in mpl.extensions) {\n",
       "        var fmt = mpl.extensions[ind];\n",
       "        var option = $(\n",
       "            '<option/>', {selected: fmt === mpl.default_extension}).html(fmt);\n",
       "        fmt_picker.append(option);\n",
       "    }\n",
       "\n",
       "    // Add hover states to the ui-buttons\n",
       "    $( \".ui-button\" ).hover(\n",
       "        function() { $(this).addClass(\"ui-state-hover\");},\n",
       "        function() { $(this).removeClass(\"ui-state-hover\");}\n",
       "    );\n",
       "\n",
       "    var status_bar = $('<span class=\"mpl-message\"/>');\n",
       "    nav_element.append(status_bar);\n",
       "    this.message = status_bar[0];\n",
       "}\n",
       "\n",
       "mpl.figure.prototype.request_resize = function(x_pixels, y_pixels) {\n",
       "    // Request matplotlib to resize the figure. Matplotlib will then trigger a resize in the client,\n",
       "    // which will in turn request a refresh of the image.\n",
       "    this.send_message('resize', {'width': x_pixels, 'height': y_pixels});\n",
       "}\n",
       "\n",
       "mpl.figure.prototype.send_message = function(type, properties) {\n",
       "    properties['type'] = type;\n",
       "    properties['figure_id'] = this.id;\n",
       "    this.ws.send(JSON.stringify(properties));\n",
       "}\n",
       "\n",
       "mpl.figure.prototype.send_draw_message = function() {\n",
       "    if (!this.waiting) {\n",
       "        this.waiting = true;\n",
       "        this.ws.send(JSON.stringify({type: \"draw\", figure_id: this.id}));\n",
       "    }\n",
       "}\n",
       "\n",
       "\n",
       "mpl.figure.prototype.handle_save = function(fig, msg) {\n",
       "    var format_dropdown = fig.format_dropdown;\n",
       "    var format = format_dropdown.options[format_dropdown.selectedIndex].value;\n",
       "    fig.ondownload(fig, format);\n",
       "}\n",
       "\n",
       "\n",
       "mpl.figure.prototype.handle_resize = function(fig, msg) {\n",
       "    var size = msg['size'];\n",
       "    if (size[0] != fig.canvas.width || size[1] != fig.canvas.height) {\n",
       "        fig._resize_canvas(size[0], size[1]);\n",
       "        fig.send_message(\"refresh\", {});\n",
       "    };\n",
       "}\n",
       "\n",
       "mpl.figure.prototype.handle_rubberband = function(fig, msg) {\n",
       "    var x0 = msg['x0'] / mpl.ratio;\n",
       "    var y0 = (fig.canvas.height - msg['y0']) / mpl.ratio;\n",
       "    var x1 = msg['x1'] / mpl.ratio;\n",
       "    var y1 = (fig.canvas.height - msg['y1']) / mpl.ratio;\n",
       "    x0 = Math.floor(x0) + 0.5;\n",
       "    y0 = Math.floor(y0) + 0.5;\n",
       "    x1 = Math.floor(x1) + 0.5;\n",
       "    y1 = Math.floor(y1) + 0.5;\n",
       "    var min_x = Math.min(x0, x1);\n",
       "    var min_y = Math.min(y0, y1);\n",
       "    var width = Math.abs(x1 - x0);\n",
       "    var height = Math.abs(y1 - y0);\n",
       "\n",
       "    fig.rubberband_context.clearRect(\n",
       "        0, 0, fig.canvas.width / mpl.ratio, fig.canvas.height / mpl.ratio);\n",
       "\n",
       "    fig.rubberband_context.strokeRect(min_x, min_y, width, height);\n",
       "}\n",
       "\n",
       "mpl.figure.prototype.handle_figure_label = function(fig, msg) {\n",
       "    // Updates the figure title.\n",
       "    fig.header.textContent = msg['label'];\n",
       "}\n",
       "\n",
       "mpl.figure.prototype.handle_cursor = function(fig, msg) {\n",
       "    var cursor = msg['cursor'];\n",
       "    switch(cursor)\n",
       "    {\n",
       "    case 0:\n",
       "        cursor = 'pointer';\n",
       "        break;\n",
       "    case 1:\n",
       "        cursor = 'default';\n",
       "        break;\n",
       "    case 2:\n",
       "        cursor = 'crosshair';\n",
       "        break;\n",
       "    case 3:\n",
       "        cursor = 'move';\n",
       "        break;\n",
       "    }\n",
       "    fig.rubberband_canvas.style.cursor = cursor;\n",
       "}\n",
       "\n",
       "mpl.figure.prototype.handle_message = function(fig, msg) {\n",
       "    fig.message.textContent = msg['message'];\n",
       "}\n",
       "\n",
       "mpl.figure.prototype.handle_draw = function(fig, msg) {\n",
       "    // Request the server to send over a new figure.\n",
       "    fig.send_draw_message();\n",
       "}\n",
       "\n",
       "mpl.figure.prototype.handle_image_mode = function(fig, msg) {\n",
       "    fig.image_mode = msg['mode'];\n",
       "}\n",
       "\n",
       "mpl.figure.prototype.updated_canvas_event = function() {\n",
       "    // Called whenever the canvas gets updated.\n",
       "    this.send_message(\"ack\", {});\n",
       "}\n",
       "\n",
       "// A function to construct a web socket function for onmessage handling.\n",
       "// Called in the figure constructor.\n",
       "mpl.figure.prototype._make_on_message_function = function(fig) {\n",
       "    return function socket_on_message(evt) {\n",
       "        if (evt.data instanceof Blob) {\n",
       "            /* FIXME: We get \"Resource interpreted as Image but\n",
       "             * transferred with MIME type text/plain:\" errors on\n",
       "             * Chrome.  But how to set the MIME type?  It doesn't seem\n",
       "             * to be part of the websocket stream */\n",
       "            evt.data.type = \"image/png\";\n",
       "\n",
       "            /* Free the memory for the previous frames */\n",
       "            if (fig.imageObj.src) {\n",
       "                (window.URL || window.webkitURL).revokeObjectURL(\n",
       "                    fig.imageObj.src);\n",
       "            }\n",
       "\n",
       "            fig.imageObj.src = (window.URL || window.webkitURL).createObjectURL(\n",
       "                evt.data);\n",
       "            fig.updated_canvas_event();\n",
       "            fig.waiting = false;\n",
       "            return;\n",
       "        }\n",
       "        else if (typeof evt.data === 'string' && evt.data.slice(0, 21) == \"data:image/png;base64\") {\n",
       "            fig.imageObj.src = evt.data;\n",
       "            fig.updated_canvas_event();\n",
       "            fig.waiting = false;\n",
       "            return;\n",
       "        }\n",
       "\n",
       "        var msg = JSON.parse(evt.data);\n",
       "        var msg_type = msg['type'];\n",
       "\n",
       "        // Call the  \"handle_{type}\" callback, which takes\n",
       "        // the figure and JSON message as its only arguments.\n",
       "        try {\n",
       "            var callback = fig[\"handle_\" + msg_type];\n",
       "        } catch (e) {\n",
       "            console.log(\"No handler for the '\" + msg_type + \"' message type: \", msg);\n",
       "            return;\n",
       "        }\n",
       "\n",
       "        if (callback) {\n",
       "            try {\n",
       "                // console.log(\"Handling '\" + msg_type + \"' message: \", msg);\n",
       "                callback(fig, msg);\n",
       "            } catch (e) {\n",
       "                console.log(\"Exception inside the 'handler_\" + msg_type + \"' callback:\", e, e.stack, msg);\n",
       "            }\n",
       "        }\n",
       "    };\n",
       "}\n",
       "\n",
       "// from http://stackoverflow.com/questions/1114465/getting-mouse-location-in-canvas\n",
       "mpl.findpos = function(e) {\n",
       "    //this section is from http://www.quirksmode.org/js/events_properties.html\n",
       "    var targ;\n",
       "    if (!e)\n",
       "        e = window.event;\n",
       "    if (e.target)\n",
       "        targ = e.target;\n",
       "    else if (e.srcElement)\n",
       "        targ = e.srcElement;\n",
       "    if (targ.nodeType == 3) // defeat Safari bug\n",
       "        targ = targ.parentNode;\n",
       "\n",
       "    // jQuery normalizes the pageX and pageY\n",
       "    // pageX,Y are the mouse positions relative to the document\n",
       "    // offset() returns the position of the element relative to the document\n",
       "    var x = e.pageX - $(targ).offset().left;\n",
       "    var y = e.pageY - $(targ).offset().top;\n",
       "\n",
       "    return {\"x\": x, \"y\": y};\n",
       "};\n",
       "\n",
       "/*\n",
       " * return a copy of an object with only non-object keys\n",
       " * we need this to avoid circular references\n",
       " * http://stackoverflow.com/a/24161582/3208463\n",
       " */\n",
       "function simpleKeys (original) {\n",
       "  return Object.keys(original).reduce(function (obj, key) {\n",
       "    if (typeof original[key] !== 'object')\n",
       "        obj[key] = original[key]\n",
       "    return obj;\n",
       "  }, {});\n",
       "}\n",
       "\n",
       "mpl.figure.prototype.mouse_event = function(event, name) {\n",
       "    var canvas_pos = mpl.findpos(event)\n",
       "\n",
       "    if (name === 'button_press')\n",
       "    {\n",
       "        this.canvas.focus();\n",
       "        this.canvas_div.focus();\n",
       "    }\n",
       "\n",
       "    var x = canvas_pos.x * mpl.ratio;\n",
       "    var y = canvas_pos.y * mpl.ratio;\n",
       "\n",
       "    this.send_message(name, {x: x, y: y, button: event.button,\n",
       "                             step: event.step,\n",
       "                             guiEvent: simpleKeys(event)});\n",
       "\n",
       "    /* This prevents the web browser from automatically changing to\n",
       "     * the text insertion cursor when the button is pressed.  We want\n",
       "     * to control all of the cursor setting manually through the\n",
       "     * 'cursor' event from matplotlib */\n",
       "    event.preventDefault();\n",
       "    return false;\n",
       "}\n",
       "\n",
       "mpl.figure.prototype._key_event_extra = function(event, name) {\n",
       "    // Handle any extra behaviour associated with a key event\n",
       "}\n",
       "\n",
       "mpl.figure.prototype.key_event = function(event, name) {\n",
       "\n",
       "    // Prevent repeat events\n",
       "    if (name == 'key_press')\n",
       "    {\n",
       "        if (event.which === this._key)\n",
       "            return;\n",
       "        else\n",
       "            this._key = event.which;\n",
       "    }\n",
       "    if (name == 'key_release')\n",
       "        this._key = null;\n",
       "\n",
       "    var value = '';\n",
       "    if (event.ctrlKey && event.which != 17)\n",
       "        value += \"ctrl+\";\n",
       "    if (event.altKey && event.which != 18)\n",
       "        value += \"alt+\";\n",
       "    if (event.shiftKey && event.which != 16)\n",
       "        value += \"shift+\";\n",
       "\n",
       "    value += 'k';\n",
       "    value += event.which.toString();\n",
       "\n",
       "    this._key_event_extra(event, name);\n",
       "\n",
       "    this.send_message(name, {key: value,\n",
       "                             guiEvent: simpleKeys(event)});\n",
       "    return false;\n",
       "}\n",
       "\n",
       "mpl.figure.prototype.toolbar_button_onclick = function(name) {\n",
       "    if (name == 'download') {\n",
       "        this.handle_save(this, null);\n",
       "    } else {\n",
       "        this.send_message(\"toolbar_button\", {name: name});\n",
       "    }\n",
       "};\n",
       "\n",
       "mpl.figure.prototype.toolbar_button_onmouseover = function(tooltip) {\n",
       "    this.message.textContent = tooltip;\n",
       "};\n",
       "mpl.toolbar_items = [[\"Home\", \"Reset original view\", \"fa fa-home icon-home\", \"home\"], [\"Back\", \"Back to previous view\", \"fa fa-arrow-left icon-arrow-left\", \"back\"], [\"Forward\", \"Forward to next view\", \"fa fa-arrow-right icon-arrow-right\", \"forward\"], [\"\", \"\", \"\", \"\"], [\"Pan\", \"Pan axes with left mouse, zoom with right\", \"fa fa-arrows icon-move\", \"pan\"], [\"Zoom\", \"Zoom to rectangle\", \"fa fa-square-o icon-check-empty\", \"zoom\"], [\"\", \"\", \"\", \"\"], [\"Download\", \"Download plot\", \"fa fa-floppy-o icon-save\", \"download\"]];\n",
       "\n",
       "mpl.extensions = [\"eps\", \"jpeg\", \"pdf\", \"png\", \"ps\", \"raw\", \"svg\", \"tif\"];\n",
       "\n",
       "mpl.default_extension = \"png\";var comm_websocket_adapter = function(comm) {\n",
       "    // Create a \"websocket\"-like object which calls the given IPython comm\n",
       "    // object with the appropriate methods. Currently this is a non binary\n",
       "    // socket, so there is still some room for performance tuning.\n",
       "    var ws = {};\n",
       "\n",
       "    ws.close = function() {\n",
       "        comm.close()\n",
       "    };\n",
       "    ws.send = function(m) {\n",
       "        //console.log('sending', m);\n",
       "        comm.send(m);\n",
       "    };\n",
       "    // Register the callback with on_msg.\n",
       "    comm.on_msg(function(msg) {\n",
       "        //console.log('receiving', msg['content']['data'], msg);\n",
       "        // Pass the mpl event to the overridden (by mpl) onmessage function.\n",
       "        ws.onmessage(msg['content']['data'])\n",
       "    });\n",
       "    return ws;\n",
       "}\n",
       "\n",
       "mpl.mpl_figure_comm = function(comm, msg) {\n",
       "    // This is the function which gets called when the mpl process\n",
       "    // starts-up an IPython Comm through the \"matplotlib\" channel.\n",
       "\n",
       "    var id = msg.content.data.id;\n",
       "    // Get hold of the div created by the display call when the Comm\n",
       "    // socket was opened in Python.\n",
       "    var element = $(\"#\" + id);\n",
       "    var ws_proxy = comm_websocket_adapter(comm)\n",
       "\n",
       "    function ondownload(figure, format) {\n",
       "        window.open(figure.imageObj.src);\n",
       "    }\n",
       "\n",
       "    var fig = new mpl.figure(id, ws_proxy,\n",
       "                           ondownload,\n",
       "                           element.get(0));\n",
       "\n",
       "    // Call onopen now - mpl needs it, as it is assuming we've passed it a real\n",
       "    // web socket which is closed, not our websocket->open comm proxy.\n",
       "    ws_proxy.onopen();\n",
       "\n",
       "    fig.parent_element = element.get(0);\n",
       "    fig.cell_info = mpl.find_output_cell(\"<div id='\" + id + \"'></div>\");\n",
       "    if (!fig.cell_info) {\n",
       "        console.error(\"Failed to find cell for figure\", id, fig);\n",
       "        return;\n",
       "    }\n",
       "\n",
       "    var output_index = fig.cell_info[2]\n",
       "    var cell = fig.cell_info[0];\n",
       "\n",
       "};\n",
       "\n",
       "mpl.figure.prototype.handle_close = function(fig, msg) {\n",
       "    var width = fig.canvas.width/mpl.ratio\n",
       "    fig.root.unbind('remove')\n",
       "\n",
       "    // Update the output cell to use the data from the current canvas.\n",
       "    fig.push_to_output();\n",
       "    var dataURL = fig.canvas.toDataURL();\n",
       "    // Re-enable the keyboard manager in IPython - without this line, in FF,\n",
       "    // the notebook keyboard shortcuts fail.\n",
       "    IPython.keyboard_manager.enable()\n",
       "    $(fig.parent_element).html('<img src=\"' + dataURL + '\" width=\"' + width + '\">');\n",
       "    fig.close_ws(fig, msg);\n",
       "}\n",
       "\n",
       "mpl.figure.prototype.close_ws = function(fig, msg){\n",
       "    fig.send_message('closing', msg);\n",
       "    // fig.ws.close()\n",
       "}\n",
       "\n",
       "mpl.figure.prototype.push_to_output = function(remove_interactive) {\n",
       "    // Turn the data on the canvas into data in the output cell.\n",
       "    var width = this.canvas.width/mpl.ratio\n",
       "    var dataURL = this.canvas.toDataURL();\n",
       "    this.cell_info[1]['text/html'] = '<img src=\"' + dataURL + '\" width=\"' + width + '\">';\n",
       "}\n",
       "\n",
       "mpl.figure.prototype.updated_canvas_event = function() {\n",
       "    // Tell IPython that the notebook contents must change.\n",
       "    IPython.notebook.set_dirty(true);\n",
       "    this.send_message(\"ack\", {});\n",
       "    var fig = this;\n",
       "    // Wait a second, then push the new image to the DOM so\n",
       "    // that it is saved nicely (might be nice to debounce this).\n",
       "    setTimeout(function () { fig.push_to_output() }, 1000);\n",
       "}\n",
       "\n",
       "mpl.figure.prototype._init_toolbar = function() {\n",
       "    var fig = this;\n",
       "\n",
       "    var nav_element = $('<div/>');\n",
       "    nav_element.attr('style', 'width: 100%');\n",
       "    this.root.append(nav_element);\n",
       "\n",
       "    // Define a callback function for later on.\n",
       "    function toolbar_event(event) {\n",
       "        return fig.toolbar_button_onclick(event['data']);\n",
       "    }\n",
       "    function toolbar_mouse_event(event) {\n",
       "        return fig.toolbar_button_onmouseover(event['data']);\n",
       "    }\n",
       "\n",
       "    for(var toolbar_ind in mpl.toolbar_items){\n",
       "        var name = mpl.toolbar_items[toolbar_ind][0];\n",
       "        var tooltip = mpl.toolbar_items[toolbar_ind][1];\n",
       "        var image = mpl.toolbar_items[toolbar_ind][2];\n",
       "        var method_name = mpl.toolbar_items[toolbar_ind][3];\n",
       "\n",
       "        if (!name) { continue; };\n",
       "\n",
       "        var button = $('<button class=\"btn btn-default\" href=\"#\" title=\"' + name + '\"><i class=\"fa ' + image + ' fa-lg\"></i></button>');\n",
       "        button.click(method_name, toolbar_event);\n",
       "        button.mouseover(tooltip, toolbar_mouse_event);\n",
       "        nav_element.append(button);\n",
       "    }\n",
       "\n",
       "    // Add the status bar.\n",
       "    var status_bar = $('<span class=\"mpl-message\" style=\"text-align:right; float: right;\"/>');\n",
       "    nav_element.append(status_bar);\n",
       "    this.message = status_bar[0];\n",
       "\n",
       "    // Add the close button to the window.\n",
       "    var buttongrp = $('<div class=\"btn-group inline pull-right\"></div>');\n",
       "    var button = $('<button class=\"btn btn-mini btn-primary\" href=\"#\" title=\"Stop Interaction\"><i class=\"fa fa-power-off icon-remove icon-large\"></i></button>');\n",
       "    button.click(function (evt) { fig.handle_close(fig, {}); } );\n",
       "    button.mouseover('Stop Interaction', toolbar_mouse_event);\n",
       "    buttongrp.append(button);\n",
       "    var titlebar = this.root.find($('.ui-dialog-titlebar'));\n",
       "    titlebar.prepend(buttongrp);\n",
       "}\n",
       "\n",
       "mpl.figure.prototype._root_extra_style = function(el){\n",
       "    var fig = this\n",
       "    el.on(\"remove\", function(){\n",
       "\tfig.close_ws(fig, {});\n",
       "    });\n",
       "}\n",
       "\n",
       "mpl.figure.prototype._canvas_extra_style = function(el){\n",
       "    // this is important to make the div 'focusable\n",
       "    el.attr('tabindex', 0)\n",
       "    // reach out to IPython and tell the keyboard manager to turn it's self\n",
       "    // off when our div gets focus\n",
       "\n",
       "    // location in version 3\n",
       "    if (IPython.notebook.keyboard_manager) {\n",
       "        IPython.notebook.keyboard_manager.register_events(el);\n",
       "    }\n",
       "    else {\n",
       "        // location in version 2\n",
       "        IPython.keyboard_manager.register_events(el);\n",
       "    }\n",
       "\n",
       "}\n",
       "\n",
       "mpl.figure.prototype._key_event_extra = function(event, name) {\n",
       "    var manager = IPython.notebook.keyboard_manager;\n",
       "    if (!manager)\n",
       "        manager = IPython.keyboard_manager;\n",
       "\n",
       "    // Check for shift+enter\n",
       "    if (event.shiftKey && event.which == 13) {\n",
       "        this.canvas_div.blur();\n",
       "        // select the cell after this one\n",
       "        var index = IPython.notebook.find_cell_index(this.cell_info[0]);\n",
       "        IPython.notebook.select(index + 1);\n",
       "    }\n",
       "}\n",
       "\n",
       "mpl.figure.prototype.handle_save = function(fig, msg) {\n",
       "    fig.ondownload(fig, null);\n",
       "}\n",
       "\n",
       "\n",
       "mpl.find_output_cell = function(html_output) {\n",
       "    // Return the cell and output element which can be found *uniquely* in the notebook.\n",
       "    // Note - this is a bit hacky, but it is done because the \"notebook_saving.Notebook\"\n",
       "    // IPython event is triggered only after the cells have been serialised, which for\n",
       "    // our purposes (turning an active figure into a static one), is too late.\n",
       "    var cells = IPython.notebook.get_cells();\n",
       "    var ncells = cells.length;\n",
       "    for (var i=0; i<ncells; i++) {\n",
       "        var cell = cells[i];\n",
       "        if (cell.cell_type === 'code'){\n",
       "            for (var j=0; j<cell.output_area.outputs.length; j++) {\n",
       "                var data = cell.output_area.outputs[j];\n",
       "                if (data.data) {\n",
       "                    // IPython >= 3 moved mimebundle to data attribute of output\n",
       "                    data = data.data;\n",
       "                }\n",
       "                if (data['text/html'] == html_output) {\n",
       "                    return [cell, data, j];\n",
       "                }\n",
       "            }\n",
       "        }\n",
       "    }\n",
       "}\n",
       "\n",
       "// Register the function which deals with the matplotlib target/channel.\n",
       "// The kernel may be null if the page has been refreshed.\n",
       "if (IPython.notebook.kernel != null) {\n",
       "    IPython.notebook.kernel.comm_manager.register_target('matplotlib', mpl.mpl_figure_comm);\n",
       "}\n"
      ],
      "text/plain": [
       "<IPython.core.display.Javascript object>"
      ]
     },
     "metadata": {},
     "output_type": "display_data"
    },
    {
     "data": {
      "text/html": [
       "<img src=\"data:image/png;base64,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\" width=\"1000\">"
      ],
      "text/plain": [
       "<IPython.core.display.HTML object>"
      ]
     },
     "metadata": {},
     "output_type": "display_data"
    }
   ],
   "source": [
    "%matplotlib notebook\n",
    "\n",
    "A = deg_4_sqnc(-20,20,-20,20,-20,20,21)\n",
    "combo = A/(deg_2_sqnc(-24,-24,36,36,21))\n",
    "geom_coords = geom_sqnc_check(A,-20,-20,-20)\n",
    "int_coords = int_sqnc_check(A,-20,-20,-20)\n",
    "combo_coords = geom_sqnc_check(combo,-20,-20,-20)\n",
    "\n",
    "geoma_coords = [coords[0] for coords in geom_coords]\n",
    "geomb_coords = [coords[1] for coords in geom_coords]\n",
    "geomc_coords = [coords[2] for coords in geom_coords]\n",
    "\n",
    "inta_coords = [coords[0] for coords in int_coords]\n",
    "intb_coords = [coords[1] for coords in int_coords]\n",
    "intc_coords = [coords[2] for coords in int_coords]\n",
    "\n",
    "comboa_coords = [coords[0] for coords in combo_coords]\n",
    "combob_coords = [coords[1] for coords in combo_coords]\n",
    "comboc_coords = [coords[2] for coords in combo_coords]\n",
    "\n",
    "fig = plt.figure(figsize = (10, 7))\n",
    "ax = plt.axes(projection =\"3d\")\n",
    "ax.scatter(geoma_coords,geomb_coords,geomc_coords, c = 'red', label = 'Geometric Sequences') # geometric sequences\n",
    "ax.scatter(inta_coords,intb_coords,intc_coords, c = 'blue', label = 'Integer Sequences') # integer sequences sequences\n",
    "ax.scatter(comboa_coords,combob_coords,comboc_coords, c = 'green', label = 'Combination Sequences') # combo sequences\n",
    "ax.set_xlabel('a', fontweight ='bold')\n",
    "ax.set_ylabel('b', fontweight ='bold')\n",
    "ax.set_zlabel('c', fontweight ='bold')\n",
    "ax.legend()\n",
    "plt.show()"
   ]
  },
  {
   "cell_type": "code",
   "execution_count": 62,
   "metadata": {},
   "outputs": [
    {
     "data": {
      "application/javascript": [
       "/* Put everything inside the global mpl namespace */\n",
       "window.mpl = {};\n",
       "\n",
       "\n",
       "mpl.get_websocket_type = function() {\n",
       "    if (typeof(WebSocket) !== 'undefined') {\n",
       "        return WebSocket;\n",
       "    } else if (typeof(MozWebSocket) !== 'undefined') {\n",
       "        return MozWebSocket;\n",
       "    } else {\n",
       "        alert('Your browser does not have WebSocket support. ' +\n",
       "              'Please try Chrome, Safari or Firefox ≥ 6. ' +\n",
       "              'Firefox 4 and 5 are also supported but you ' +\n",
       "              'have to enable WebSockets in about:config.');\n",
       "    };\n",
       "}\n",
       "\n",
       "mpl.figure = function(figure_id, websocket, ondownload, parent_element) {\n",
       "    this.id = figure_id;\n",
       "\n",
       "    this.ws = websocket;\n",
       "\n",
       "    this.supports_binary = (this.ws.binaryType != undefined);\n",
       "\n",
       "    if (!this.supports_binary) {\n",
       "        var warnings = document.getElementById(\"mpl-warnings\");\n",
       "        if (warnings) {\n",
       "            warnings.style.display = 'block';\n",
       "            warnings.textContent = (\n",
       "                \"This browser does not support binary websocket messages. \" +\n",
       "                    \"Performance may be slow.\");\n",
       "        }\n",
       "    }\n",
       "\n",
       "    this.imageObj = new Image();\n",
       "\n",
       "    this.context = undefined;\n",
       "    this.message = undefined;\n",
       "    this.canvas = undefined;\n",
       "    this.rubberband_canvas = undefined;\n",
       "    this.rubberband_context = undefined;\n",
       "    this.format_dropdown = undefined;\n",
       "\n",
       "    this.image_mode = 'full';\n",
       "\n",
       "    this.root = $('<div/>');\n",
       "    this._root_extra_style(this.root)\n",
       "    this.root.attr('style', 'display: inline-block');\n",
       "\n",
       "    $(parent_element).append(this.root);\n",
       "\n",
       "    this._init_header(this);\n",
       "    this._init_canvas(this);\n",
       "    this._init_toolbar(this);\n",
       "\n",
       "    var fig = this;\n",
       "\n",
       "    this.waiting = false;\n",
       "\n",
       "    this.ws.onopen =  function () {\n",
       "            fig.send_message(\"supports_binary\", {value: fig.supports_binary});\n",
       "            fig.send_message(\"send_image_mode\", {});\n",
       "            if (mpl.ratio != 1) {\n",
       "                fig.send_message(\"set_dpi_ratio\", {'dpi_ratio': mpl.ratio});\n",
       "            }\n",
       "            fig.send_message(\"refresh\", {});\n",
       "        }\n",
       "\n",
       "    this.imageObj.onload = function() {\n",
       "            if (fig.image_mode == 'full') {\n",
       "                // Full images could contain transparency (where diff images\n",
       "                // almost always do), so we need to clear the canvas so that\n",
       "                // there is no ghosting.\n",
       "                fig.context.clearRect(0, 0, fig.canvas.width, fig.canvas.height);\n",
       "            }\n",
       "            fig.context.drawImage(fig.imageObj, 0, 0);\n",
       "        };\n",
       "\n",
       "    this.imageObj.onunload = function() {\n",
       "        fig.ws.close();\n",
       "    }\n",
       "\n",
       "    this.ws.onmessage = this._make_on_message_function(this);\n",
       "\n",
       "    this.ondownload = ondownload;\n",
       "}\n",
       "\n",
       "mpl.figure.prototype._init_header = function() {\n",
       "    var titlebar = $(\n",
       "        '<div class=\"ui-dialog-titlebar ui-widget-header ui-corner-all ' +\n",
       "        'ui-helper-clearfix\"/>');\n",
       "    var titletext = $(\n",
       "        '<div class=\"ui-dialog-title\" style=\"width: 100%; ' +\n",
       "        'text-align: center; padding: 3px;\"/>');\n",
       "    titlebar.append(titletext)\n",
       "    this.root.append(titlebar);\n",
       "    this.header = titletext[0];\n",
       "}\n",
       "\n",
       "\n",
       "\n",
       "mpl.figure.prototype._canvas_extra_style = function(canvas_div) {\n",
       "\n",
       "}\n",
       "\n",
       "\n",
       "mpl.figure.prototype._root_extra_style = function(canvas_div) {\n",
       "\n",
       "}\n",
       "\n",
       "mpl.figure.prototype._init_canvas = function() {\n",
       "    var fig = this;\n",
       "\n",
       "    var canvas_div = $('<div/>');\n",
       "\n",
       "    canvas_div.attr('style', 'position: relative; clear: both; outline: 0');\n",
       "\n",
       "    function canvas_keyboard_event(event) {\n",
       "        return fig.key_event(event, event['data']);\n",
       "    }\n",
       "\n",
       "    canvas_div.keydown('key_press', canvas_keyboard_event);\n",
       "    canvas_div.keyup('key_release', canvas_keyboard_event);\n",
       "    this.canvas_div = canvas_div\n",
       "    this._canvas_extra_style(canvas_div)\n",
       "    this.root.append(canvas_div);\n",
       "\n",
       "    var canvas = $('<canvas/>');\n",
       "    canvas.addClass('mpl-canvas');\n",
       "    canvas.attr('style', \"left: 0; top: 0; z-index: 0; outline: 0\")\n",
       "\n",
       "    this.canvas = canvas[0];\n",
       "    this.context = canvas[0].getContext(\"2d\");\n",
       "\n",
       "    var backingStore = this.context.backingStorePixelRatio ||\n",
       "\tthis.context.webkitBackingStorePixelRatio ||\n",
       "\tthis.context.mozBackingStorePixelRatio ||\n",
       "\tthis.context.msBackingStorePixelRatio ||\n",
       "\tthis.context.oBackingStorePixelRatio ||\n",
       "\tthis.context.backingStorePixelRatio || 1;\n",
       "\n",
       "    mpl.ratio = (window.devicePixelRatio || 1) / backingStore;\n",
       "\n",
       "    var rubberband = $('<canvas/>');\n",
       "    rubberband.attr('style', \"position: absolute; left: 0; top: 0; z-index: 1;\")\n",
       "\n",
       "    var pass_mouse_events = true;\n",
       "\n",
       "    canvas_div.resizable({\n",
       "        start: function(event, ui) {\n",
       "            pass_mouse_events = false;\n",
       "        },\n",
       "        resize: function(event, ui) {\n",
       "            fig.request_resize(ui.size.width, ui.size.height);\n",
       "        },\n",
       "        stop: function(event, ui) {\n",
       "            pass_mouse_events = true;\n",
       "            fig.request_resize(ui.size.width, ui.size.height);\n",
       "        },\n",
       "    });\n",
       "\n",
       "    function mouse_event_fn(event) {\n",
       "        if (pass_mouse_events)\n",
       "            return fig.mouse_event(event, event['data']);\n",
       "    }\n",
       "\n",
       "    rubberband.mousedown('button_press', mouse_event_fn);\n",
       "    rubberband.mouseup('button_release', mouse_event_fn);\n",
       "    // Throttle sequential mouse events to 1 every 20ms.\n",
       "    rubberband.mousemove('motion_notify', mouse_event_fn);\n",
       "\n",
       "    rubberband.mouseenter('figure_enter', mouse_event_fn);\n",
       "    rubberband.mouseleave('figure_leave', mouse_event_fn);\n",
       "\n",
       "    canvas_div.on(\"wheel\", function (event) {\n",
       "        event = event.originalEvent;\n",
       "        event['data'] = 'scroll'\n",
       "        if (event.deltaY < 0) {\n",
       "            event.step = 1;\n",
       "        } else {\n",
       "            event.step = -1;\n",
       "        }\n",
       "        mouse_event_fn(event);\n",
       "    });\n",
       "\n",
       "    canvas_div.append(canvas);\n",
       "    canvas_div.append(rubberband);\n",
       "\n",
       "    this.rubberband = rubberband;\n",
       "    this.rubberband_canvas = rubberband[0];\n",
       "    this.rubberband_context = rubberband[0].getContext(\"2d\");\n",
       "    this.rubberband_context.strokeStyle = \"#000000\";\n",
       "\n",
       "    this._resize_canvas = function(width, height) {\n",
       "        // Keep the size of the canvas, canvas container, and rubber band\n",
       "        // canvas in synch.\n",
       "        canvas_div.css('width', width)\n",
       "        canvas_div.css('height', height)\n",
       "\n",
       "        canvas.attr('width', width * mpl.ratio);\n",
       "        canvas.attr('height', height * mpl.ratio);\n",
       "        canvas.attr('style', 'width: ' + width + 'px; height: ' + height + 'px;');\n",
       "\n",
       "        rubberband.attr('width', width);\n",
       "        rubberband.attr('height', height);\n",
       "    }\n",
       "\n",
       "    // Set the figure to an initial 600x600px, this will subsequently be updated\n",
       "    // upon first draw.\n",
       "    this._resize_canvas(600, 600);\n",
       "\n",
       "    // Disable right mouse context menu.\n",
       "    $(this.rubberband_canvas).bind(\"contextmenu\",function(e){\n",
       "        return false;\n",
       "    });\n",
       "\n",
       "    function set_focus () {\n",
       "        canvas.focus();\n",
       "        canvas_div.focus();\n",
       "    }\n",
       "\n",
       "    window.setTimeout(set_focus, 100);\n",
       "}\n",
       "\n",
       "mpl.figure.prototype._init_toolbar = function() {\n",
       "    var fig = this;\n",
       "\n",
       "    var nav_element = $('<div/>');\n",
       "    nav_element.attr('style', 'width: 100%');\n",
       "    this.root.append(nav_element);\n",
       "\n",
       "    // Define a callback function for later on.\n",
       "    function toolbar_event(event) {\n",
       "        return fig.toolbar_button_onclick(event['data']);\n",
       "    }\n",
       "    function toolbar_mouse_event(event) {\n",
       "        return fig.toolbar_button_onmouseover(event['data']);\n",
       "    }\n",
       "\n",
       "    for(var toolbar_ind in mpl.toolbar_items) {\n",
       "        var name = mpl.toolbar_items[toolbar_ind][0];\n",
       "        var tooltip = mpl.toolbar_items[toolbar_ind][1];\n",
       "        var image = mpl.toolbar_items[toolbar_ind][2];\n",
       "        var method_name = mpl.toolbar_items[toolbar_ind][3];\n",
       "\n",
       "        if (!name) {\n",
       "            // put a spacer in here.\n",
       "            continue;\n",
       "        }\n",
       "        var button = $('<button/>');\n",
       "        button.addClass('ui-button ui-widget ui-state-default ui-corner-all ' +\n",
       "                        'ui-button-icon-only');\n",
       "        button.attr('role', 'button');\n",
       "        button.attr('aria-disabled', 'false');\n",
       "        button.click(method_name, toolbar_event);\n",
       "        button.mouseover(tooltip, toolbar_mouse_event);\n",
       "\n",
       "        var icon_img = $('<span/>');\n",
       "        icon_img.addClass('ui-button-icon-primary ui-icon');\n",
       "        icon_img.addClass(image);\n",
       "        icon_img.addClass('ui-corner-all');\n",
       "\n",
       "        var tooltip_span = $('<span/>');\n",
       "        tooltip_span.addClass('ui-button-text');\n",
       "        tooltip_span.html(tooltip);\n",
       "\n",
       "        button.append(icon_img);\n",
       "        button.append(tooltip_span);\n",
       "\n",
       "        nav_element.append(button);\n",
       "    }\n",
       "\n",
       "    var fmt_picker_span = $('<span/>');\n",
       "\n",
       "    var fmt_picker = $('<select/>');\n",
       "    fmt_picker.addClass('mpl-toolbar-option ui-widget ui-widget-content');\n",
       "    fmt_picker_span.append(fmt_picker);\n",
       "    nav_element.append(fmt_picker_span);\n",
       "    this.format_dropdown = fmt_picker[0];\n",
       "\n",
       "    for (var ind in mpl.extensions) {\n",
       "        var fmt = mpl.extensions[ind];\n",
       "        var option = $(\n",
       "            '<option/>', {selected: fmt === mpl.default_extension}).html(fmt);\n",
       "        fmt_picker.append(option);\n",
       "    }\n",
       "\n",
       "    // Add hover states to the ui-buttons\n",
       "    $( \".ui-button\" ).hover(\n",
       "        function() { $(this).addClass(\"ui-state-hover\");},\n",
       "        function() { $(this).removeClass(\"ui-state-hover\");}\n",
       "    );\n",
       "\n",
       "    var status_bar = $('<span class=\"mpl-message\"/>');\n",
       "    nav_element.append(status_bar);\n",
       "    this.message = status_bar[0];\n",
       "}\n",
       "\n",
       "mpl.figure.prototype.request_resize = function(x_pixels, y_pixels) {\n",
       "    // Request matplotlib to resize the figure. Matplotlib will then trigger a resize in the client,\n",
       "    // which will in turn request a refresh of the image.\n",
       "    this.send_message('resize', {'width': x_pixels, 'height': y_pixels});\n",
       "}\n",
       "\n",
       "mpl.figure.prototype.send_message = function(type, properties) {\n",
       "    properties['type'] = type;\n",
       "    properties['figure_id'] = this.id;\n",
       "    this.ws.send(JSON.stringify(properties));\n",
       "}\n",
       "\n",
       "mpl.figure.prototype.send_draw_message = function() {\n",
       "    if (!this.waiting) {\n",
       "        this.waiting = true;\n",
       "        this.ws.send(JSON.stringify({type: \"draw\", figure_id: this.id}));\n",
       "    }\n",
       "}\n",
       "\n",
       "\n",
       "mpl.figure.prototype.handle_save = function(fig, msg) {\n",
       "    var format_dropdown = fig.format_dropdown;\n",
       "    var format = format_dropdown.options[format_dropdown.selectedIndex].value;\n",
       "    fig.ondownload(fig, format);\n",
       "}\n",
       "\n",
       "\n",
       "mpl.figure.prototype.handle_resize = function(fig, msg) {\n",
       "    var size = msg['size'];\n",
       "    if (size[0] != fig.canvas.width || size[1] != fig.canvas.height) {\n",
       "        fig._resize_canvas(size[0], size[1]);\n",
       "        fig.send_message(\"refresh\", {});\n",
       "    };\n",
       "}\n",
       "\n",
       "mpl.figure.prototype.handle_rubberband = function(fig, msg) {\n",
       "    var x0 = msg['x0'] / mpl.ratio;\n",
       "    var y0 = (fig.canvas.height - msg['y0']) / mpl.ratio;\n",
       "    var x1 = msg['x1'] / mpl.ratio;\n",
       "    var y1 = (fig.canvas.height - msg['y1']) / mpl.ratio;\n",
       "    x0 = Math.floor(x0) + 0.5;\n",
       "    y0 = Math.floor(y0) + 0.5;\n",
       "    x1 = Math.floor(x1) + 0.5;\n",
       "    y1 = Math.floor(y1) + 0.5;\n",
       "    var min_x = Math.min(x0, x1);\n",
       "    var min_y = Math.min(y0, y1);\n",
       "    var width = Math.abs(x1 - x0);\n",
       "    var height = Math.abs(y1 - y0);\n",
       "\n",
       "    fig.rubberband_context.clearRect(\n",
       "        0, 0, fig.canvas.width / mpl.ratio, fig.canvas.height / mpl.ratio);\n",
       "\n",
       "    fig.rubberband_context.strokeRect(min_x, min_y, width, height);\n",
       "}\n",
       "\n",
       "mpl.figure.prototype.handle_figure_label = function(fig, msg) {\n",
       "    // Updates the figure title.\n",
       "    fig.header.textContent = msg['label'];\n",
       "}\n",
       "\n",
       "mpl.figure.prototype.handle_cursor = function(fig, msg) {\n",
       "    var cursor = msg['cursor'];\n",
       "    switch(cursor)\n",
       "    {\n",
       "    case 0:\n",
       "        cursor = 'pointer';\n",
       "        break;\n",
       "    case 1:\n",
       "        cursor = 'default';\n",
       "        break;\n",
       "    case 2:\n",
       "        cursor = 'crosshair';\n",
       "        break;\n",
       "    case 3:\n",
       "        cursor = 'move';\n",
       "        break;\n",
       "    }\n",
       "    fig.rubberband_canvas.style.cursor = cursor;\n",
       "}\n",
       "\n",
       "mpl.figure.prototype.handle_message = function(fig, msg) {\n",
       "    fig.message.textContent = msg['message'];\n",
       "}\n",
       "\n",
       "mpl.figure.prototype.handle_draw = function(fig, msg) {\n",
       "    // Request the server to send over a new figure.\n",
       "    fig.send_draw_message();\n",
       "}\n",
       "\n",
       "mpl.figure.prototype.handle_image_mode = function(fig, msg) {\n",
       "    fig.image_mode = msg['mode'];\n",
       "}\n",
       "\n",
       "mpl.figure.prototype.updated_canvas_event = function() {\n",
       "    // Called whenever the canvas gets updated.\n",
       "    this.send_message(\"ack\", {});\n",
       "}\n",
       "\n",
       "// A function to construct a web socket function for onmessage handling.\n",
       "// Called in the figure constructor.\n",
       "mpl.figure.prototype._make_on_message_function = function(fig) {\n",
       "    return function socket_on_message(evt) {\n",
       "        if (evt.data instanceof Blob) {\n",
       "            /* FIXME: We get \"Resource interpreted as Image but\n",
       "             * transferred with MIME type text/plain:\" errors on\n",
       "             * Chrome.  But how to set the MIME type?  It doesn't seem\n",
       "             * to be part of the websocket stream */\n",
       "            evt.data.type = \"image/png\";\n",
       "\n",
       "            /* Free the memory for the previous frames */\n",
       "            if (fig.imageObj.src) {\n",
       "                (window.URL || window.webkitURL).revokeObjectURL(\n",
       "                    fig.imageObj.src);\n",
       "            }\n",
       "\n",
       "            fig.imageObj.src = (window.URL || window.webkitURL).createObjectURL(\n",
       "                evt.data);\n",
       "            fig.updated_canvas_event();\n",
       "            fig.waiting = false;\n",
       "            return;\n",
       "        }\n",
       "        else if (typeof evt.data === 'string' && evt.data.slice(0, 21) == \"data:image/png;base64\") {\n",
       "            fig.imageObj.src = evt.data;\n",
       "            fig.updated_canvas_event();\n",
       "            fig.waiting = false;\n",
       "            return;\n",
       "        }\n",
       "\n",
       "        var msg = JSON.parse(evt.data);\n",
       "        var msg_type = msg['type'];\n",
       "\n",
       "        // Call the  \"handle_{type}\" callback, which takes\n",
       "        // the figure and JSON message as its only arguments.\n",
       "        try {\n",
       "            var callback = fig[\"handle_\" + msg_type];\n",
       "        } catch (e) {\n",
       "            console.log(\"No handler for the '\" + msg_type + \"' message type: \", msg);\n",
       "            return;\n",
       "        }\n",
       "\n",
       "        if (callback) {\n",
       "            try {\n",
       "                // console.log(\"Handling '\" + msg_type + \"' message: \", msg);\n",
       "                callback(fig, msg);\n",
       "            } catch (e) {\n",
       "                console.log(\"Exception inside the 'handler_\" + msg_type + \"' callback:\", e, e.stack, msg);\n",
       "            }\n",
       "        }\n",
       "    };\n",
       "}\n",
       "\n",
       "// from http://stackoverflow.com/questions/1114465/getting-mouse-location-in-canvas\n",
       "mpl.findpos = function(e) {\n",
       "    //this section is from http://www.quirksmode.org/js/events_properties.html\n",
       "    var targ;\n",
       "    if (!e)\n",
       "        e = window.event;\n",
       "    if (e.target)\n",
       "        targ = e.target;\n",
       "    else if (e.srcElement)\n",
       "        targ = e.srcElement;\n",
       "    if (targ.nodeType == 3) // defeat Safari bug\n",
       "        targ = targ.parentNode;\n",
       "\n",
       "    // jQuery normalizes the pageX and pageY\n",
       "    // pageX,Y are the mouse positions relative to the document\n",
       "    // offset() returns the position of the element relative to the document\n",
       "    var x = e.pageX - $(targ).offset().left;\n",
       "    var y = e.pageY - $(targ).offset().top;\n",
       "\n",
       "    return {\"x\": x, \"y\": y};\n",
       "};\n",
       "\n",
       "/*\n",
       " * return a copy of an object with only non-object keys\n",
       " * we need this to avoid circular references\n",
       " * http://stackoverflow.com/a/24161582/3208463\n",
       " */\n",
       "function simpleKeys (original) {\n",
       "  return Object.keys(original).reduce(function (obj, key) {\n",
       "    if (typeof original[key] !== 'object')\n",
       "        obj[key] = original[key]\n",
       "    return obj;\n",
       "  }, {});\n",
       "}\n",
       "\n",
       "mpl.figure.prototype.mouse_event = function(event, name) {\n",
       "    var canvas_pos = mpl.findpos(event)\n",
       "\n",
       "    if (name === 'button_press')\n",
       "    {\n",
       "        this.canvas.focus();\n",
       "        this.canvas_div.focus();\n",
       "    }\n",
       "\n",
       "    var x = canvas_pos.x * mpl.ratio;\n",
       "    var y = canvas_pos.y * mpl.ratio;\n",
       "\n",
       "    this.send_message(name, {x: x, y: y, button: event.button,\n",
       "                             step: event.step,\n",
       "                             guiEvent: simpleKeys(event)});\n",
       "\n",
       "    /* This prevents the web browser from automatically changing to\n",
       "     * the text insertion cursor when the button is pressed.  We want\n",
       "     * to control all of the cursor setting manually through the\n",
       "     * 'cursor' event from matplotlib */\n",
       "    event.preventDefault();\n",
       "    return false;\n",
       "}\n",
       "\n",
       "mpl.figure.prototype._key_event_extra = function(event, name) {\n",
       "    // Handle any extra behaviour associated with a key event\n",
       "}\n",
       "\n",
       "mpl.figure.prototype.key_event = function(event, name) {\n",
       "\n",
       "    // Prevent repeat events\n",
       "    if (name == 'key_press')\n",
       "    {\n",
       "        if (event.which === this._key)\n",
       "            return;\n",
       "        else\n",
       "            this._key = event.which;\n",
       "    }\n",
       "    if (name == 'key_release')\n",
       "        this._key = null;\n",
       "\n",
       "    var value = '';\n",
       "    if (event.ctrlKey && event.which != 17)\n",
       "        value += \"ctrl+\";\n",
       "    if (event.altKey && event.which != 18)\n",
       "        value += \"alt+\";\n",
       "    if (event.shiftKey && event.which != 16)\n",
       "        value += \"shift+\";\n",
       "\n",
       "    value += 'k';\n",
       "    value += event.which.toString();\n",
       "\n",
       "    this._key_event_extra(event, name);\n",
       "\n",
       "    this.send_message(name, {key: value,\n",
       "                             guiEvent: simpleKeys(event)});\n",
       "    return false;\n",
       "}\n",
       "\n",
       "mpl.figure.prototype.toolbar_button_onclick = function(name) {\n",
       "    if (name == 'download') {\n",
       "        this.handle_save(this, null);\n",
       "    } else {\n",
       "        this.send_message(\"toolbar_button\", {name: name});\n",
       "    }\n",
       "};\n",
       "\n",
       "mpl.figure.prototype.toolbar_button_onmouseover = function(tooltip) {\n",
       "    this.message.textContent = tooltip;\n",
       "};\n",
       "mpl.toolbar_items = [[\"Home\", \"Reset original view\", \"fa fa-home icon-home\", \"home\"], [\"Back\", \"Back to previous view\", \"fa fa-arrow-left icon-arrow-left\", \"back\"], [\"Forward\", \"Forward to next view\", \"fa fa-arrow-right icon-arrow-right\", \"forward\"], [\"\", \"\", \"\", \"\"], [\"Pan\", \"Pan axes with left mouse, zoom with right\", \"fa fa-arrows icon-move\", \"pan\"], [\"Zoom\", \"Zoom to rectangle\", \"fa fa-square-o icon-check-empty\", \"zoom\"], [\"\", \"\", \"\", \"\"], [\"Download\", \"Download plot\", \"fa fa-floppy-o icon-save\", \"download\"]];\n",
       "\n",
       "mpl.extensions = [\"eps\", \"jpeg\", \"pdf\", \"png\", \"ps\", \"raw\", \"svg\", \"tif\"];\n",
       "\n",
       "mpl.default_extension = \"png\";var comm_websocket_adapter = function(comm) {\n",
       "    // Create a \"websocket\"-like object which calls the given IPython comm\n",
       "    // object with the appropriate methods. Currently this is a non binary\n",
       "    // socket, so there is still some room for performance tuning.\n",
       "    var ws = {};\n",
       "\n",
       "    ws.close = function() {\n",
       "        comm.close()\n",
       "    };\n",
       "    ws.send = function(m) {\n",
       "        //console.log('sending', m);\n",
       "        comm.send(m);\n",
       "    };\n",
       "    // Register the callback with on_msg.\n",
       "    comm.on_msg(function(msg) {\n",
       "        //console.log('receiving', msg['content']['data'], msg);\n",
       "        // Pass the mpl event to the overridden (by mpl) onmessage function.\n",
       "        ws.onmessage(msg['content']['data'])\n",
       "    });\n",
       "    return ws;\n",
       "}\n",
       "\n",
       "mpl.mpl_figure_comm = function(comm, msg) {\n",
       "    // This is the function which gets called when the mpl process\n",
       "    // starts-up an IPython Comm through the \"matplotlib\" channel.\n",
       "\n",
       "    var id = msg.content.data.id;\n",
       "    // Get hold of the div created by the display call when the Comm\n",
       "    // socket was opened in Python.\n",
       "    var element = $(\"#\" + id);\n",
       "    var ws_proxy = comm_websocket_adapter(comm)\n",
       "\n",
       "    function ondownload(figure, format) {\n",
       "        window.open(figure.imageObj.src);\n",
       "    }\n",
       "\n",
       "    var fig = new mpl.figure(id, ws_proxy,\n",
       "                           ondownload,\n",
       "                           element.get(0));\n",
       "\n",
       "    // Call onopen now - mpl needs it, as it is assuming we've passed it a real\n",
       "    // web socket which is closed, not our websocket->open comm proxy.\n",
       "    ws_proxy.onopen();\n",
       "\n",
       "    fig.parent_element = element.get(0);\n",
       "    fig.cell_info = mpl.find_output_cell(\"<div id='\" + id + \"'></div>\");\n",
       "    if (!fig.cell_info) {\n",
       "        console.error(\"Failed to find cell for figure\", id, fig);\n",
       "        return;\n",
       "    }\n",
       "\n",
       "    var output_index = fig.cell_info[2]\n",
       "    var cell = fig.cell_info[0];\n",
       "\n",
       "};\n",
       "\n",
       "mpl.figure.prototype.handle_close = function(fig, msg) {\n",
       "    var width = fig.canvas.width/mpl.ratio\n",
       "    fig.root.unbind('remove')\n",
       "\n",
       "    // Update the output cell to use the data from the current canvas.\n",
       "    fig.push_to_output();\n",
       "    var dataURL = fig.canvas.toDataURL();\n",
       "    // Re-enable the keyboard manager in IPython - without this line, in FF,\n",
       "    // the notebook keyboard shortcuts fail.\n",
       "    IPython.keyboard_manager.enable()\n",
       "    $(fig.parent_element).html('<img src=\"' + dataURL + '\" width=\"' + width + '\">');\n",
       "    fig.close_ws(fig, msg);\n",
       "}\n",
       "\n",
       "mpl.figure.prototype.close_ws = function(fig, msg){\n",
       "    fig.send_message('closing', msg);\n",
       "    // fig.ws.close()\n",
       "}\n",
       "\n",
       "mpl.figure.prototype.push_to_output = function(remove_interactive) {\n",
       "    // Turn the data on the canvas into data in the output cell.\n",
       "    var width = this.canvas.width/mpl.ratio\n",
       "    var dataURL = this.canvas.toDataURL();\n",
       "    this.cell_info[1]['text/html'] = '<img src=\"' + dataURL + '\" width=\"' + width + '\">';\n",
       "}\n",
       "\n",
       "mpl.figure.prototype.updated_canvas_event = function() {\n",
       "    // Tell IPython that the notebook contents must change.\n",
       "    IPython.notebook.set_dirty(true);\n",
       "    this.send_message(\"ack\", {});\n",
       "    var fig = this;\n",
       "    // Wait a second, then push the new image to the DOM so\n",
       "    // that it is saved nicely (might be nice to debounce this).\n",
       "    setTimeout(function () { fig.push_to_output() }, 1000);\n",
       "}\n",
       "\n",
       "mpl.figure.prototype._init_toolbar = function() {\n",
       "    var fig = this;\n",
       "\n",
       "    var nav_element = $('<div/>');\n",
       "    nav_element.attr('style', 'width: 100%');\n",
       "    this.root.append(nav_element);\n",
       "\n",
       "    // Define a callback function for later on.\n",
       "    function toolbar_event(event) {\n",
       "        return fig.toolbar_button_onclick(event['data']);\n",
       "    }\n",
       "    function toolbar_mouse_event(event) {\n",
       "        return fig.toolbar_button_onmouseover(event['data']);\n",
       "    }\n",
       "\n",
       "    for(var toolbar_ind in mpl.toolbar_items){\n",
       "        var name = mpl.toolbar_items[toolbar_ind][0];\n",
       "        var tooltip = mpl.toolbar_items[toolbar_ind][1];\n",
       "        var image = mpl.toolbar_items[toolbar_ind][2];\n",
       "        var method_name = mpl.toolbar_items[toolbar_ind][3];\n",
       "\n",
       "        if (!name) { continue; };\n",
       "\n",
       "        var button = $('<button class=\"btn btn-default\" href=\"#\" title=\"' + name + '\"><i class=\"fa ' + image + ' fa-lg\"></i></button>');\n",
       "        button.click(method_name, toolbar_event);\n",
       "        button.mouseover(tooltip, toolbar_mouse_event);\n",
       "        nav_element.append(button);\n",
       "    }\n",
       "\n",
       "    // Add the status bar.\n",
       "    var status_bar = $('<span class=\"mpl-message\" style=\"text-align:right; float: right;\"/>');\n",
       "    nav_element.append(status_bar);\n",
       "    this.message = status_bar[0];\n",
       "\n",
       "    // Add the close button to the window.\n",
       "    var buttongrp = $('<div class=\"btn-group inline pull-right\"></div>');\n",
       "    var button = $('<button class=\"btn btn-mini btn-primary\" href=\"#\" title=\"Stop Interaction\"><i class=\"fa fa-power-off icon-remove icon-large\"></i></button>');\n",
       "    button.click(function (evt) { fig.handle_close(fig, {}); } );\n",
       "    button.mouseover('Stop Interaction', toolbar_mouse_event);\n",
       "    buttongrp.append(button);\n",
       "    var titlebar = this.root.find($('.ui-dialog-titlebar'));\n",
       "    titlebar.prepend(buttongrp);\n",
       "}\n",
       "\n",
       "mpl.figure.prototype._root_extra_style = function(el){\n",
       "    var fig = this\n",
       "    el.on(\"remove\", function(){\n",
       "\tfig.close_ws(fig, {});\n",
       "    });\n",
       "}\n",
       "\n",
       "mpl.figure.prototype._canvas_extra_style = function(el){\n",
       "    // this is important to make the div 'focusable\n",
       "    el.attr('tabindex', 0)\n",
       "    // reach out to IPython and tell the keyboard manager to turn it's self\n",
       "    // off when our div gets focus\n",
       "\n",
       "    // location in version 3\n",
       "    if (IPython.notebook.keyboard_manager) {\n",
       "        IPython.notebook.keyboard_manager.register_events(el);\n",
       "    }\n",
       "    else {\n",
       "        // location in version 2\n",
       "        IPython.keyboard_manager.register_events(el);\n",
       "    }\n",
       "\n",
       "}\n",
       "\n",
       "mpl.figure.prototype._key_event_extra = function(event, name) {\n",
       "    var manager = IPython.notebook.keyboard_manager;\n",
       "    if (!manager)\n",
       "        manager = IPython.keyboard_manager;\n",
       "\n",
       "    // Check for shift+enter\n",
       "    if (event.shiftKey && event.which == 13) {\n",
       "        this.canvas_div.blur();\n",
       "        // select the cell after this one\n",
       "        var index = IPython.notebook.find_cell_index(this.cell_info[0]);\n",
       "        IPython.notebook.select(index + 1);\n",
       "    }\n",
       "}\n",
       "\n",
       "mpl.figure.prototype.handle_save = function(fig, msg) {\n",
       "    fig.ondownload(fig, null);\n",
       "}\n",
       "\n",
       "\n",
       "mpl.find_output_cell = function(html_output) {\n",
       "    // Return the cell and output element which can be found *uniquely* in the notebook.\n",
       "    // Note - this is a bit hacky, but it is done because the \"notebook_saving.Notebook\"\n",
       "    // IPython event is triggered only after the cells have been serialised, which for\n",
       "    // our purposes (turning an active figure into a static one), is too late.\n",
       "    var cells = IPython.notebook.get_cells();\n",
       "    var ncells = cells.length;\n",
       "    for (var i=0; i<ncells; i++) {\n",
       "        var cell = cells[i];\n",
       "        if (cell.cell_type === 'code'){\n",
       "            for (var j=0; j<cell.output_area.outputs.length; j++) {\n",
       "                var data = cell.output_area.outputs[j];\n",
       "                if (data.data) {\n",
       "                    // IPython >= 3 moved mimebundle to data attribute of output\n",
       "                    data = data.data;\n",
       "                }\n",
       "                if (data['text/html'] == html_output) {\n",
       "                    return [cell, data, j];\n",
       "                }\n",
       "            }\n",
       "        }\n",
       "    }\n",
       "}\n",
       "\n",
       "// Register the function which deals with the matplotlib target/channel.\n",
       "// The kernel may be null if the page has been refreshed.\n",
       "if (IPython.notebook.kernel != null) {\n",
       "    IPython.notebook.kernel.comm_manager.register_target('matplotlib', mpl.mpl_figure_comm);\n",
       "}\n"
      ],
      "text/plain": [
       "<IPython.core.display.Javascript object>"
      ]
     },
     "metadata": {},
     "output_type": "display_data"
    },
    {
     "data": {
      "text/html": [
       "<img src=\"data:image/png;base64,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\" width=\"1000\">"
      ],
      "text/plain": [
       "<IPython.core.display.HTML object>"
      ]
     },
     "metadata": {},
     "output_type": "display_data"
    }
   ],
   "source": [
    "%matplotlib notebook\n",
    "\n",
    "A = deg_5_sqnc(-20,20,-20,20,-20,20,21)\n",
    "combo = A/(deg_2_sqnc(-24,-24,36,36,21))\n",
    "geom_coords = geom_sqnc_check(A,-20,-20,-20)\n",
    "int_coords = int_sqnc_check(A,-20,-20,-20)\n",
    "combo_coords = geom_sqnc_check(combo,-20,-20,-20)\n",
    "\n",
    "geoma_coords = [coords[0] for coords in geom_coords]\n",
    "geomb_coords = [coords[1] for coords in geom_coords]\n",
    "geomc_coords = [coords[2] for coords in geom_coords]\n",
    "\n",
    "inta_coords = [coords[0] for coords in int_coords]\n",
    "intb_coords = [coords[1] for coords in int_coords]\n",
    "intc_coords = [coords[2] for coords in int_coords]\n",
    "\n",
    "comboa_coords = [coords[0] for coords in combo_coords]\n",
    "combob_coords = [coords[1] for coords in combo_coords]\n",
    "comboc_coords = [coords[2] for coords in combo_coords]\n",
    "\n",
    "fig = plt.figure(figsize = (10, 7))\n",
    "ax = plt.axes(projection =\"3d\")\n",
    "ax.scatter(geoma_coords,geomb_coords,geomc_coords, c = 'red', label = 'Geometric Sequences') # geometric sequences\n",
    "ax.scatter(inta_coords,intb_coords,intc_coords, c = 'blue', label = 'Integer Sequences') # integer sequences sequences\n",
    "ax.scatter(comboa_coords,combob_coords,comboc_coords, c = 'green', label = 'Combination Sequences') # combo sequences\n",
    "ax.set_xlabel('a', fontweight ='bold')\n",
    "ax.set_ylabel('b', fontweight ='bold')\n",
    "ax.set_zlabel('c', fontweight ='bold')\n",
    "ax.legend()\n",
    "plt.show()"
   ]
  },
  {
   "cell_type": "code",
   "execution_count": 305,
   "metadata": {
    "scrolled": false
   },
   "outputs": [
    {
     "data": {
      "text/plain": [
       "[(-4, 0, 20),\n",
       " (-3, 0, 15),\n",
       " (-2, 0, 10),\n",
       " (-1, 0, 5),\n",
       " (1, 0, -5),\n",
       " (2, 0, -10),\n",
       " (3, 0, -15),\n",
       " (4, 0, -20)]"
      ]
     },
     "execution_count": 305,
     "metadata": {},
     "output_type": "execute_result"
    }
   ],
   "source": [
    "combo_coords"
   ]
  },
  {
   "cell_type": "markdown",
   "metadata": {},
   "source": [
    "## A Proof\n",
    "\n",
    "We notice that every sequence produced by the linear case seems to produce a geometric sequence. We first prove this, and then use that fact to show that we get a geometric sequence from the quadratic case if $(a,b) = (a,a)$. By multiplying $\\tau(n)$ iteratively by $\\frac{n}{n}$, we can determine at least one branch of geometric sequences for any higher-order case, but I'll show this for the quadratic case.\n",
    "\n",
    "Let $\\tau(n) = \\frac{1}{n(n-1)}\\sum_{u+v=n}au\\tau(u)\\tau(v)$. With the prior defined function, we notice a pattern than $\\tau(n) = \\left(\\frac{a}{2}\\right)^{n-1}$."
   ]
  },
  {
   "cell_type": "code",
   "execution_count": 27,
   "metadata": {},
   "outputs": [
    {
     "data": {
      "text/plain": [
       "[0,\n",
       " Fraction(1, 1),\n",
       " Fraction(3, 2),\n",
       " Fraction(9, 4),\n",
       " Fraction(27, 8),\n",
       " Fraction(81, 16),\n",
       " Fraction(243, 32),\n",
       " Fraction(729, 64),\n",
       " Fraction(2187, 128),\n",
       " Fraction(6561, 256)]"
      ]
     },
     "execution_count": 27,
     "metadata": {},
     "output_type": "execute_result"
    }
   ],
   "source": [
    "deg_1_case(3,10)"
   ]
  },
  {
   "cell_type": "markdown",
   "metadata": {},
   "source": [
    "We use strong induction.\n",
    "\n",
    "As per the definition of the sequence, $\\tau(1) = 1$, and $1 = \\frac{a^{1-1}}{2^{1-1}}$. Therefore the base case holds.\n",
    "\n",
    "Suppose $\\tau(k) = \\left(\\frac{a}{2}\\right)^{n-1}$ for every $k \\in \\mathbb{N}$ with $1 \\leq k \\leq n$. We want to show that $\\tau(n+1) = \\left(\\frac{a}{2}\\right)^n$. In particular, we can show that $\\tau(n+1) = \\frac{a}{2}\\tau(n)$, or $\\frac{\\tau(n+1)}{\\tau(n)} = \\frac{a}{2}$.\n",
    "$$\n",
    "\\frac{\\tau(n+1)}{\\tau(n)} = \\frac{\\frac{1}{n(n+1)}\\sum_{u+v=n+1}au\\tau(u)\\tau(v)}{\\tau(n)} = \\frac{\\frac{1}{n(n+1)}\\sum_{u+v=n+1}u\\tau(u)\\tau(v)}{\\frac{a^{n-1}}{2^{n-1}}} = \\frac{2^{n-1}}{a^{n-1}}\\frac{1}{n(n+1)}\\sum_{u+v=n+1}u\\tau(u)\\tau(v)\n",
    "$$\n",
    "We consider the individual terms of $\\sum_{u+v=n+1}u\\tau(u)\\tau(v)$, noting that each $k \\leq n$ term holds.\n",
    "$$\n",
    "\\sum_{u+v=n+1}au\\tau(u)\\tau(v)\n",
    "$$\n",
    "$$\n",
    "= a\\tau(1)\\tau(n) + 2a\\tau(2)\\tau(n-1) + 3a\\tau(3)\\tau(n-2) + \\cdots + na\\tau(n)\\tau(1)\n",
    "$$\n",
    "$$\n",
    "= \\left(a\\frac{a^{n-1}}{2^{n-1}}\\right) + \\left(2a\\frac{a}{2}\\frac{a^{n-2}}{2^{n-2}}\\right) + \\left(3a\\frac{a^2}{4}\\frac{a^{n-3}}{2^{n-3}}\\right)\\cdots + \\left(na\\frac{a^{n-1}}{2^{n-1}}\\right)\n",
    "$$\n",
    "$$\n",
    "= a\\frac{a^{n-1}}{2^{n-1}} + 2a\\frac{a^{n-1}}{2^{n-1}} + 3a\\frac{a^{n-1}}{2^{n-1}} + \\cdots + na\\frac{a^{n-1}}{2^{n-1}}.\n",
    "$$\n",
    "Then\n",
    "$$\n",
    "\\frac{2^{n-1}}{a^{n-1}}\\frac{1}{n(n+1)}\\sum_{u+v=n+1}u\\tau(u)\\tau(v)\n",
    "$$\n",
    "$$\n",
    "= \\frac{2^{n-1}}{a^{n-1}}\\frac{1}{n(n+1)}\\left(a\\frac{a^{n-1}}{2^{n-1}}+ 2a\\frac{a^{n-1}}{2^{n-1}} + 3a\\frac{a^{n-1}}{2^{n-1}} + \\cdots + na\\frac{a^{n-1}}{2^{n-1}}\\right)\n",
    "$$\n",
    "$$\n",
    "= \\frac{1}{n(n-1)}(a + 2a + 3a + \\cdots + na)\n",
    "$$\n",
    "$$\n",
    "= \\frac{a}{n(n+1)}(1 + 2 + 3 + \\cdots + n)\n",
    "$$\n",
    "$$\n",
    "\\frac{a}{n(n+1)}\\sum_{k=1}^nk\n",
    "$$\n",
    "$$\n",
    "\\frac{a}{n(n+1)}\\frac{n(n+1)}{2} = \\frac{a}{2},\n",
    "$$\n",
    "Hence $\\tau(n) = \\frac{1}{n(n-1)}\\sum_{u+v=n}au\\tau(u)\\tau(v) = \\left(\\frac{a}{2}\\right)^{n-1}$ for all $n \\in \\mathbb{N}$.\n",
    "\n",
    "Furthermore, since $u+v=n$, we have\n",
    "$$\n",
    "\\left(\\frac{a}{2}\\right)^{n-1} = \\tau(n) = \\frac{n}{n}\\tau(n) = \\frac{n}{n}\\frac{1}{n(n-1)}\\sum_{u+v=n}au\\tau(u)\\tau(v)\n",
    "$$\n",
    "$$\n",
    "= \\frac{1}{n^2(n-1)}\\sum_{u+v=n}aun\\tau(u)\\tau(v) = \\frac{1}{n^2(n-1)}\\sum_{u+v=n}au(u+v)\\tau(u)\\tau(v)\n",
    "$$\n",
    "$$\n",
    "= \\frac{1}{n^2(n-1)}\\sum_{u+v=n}(au^2+auv)\\tau(u)\\tau(v),\n",
    "$$\n",
    "thus giving us a branch of geometric sequences for the quadratic case.\n",
    "\n",
    "By iterating this process of multiplying the sequence by $\\frac{n}{n}$, we maintain the geometric sequence while increasing the degree of the polynomial in the sum, thus giving us at least one branch of geometric sequences for every degree $\\geq 2$."
   ]
  },
  {
   "cell_type": "markdown",
   "metadata": {},
   "source": [
    "## Wild Sequences\n",
    "\n",
    "\"$\\tau(n)$ is <u>wild</u> if the set of prime numbers dividing the denominators in the sequence $\\tau(n)$ is infinite. In particular, there does not exist a positive integer $N \\in \\mathbb{Z}$ such that, for all $n \\geq 1$, $\\tau(n)\\cdot N^n \\in \\mathbb{Z}$.\"\n",
    "\n",
    "The hope is that everything $(a,b) \\neq (a,a), (a,-a)$, or $(-2k,3k)$, $k \\in \\mathbb{Z}$ is wild."
   ]
  },
  {
   "cell_type": "code",
   "execution_count": 45,
   "metadata": {},
   "outputs": [
    {
     "data": {
      "text/plain": [
       "[0,\n",
       " Fraction(1, 1),\n",
       " Fraction(7, 4),\n",
       " Fraction(217, 72),\n",
       " Fraction(497, 96),\n",
       " Fraction(14217, 1600),\n",
       " Fraction(39516379, 2592000),\n",
       " Fraction(949042331, 36288000),\n",
       " Fraction(45580915039, 1016064000),\n",
       " Fraction(1809317314099, 23514624000),\n",
       " Fraction(186193659949907, 1410877440000),\n",
       " Fraction(1932006237687842669, 8535808512000000),\n",
       " Fraction(437384394639364019191, 1126726723584000000),\n",
       " Fraction(253545234922198028816101, 380833632571392000000),\n",
       " Fraction(17586759602130147324784753, 15402604695109632000000),\n",
       " Fraction(239422750661203603026724509839, 122265876069780258816000000),\n",
       " Fraction(87988275987762430397773768153901, 26199830586381484032000000000),\n",
       " Fraction(5130599047611126273607269076697351, 890794239936970457088000000000),\n",
       " Fraction(16154876837790621484718343671816911403, 1635498224524277759213568000000000),\n",
       " Fraction(16366371264826715298650679616512416065511, 966133405723523352669978624000000000),\n",
       " Fraction(4692987952943518410128700348590452427246537, 161537505436973104566420425932800000000)]"
      ]
     },
     "execution_count": 45,
     "metadata": {},
     "output_type": "execute_result"
    }
   ],
   "source": [
    "deg_2_case(3,4,21)"
   ]
  },
  {
   "cell_type": "code",
   "execution_count": 46,
   "metadata": {},
   "outputs": [
    {
     "data": {
      "text/plain": [
       "[0,\n",
       " Fraction(1, 1),\n",
       " Fraction(7, 4),\n",
       " Fraction(21, 8),\n",
       " Fraction(371, 96),\n",
       " Fraction(1351, 240),\n",
       " Fraction(52213, 6400),\n",
       " Fraction(4753319, 403200),\n",
       " Fraction(383932699, 22579200),\n",
       " Fraction(105346579, 4300800),\n",
       " Fraction(8187519359, 232243200),\n",
       " Fraction(142492342513189, 2810142720000),\n",
       " Fraction(166912437586403, 2289745920000),\n",
       " Fraction(3946461249081089, 37673475840000),\n",
       " Fraction(264153916886584977751, 1755282586337280000),\n",
       " Fraction(55082029646906373437, 254841027349708800),\n",
       " Fraction(2288124106782966886587883, 7372186862616576000000),\n",
       " Fraction(15190324549728270226415689823, 34088992052739047424000000),\n",
       " Fraction(762760230939250265716327511, 1192413302256304128000000),\n",
       " Fraction(13829940941919794596186417738521467, 15062698384391486450958336000000),\n",
       " Fraction(7542506695305342186878800566342511, 5723825386068764851364167680000)]"
      ]
     },
     "execution_count": 46,
     "metadata": {},
     "output_type": "execute_result"
    }
   ],
   "source": [
    "deg_2_case(-1,8,21)"
   ]
  },
  {
   "cell_type": "code",
   "execution_count": 48,
   "metadata": {},
   "outputs": [
    {
     "data": {
      "text/plain": [
       "[0,\n",
       " Fraction(1, 1),\n",
       " Fraction(-1, 4),\n",
       " Fraction(-13, 36),\n",
       " Fraction(-497, 576),\n",
       " Fraction(-64639, 28800),\n",
       " Fraction(-2976803, 518400),\n",
       " Fraction(-14443487, 1036800),\n",
       " Fraction(-7327384439, 232243200),\n",
       " Fraction(-4980922817587, 75246796800),\n",
       " Fraction(-1444757089041653, 11287019520000),\n",
       " Fraction(-88544902061078659, 390208389120000),\n",
       " Fraction(-26375500230575352443, 72110510309376000),\n",
       " Fraction(-4567963435911259734451, 8653261237125120000),\n",
       " Fraction(-10606393734986889597941, 16070342297518080000),\n",
       " Fraction(-154579708155965404924509893, 236234031773515776000000),\n",
       " Fraction(-118329742082496246336235637, 348899493080884838400000),\n",
       " Fraction(13340562448009758372175592720873, 26216307910097686757376000000),\n",
       " Fraction(14517406341143278382615144702595541, 6876163046134193269506048000000),\n",
       " Fraction(357537862358072281639258364999310228931, 78192288079114978764188024832000000),\n",
       " Fraction(4563580791599110265344839682010918323314371, 594261389401273838607828988723200000000)]"
      ]
     },
     "execution_count": 48,
     "metadata": {},
     "output_type": "execute_result"
    }
   ],
   "source": [
    "deg_2_case(30,-31,21)"
   ]
  },
  {
   "cell_type": "code",
   "execution_count": 93,
   "metadata": {
    "scrolled": false
   },
   "outputs": [
    {
     "data": {
      "text/plain": [
       "[0,\n",
       " Fraction(1, 1),\n",
       " Fraction(9, 4),\n",
       " Fraction(41, 8),\n",
       " Fraction(1123, 96),\n",
       " Fraction(42747, 1600),\n",
       " Fraction(1171831, 19200),\n",
       " Fraction(262370741, 1881600),\n",
       " Fraction(5595004043, 17561600),\n",
       " Fraction(2070985730477, 2844979200),\n",
       " Fraction(4258821266875663, 2560481280000),\n",
       " Fraction(261659929524837157, 68848496640000),\n",
       " Fraction(15784088616418729547, 1817600311296000),\n",
       " Fraction(548566688796804911678947, 27645700734812160000),\n",
       " Fraction(50695647098788706094699833, 1118115007496847360000),\n",
       " Fraction(851415548017194916818755485967, 8218145305101828096000000),\n",
       " Fraction(4669144084421869314951207012821, 19723548732244387430400000),\n",
       " Fraction(10277772360722752244306968903956301, 19000351945395426557952000000),\n",
       " Fraction(14372623984070468232994274000216653583, 11628215390582001053466624000000),\n",
       " Fraction(1920632750763492265281854018192802020320309, 680041292472016585608835104768000000),\n",
       " Fraction(926492248053961583088297066341933694195416029, 143564272855203501406309633228800000000)]"
      ]
     },
     "execution_count": 93,
     "metadata": {},
     "output_type": "execute_result"
    }
   ],
   "source": [
    "deg_2_case(5,4,21)"
   ]
  }
 ],
 "metadata": {
  "kernelspec": {
   "display_name": "Python 3",
   "language": "python",
   "name": "python3"
  },
  "language_info": {
   "codemirror_mode": {
    "name": "ipython",
    "version": 3
   },
   "file_extension": ".py",
   "mimetype": "text/x-python",
   "name": "python",
   "nbconvert_exporter": "python",
   "pygments_lexer": "ipython3",
   "version": "3.7.6"
  }
 },
 "nbformat": 4,
 "nbformat_minor": 4
}
